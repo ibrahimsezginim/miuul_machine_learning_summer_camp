{
 "cells": [
  {
   "cell_type": "markdown",
   "id": "dada492d",
   "metadata": {},
   "source": [
    "# SUPERVISED LEARNING: CLASSIFICATION"
   ]
  },
  {
   "cell_type": "markdown",
   "id": "f40acd41",
   "metadata": {},
   "source": [
    "# KNN"
   ]
  },
  {
   "cell_type": "raw",
   "id": "8882d34c",
   "metadata": {},
   "source": [
    "KNN algoritması kategorik sınıflandırma yapmanın en basit yoludur. Tüm veri seti üzerinden öğrenme gerçekleştirilmekte ve yeni bir veri noktası söz konusu olduğunda bunun hangi kategoriye gireceği önceki veri noktalarına olan mesafesine göre belirlenmektedir. Tek ve temel hiperparametresi K-en yakın komşu sayısının belirlenmesidir. Yeni bir verinin kaç tane en yakın komşu veri noktasına göre mesafesi ölçülüp kategorik sınıfı belirlenecektir.\n",
    "\n",
    "KNN algoritması önce veri noktasının diğer tüm veri noktalarına mesafesini hesaplar ve verilen K en yakın komşu sayısına göre yeni veri noktasının hangi kategoriye girdiğini belirler. Diyelim ki K=3 seçildi ve yeni veri noktasına en yakın mesafedeki bu üç öğrencinin ikisi erkek biri kız olsun. Bu durumda KNN algoritması yeni öğrencinin bir erkek olduğuna karar verir. Pek çok mesafe ölçüm hesaplaması olsa da en yaygın kullanılan Öklid Mesafesi hesaplama yöntemidir.\n",
    "\n",
    "KNN algoritmasının;\n",
    "1) Uygulamasının kolay olması,\n",
    "2)Fazla hiperparametresinin olmaması,\n",
    "3)Önceden veri üzerinden eğitilip öğrenmesini gerçekleştirmek için model tahmin modeli oluşturmaya ihtiyaç duymaması \n",
    "gibi avantajları bulunmaktadır.\n",
    "\n",
    "KNN algoritmasının;\n",
    "1)Öznitelik sayısı 2-3'ü geçtiğinde yeni veri noktalarının setteki veri noktalarına mesafesinin ölçülmesi zordur ve zaman alır.\n",
    "2)Veri setindeki gözlem sayısı büyük olduğunda yeni veri noktalarının her birine mesafesinin ölçülmesi de ciddi zaman maaliyetine sebep olması\n",
    "gibi dezavantajları bulunmaktadır."
   ]
  },
  {
   "cell_type": "code",
   "execution_count": 1,
   "id": "481dcf18",
   "metadata": {},
   "outputs": [
    {
     "data": {
      "text/html": [
       "<div>\n",
       "<style scoped>\n",
       "    .dataframe tbody tr th:only-of-type {\n",
       "        vertical-align: middle;\n",
       "    }\n",
       "\n",
       "    .dataframe tbody tr th {\n",
       "        vertical-align: top;\n",
       "    }\n",
       "\n",
       "    .dataframe thead th {\n",
       "        text-align: right;\n",
       "    }\n",
       "</style>\n",
       "<table border=\"1\" class=\"dataframe\">\n",
       "  <thead>\n",
       "    <tr style=\"text-align: right;\">\n",
       "      <th></th>\n",
       "      <th>Pregnancies</th>\n",
       "      <th>Glucose</th>\n",
       "      <th>BloodPressure</th>\n",
       "      <th>SkinThickness</th>\n",
       "      <th>Insulin</th>\n",
       "      <th>BMI</th>\n",
       "      <th>DiabetesPedigreeFunction</th>\n",
       "      <th>Age</th>\n",
       "      <th>Outcome</th>\n",
       "    </tr>\n",
       "  </thead>\n",
       "  <tbody>\n",
       "    <tr>\n",
       "      <th>0</th>\n",
       "      <td>6</td>\n",
       "      <td>148</td>\n",
       "      <td>72</td>\n",
       "      <td>35</td>\n",
       "      <td>0</td>\n",
       "      <td>33.6</td>\n",
       "      <td>0.627</td>\n",
       "      <td>50</td>\n",
       "      <td>1</td>\n",
       "    </tr>\n",
       "    <tr>\n",
       "      <th>1</th>\n",
       "      <td>1</td>\n",
       "      <td>85</td>\n",
       "      <td>66</td>\n",
       "      <td>29</td>\n",
       "      <td>0</td>\n",
       "      <td>26.6</td>\n",
       "      <td>0.351</td>\n",
       "      <td>31</td>\n",
       "      <td>0</td>\n",
       "    </tr>\n",
       "    <tr>\n",
       "      <th>2</th>\n",
       "      <td>8</td>\n",
       "      <td>183</td>\n",
       "      <td>64</td>\n",
       "      <td>0</td>\n",
       "      <td>0</td>\n",
       "      <td>23.3</td>\n",
       "      <td>0.672</td>\n",
       "      <td>32</td>\n",
       "      <td>1</td>\n",
       "    </tr>\n",
       "    <tr>\n",
       "      <th>3</th>\n",
       "      <td>1</td>\n",
       "      <td>89</td>\n",
       "      <td>66</td>\n",
       "      <td>23</td>\n",
       "      <td>94</td>\n",
       "      <td>28.1</td>\n",
       "      <td>0.167</td>\n",
       "      <td>21</td>\n",
       "      <td>0</td>\n",
       "    </tr>\n",
       "    <tr>\n",
       "      <th>4</th>\n",
       "      <td>0</td>\n",
       "      <td>137</td>\n",
       "      <td>40</td>\n",
       "      <td>35</td>\n",
       "      <td>168</td>\n",
       "      <td>43.1</td>\n",
       "      <td>2.288</td>\n",
       "      <td>33</td>\n",
       "      <td>1</td>\n",
       "    </tr>\n",
       "  </tbody>\n",
       "</table>\n",
       "</div>"
      ],
      "text/plain": [
       "   Pregnancies  Glucose  BloodPressure  SkinThickness  Insulin   BMI  \\\n",
       "0            6      148             72             35        0  33.6   \n",
       "1            1       85             66             29        0  26.6   \n",
       "2            8      183             64              0        0  23.3   \n",
       "3            1       89             66             23       94  28.1   \n",
       "4            0      137             40             35      168  43.1   \n",
       "\n",
       "   DiabetesPedigreeFunction  Age  Outcome  \n",
       "0                     0.627   50        1  \n",
       "1                     0.351   31        0  \n",
       "2                     0.672   32        1  \n",
       "3                     0.167   21        0  \n",
       "4                     2.288   33        1  "
      ]
     },
     "execution_count": 1,
     "metadata": {},
     "output_type": "execute_result"
    }
   ],
   "source": [
    "import pandas as pd\n",
    "\n",
    "df = pd.read_csv(\"dataset_diabetes.csv\")\n",
    "df.head()"
   ]
  },
  {
   "cell_type": "code",
   "execution_count": 2,
   "id": "d446d383",
   "metadata": {},
   "outputs": [],
   "source": [
    "X = df.drop([\"Outcome\"], axis=1)\n",
    "y = df[\"Outcome\"]"
   ]
  },
  {
   "cell_type": "code",
   "execution_count": 3,
   "id": "ab615370",
   "metadata": {},
   "outputs": [
    {
     "data": {
      "text/html": [
       "<div>\n",
       "<style scoped>\n",
       "    .dataframe tbody tr th:only-of-type {\n",
       "        vertical-align: middle;\n",
       "    }\n",
       "\n",
       "    .dataframe tbody tr th {\n",
       "        vertical-align: top;\n",
       "    }\n",
       "\n",
       "    .dataframe thead th {\n",
       "        text-align: right;\n",
       "    }\n",
       "</style>\n",
       "<table border=\"1\" class=\"dataframe\">\n",
       "  <thead>\n",
       "    <tr style=\"text-align: right;\">\n",
       "      <th></th>\n",
       "      <th>Pregnancies</th>\n",
       "      <th>Glucose</th>\n",
       "      <th>BloodPressure</th>\n",
       "      <th>SkinThickness</th>\n",
       "      <th>Insulin</th>\n",
       "      <th>BMI</th>\n",
       "      <th>DiabetesPedigreeFunction</th>\n",
       "      <th>Age</th>\n",
       "      <th>Outcome</th>\n",
       "    </tr>\n",
       "  </thead>\n",
       "  <tbody>\n",
       "    <tr>\n",
       "      <th>0</th>\n",
       "      <td>6</td>\n",
       "      <td>148</td>\n",
       "      <td>72</td>\n",
       "      <td>35</td>\n",
       "      <td>0</td>\n",
       "      <td>33.6</td>\n",
       "      <td>0.627</td>\n",
       "      <td>50</td>\n",
       "      <td>1</td>\n",
       "    </tr>\n",
       "    <tr>\n",
       "      <th>1</th>\n",
       "      <td>1</td>\n",
       "      <td>85</td>\n",
       "      <td>66</td>\n",
       "      <td>29</td>\n",
       "      <td>0</td>\n",
       "      <td>26.6</td>\n",
       "      <td>0.351</td>\n",
       "      <td>31</td>\n",
       "      <td>0</td>\n",
       "    </tr>\n",
       "    <tr>\n",
       "      <th>2</th>\n",
       "      <td>8</td>\n",
       "      <td>183</td>\n",
       "      <td>64</td>\n",
       "      <td>0</td>\n",
       "      <td>0</td>\n",
       "      <td>23.3</td>\n",
       "      <td>0.672</td>\n",
       "      <td>32</td>\n",
       "      <td>1</td>\n",
       "    </tr>\n",
       "    <tr>\n",
       "      <th>3</th>\n",
       "      <td>1</td>\n",
       "      <td>89</td>\n",
       "      <td>66</td>\n",
       "      <td>23</td>\n",
       "      <td>94</td>\n",
       "      <td>28.1</td>\n",
       "      <td>0.167</td>\n",
       "      <td>21</td>\n",
       "      <td>0</td>\n",
       "    </tr>\n",
       "    <tr>\n",
       "      <th>4</th>\n",
       "      <td>0</td>\n",
       "      <td>137</td>\n",
       "      <td>40</td>\n",
       "      <td>35</td>\n",
       "      <td>168</td>\n",
       "      <td>43.1</td>\n",
       "      <td>2.288</td>\n",
       "      <td>33</td>\n",
       "      <td>1</td>\n",
       "    </tr>\n",
       "  </tbody>\n",
       "</table>\n",
       "</div>"
      ],
      "text/plain": [
       "   Pregnancies  Glucose  BloodPressure  SkinThickness  Insulin   BMI  \\\n",
       "0            6      148             72             35        0  33.6   \n",
       "1            1       85             66             29        0  26.6   \n",
       "2            8      183             64              0        0  23.3   \n",
       "3            1       89             66             23       94  28.1   \n",
       "4            0      137             40             35      168  43.1   \n",
       "\n",
       "   DiabetesPedigreeFunction  Age  Outcome  \n",
       "0                     0.627   50        1  \n",
       "1                     0.351   31        0  \n",
       "2                     0.672   32        1  \n",
       "3                     0.167   21        0  \n",
       "4                     2.288   33        1  "
      ]
     },
     "execution_count": 3,
     "metadata": {},
     "output_type": "execute_result"
    }
   ],
   "source": [
    "import numpy as np\n",
    "from sklearn.preprocessing import StandardScaler\n",
    "\n",
    "X_scaled = StandardScaler().fit_transform(X)\n",
    "X = pd.DataFrame(X_scaled, columns=X.columns)\n",
    "df.head()"
   ]
  },
  {
   "cell_type": "code",
   "execution_count": 4,
   "id": "02954774",
   "metadata": {},
   "outputs": [],
   "source": [
    "from sklearn.neighbors import KNeighborsClassifier\n",
    "\n",
    "knn_model = KNeighborsClassifier().fit(X, y)"
   ]
  },
  {
   "cell_type": "code",
   "execution_count": 5,
   "id": "c3548572",
   "metadata": {},
   "outputs": [
    {
     "data": {
      "text/plain": [
       "array([1], dtype=int64)"
      ]
     },
     "execution_count": 5,
     "metadata": {},
     "output_type": "execute_result"
    }
   ],
   "source": [
    "random_user = X.sample(1, random_state=45)\n",
    "\n",
    "knn_model.predict(random_user)"
   ]
  },
  {
   "cell_type": "code",
   "execution_count": 6,
   "id": "08802769",
   "metadata": {},
   "outputs": [
    {
     "name": "stdout",
     "output_type": "stream",
     "text": [
      "              precision    recall  f1-score   support\n",
      "\n",
      "           0       0.85      0.90      0.87       500\n",
      "           1       0.79      0.70      0.74       268\n",
      "\n",
      "    accuracy                           0.83       768\n",
      "   macro avg       0.82      0.80      0.81       768\n",
      "weighted avg       0.83      0.83      0.83       768\n",
      "\n",
      "0.9017686567164179\n"
     ]
    }
   ],
   "source": [
    "from sklearn.metrics import classification_report, roc_auc_score\n",
    "\n",
    "y_pred = knn_model.predict(X)\n",
    "\n",
    "# AUC için y_prob:\n",
    "y_prob = knn_model.predict_proba(X)[:, 1]\n",
    "\n",
    "print(classification_report(y, y_pred))\n",
    "print(roc_auc_score(y, y_prob))"
   ]
  },
  {
   "cell_type": "code",
   "execution_count": 7,
   "id": "bebbbb44",
   "metadata": {},
   "outputs": [
    {
     "name": "stdout",
     "output_type": "stream",
     "text": [
      "0.733112638994992\n",
      "0.5905780011534191\n",
      "0.7805279524807827\n"
     ]
    }
   ],
   "source": [
    "from sklearn.model_selection import cross_validate\n",
    "\n",
    "cv_results = cross_validate(knn_model, X, y, cv=5, scoring=[\"accuracy\", \"f1\", \"roc_auc\"])\n",
    "\n",
    "print(cv_results['test_accuracy'].mean())\n",
    "print(cv_results['test_f1'].mean()) \n",
    "print(cv_results['test_roc_auc'].mean())"
   ]
  },
  {
   "cell_type": "code",
   "execution_count": 8,
   "id": "69bd9fe7",
   "metadata": {},
   "outputs": [
    {
     "name": "stdout",
     "output_type": "stream",
     "text": [
      "Fitting 5 folds for each of 48 candidates, totalling 240 fits\n"
     ]
    },
    {
     "data": {
      "text/plain": [
       "{'n_neighbors': 17}"
      ]
     },
     "execution_count": 8,
     "metadata": {},
     "output_type": "execute_result"
    }
   ],
   "source": [
    "from sklearn.model_selection import GridSearchCV\n",
    "\n",
    "knn_model = KNeighborsClassifier()\n",
    "knn_model.get_params()\n",
    "\n",
    "knn_params = {\"n_neighbors\": range(2, 50)}\n",
    "\n",
    "knn_gs_best = GridSearchCV(knn_model,\n",
    "                           knn_params,\n",
    "                           cv=5,\n",
    "                           n_jobs=-1,\n",
    "                           verbose=1).fit(X, y)\n",
    "\n",
    "knn_gs_best.best_params_"
   ]
  },
  {
   "cell_type": "code",
   "execution_count": 9,
   "id": "c937926b",
   "metadata": {},
   "outputs": [
    {
     "name": "stdout",
     "output_type": "stream",
     "text": [
      "0.7669892199303965\n",
      "0.6170909049720137\n",
      "0.8127938504542278\n"
     ]
    }
   ],
   "source": [
    "knn_final = knn_model.set_params(**knn_gs_best.best_params_).fit(X, y)\n",
    "\n",
    "cv_results = cross_validate(knn_final,\n",
    "                            X,\n",
    "                            y,\n",
    "                            cv=5,\n",
    "                            scoring=[\"accuracy\", \"f1\", \"roc_auc\"])\n",
    "\n",
    "print(cv_results['test_accuracy'].mean())\n",
    "print(cv_results['test_f1'].mean()) \n",
    "print(cv_results['test_roc_auc'].mean())"
   ]
  },
  {
   "cell_type": "code",
   "execution_count": 10,
   "id": "e136d3a8",
   "metadata": {},
   "outputs": [
    {
     "data": {
      "text/plain": [
       "array([1], dtype=int64)"
      ]
     },
     "execution_count": 10,
     "metadata": {},
     "output_type": "execute_result"
    }
   ],
   "source": [
    "random_user = X.sample(1)\n",
    "\n",
    "knn_final.predict(random_user)"
   ]
  },
  {
   "cell_type": "markdown",
   "id": "9d9608cf",
   "metadata": {},
   "source": [
    "# MULTI LABEL KNN"
   ]
  },
  {
   "cell_type": "raw",
   "id": "b022e019",
   "metadata": {},
   "source": [
    "Sınıfların dengeli dağılması iyi tahmin yapılması için önemlidir. Özellikle algoritmayı eğiteceğimiz veri setindeki sınıf yada kategori etiketlerinin dengesiz olması yanlı modellere ya da yanlı tahminlere sebep olabilir. "
   ]
  },
  {
   "cell_type": "code",
   "execution_count": 11,
   "id": "424d05ad",
   "metadata": {},
   "outputs": [
    {
     "data": {
      "text/html": [
       "<div>\n",
       "<style scoped>\n",
       "    .dataframe tbody tr th:only-of-type {\n",
       "        vertical-align: middle;\n",
       "    }\n",
       "\n",
       "    .dataframe tbody tr th {\n",
       "        vertical-align: top;\n",
       "    }\n",
       "\n",
       "    .dataframe thead th {\n",
       "        text-align: right;\n",
       "    }\n",
       "</style>\n",
       "<table border=\"1\" class=\"dataframe\">\n",
       "  <thead>\n",
       "    <tr style=\"text-align: right;\">\n",
       "      <th></th>\n",
       "      <th>Unnamed: 0</th>\n",
       "      <th>Boy</th>\n",
       "      <th>Kilo</th>\n",
       "      <th>Beden</th>\n",
       "    </tr>\n",
       "  </thead>\n",
       "  <tbody>\n",
       "    <tr>\n",
       "      <th>0</th>\n",
       "      <td>0</td>\n",
       "      <td>149</td>\n",
       "      <td>51</td>\n",
       "      <td>S</td>\n",
       "    </tr>\n",
       "    <tr>\n",
       "      <th>1</th>\n",
       "      <td>1</td>\n",
       "      <td>151</td>\n",
       "      <td>50</td>\n",
       "      <td>S</td>\n",
       "    </tr>\n",
       "    <tr>\n",
       "      <th>2</th>\n",
       "      <td>2</td>\n",
       "      <td>145</td>\n",
       "      <td>57</td>\n",
       "      <td>S</td>\n",
       "    </tr>\n",
       "    <tr>\n",
       "      <th>3</th>\n",
       "      <td>3</td>\n",
       "      <td>148</td>\n",
       "      <td>54</td>\n",
       "      <td>S</td>\n",
       "    </tr>\n",
       "    <tr>\n",
       "      <th>4</th>\n",
       "      <td>4</td>\n",
       "      <td>149</td>\n",
       "      <td>55</td>\n",
       "      <td>S</td>\n",
       "    </tr>\n",
       "    <tr>\n",
       "      <th>...</th>\n",
       "      <td>...</td>\n",
       "      <td>...</td>\n",
       "      <td>...</td>\n",
       "      <td>...</td>\n",
       "    </tr>\n",
       "    <tr>\n",
       "      <th>152</th>\n",
       "      <td>152</td>\n",
       "      <td>172</td>\n",
       "      <td>88</td>\n",
       "      <td>L</td>\n",
       "    </tr>\n",
       "    <tr>\n",
       "      <th>153</th>\n",
       "      <td>153</td>\n",
       "      <td>166</td>\n",
       "      <td>75</td>\n",
       "      <td>L</td>\n",
       "    </tr>\n",
       "    <tr>\n",
       "      <th>154</th>\n",
       "      <td>154</td>\n",
       "      <td>167</td>\n",
       "      <td>76</td>\n",
       "      <td>L</td>\n",
       "    </tr>\n",
       "    <tr>\n",
       "      <th>155</th>\n",
       "      <td>155</td>\n",
       "      <td>183</td>\n",
       "      <td>69</td>\n",
       "      <td>L</td>\n",
       "    </tr>\n",
       "    <tr>\n",
       "      <th>156</th>\n",
       "      <td>156</td>\n",
       "      <td>183</td>\n",
       "      <td>66</td>\n",
       "      <td>L</td>\n",
       "    </tr>\n",
       "  </tbody>\n",
       "</table>\n",
       "<p>157 rows × 4 columns</p>\n",
       "</div>"
      ],
      "text/plain": [
       "     Unnamed: 0  Boy  Kilo Beden\n",
       "0             0  149    51     S\n",
       "1             1  151    50     S\n",
       "2             2  145    57     S\n",
       "3             3  148    54     S\n",
       "4             4  149    55     S\n",
       "..          ...  ...   ...   ...\n",
       "152         152  172    88     L\n",
       "153         153  166    75     L\n",
       "154         154  167    76     L\n",
       "155         155  183    69     L\n",
       "156         156  183    66     L\n",
       "\n",
       "[157 rows x 4 columns]"
      ]
     },
     "execution_count": 11,
     "metadata": {},
     "output_type": "execute_result"
    }
   ],
   "source": [
    "import pandas as pd\n",
    "\n",
    "df = pd.read_excel(\"T-shirt.xlsx\")\n",
    "df"
   ]
  },
  {
   "cell_type": "code",
   "execution_count": 12,
   "id": "bad449de",
   "metadata": {},
   "outputs": [
    {
     "data": {
      "image/png": "[encoded data removed]",
      "text/plain": [
       "<Figure size 432x288 with 1 Axes>"
      ]
     },
     "metadata": {
      "needs_background": "light"
     },
     "output_type": "display_data"
    }
   ],
   "source": [
    "import seaborn as sns\n",
    "import matplotlib.pyplot as plt\n",
    "from warnings import filterwarnings\n",
    "filterwarnings('ignore')\n",
    "\n",
    "\n",
    "sns.countplot(df[\"Beden\"])\n",
    "plt.show()"
   ]
  },
  {
   "cell_type": "code",
   "execution_count": 13,
   "id": "ee993546",
   "metadata": {},
   "outputs": [
    {
     "name": "stdout",
     "output_type": "stream",
     "text": [
      "['L' 'M' 'S']\n"
     ]
    }
   ],
   "source": [
    "from sklearn.preprocessing import LabelEncoder\n",
    "\n",
    "le = LabelEncoder()\n",
    "df[\"Beden\"] = le.fit_transform(df[\"Beden\"])\n",
    "\n",
    "print(le.classes_)"
   ]
  },
  {
   "cell_type": "code",
   "execution_count": 14,
   "id": "6ae3255e",
   "metadata": {},
   "outputs": [],
   "source": [
    "X = df[[\"Boy\", \"Kilo\"]]\n",
    "y = df[\"Beden\"]\n",
    "\n",
    "from sklearn.model_selection import train_test_split\n",
    "\n",
    "X_train, X_test, y_train, y_test = train_test_split(X,y, test_size = 0.30, random_state = 42)"
   ]
  },
  {
   "cell_type": "code",
   "execution_count": 15,
   "id": "9829cd46",
   "metadata": {},
   "outputs": [
    {
     "name": "stdout",
     "output_type": "stream",
     "text": [
      "Fitting 5 folds for each of 48 candidates, totalling 240 fits\n",
      "{'n_neighbors': 41}\n"
     ]
    }
   ],
   "source": [
    "from sklearn.neighbors import KNeighborsClassifier\n",
    "\n",
    "knn_model = KNeighborsClassifier().fit(X_train, y_train)\n",
    "\n",
    "from sklearn.model_selection import GridSearchCV\n",
    "\n",
    "knn_params = {\"n_neighbors\": range(2, 50)}\n",
    "\n",
    "knn_gs_best = GridSearchCV(knn_model,\n",
    "                           knn_params,\n",
    "                           cv=5,\n",
    "                           n_jobs=-1,\n",
    "                           verbose=1).fit(X, y)\n",
    "\n",
    "print(knn_gs_best.best_params_)"
   ]
  },
  {
   "cell_type": "code",
   "execution_count": 16,
   "id": "ab04c2fc",
   "metadata": {},
   "outputs": [],
   "source": [
    "knn_final = knn_model.set_params(**knn_gs_best.best_params_).fit(X_train, y_train)\n",
    "\n",
    "y_pred = knn_final.predict(X_test)"
   ]
  },
  {
   "cell_type": "code",
   "execution_count": 17,
   "id": "5f4ae9fe",
   "metadata": {},
   "outputs": [
    {
     "name": "stdout",
     "output_type": "stream",
     "text": [
      "ConfusionMatrix(ax=<AxesSubplot:>, classes=['S', 'M', 'L'],\n",
      "                cmap=<matplotlib.colors.ListedColormap object at 0x000001BB000A18B0>,\n",
      "                estimator=KNeighborsClassifier(n_neighbors=41))\n",
      "0.875\n"
     ]
    },
    {
     "data": {
      "image/png": "[encoded data removed]",
      "text/plain": [
       "<Figure size 576x396 with 1 Axes>"
      ]
     },
     "metadata": {},
     "output_type": "display_data"
    },
    {
     "name": "stdout",
     "output_type": "stream",
     "text": [
      "AxesSubplot(0.0763194,0.11101;0.901181x0.820791)\n"
     ]
    }
   ],
   "source": [
    "from yellowbrick.classifier import ConfusionMatrix\n",
    "\n",
    "kategori = [\"S\", \"M\", \"L\"]\n",
    "cm = ConfusionMatrix(knn_final)\n",
    "cm = ConfusionMatrix(knn_final, classes = kategori, label_encoder = {2:\"S\", 1:\"M\", 0:\"L\"})\n",
    "print(cm.fit(X_train, y_train))\n",
    "print(cm.score(X_test, y_test))\n",
    "print(cm.poof())"
   ]
  },
  {
   "cell_type": "code",
   "execution_count": 18,
   "id": "cf68e080",
   "metadata": {},
   "outputs": [
    {
     "name": "stdout",
     "output_type": "stream",
     "text": [
      "Doğruluk(Accuracy): 0.875000\n"
     ]
    }
   ],
   "source": [
    "from sklearn.metrics import accuracy_score\n",
    "\n",
    "print(\"Doğruluk(Accuracy): %f\" %accuracy_score(y_test,y_pred))"
   ]
  },
  {
   "cell_type": "code",
   "execution_count": 19,
   "id": "16150ee1",
   "metadata": {},
   "outputs": [
    {
     "data": {
      "image/png": "[encoded data removed]",
      "text/plain": [
       "<Figure size 576x396 with 2 Axes>"
      ]
     },
     "metadata": {},
     "output_type": "display_data"
    },
    {
     "data": {
      "text/plain": [
       "<AxesSubplot:title={'center':'KNeighborsClassifier Classification Report'}>"
      ]
     },
     "execution_count": 19,
     "metadata": {},
     "output_type": "execute_result"
    }
   ],
   "source": [
    "from yellowbrick.classifier import ClassificationReport\n",
    "\n",
    "cr = ClassificationReport(knn_final, classes = [\"L\", \"M\", \"S\"], support=True)\n",
    "cr.fit(X_train, y_train)\n",
    "cr.score(X_test, y_test)\n",
    "cr.poof()"
   ]
  },
  {
   "cell_type": "markdown",
   "id": "10bcc8cc",
   "metadata": {},
   "source": [
    "# LOGISTIC REGRESSION"
   ]
  },
  {
   "cell_type": "raw",
   "id": "fe5ca520",
   "metadata": {},
   "source": [
    "Lojistik Regresyon daha çok ikili sınıflandırma problemlerinin çözümünde kullanılan bir sınıflandırma algoritmasıdır. İkili sınıflandırma tahmini yaparken \"lojit fonksiyonu\" isimli bir fonksiyon kullanılır.Burada lojit fonksiyonu her bir özniteliğin hedef değişken üzerindeki etkisini 0 ve 1'e indirgemektedir. \n",
    "\n",
    "Varsayılan değer ve opsiyonlarla model oluşturmak yerine hiperparametre optimizasyonu yapmak istiyorsanız Grid Search metodlarına başvurmanız gerekir."
   ]
  },
  {
   "cell_type": "code",
   "execution_count": 20,
   "id": "66e1e174",
   "metadata": {
    "scrolled": false
   },
   "outputs": [
    {
     "data": {
      "text/html": [
       "<div>\n",
       "<style scoped>\n",
       "    .dataframe tbody tr th:only-of-type {\n",
       "        vertical-align: middle;\n",
       "    }\n",
       "\n",
       "    .dataframe tbody tr th {\n",
       "        vertical-align: top;\n",
       "    }\n",
       "\n",
       "    .dataframe thead th {\n",
       "        text-align: right;\n",
       "    }\n",
       "</style>\n",
       "<table border=\"1\" class=\"dataframe\">\n",
       "  <thead>\n",
       "    <tr style=\"text-align: right;\">\n",
       "      <th></th>\n",
       "      <th>Pregnancies</th>\n",
       "      <th>Glucose</th>\n",
       "      <th>BloodPressure</th>\n",
       "      <th>SkinThickness</th>\n",
       "      <th>Insulin</th>\n",
       "      <th>BMI</th>\n",
       "      <th>DiabetesPedigreeFunction</th>\n",
       "      <th>Age</th>\n",
       "      <th>Outcome</th>\n",
       "    </tr>\n",
       "  </thead>\n",
       "  <tbody>\n",
       "    <tr>\n",
       "      <th>0</th>\n",
       "      <td>6</td>\n",
       "      <td>148</td>\n",
       "      <td>72</td>\n",
       "      <td>35</td>\n",
       "      <td>0</td>\n",
       "      <td>33.6</td>\n",
       "      <td>0.627</td>\n",
       "      <td>50</td>\n",
       "      <td>1</td>\n",
       "    </tr>\n",
       "    <tr>\n",
       "      <th>1</th>\n",
       "      <td>1</td>\n",
       "      <td>85</td>\n",
       "      <td>66</td>\n",
       "      <td>29</td>\n",
       "      <td>0</td>\n",
       "      <td>26.6</td>\n",
       "      <td>0.351</td>\n",
       "      <td>31</td>\n",
       "      <td>0</td>\n",
       "    </tr>\n",
       "    <tr>\n",
       "      <th>2</th>\n",
       "      <td>8</td>\n",
       "      <td>183</td>\n",
       "      <td>64</td>\n",
       "      <td>0</td>\n",
       "      <td>0</td>\n",
       "      <td>23.3</td>\n",
       "      <td>0.672</td>\n",
       "      <td>32</td>\n",
       "      <td>1</td>\n",
       "    </tr>\n",
       "    <tr>\n",
       "      <th>3</th>\n",
       "      <td>1</td>\n",
       "      <td>89</td>\n",
       "      <td>66</td>\n",
       "      <td>23</td>\n",
       "      <td>94</td>\n",
       "      <td>28.1</td>\n",
       "      <td>0.167</td>\n",
       "      <td>21</td>\n",
       "      <td>0</td>\n",
       "    </tr>\n",
       "    <tr>\n",
       "      <th>4</th>\n",
       "      <td>0</td>\n",
       "      <td>137</td>\n",
       "      <td>40</td>\n",
       "      <td>35</td>\n",
       "      <td>168</td>\n",
       "      <td>43.1</td>\n",
       "      <td>2.288</td>\n",
       "      <td>33</td>\n",
       "      <td>1</td>\n",
       "    </tr>\n",
       "  </tbody>\n",
       "</table>\n",
       "</div>"
      ],
      "text/plain": [
       "   Pregnancies  Glucose  BloodPressure  SkinThickness  Insulin   BMI  \\\n",
       "0            6      148             72             35        0  33.6   \n",
       "1            1       85             66             29        0  26.6   \n",
       "2            8      183             64              0        0  23.3   \n",
       "3            1       89             66             23       94  28.1   \n",
       "4            0      137             40             35      168  43.1   \n",
       "\n",
       "   DiabetesPedigreeFunction  Age  Outcome  \n",
       "0                     0.627   50        1  \n",
       "1                     0.351   31        0  \n",
       "2                     0.672   32        1  \n",
       "3                     0.167   21        0  \n",
       "4                     2.288   33        1  "
      ]
     },
     "execution_count": 20,
     "metadata": {},
     "output_type": "execute_result"
    }
   ],
   "source": [
    "import pandas as pd\n",
    "\n",
    "df = pd.read_csv(\"diabetes.csv\")\n",
    "df = df.dropna()\n",
    "df.head()"
   ]
  },
  {
   "cell_type": "code",
   "execution_count": 21,
   "id": "ec1c6512",
   "metadata": {},
   "outputs": [],
   "source": [
    "X = df.drop([\"Outcome\"], axis=1)\n",
    "y = df[\"Outcome\"]"
   ]
  },
  {
   "cell_type": "code",
   "execution_count": 23,
   "id": "f9bb81e5",
   "metadata": {},
   "outputs": [
    {
     "data": {
      "text/plain": [
       "LogisticRegression(solver='liblinear')"
      ]
     },
     "execution_count": 23,
     "metadata": {},
     "output_type": "execute_result"
    }
   ],
   "source": [
    "from sklearn.linear_model import LogisticRegression\n",
    "\n",
    "log_model = LogisticRegression().fit(X, y)\n",
    "log_model.intercept_\n",
    "log_model.coef_"
   ]
  },
  {
   "cell_type": "code",
   "execution_count": null,
   "id": "0792559f",
   "metadata": {},
   "outputs": [],
   "source": [
    "def plot_confusion_matrix(y, y_pred):\n",
    "    acc = round(accuracy_score(y, y_pred), 2)\n",
    "    cm = confusion_matrix(y, y_pred)\n",
    "    sns.heatmap(cm, annot=True, fmt=\".0f\")\n",
    "    plt.xlabel('y_pred')\n",
    "    plt.ylabel('y')\n",
    "    plt.title('Accuracy Score: {0}'.format(acc), size=10)\n",
    "    plt.show()\n",
    "\n",
    "plot_confusion_matrix(y, y_pred)"
   ]
  },
  {
   "cell_type": "code",
   "execution_count": null,
   "id": "4950edcb",
   "metadata": {},
   "outputs": [],
   "source": [
    "print(classification_report(y, y_pred))"
   ]
  },
  {
   "cell_type": "code",
   "execution_count": null,
   "id": "d2fff6dd",
   "metadata": {},
   "outputs": [],
   "source": [
    "y_prob = log_model.predict_proba(X)[:, 1]\n",
    "roc_auc_score(y, y_prob)"
   ]
  },
  {
   "cell_type": "code",
   "execution_count": null,
   "id": "49622789",
   "metadata": {},
   "outputs": [],
   "source": [
    "######################################################\n",
    "# Model Validation: Holdout\n",
    "######################################################\n",
    "from sklearn.model_selection import train_test_split\n",
    "\n",
    "X_train, X_test, y_train, y_test = train_test_split(X,\n",
    "                                                    y,\n",
    "                                                    test_size=0.20, random_state=17)\n",
    "\n",
    "log_model = LogisticRegression().fit(X_train, y_train)\n",
    "\n",
    "y_pred = log_model.predict(X_test)\n",
    "y_prob = log_model.predict_proba(X_test)[:, 1]\n",
    "\n",
    "print(classification_report(y_test, y_pred))\n",
    "\n",
    "\n",
    "plot_roc_curve(log_model, X_test, y_test)\n",
    "plt.title('ROC Curve')\n",
    "plt.plot([0, 1], [0, 1], 'r--')\n",
    "plt.show()\n",
    "\n",
    "# AUC\n",
    "roc_auc_score(y_test, y_prob)"
   ]
  },
  {
   "cell_type": "code",
   "execution_count": null,
   "id": "e71e9678",
   "metadata": {},
   "outputs": [],
   "source": [
    "######################################################\n",
    "# Model Validation: 10-Fold Cross Validation\n",
    "######################################################\n",
    "\n",
    "y = df[\"Outcome\"]\n",
    "X = df.drop([\"Outcome\"], axis=1)\n",
    "\n",
    "log_model = LogisticRegression().fit(X, y)\n",
    "\n",
    "cv_results = cross_validate(log_model,\n",
    "                            X, y,\n",
    "                            cv=5,\n",
    "                            scoring=[\"accuracy\", \"precision\", \"recall\", \"f1\", \"roc_auc\"])\n",
    "\n",
    "\n",
    "\n",
    "\n",
    "\n",
    "cv_results['test_accuracy'].mean()\n",
    "\n",
    "\n",
    "cv_results['test_precision'].mean()\n",
    "\n",
    "\n",
    "cv_results['test_recall'].mean()\n",
    "\n",
    "\n",
    "cv_results['test_f1'].mean()\n",
    "\n",
    "\n",
    "cv_results['test_roc_auc'].mean()\n",
    "\n"
   ]
  },
  {
   "cell_type": "markdown",
   "id": "0cabc748",
   "metadata": {},
   "source": [
    "# NAIVE BAYES"
   ]
  },
  {
   "cell_type": "raw",
   "id": "313e899c",
   "metadata": {},
   "source": [
    "Naive Bayes teoremi; özniteliklerin birbirlerinden bağımsız olduklarını ve gözlemlerin aynı olasılık dağılımına sahip olduğunu varsaymaktadır.\n",
    "Naive Bayes ile oluşturulan modellerin performansları bu varsayımların yerine getirilmesine bağlıdır. Naive Bayes modellerinin dezavantajı ise bu varsayımların genelleştirilebilir modellerin öğrenmesini engelleyebilmesinden kaynaklanmaktadır.\n",
    "\n",
    "Naive Bayes modelleri üç grupta toplanır; \n",
    "Çoklu kategorik özellik gösteren veri setleri için Multinominant Naive Bayes,\n",
    "Süreklilik ya da devamlılık arz eden gözlem değerlerine sahip veri setleri için Gaussian Naive Bayes, \n",
    "İkili kategorik özellik arz eden veri setleri için Bernouilli Naive Bayes."
   ]
  },
  {
   "cell_type": "code",
   "execution_count": 24,
   "id": "d16d7843",
   "metadata": {},
   "outputs": [
    {
     "data": {
      "text/html": [
       "<div>\n",
       "<style scoped>\n",
       "    .dataframe tbody tr th:only-of-type {\n",
       "        vertical-align: middle;\n",
       "    }\n",
       "\n",
       "    .dataframe tbody tr th {\n",
       "        vertical-align: top;\n",
       "    }\n",
       "\n",
       "    .dataframe thead th {\n",
       "        text-align: right;\n",
       "    }\n",
       "</style>\n",
       "<table border=\"1\" class=\"dataframe\">\n",
       "  <thead>\n",
       "    <tr style=\"text-align: right;\">\n",
       "      <th></th>\n",
       "      <th>Pregnancies</th>\n",
       "      <th>Glucose</th>\n",
       "      <th>BloodPressure</th>\n",
       "      <th>SkinThickness</th>\n",
       "      <th>Insulin</th>\n",
       "      <th>BMI</th>\n",
       "      <th>DiabetesPedigreeFunction</th>\n",
       "      <th>Age</th>\n",
       "      <th>Outcome</th>\n",
       "    </tr>\n",
       "  </thead>\n",
       "  <tbody>\n",
       "    <tr>\n",
       "      <th>0</th>\n",
       "      <td>6</td>\n",
       "      <td>148</td>\n",
       "      <td>72</td>\n",
       "      <td>35</td>\n",
       "      <td>0</td>\n",
       "      <td>33.6</td>\n",
       "      <td>0.627</td>\n",
       "      <td>50</td>\n",
       "      <td>1</td>\n",
       "    </tr>\n",
       "    <tr>\n",
       "      <th>1</th>\n",
       "      <td>1</td>\n",
       "      <td>85</td>\n",
       "      <td>66</td>\n",
       "      <td>29</td>\n",
       "      <td>0</td>\n",
       "      <td>26.6</td>\n",
       "      <td>0.351</td>\n",
       "      <td>31</td>\n",
       "      <td>0</td>\n",
       "    </tr>\n",
       "    <tr>\n",
       "      <th>2</th>\n",
       "      <td>8</td>\n",
       "      <td>183</td>\n",
       "      <td>64</td>\n",
       "      <td>0</td>\n",
       "      <td>0</td>\n",
       "      <td>23.3</td>\n",
       "      <td>0.672</td>\n",
       "      <td>32</td>\n",
       "      <td>1</td>\n",
       "    </tr>\n",
       "    <tr>\n",
       "      <th>3</th>\n",
       "      <td>1</td>\n",
       "      <td>89</td>\n",
       "      <td>66</td>\n",
       "      <td>23</td>\n",
       "      <td>94</td>\n",
       "      <td>28.1</td>\n",
       "      <td>0.167</td>\n",
       "      <td>21</td>\n",
       "      <td>0</td>\n",
       "    </tr>\n",
       "    <tr>\n",
       "      <th>4</th>\n",
       "      <td>0</td>\n",
       "      <td>137</td>\n",
       "      <td>40</td>\n",
       "      <td>35</td>\n",
       "      <td>168</td>\n",
       "      <td>43.1</td>\n",
       "      <td>2.288</td>\n",
       "      <td>33</td>\n",
       "      <td>1</td>\n",
       "    </tr>\n",
       "  </tbody>\n",
       "</table>\n",
       "</div>"
      ],
      "text/plain": [
       "   Pregnancies  Glucose  BloodPressure  SkinThickness  Insulin   BMI  \\\n",
       "0            6      148             72             35        0  33.6   \n",
       "1            1       85             66             29        0  26.6   \n",
       "2            8      183             64              0        0  23.3   \n",
       "3            1       89             66             23       94  28.1   \n",
       "4            0      137             40             35      168  43.1   \n",
       "\n",
       "   DiabetesPedigreeFunction  Age  Outcome  \n",
       "0                     0.627   50        1  \n",
       "1                     0.351   31        0  \n",
       "2                     0.672   32        1  \n",
       "3                     0.167   21        0  \n",
       "4                     2.288   33        1  "
      ]
     },
     "execution_count": 24,
     "metadata": {},
     "output_type": "execute_result"
    }
   ],
   "source": [
    "import pandas as pd\n",
    "\n",
    "df = pd.read_csv(\"diabetes.csv\")\n",
    "df = df.dropna()\n",
    "df.head()"
   ]
  },
  {
   "cell_type": "code",
   "execution_count": 25,
   "id": "9c886ae3",
   "metadata": {},
   "outputs": [],
   "source": [
    "y = df[\"Outcome\"]\n",
    "X = df.drop(['Outcome'], axis=1)\n",
    "\n",
    "from sklearn.model_selection import train_test_split\n",
    "\n",
    "X_train, X_test, y_train, y_test = train_test_split(X, y, \n",
    "                                                    test_size=0.30, \n",
    "                                                    random_state=42)"
   ]
  },
  {
   "cell_type": "code",
   "execution_count": 26,
   "id": "42084938",
   "metadata": {},
   "outputs": [
    {
     "data": {
      "text/plain": [
       "GaussianNB()"
      ]
     },
     "execution_count": 26,
     "metadata": {},
     "output_type": "execute_result"
    }
   ],
   "source": [
    "from sklearn.naive_bayes import GaussianNB\n",
    "\n",
    "nb = GaussianNB()\n",
    "nb_model = nb.fit(X_train, y_train)\n",
    "nb_model"
   ]
  },
  {
   "cell_type": "code",
   "execution_count": 27,
   "id": "2e079f69",
   "metadata": {},
   "outputs": [],
   "source": [
    "y_pred = nb_model.predict(X_test)"
   ]
  },
  {
   "cell_type": "code",
   "execution_count": 28,
   "id": "7a4d5872",
   "metadata": {},
   "outputs": [
    {
     "data": {
      "text/plain": [
       "0.7445887445887446"
      ]
     },
     "execution_count": 28,
     "metadata": {},
     "output_type": "execute_result"
    }
   ],
   "source": [
    "from sklearn.metrics import accuracy_score\n",
    "\n",
    "accuracy_score(y_test, y_pred)"
   ]
  },
  {
   "cell_type": "code",
   "execution_count": 29,
   "id": "02009ee8",
   "metadata": {},
   "outputs": [
    {
     "data": {
      "text/plain": [
       "0.775"
      ]
     },
     "execution_count": 29,
     "metadata": {},
     "output_type": "execute_result"
    }
   ],
   "source": [
    "from sklearn.model_selection import cross_val_score\n",
    "\n",
    "cross_val_score(nb_model, X_test, y_test, cv = 10).mean()"
   ]
  },
  {
   "cell_type": "markdown",
   "id": "833348b3",
   "metadata": {},
   "source": [
    "## Support Vector Machine"
   ]
  },
  {
   "cell_type": "raw",
   "id": "66aac604",
   "metadata": {},
   "source": [
    "Amaç; iki sınıf arasındaki ayrımın optimum olmasını sağlayacak hiper-düzlemi bulmaktır."
   ]
  },
  {
   "cell_type": "code",
   "execution_count": 30,
   "id": "a07bc8ca",
   "metadata": {},
   "outputs": [
    {
     "data": {
      "text/html": [
       "<div>\n",
       "<style scoped>\n",
       "    .dataframe tbody tr th:only-of-type {\n",
       "        vertical-align: middle;\n",
       "    }\n",
       "\n",
       "    .dataframe tbody tr th {\n",
       "        vertical-align: top;\n",
       "    }\n",
       "\n",
       "    .dataframe thead th {\n",
       "        text-align: right;\n",
       "    }\n",
       "</style>\n",
       "<table border=\"1\" class=\"dataframe\">\n",
       "  <thead>\n",
       "    <tr style=\"text-align: right;\">\n",
       "      <th></th>\n",
       "      <th>Pregnancies</th>\n",
       "      <th>Glucose</th>\n",
       "      <th>BloodPressure</th>\n",
       "      <th>SkinThickness</th>\n",
       "      <th>Insulin</th>\n",
       "      <th>BMI</th>\n",
       "      <th>DiabetesPedigreeFunction</th>\n",
       "      <th>Age</th>\n",
       "      <th>Outcome</th>\n",
       "    </tr>\n",
       "  </thead>\n",
       "  <tbody>\n",
       "    <tr>\n",
       "      <th>0</th>\n",
       "      <td>6</td>\n",
       "      <td>148</td>\n",
       "      <td>72</td>\n",
       "      <td>35</td>\n",
       "      <td>0</td>\n",
       "      <td>33.6</td>\n",
       "      <td>0.627</td>\n",
       "      <td>50</td>\n",
       "      <td>1</td>\n",
       "    </tr>\n",
       "    <tr>\n",
       "      <th>1</th>\n",
       "      <td>1</td>\n",
       "      <td>85</td>\n",
       "      <td>66</td>\n",
       "      <td>29</td>\n",
       "      <td>0</td>\n",
       "      <td>26.6</td>\n",
       "      <td>0.351</td>\n",
       "      <td>31</td>\n",
       "      <td>0</td>\n",
       "    </tr>\n",
       "    <tr>\n",
       "      <th>2</th>\n",
       "      <td>8</td>\n",
       "      <td>183</td>\n",
       "      <td>64</td>\n",
       "      <td>0</td>\n",
       "      <td>0</td>\n",
       "      <td>23.3</td>\n",
       "      <td>0.672</td>\n",
       "      <td>32</td>\n",
       "      <td>1</td>\n",
       "    </tr>\n",
       "    <tr>\n",
       "      <th>3</th>\n",
       "      <td>1</td>\n",
       "      <td>89</td>\n",
       "      <td>66</td>\n",
       "      <td>23</td>\n",
       "      <td>94</td>\n",
       "      <td>28.1</td>\n",
       "      <td>0.167</td>\n",
       "      <td>21</td>\n",
       "      <td>0</td>\n",
       "    </tr>\n",
       "    <tr>\n",
       "      <th>4</th>\n",
       "      <td>0</td>\n",
       "      <td>137</td>\n",
       "      <td>40</td>\n",
       "      <td>35</td>\n",
       "      <td>168</td>\n",
       "      <td>43.1</td>\n",
       "      <td>2.288</td>\n",
       "      <td>33</td>\n",
       "      <td>1</td>\n",
       "    </tr>\n",
       "  </tbody>\n",
       "</table>\n",
       "</div>"
      ],
      "text/plain": [
       "   Pregnancies  Glucose  BloodPressure  SkinThickness  Insulin   BMI  \\\n",
       "0            6      148             72             35        0  33.6   \n",
       "1            1       85             66             29        0  26.6   \n",
       "2            8      183             64              0        0  23.3   \n",
       "3            1       89             66             23       94  28.1   \n",
       "4            0      137             40             35      168  43.1   \n",
       "\n",
       "   DiabetesPedigreeFunction  Age  Outcome  \n",
       "0                     0.627   50        1  \n",
       "1                     0.351   31        0  \n",
       "2                     0.672   32        1  \n",
       "3                     0.167   21        0  \n",
       "4                     2.288   33        1  "
      ]
     },
     "execution_count": 30,
     "metadata": {},
     "output_type": "execute_result"
    }
   ],
   "source": [
    "import pandas as pd\n",
    "\n",
    "df = pd.read_csv(\"diabetes.csv\")\n",
    "df = df.dropna()\n",
    "df.head()"
   ]
  },
  {
   "cell_type": "code",
   "execution_count": 31,
   "id": "b3747f3c",
   "metadata": {},
   "outputs": [],
   "source": [
    "y = df[\"Outcome\"]\n",
    "X = df.drop(['Outcome'], axis=1)\n",
    "\n",
    "from sklearn.model_selection import train_test_split\n",
    "\n",
    "X_train, X_test, y_train, y_test = train_test_split(X, y, \n",
    "                                                    test_size=0.30, \n",
    "                                                    random_state=42)"
   ]
  },
  {
   "cell_type": "code",
   "execution_count": 32,
   "id": "9ed708e7",
   "metadata": {},
   "outputs": [],
   "source": [
    "from sklearn.svm import SVC\n",
    "\n",
    "svc_model = SVC(kernel = \"rbf\").fit(X_train, y_train)"
   ]
  },
  {
   "cell_type": "code",
   "execution_count": 33,
   "id": "1b008eb1",
   "metadata": {},
   "outputs": [
    {
     "data": {
      "text/plain": [
       "0.7359307359307359"
      ]
     },
     "execution_count": 33,
     "metadata": {},
     "output_type": "execute_result"
    }
   ],
   "source": [
    "y_pred = svc_model.predict(X_test)\n",
    "\n",
    "from sklearn.metrics import accuracy_score\n",
    "\n",
    "accuracy_score(y_test, y_pred)"
   ]
  },
  {
   "cell_type": "code",
   "execution_count": 34,
   "id": "2e23162c",
   "metadata": {},
   "outputs": [],
   "source": [
    "svc_params = {\"C\": [0.0001, 0.001, 0.1],\n",
    "             \"gamma\": [0.0001, 0.001, 0.1]}"
   ]
  },
  {
   "cell_type": "code",
   "execution_count": 35,
   "id": "8b13a8e9",
   "metadata": {},
   "outputs": [
    {
     "name": "stdout",
     "output_type": "stream",
     "text": [
      "Fitting 10 folds for each of 9 candidates, totalling 90 fits\n",
      "[CV] END .............................C=0.0001, gamma=0.0001; total time=   0.0s\n",
      "[CV] END .............................C=0.0001, gamma=0.0001; total time=   0.0s\n",
      "[CV] END .............................C=0.0001, gamma=0.0001; total time=   0.0s\n",
      "[CV] END .............................C=0.0001, gamma=0.0001; total time=   0.0s\n",
      "[CV] END .............................C=0.0001, gamma=0.0001; total time=   0.0s\n",
      "[CV] END .............................C=0.0001, gamma=0.0001; total time=   0.0s\n",
      "[CV] END .............................C=0.0001, gamma=0.0001; total time=   0.0s\n",
      "[CV] END .............................C=0.0001, gamma=0.0001; total time=   0.0s\n",
      "[CV] END .............................C=0.0001, gamma=0.0001; total time=   0.0s\n",
      "[CV] END .............................C=0.0001, gamma=0.0001; total time=   0.0s\n",
      "[CV] END ..............................C=0.0001, gamma=0.001; total time=   0.0s\n",
      "[CV] END ..............................C=0.0001, gamma=0.001; total time=   0.0s\n",
      "[CV] END ..............................C=0.0001, gamma=0.001; total time=   0.0s\n",
      "[CV] END ..............................C=0.0001, gamma=0.001; total time=   0.0s\n",
      "[CV] END ..............................C=0.0001, gamma=0.001; total time=   0.0s\n",
      "[CV] END ..............................C=0.0001, gamma=0.001; total time=   0.0s\n",
      "[CV] END ..............................C=0.0001, gamma=0.001; total time=   0.0s\n",
      "[CV] END ..............................C=0.0001, gamma=0.001; total time=   0.0s\n",
      "[CV] END ..............................C=0.0001, gamma=0.001; total time=   0.0s\n",
      "[CV] END ..............................C=0.0001, gamma=0.001; total time=   0.0s\n",
      "[CV] END ................................C=0.0001, gamma=0.1; total time=   0.0s\n",
      "[CV] END ................................C=0.0001, gamma=0.1; total time=   0.0s\n",
      "[CV] END ................................C=0.0001, gamma=0.1; total time=   0.0s\n",
      "[CV] END ................................C=0.0001, gamma=0.1; total time=   0.0s\n",
      "[CV] END ................................C=0.0001, gamma=0.1; total time=   0.0s\n",
      "[CV] END ................................C=0.0001, gamma=0.1; total time=   0.0s\n",
      "[CV] END ................................C=0.0001, gamma=0.1; total time=   0.0s\n",
      "[CV] END ................................C=0.0001, gamma=0.1; total time=   0.0s\n",
      "[CV] END ................................C=0.0001, gamma=0.1; total time=   0.0s\n",
      "[CV] END ................................C=0.0001, gamma=0.1; total time=   0.0s\n",
      "[CV] END ..............................C=0.001, gamma=0.0001; total time=   0.0s\n",
      "[CV] END ..............................C=0.001, gamma=0.0001; total time=   0.0s\n",
      "[CV] END ..............................C=0.001, gamma=0.0001; total time=   0.0s\n",
      "[CV] END ..............................C=0.001, gamma=0.0001; total time=   0.0s\n",
      "[CV] END ..............................C=0.001, gamma=0.0001; total time=   0.0s\n",
      "[CV] END ..............................C=0.001, gamma=0.0001; total time=   0.0s\n",
      "[CV] END ..............................C=0.001, gamma=0.0001; total time=   0.0s\n",
      "[CV] END ..............................C=0.001, gamma=0.0001; total time=   0.0s\n",
      "[CV] END ..............................C=0.001, gamma=0.0001; total time=   0.0s\n",
      "[CV] END ..............................C=0.001, gamma=0.0001; total time=   0.0s\n",
      "[CV] END ...............................C=0.001, gamma=0.001; total time=   0.0s\n",
      "[CV] END ...............................C=0.001, gamma=0.001; total time=   0.0s\n",
      "[CV] END ...............................C=0.001, gamma=0.001; total time=   0.0s\n",
      "[CV] END ...............................C=0.001, gamma=0.001; total time=   0.0s\n",
      "[CV] END ...............................C=0.001, gamma=0.001; total time=   0.0s\n",
      "[CV] END ...............................C=0.001, gamma=0.001; total time=   0.0s\n",
      "[CV] END ...............................C=0.001, gamma=0.001; total time=   0.0s\n",
      "[CV] END ...............................C=0.001, gamma=0.001; total time=   0.0s\n",
      "[CV] END ...............................C=0.001, gamma=0.001; total time=   0.0s\n",
      "[CV] END ...............................C=0.001, gamma=0.001; total time=   0.0s\n",
      "[CV] END .................................C=0.001, gamma=0.1; total time=   0.0s\n",
      "[CV] END .................................C=0.001, gamma=0.1; total time=   0.0s\n",
      "[CV] END .................................C=0.001, gamma=0.1; total time=   0.0s\n",
      "[CV] END .................................C=0.001, gamma=0.1; total time=   0.0s\n",
      "[CV] END .................................C=0.001, gamma=0.1; total time=   0.0s\n",
      "[CV] END .................................C=0.001, gamma=0.1; total time=   0.0s\n",
      "[CV] END .................................C=0.001, gamma=0.1; total time=   0.0s\n",
      "[CV] END .................................C=0.001, gamma=0.1; total time=   0.0s\n",
      "[CV] END .................................C=0.001, gamma=0.1; total time=   0.0s\n",
      "[CV] END .................................C=0.001, gamma=0.1; total time=   0.0s\n",
      "[CV] END ................................C=0.1, gamma=0.0001; total time=   0.1s\n",
      "[CV] END ................................C=0.1, gamma=0.0001; total time=   0.1s\n",
      "[CV] END ................................C=0.1, gamma=0.0001; total time=   0.2s\n",
      "[CV] END ................................C=0.1, gamma=0.0001; total time=   0.2s\n",
      "[CV] END ................................C=0.1, gamma=0.0001; total time=   0.3s\n",
      "[CV] END ................................C=0.1, gamma=0.0001; total time=   0.1s\n",
      "[CV] END ................................C=0.1, gamma=0.0001; total time=   0.1s\n",
      "[CV] END ................................C=0.1, gamma=0.0001; total time=   0.2s\n",
      "[CV] END ................................C=0.1, gamma=0.0001; total time=   0.2s\n",
      "[CV] END ................................C=0.1, gamma=0.0001; total time=   0.2s\n",
      "[CV] END .................................C=0.1, gamma=0.001; total time=   0.1s\n",
      "[CV] END .................................C=0.1, gamma=0.001; total time=   0.1s\n",
      "[CV] END .................................C=0.1, gamma=0.001; total time=   0.2s\n",
      "[CV] END .................................C=0.1, gamma=0.001; total time=   0.2s\n",
      "[CV] END .................................C=0.1, gamma=0.001; total time=   0.3s\n",
      "[CV] END .................................C=0.1, gamma=0.001; total time=   0.1s\n",
      "[CV] END .................................C=0.1, gamma=0.001; total time=   0.1s\n",
      "[CV] END .................................C=0.1, gamma=0.001; total time=   0.2s\n",
      "[CV] END .................................C=0.1, gamma=0.001; total time=   0.2s\n",
      "[CV] END .................................C=0.1, gamma=0.001; total time=   0.2s\n",
      "[CV] END ...................................C=0.1, gamma=0.1; total time=   0.1s\n",
      "[CV] END ...................................C=0.1, gamma=0.1; total time=   0.1s\n",
      "[CV] END ...................................C=0.1, gamma=0.1; total time=   0.2s\n",
      "[CV] END ...................................C=0.1, gamma=0.1; total time=   0.2s\n",
      "[CV] END ...................................C=0.1, gamma=0.1; total time=   0.3s\n",
      "[CV] END ...................................C=0.1, gamma=0.1; total time=   0.1s\n",
      "[CV] END ...................................C=0.1, gamma=0.1; total time=   0.1s\n",
      "[CV] END ...................................C=0.1, gamma=0.1; total time=   0.2s\n",
      "[CV] END ...................................C=0.1, gamma=0.1; total time=   0.1s\n",
      "[CV] END ...................................C=0.1, gamma=0.1; total time=   0.2s\n"
     ]
    },
    {
     "data": {
      "text/plain": [
       "GridSearchCV(cv=10, estimator=SVC(kernel='linear'),\n",
       "             param_grid={'C': [0.0001, 0.001, 0.1],\n",
       "                         'gamma': [0.0001, 0.001, 0.1]},\n",
       "             verbose=2)"
      ]
     },
     "execution_count": 35,
     "metadata": {},
     "output_type": "execute_result"
    }
   ],
   "source": [
    "from sklearn.model_selection import GridSearchCV\n",
    "\n",
    "svc = SVC(kernel = \"linear\")\n",
    "svc_cv_model = GridSearchCV(svc, svc_params, \n",
    "                         cv = 10, \n",
    "                         verbose = 1)\n",
    "\n",
    "svc_cv_model.fit(X_train, y_train)"
   ]
  },
  {
   "cell_type": "code",
   "execution_count": 36,
   "id": "56e1f59c",
   "metadata": {},
   "outputs": [
    {
     "name": "stdout",
     "output_type": "stream",
     "text": [
      "En iyi parametreler: {'C': 0.001, 'gamma': 0.0001}\n"
     ]
    }
   ],
   "source": [
    "print(\"En iyi parametreler: \" + str(svc_cv_model.best_params_))"
   ]
  },
  {
   "cell_type": "code",
   "execution_count": 37,
   "id": "cf9110b5",
   "metadata": {},
   "outputs": [],
   "source": [
    "svc_tuned = SVC(C = 10, gamma = 0.0001).fit(X_train, y_train)"
   ]
  },
  {
   "cell_type": "code",
   "execution_count": 38,
   "id": "78e057f6",
   "metadata": {},
   "outputs": [
    {
     "data": {
      "text/plain": [
       "0.7359307359307359"
      ]
     },
     "execution_count": 38,
     "metadata": {},
     "output_type": "execute_result"
    }
   ],
   "source": [
    "y_pred = svc_tuned.predict(X_test)\n",
    "\n",
    "from sklearn.metrics import accuracy_score\n",
    "\n",
    "accuracy_score(y_test, y_pred)"
   ]
  },
  {
   "cell_type": "markdown",
   "id": "628a9113",
   "metadata": {},
   "source": [
    "## CART (Classification and Regression Trees)"
   ]
  },
  {
   "cell_type": "raw",
   "id": "e69d0b8d",
   "metadata": {},
   "source": [
    "Amaç; veri seti içerisindeki karmaşık yapıları basit karar yapılarına dönüştürmektir. Heterojen veri setleri belirlenmiş bir hedef değişkene göre homojen alt gruplara ayrılır.Bunun için iki algoritma kullanılır. Bunlar GINI ve Twoing algoritmalarıdır. Önce GINI algoritmasına bakacak olursak, amaç her adımda en büyük veri kümesini elde etmektir. Böylece en iyi bölme durumu elde edilmiş olunacaktır. Ayrıca bölme işleminden sonra ilgilenmediğimiz kısım izole edilmiş olunur.Twoing algoritması ise, GINI’ ye göre daha dengeli bir yapı sunar. Bunun nedeni ise her defasında ana ve yavru düğümlerin %50′ sini içermeye çalışmasıdır. Bundan dolayı GINI’ ye göre bir yavaşlama olacaktır.GINI ve Twoing ikili sınıflandırmada kullanılan iki algoritmadır. CART aynı zamanda sürekli tipteki veriler üzerinde de çalışabilir. Dolayısıyla bunun için de yöntem barındırır. Regresyon adı verilen bu yöntemde belli aralıktaki değerlere göre sınıflandırma yapılır. Örneğin; regresyon ile 1000′ den küçük mü değil mi şartı aranırken, sınıflandırma ile 1000 mi değil mi şartı aranır.\n",
    "\n",
    "\n",
    "CART algoritmasının;\n",
    "Parametrik olmaması yani matematiksel bir formda tarif edilmesine gerek yoktur. \n",
    "Yapısı gereği önemli ve önemsiz verileri ayırt edebilmesi. \n",
    "Gürültülü verilerle çalışabilme \n",
    "Hızlı ve esnek olması gibi avantajlara sahiptir.\n",
    "\n",
    "CART algoritmasının;\n",
    "Kullanıcı data setten bazı verileri çıkarması durumunda yanlış bir karar ağacı oluşabilir.\n",
    "Sadece ikili duruma göre karar vermesi en belirgin dezavantajlarından biridir."
   ]
  },
  {
   "cell_type": "code",
   "execution_count": 39,
   "id": "f16ad441",
   "metadata": {},
   "outputs": [],
   "source": [
    "import pandas as pd\n",
    "\n",
    "df = pd.read_csv(\"diabetes.csv\")\n",
    "\n",
    "X = df.drop([\"Outcome\"], axis=1)\n",
    "y = df[\"Outcome\"]\n",
    "\n",
    "from sklearn.model_selection import train_test_split\n",
    "X_train, X_test, y_train, y_test = train_test_split(X, y, \n",
    "                                                    test_size=0.30, \n",
    "                                                    random_state=42)\n"
   ]
  },
  {
   "cell_type": "code",
   "execution_count": 40,
   "id": "c45705d4",
   "metadata": {},
   "outputs": [],
   "source": [
    "from sklearn.tree import DecisionTreeClassifier\n",
    "\n",
    "cart = DecisionTreeClassifier()\n",
    "cart_model = cart.fit(X_train, y_train)"
   ]
  },
  {
   "cell_type": "code",
   "execution_count": 41,
   "id": "fa75d77a",
   "metadata": {},
   "outputs": [
    {
     "data": {
      "text/plain": [
       "{'ccp_alpha': 0.0,\n",
       " 'class_weight': None,\n",
       " 'criterion': 'gini',\n",
       " 'max_depth': None,\n",
       " 'max_features': None,\n",
       " 'max_leaf_nodes': None,\n",
       " 'min_impurity_decrease': 0.0,\n",
       " 'min_samples_leaf': 1,\n",
       " 'min_samples_split': 2,\n",
       " 'min_weight_fraction_leaf': 0.0,\n",
       " 'random_state': None,\n",
       " 'splitter': 'best'}"
      ]
     },
     "execution_count": 41,
     "metadata": {},
     "output_type": "execute_result"
    }
   ],
   "source": [
    "cart_model.get_params()"
   ]
  },
  {
   "cell_type": "code",
   "execution_count": 42,
   "id": "ac495273",
   "metadata": {
    "scrolled": true
   },
   "outputs": [
    {
     "name": "stdout",
     "output_type": "stream",
     "text": [
      "((((((0 if x[6] <= 0.671999990940094 else 1 if x[6] <= 0.6974999904632568 else\n",
      "    0) if x[5] <= 31.40000057220459 else ((0 if x[3] <= 40.5 else 1) if x[1\n",
      "    ] <= 111.5 else ((1 if x[1] <= 123.0 else 0) if x[2] <= 65.0 else 0) if\n",
      "    x[2] <= 72.0 else 1) if x[4] <= 9.0 else (0 if x[6] <= \n",
      "    0.6395000219345093 else 1 if x[6] <= 0.6759999990463257 else 0) if x[0] <=\n",
      "    4.5 else 1 if x[7] <= 26.5 else 0) if x[5] <= 49.10000038146973 else 1) if\n",
      "    x[1] <= 127.5 else 1 if x[2] <= 56.0 else (0 if x[7] <= 27.5 else 1 if \n",
      "    x[1] <= 138.0 else 0) if x[5] <= 30.300000190734863 else 1 if x[5] <= \n",
      "    32.000000953674316 else ((0 if x[5] <= 33.75 else 1) if x[0] <= 0.5 else\n",
      "    1 if x[5] <= 32.45000076293945 else 0) if x[2] <= 85.0 else 1) if x[7] <=\n",
      "    28.5 else (1 if x[7] <= 29.5 else (0 if x[1] <= 133.0 else (1 if x[4] <=\n",
      "    30.0 else 0) if x[1] <= 135.0 else 0) if x[2] <= 94.0 else 1 if x[0] <=\n",
      "    9.0 else 0) if x[5] <= 26.949999809265137 else (1 if x[1] <= 28.5 else \n",
      "    0 if x[0] <= 9.5 else 0 if x[6] <= 0.29099999368190765 else 1 if x[4] <=\n",
      "    27.0 else 0) if x[1] <= 94.5 else ((((0 if x[6] <= 0.24950000643730164 else\n",
      "    1 if x[1] <= 126.5 else 0) if x[5] <= 28.34999942779541 else 1 if x[2] <=\n",
      "    67.0 else 0 if x[7] <= 30.5 else ((0 if x[0] <= 5.5 else 1) if x[6] <= \n",
      "    0.21000000089406967 else 1 if x[6] <= 0.42249999940395355 else 0 if x[3\n",
      "    ] <= 20.5 else 1) if x[0] <= 9.0 else 0 if x[4] <= 57.5 else 1) if x[3] <=\n",
      "    26.5 else ((0 if x[1] <= 101.5 else 0 if x[6] <= 0.19299999624490738 else\n",
      "    1) if x[2] <= 67.0 else 0 if x[2] <= 80.0 else 0 if x[3] <= 31.0 else 1\n",
      "    ) if x[1] <= 127.5 else (1 if x[5] <= 29.399999618530273 else 0) if x[3\n",
      "    ] <= 31.0 else 1) if x[2] <= 83.0 else ((0 if x[3] <= 39.5 else 1 if x[\n",
      "    6] <= 0.3385000079870224 else 0) if x[5] <= 41.19999885559082 else 1) if\n",
      "    x[4] <= 124.0 else 0 if x[3] <= 19.5 else 1) if x[6] <= \n",
      "    0.527999997138977 else ((((0 if x[1] <= 108.5 else 1) if x[7] <= 32.5 else\n",
      "    1) if x[1] <= 132.0 else 0) if x[5] <= 29.09999942779541 else 0 if x[2] <=\n",
      "    86.0 else 1) if x[5] <= 31.600000381469727 else ((1 if x[2] <= 87.0 else\n",
      "    0 if x[1] <= 117.5 else 1) if x[3] <= 54.5 else 0) if x[6] <= \n",
      "    1.1489999890327454 else 1 if x[7] <= 36.0 else 0) if x[1] <= 154.5 else\n",
      "    (1 if x[5] <= 25.350000381469727 else 0 if x[6] <= 0.3684999942779541 else\n",
      "    (0 if x[1] <= 195.5 else 1) if x[3] <= 16.5 else 1) if x[5] <= \n",
      "    28.700000762939453 else (((((1 if x[6] <= 0.2695000022649765 else 0) if\n",
      "    x[4] <= 180.0 else 0) if x[4] <= 457.0 else 1) if x[7] <= 30.5 else 1) if\n",
      "    x[6] <= 0.3044999986886978 else (1 if x[1] <= 164.5 else 0) if x[1] <= \n",
      "    165.5 else 1) if x[6] <= 1.4275000095367432 else 1 if x[0] <= 3.5 else 0)\n",
      "\n"
     ]
    }
   ],
   "source": [
    "from skompiler import skompile\n",
    "\n",
    "print(skompile(cart_model.predict).to(\"python/code\"))"
   ]
  },
  {
   "cell_type": "code",
   "execution_count": 43,
   "id": "ca2f4852",
   "metadata": {},
   "outputs": [
    {
     "data": {
      "text/plain": [
       "0.7229437229437229"
      ]
     },
     "execution_count": 43,
     "metadata": {},
     "output_type": "execute_result"
    }
   ],
   "source": [
    "y_pred = cart_model.predict(X_test)\n",
    "\n",
    "from sklearn.metrics import accuracy_score\n",
    "\n",
    "accuracy_score(y_test,y_pred)"
   ]
  },
  {
   "cell_type": "code",
   "execution_count": 44,
   "id": "78dad7bb",
   "metadata": {},
   "outputs": [],
   "source": [
    "cart_grid = {\"max_depth\": range(1,5),\n",
    "            \"min_samples_split\":list(range(2,50))}"
   ]
  },
  {
   "cell_type": "code",
   "execution_count": 45,
   "id": "814ba991",
   "metadata": {},
   "outputs": [
    {
     "name": "stdout",
     "output_type": "stream",
     "text": [
      "Fitting 10 folds for each of 192 candidates, totalling 1920 fits\n"
     ]
    }
   ],
   "source": [
    "cart = DecisionTreeClassifier()\n",
    "\n",
    "from sklearn.model_selection import GridSearchCV\n",
    "\n",
    "cart_cv = GridSearchCV(cart, cart_grid, cv=10, n_jobs=-1, verbose=2)\n",
    "cart_cv_model = cart_cv.fit(X_train, y_train)"
   ]
  },
  {
   "cell_type": "code",
   "execution_count": 46,
   "id": "f3b89374",
   "metadata": {},
   "outputs": [
    {
     "name": "stdout",
     "output_type": "stream",
     "text": [
      "en iyi parametreler:{'max_depth': 4, 'min_samples_split': 19}\n"
     ]
    }
   ],
   "source": [
    "print(\"en iyi parametreler:\" + str(cart_cv_model.best_params_))"
   ]
  },
  {
   "cell_type": "code",
   "execution_count": 47,
   "id": "b80a84b1",
   "metadata": {},
   "outputs": [],
   "source": [
    "cart_final = DecisionTreeClassifier(max_depth = 4, min_samples_split = 20)\n",
    "cart_tuned = cart_final.fit(X_train, y_train)"
   ]
  },
  {
   "cell_type": "code",
   "execution_count": 48,
   "id": "d3ea81e8",
   "metadata": {},
   "outputs": [
    {
     "data": {
      "text/plain": [
       "0.70995670995671"
      ]
     },
     "execution_count": 48,
     "metadata": {},
     "output_type": "execute_result"
    }
   ],
   "source": [
    "y_pred_final = cart_tuned.predict(X_test)\n",
    "\n",
    "from sklearn.metrics import accuracy_score\n",
    "\n",
    "accuracy_score(y_test,y_pred_final)"
   ]
  },
  {
   "cell_type": "markdown",
   "id": "79f87954",
   "metadata": {},
   "source": [
    "## RANDOM FORESTS CLASSIFICATION"
   ]
  },
  {
   "cell_type": "raw",
   "id": "a03be93f",
   "metadata": {},
   "source": [
    "Temeli birden çok karar ağacının ürettiği tahminlerin bir araya getirilerek değerlendirilmesine dayanır.\n",
    "\n",
    "Ağaçlar için gözlemler bootstrap rastgele örnek seçim yöntemi ile değişkenler random subspace yöntemi ile seçilir.\n",
    "\n",
    "Ağaç oluşturmada veri setinin 2/3 ü kullanılır. Dışarıda kalan veri ağaçların performans değerlendirmesi ve değişken öneminin belirlenmesi için kullanılır.\n",
    "\n",
    "Her düğüm noktasında rastgele değişken seçimi yapılır(regresyon için p/3, sınıflandırma için sqrt(p))\n",
    "\n",
    "Nihai tahmin için ağaçlardan tahmin değerleri talep edilirken her bir ağacın daha önce hesaplanan hata oranları göz önüne alınarak ağaçlara ağırlık verilir."
   ]
  },
  {
   "cell_type": "code",
   "execution_count": 49,
   "id": "100d700f",
   "metadata": {},
   "outputs": [],
   "source": [
    "import pandas as pd\n",
    "\n",
    "df = pd.read_csv(\"diabetes.csv\")\n",
    "\n",
    "X = df.drop([\"Outcome\"], axis=1)\n",
    "y = df[\"Outcome\"]\n",
    "\n",
    "from sklearn.model_selection import train_test_split\n",
    "X_train, X_test, y_train, y_test = train_test_split(X, y, \n",
    "                                                    test_size=0.30, \n",
    "                                                    random_state=42)\n"
   ]
  },
  {
   "cell_type": "code",
   "execution_count": 50,
   "id": "8d5ac82a",
   "metadata": {},
   "outputs": [],
   "source": [
    "from sklearn.ensemble import RandomForestClassifier\n",
    "\n",
    "rf_model = RandomForestClassifier().fit(X_train, y_train)"
   ]
  },
  {
   "cell_type": "code",
   "execution_count": 51,
   "id": "2c0f8d3b",
   "metadata": {},
   "outputs": [
    {
     "data": {
      "text/plain": [
       "0.7229437229437229"
      ]
     },
     "execution_count": 51,
     "metadata": {},
     "output_type": "execute_result"
    }
   ],
   "source": [
    "y_pred = rf_model.predict(X_test)\n",
    "accuracy_score(y_test, y_pred)"
   ]
  },
  {
   "cell_type": "code",
   "execution_count": 52,
   "id": "13be9227",
   "metadata": {},
   "outputs": [],
   "source": [
    "rf_params = {\"max_depth\": [2,5,8,10],\n",
    "            \"max_features\": [2,5,8],\n",
    "            \"n_estimators\": [10,500,1000],\n",
    "            \"min_samples_split\": [2,5,10]}"
   ]
  },
  {
   "cell_type": "code",
   "execution_count": 53,
   "id": "b6ef6d5a",
   "metadata": {},
   "outputs": [],
   "source": [
    "rf_model = RandomForestClassifier()\n",
    "\n",
    "rf_cv_model = GridSearchCV(rf_model, \n",
    "                           rf_params, \n",
    "                           cv = 10, \n",
    "                           n_jobs = -1, \n",
    "                           verbose = 2) "
   ]
  },
  {
   "cell_type": "code",
   "execution_count": 54,
   "id": "7715329b",
   "metadata": {},
   "outputs": [
    {
     "name": "stdout",
     "output_type": "stream",
     "text": [
      "Fitting 10 folds for each of 108 candidates, totalling 1080 fits\n"
     ]
    },
    {
     "data": {
      "text/plain": [
       "GridSearchCV(cv=10, estimator=RandomForestClassifier(), n_jobs=-1,\n",
       "             param_grid={'max_depth': [2, 5, 8, 10], 'max_features': [2, 5, 8],\n",
       "                         'min_samples_split': [2, 5, 10],\n",
       "                         'n_estimators': [10, 500, 1000]},\n",
       "             verbose=2)"
      ]
     },
     "execution_count": 54,
     "metadata": {},
     "output_type": "execute_result"
    }
   ],
   "source": [
    "rf_cv_model.fit(X_train, y_train)"
   ]
  },
  {
   "cell_type": "code",
   "execution_count": 55,
   "id": "2ba8158f",
   "metadata": {},
   "outputs": [
    {
     "name": "stdout",
     "output_type": "stream",
     "text": [
      "En iyi parametreler: {'max_depth': 10, 'max_features': 5, 'min_samples_split': 5, 'n_estimators': 500}\n"
     ]
    }
   ],
   "source": [
    "print(\"En iyi parametreler: \" + str(rf_cv_model.best_params_))"
   ]
  },
  {
   "cell_type": "code",
   "execution_count": 56,
   "id": "f5c8b1e4",
   "metadata": {},
   "outputs": [
    {
     "data": {
      "text/plain": [
       "RandomForestClassifier(max_depth=10, max_features=5, min_samples_split=5,\n",
       "                       n_estimators=500)"
      ]
     },
     "execution_count": 56,
     "metadata": {},
     "output_type": "execute_result"
    }
   ],
   "source": [
    "rf_final = RandomForestClassifier(max_depth = 10, \n",
    "                                  max_features = 5, \n",
    "                                  min_samples_split = 5,\n",
    "                                  n_estimators = 500)\n",
    "\n",
    "rf_final.fit(X_train, y_train)"
   ]
  },
  {
   "cell_type": "code",
   "execution_count": 57,
   "id": "7a5a6733",
   "metadata": {},
   "outputs": [
    {
     "data": {
      "text/plain": [
       "0.7489177489177489"
      ]
     },
     "execution_count": 57,
     "metadata": {},
     "output_type": "execute_result"
    }
   ],
   "source": [
    "y_pred_final = rf_final.predict(X_test)\n",
    "accuracy_score(y_test, y_pred_final)"
   ]
  },
  {
   "cell_type": "code",
   "execution_count": 59,
   "id": "fa925654",
   "metadata": {},
   "outputs": [],
   "source": [
    "Importance = pd.DataFrame({\"Importance\": rf_final.feature_importances_*100},\n",
    "                         index = X_train.columns)"
   ]
  },
  {
   "cell_type": "code",
   "execution_count": 60,
   "id": "eef6a8c1",
   "metadata": {},
   "outputs": [
    {
     "data": {
      "text/plain": [
       "Text(0.5, 0, 'Değişken Önem Düzeyleri')"
      ]
     },
     "execution_count": 60,
     "metadata": {},
     "output_type": "execute_result"
    },
    {
     "data": {
      "image/png": "[encoded data removed]",
      "text/plain": [
       "<Figure size 576x396 with 1 Axes>"
      ]
     },
     "metadata": {},
     "output_type": "display_data"
    }
   ],
   "source": [
    "Importance.sort_values(by = \"Importance\", \n",
    "                       axis = 0, \n",
    "                       ascending = True).plot(kind =\"barh\", color = \"r\")\n",
    "\n",
    "plt.xlabel(\"Değişken Önem Düzeyleri\");"
   ]
  },
  {
   "cell_type": "markdown",
   "id": "541241c0",
   "metadata": {},
   "source": [
    "## GBM (Gradient Boosting Machine)"
   ]
  },
  {
   "cell_type": "code",
   "execution_count": null,
   "id": "e6ae3f59",
   "metadata": {},
   "outputs": [],
   "source": [
    "df = pd.read_csv(\"dataset_diabetes.csv\")\n",
    "\n",
    "y = df[\"Outcome\"]\n",
    "X = df.drop(['Outcome'], axis=1)"
   ]
  },
  {
   "cell_type": "code",
   "execution_count": null,
   "id": "76799e43",
   "metadata": {},
   "outputs": [],
   "source": [
    "from sklearn.model_selection import train_test_split\n",
    "\n",
    "X_train, X_test, y_train, y_test = train_test_split(X, y, \n",
    "                                                    test_size=0.30, \n",
    "                                                    random_state=42)"
   ]
  },
  {
   "cell_type": "code",
   "execution_count": null,
   "id": "f9382734",
   "metadata": {},
   "outputs": [],
   "source": [
    "from sklearn.ensemble import GradientBoostingClassifier\n",
    "\n",
    "gbm_model = GradientBoostingClassifier(random_state=42).fit(X_train, y_train)"
   ]
  },
  {
   "cell_type": "code",
   "execution_count": null,
   "id": "eacdf8c4",
   "metadata": {},
   "outputs": [],
   "source": [
    "y_pred = gbm_model.predict(X_test)\n",
    "accuracy_score(y_test, y_pred)"
   ]
  },
  {
   "cell_type": "code",
   "execution_count": null,
   "id": "0ecb696f",
   "metadata": {},
   "outputs": [],
   "source": [
    "gbm_params = {\"learning_rate\" : [0.001, 0.01, 0.1, 0.05],\n",
    "             \"n_estimators\": [100,500,100],\n",
    "             \"max_depth\": [3,5,10],\n",
    "             \"min_samples_split\": [2,5,10]}"
   ]
  },
  {
   "cell_type": "code",
   "execution_count": null,
   "id": "6d699cae",
   "metadata": {},
   "outputs": [],
   "source": [
    "gbm = GradientBoostingClassifier(random_state=42)\n",
    "\n",
    "gbm_cv = GridSearchCV(gbm, gbm_params, cv = 10, n_jobs = -1, verbose = 2)"
   ]
  },
  {
   "cell_type": "code",
   "execution_count": null,
   "id": "4794ad41",
   "metadata": {},
   "outputs": [],
   "source": [
    "gbm_cv.fit(X_train, y_train)"
   ]
  },
  {
   "cell_type": "code",
   "execution_count": null,
   "id": "b3a9f8f8",
   "metadata": {},
   "outputs": [],
   "source": [
    "print(\"En iyi parametreler: \" + str(gbm_cv.best_params_))"
   ]
  },
  {
   "cell_type": "code",
   "execution_count": null,
   "id": "f545972b",
   "metadata": {},
   "outputs": [],
   "source": [
    "gbm = GradientBoostingClassifier(learning_rate = 0.01, \n",
    "                                 max_depth = 3,\n",
    "                                min_samples_split = 5,\n",
    "                                n_estimators = 500)"
   ]
  },
  {
   "cell_type": "code",
   "execution_count": null,
   "id": "f02ddcef",
   "metadata": {},
   "outputs": [],
   "source": [
    "gbm_tuned =  gbm.fit(X_train,y_train)"
   ]
  },
  {
   "cell_type": "code",
   "execution_count": null,
   "id": "8ed817a9",
   "metadata": {},
   "outputs": [],
   "source": [
    "y_pred = gbm_tuned.predict(X_test)\n",
    "accuracy_score(y_test, y_pred)"
   ]
  },
  {
   "cell_type": "code",
   "execution_count": null,
   "id": "7765a562",
   "metadata": {},
   "outputs": [],
   "source": [
    "gbm_model = GradientBoostingClassifier(random_state=42)\n",
    "\n",
    "gbm_model.get_params()\n",
    "\n",
    "cv_results = cross_validate(gbm_model, X, y, cv=5, scoring=[\"accuracy\", \"f1\", \"roc_auc\"])\n",
    "cv_results['test_accuracy'].mean()\n",
    "# 0.7591715474068416\n",
    "cv_results['test_f1'].mean()\n",
    "# 0.634\n",
    "cv_results['test_roc_auc'].mean()\n",
    "# 0.82548\n",
    "\n",
    "\n",
    "gbm_best_grid = GridSearchCV(gbm_model, gbm_params, cv=5, n_jobs=-1, verbose=True).fit(X, y)\n",
    "\n",
    "gbm_best_grid.best_params_\n",
    "\n",
    "gbm_final = gbm_model.set_params(**gbm_best_grid.best_params_, random_state=17, ).fit(X, y)\n",
    "\n",
    "\n",
    "cv_results = cross_validate(gbm_final, X, y, cv=5, scoring=[\"accuracy\", \"f1\", \"roc_auc\"])\n",
    "cv_results['test_accuracy'].mean()\n",
    "cv_results['test_f1'].mean()\n",
    "cv_results['test_roc_auc'].mean()\n"
   ]
  },
  {
   "cell_type": "markdown",
   "id": "900608bf",
   "metadata": {},
   "source": [
    "# XGBOOST"
   ]
  },
  {
   "cell_type": "code",
   "execution_count": null,
   "id": "221362ba",
   "metadata": {},
   "outputs": [],
   "source": [
    "df = pd.read_csv(\"dataset_diabetes.csv\")\n",
    "\n",
    "y = df[\"Outcome\"]\n",
    "X = df.drop(['Outcome'], axis=1)"
   ]
  },
  {
   "cell_type": "code",
   "execution_count": null,
   "id": "6502ef7d",
   "metadata": {},
   "outputs": [],
   "source": [
    "from sklearn.model_selection import train_test_split\n",
    "\n",
    "X_train, X_test, y_train, y_test = train_test_split(X, y, \n",
    "                                                    test_size=0.30, \n",
    "                                                    random_state=42)"
   ]
  },
  {
   "cell_type": "code",
   "execution_count": null,
   "id": "1e0108e6",
   "metadata": {},
   "outputs": [],
   "source": [
    "from xgboost import XGBClassifier\n",
    "\n",
    "xgb_model = XGBClassifier().fit(X_train, y_train)"
   ]
  },
  {
   "cell_type": "code",
   "execution_count": null,
   "id": "dfbb853d",
   "metadata": {},
   "outputs": [],
   "source": [
    "y_pred = xgb_model.predict(X_test)\n",
    "accuracy_score(y_test, y_pred)"
   ]
  },
  {
   "cell_type": "code",
   "execution_count": null,
   "id": "60074b63",
   "metadata": {},
   "outputs": [],
   "source": [
    "xgb_params = {\n",
    "        'n_estimators': [100, 500, 1000, 2000],\n",
    "        'subsample': [0.6, 0.8, 1.0],\n",
    "        'max_depth': [3, 4, 5,6],\n",
    "        'learning_rate': [0.1,0.01,0.02,0.05],\n",
    "        \"min_samples_split\": [2,5,10]}\n",
    "\n",
    "xgb = XGBClassifier()\n",
    "\n",
    "xgb_cv_model = GridSearchCV(xgb, xgb_params, cv = 10, verbose = 1)"
   ]
  },
  {
   "cell_type": "code",
   "execution_count": null,
   "id": "872c8da2",
   "metadata": {},
   "outputs": [],
   "source": [
    "xgb_cv_model.fit(X_train, y_train)"
   ]
  },
  {
   "cell_type": "code",
   "execution_count": null,
   "id": "04fa580c",
   "metadata": {},
   "outputs": [],
   "source": [
    "xgb_cv_model.best_params_"
   ]
  },
  {
   "cell_type": "code",
   "execution_count": null,
   "id": "4f6f3217",
   "metadata": {},
   "outputs": [],
   "source": [
    "xgb = XGBClassifier(learning_rate = 0.01, \n",
    "                    max_depth = 6,\n",
    "                    min_samples_split = 2,\n",
    "                    n_estimators = 100,\n",
    "                    subsample = 0.8)"
   ]
  },
  {
   "cell_type": "code",
   "execution_count": null,
   "id": "b4091e91",
   "metadata": {},
   "outputs": [],
   "source": [
    "xgb_tuned =  xgb.fit(X_train,y_train)"
   ]
  },
  {
   "cell_type": "code",
   "execution_count": null,
   "id": "2e2df667",
   "metadata": {},
   "outputs": [],
   "source": [
    "y_pred = xgb_tuned.predict(X_test)\n",
    "accuracy_score(y_test, y_pred)"
   ]
  },
  {
   "cell_type": "code",
   "execution_count": null,
   "id": "008d8dab",
   "metadata": {},
   "outputs": [],
   "source": [
    "xgboost_model = XGBClassifier(random_state=17, use_label_encoder=False)\n",
    "xgboost_model.get_params()\n",
    "cv_results = cross_validate(xgboost_model, X, y, cv=5, scoring=[\"accuracy\", \"f1\", \"roc_auc\"])\n",
    "cv_results['test_accuracy'].mean()\n",
    "# 0.75265\n",
    "cv_results['test_f1'].mean()\n",
    "# 0.631\n",
    "cv_results['test_roc_auc'].mean()\n",
    "# 0.7987\n",
    "\n",
    "xgboost_params = {\"learning_rate\": [0.1, 0.01],\n",
    "                  \"max_depth\": [5, 8],\n",
    "                  \"n_estimators\": [100, 500, 1000],\n",
    "                  \"colsample_bytree\": [0.7, 1]}\n",
    "\n",
    "xgboost_best_grid = GridSearchCV(xgboost_model, xgboost_params, cv=5, n_jobs=-1, verbose=True).fit(X, y)\n",
    "\n",
    "xgboost_final = xgboost_model.set_params(**xgboost_best_grid.best_params_, random_state=17).fit(X, y)\n",
    "\n",
    "cv_results = cross_validate(xgboost_final, X, y, cv=5, scoring=[\"accuracy\", \"f1\", \"roc_auc\"])\n",
    "cv_results['test_accuracy'].mean()\n",
    "cv_results['test_f1'].mean()\n",
    "cv_results['test_roc_auc'].mean()"
   ]
  },
  {
   "cell_type": "markdown",
   "id": "a7adb1a4",
   "metadata": {},
   "source": [
    "# LightGBM"
   ]
  },
  {
   "cell_type": "code",
   "execution_count": null,
   "id": "7cfbc0c0",
   "metadata": {},
   "outputs": [],
   "source": [
    "lgbm_model = LGBMClassifier(random_state=17)\n",
    "lgbm_model.get_params()\n",
    "\n",
    "cv_results = cross_validate(lgbm_model, X, y, cv=5, scoring=[\"accuracy\", \"f1\", \"roc_auc\"])\n",
    "\n",
    "cv_results['test_accuracy'].mean()\n",
    "cv_results['test_f1'].mean()\n",
    "cv_results['test_roc_auc'].mean()\n",
    "\n",
    "lgbm_params = {\"learning_rate\": [0.01, 0.1],\n",
    "               \"n_estimators\": [100, 300, 500, 1000],\n",
    "               \"colsample_bytree\": [0.5, 0.7, 1]}\n",
    "\n",
    "lgbm_best_grid = GridSearchCV(lgbm_model, lgbm_params, cv=5, n_jobs=-1, verbose=True).fit(X, y)\n",
    "\n",
    "lgbm_final = lgbm_model.set_params(**lgbm_best_grid.best_params_, random_state=17).fit(X, y)\n",
    "\n",
    "cv_results = cross_validate(lgbm_final, X, y, cv=5, scoring=[\"accuracy\", \"f1\", \"roc_auc\"])\n",
    "\n",
    "cv_results['test_accuracy'].mean()\n",
    "cv_results['test_f1'].mean()\n",
    "cv_results['test_roc_auc'].mean()\n",
    "\n",
    "# Hiperparametre yeni değerlerle\n",
    "lgbm_params = {\"learning_rate\": [0.01, 0.02, 0.05, 0.1],\n",
    "               \"n_estimators\": [200, 300, 350, 400],\n",
    "               \"colsample_bytree\": [0.9, 0.8, 1]}\n",
    "\n",
    "lgbm_best_grid = GridSearchCV(lgbm_model, lgbm_params, cv=5, n_jobs=-1, verbose=True).fit(X, y)\n",
    "\n",
    "lgbm_final = lgbm_model.set_params(**lgbm_best_grid.best_params_, random_state=17).fit(X, y)\n",
    "\n",
    "cv_results = cross_validate(lgbm_final, X, y, cv=5, scoring=[\"accuracy\", \"f1\", \"roc_auc\"])\n",
    "\n",
    "cv_results['test_accuracy'].mean()\n",
    "cv_results['test_f1'].mean()\n",
    "cv_results['test_roc_auc'].mean()"
   ]
  },
  {
   "cell_type": "code",
   "execution_count": null,
   "id": "278ad7c9",
   "metadata": {},
   "outputs": [],
   "source": [
    "lgbm_model = LGBMClassifier(random_state=17, colsample_bytree=0.9, learning_rate=0.01)\n",
    "\n",
    "lgbm_params = {\"n_estimators\": [200, 400, 1000, 5000, 8000, 9000, 10000]}\n",
    "\n",
    "lgbm_best_grid = GridSearchCV(lgbm_model, lgbm_params, cv=5, n_jobs=-1, verbose=True).fit(X, y)\n",
    "\n",
    "lgbm_final = lgbm_model.set_params(**lgbm_best_grid.best_params_, random_state=17).fit(X, y)\n",
    "\n",
    "cv_results = cross_validate(lgbm_final, X, y, cv=5, scoring=[\"accuracy\", \"f1\", \"roc_auc\"])\n",
    "\n",
    "cv_results['test_accuracy'].mean()\n",
    "cv_results['test_f1'].mean()\n",
    "cv_results['test_roc_auc'].mean()"
   ]
  },
  {
   "cell_type": "code",
   "execution_count": null,
   "id": "8587a70b",
   "metadata": {},
   "outputs": [],
   "source": [
    "df = pd.read_csv(\"dataset_diabetes.csv\")\n",
    "\n",
    "y = df[\"Outcome\"]\n",
    "X = df.drop(['Outcome'], axis=1)"
   ]
  },
  {
   "cell_type": "code",
   "execution_count": null,
   "id": "712a579c",
   "metadata": {},
   "outputs": [],
   "source": [
    "from sklearn.model_selection import train_test_split\n",
    "\n",
    "X_train, X_test, y_train, y_test = train_test_split(X, y, \n",
    "                                                    test_size=0.30, \n",
    "                                                    random_state=42)"
   ]
  },
  {
   "cell_type": "code",
   "execution_count": null,
   "id": "93407cce",
   "metadata": {},
   "outputs": [],
   "source": [
    "lgbm_model = LGBMClassifier().fit(X_train, y_train)"
   ]
  },
  {
   "cell_type": "code",
   "execution_count": null,
   "id": "e6bdb3b9",
   "metadata": {},
   "outputs": [],
   "source": [
    "y_pred = lgbm_model.predict(X_test)\n",
    "accuracy_score(y_test, y_pred)"
   ]
  },
  {
   "cell_type": "code",
   "execution_count": null,
   "id": "465be12f",
   "metadata": {},
   "outputs": [],
   "source": [
    "lgbm_params = {\n",
    "        'n_estimators': [100, 500, 1000, 2000],\n",
    "        'subsample': [0.6, 0.8, 1.0],\n",
    "        'max_depth': [3, 4, 5,6],\n",
    "        'learning_rate': [0.1,0.01,0.02,0.05],\n",
    "        \"min_child_samples\": [5,10,20]}\n",
    "\n",
    "lgbm = LGBMClassifier()\n",
    "\n",
    "lgbm_cv_model = GridSearchCV(lgbm, lgbm_params, \n",
    "                             cv = 10, \n",
    "                             verbose = 1)\n",
    "\n",
    "lgbm_cv_model.fit(X_train, y_train)"
   ]
  },
  {
   "cell_type": "code",
   "execution_count": null,
   "id": "1d1c7d33",
   "metadata": {},
   "outputs": [],
   "source": [
    "lgbm_cv_model.best_params_"
   ]
  },
  {
   "cell_type": "code",
   "execution_count": null,
   "id": "b773bb67",
   "metadata": {},
   "outputs": [],
   "source": [
    "lgbm = LGBMClassifier(learning_rate = 0.01, \n",
    "                       max_depth = 3,\n",
    "                       subsample = 0.6,\n",
    "                       n_estimators = 500,\n",
    "                       min_child_samples = 20)"
   ]
  },
  {
   "cell_type": "code",
   "execution_count": null,
   "id": "94c11956",
   "metadata": {},
   "outputs": [],
   "source": [
    "lgbm_tuned = lgbm.fit(X_train,y_train)"
   ]
  },
  {
   "cell_type": "code",
   "execution_count": null,
   "id": "5b08fc01",
   "metadata": {},
   "outputs": [],
   "source": [
    "y_pred = lgbm_tuned.predict(X_test)\n",
    "accuracy_score(y_test, y_pred)"
   ]
  },
  {
   "cell_type": "markdown",
   "id": "8c10464a",
   "metadata": {},
   "source": [
    "# CatBOOST"
   ]
  },
  {
   "cell_type": "code",
   "execution_count": null,
   "id": "af10d7b6",
   "metadata": {},
   "outputs": [],
   "source": [
    "catboost_model = CatBoostClassifier(random_state=17, verbose=False)\n",
    "\n",
    "cv_results = cross_validate(catboost_model, X, y, cv=5, scoring=[\"accuracy\", \"f1\", \"roc_auc\"])\n",
    "\n",
    "cv_results['test_accuracy'].mean()\n",
    "cv_results['test_f1'].mean()\n",
    "cv_results['test_roc_auc'].mean()\n",
    "\n",
    "\n",
    "catboost_params = {\"iterations\": [200, 500],\n",
    "                   \"learning_rate\": [0.01, 0.1],\n",
    "                   \"depth\": [3, 6]}\n",
    "\n",
    "\n",
    "catboost_best_grid = GridSearchCV(catboost_model, catboost_params, cv=5, n_jobs=-1, verbose=True).fit(X, y)\n",
    "\n",
    "catboost_final = catboost_model.set_params(**catboost_best_grid.best_params_, random_state=17).fit(X, y)\n",
    "\n",
    "cv_results = cross_validate(catboost_final, X, y, cv=5, scoring=[\"accuracy\", \"f1\", \"roc_auc\"])\n",
    "\n",
    "cv_results['test_accuracy'].mean()\n",
    "cv_results['test_f1'].mean()\n",
    "cv_results['test_roc_auc'].mean()\n"
   ]
  },
  {
   "cell_type": "code",
   "execution_count": null,
   "id": "094c3ac6",
   "metadata": {},
   "outputs": [],
   "source": [
    "df = pd.read_csv(\"dataset_diabetes.csv\")\n",
    "\n",
    "y = df[\"Outcome\"]\n",
    "X = df.drop(['Outcome'], axis=1)"
   ]
  },
  {
   "cell_type": "code",
   "execution_count": null,
   "id": "9dd9fc73",
   "metadata": {},
   "outputs": [],
   "source": [
    "from sklearn.model_selection import train_test_split\n",
    "\n",
    "X_train, X_test, y_train, y_test = train_test_split(X, y, \n",
    "                                                    test_size=0.30, \n",
    "                                                    random_state=42)"
   ]
  },
  {
   "cell_type": "code",
   "execution_count": null,
   "id": "8a98eec6",
   "metadata": {},
   "outputs": [],
   "source": [
    "from catboost import CatBoostClassifier\n",
    "\n",
    "cat_model = CatBoostClassifier().fit(X_train, y_train)"
   ]
  },
  {
   "cell_type": "code",
   "execution_count": null,
   "id": "11ee564a",
   "metadata": {},
   "outputs": [],
   "source": [
    "y_pred = cat_model.predict(X_test)\n",
    "accuracy_score(y_test, y_pred)"
   ]
  },
  {
   "cell_type": "code",
   "execution_count": null,
   "id": "bb0cefe1",
   "metadata": {},
   "outputs": [],
   "source": [
    "catb_params = {\n",
    "    'iterations': [200,500],\n",
    "    'learning_rate': [0.01,0.05, 0.1],\n",
    "    'depth': [3,5,8] }"
   ]
  },
  {
   "cell_type": "code",
   "execution_count": null,
   "id": "43538506",
   "metadata": {},
   "outputs": [],
   "source": [
    "catb = CatBoostClassifier(iterations = 200, \n",
    "                          learning_rate = 0.05, \n",
    "                          depth = 5)\n",
    "\n",
    "catb_tuned = catb.fit(X_train, y_train)\n",
    "y_pred = catb_tuned.predict(X_test)"
   ]
  },
  {
   "cell_type": "code",
   "execution_count": null,
   "id": "4f8530ce",
   "metadata": {},
   "outputs": [],
   "source": [
    "y_pred = catb_tuned.predict(X_test)\n",
    "accuracy_score(y_test, y_pred)"
   ]
  },
  {
   "cell_type": "code",
   "execution_count": null,
   "id": "ddb2ffa6",
   "metadata": {},
   "outputs": [],
   "source": [
    "def plot_importance(model, features, num=len(X), save=False):\n",
    "    feature_imp = pd.DataFrame({'Value': model.feature_importances_, 'Feature': features.columns})\n",
    "    plt.figure(figsize=(10, 10))\n",
    "    sns.set(font_scale=1)\n",
    "    sns.barplot(x=\"Value\", y=\"Feature\", data=feature_imp.sort_values(by=\"Value\",\n",
    "                                                                     ascending=False)[0:num])\n",
    "    plt.title('Features')\n",
    "    plt.tight_layout()\n",
    "    plt.show()\n",
    "    if save:\n",
    "        plt.savefig('importances.png')\n",
    "\n",
    "plot_importance(rf_final, X)\n",
    "plot_importance(gbm_final, X)\n",
    "plot_importance(xgboost_final, X)\n",
    "plot_importance(lgbm_final, X)\n",
    "plot_importance(catboost_final, X)\n",
    "\n",
    "\n",
    "################################\n",
    "# Hyperparameter Optimization with RandomSearchCV (BONUS)\n",
    "################################\n",
    "\n",
    "rf_model = RandomForestClassifier(random_state=17)\n",
    "\n",
    "rf_random_params = {\"max_depth\": np.random.randint(5, 50, 10),\n",
    "                    \"max_features\": [3, 5, 7, \"auto\", \"sqrt\"],\n",
    "                    \"min_samples_split\": np.random.randint(2, 50, 20),\n",
    "                    \"n_estimators\": [int(x) for x in np.linspace(start=200, stop=1500, num=10)]}\n",
    "\n",
    "rf_random = RandomizedSearchCV(estimator=rf_model,\n",
    "                               param_distributions=rf_random_params,\n",
    "                               n_iter=100,  # denenecek parametre sayısı\n",
    "                               cv=3,\n",
    "                               verbose=True,\n",
    "                               random_state=42,\n",
    "                               n_jobs=-1)\n",
    "\n",
    "rf_random.fit(X, y)\n",
    "\n",
    "\n",
    "rf_random.best_params_\n",
    "\n",
    "\n",
    "rf_random_final = rf_model.set_params(**rf_random.best_params_, random_state=17).fit(X, y)\n",
    "\n",
    "cv_results = cross_validate(rf_random_final, X, y, cv=5, scoring=[\"accuracy\", \"f1\", \"roc_auc\"])\n",
    "\n",
    "cv_results['test_accuracy'].mean()\n",
    "cv_results['test_f1'].mean()\n",
    "cv_results['test_roc_auc'].mean()\n",
    "\n",
    "\n",
    "################################\n",
    "# Analyzing Model Complexity with Learning Curves (BONUS)\n",
    "################################\n",
    "\n",
    "def val_curve_params(model, X, y, param_name, param_range, scoring=\"roc_auc\", cv=10):\n",
    "    train_score, test_score = validation_curve(\n",
    "        model, X=X, y=y, param_name=param_name, param_range=param_range, scoring=scoring, cv=cv)\n",
    "\n",
    "    mean_train_score = np.mean(train_score, axis=1)\n",
    "    mean_test_score = np.mean(test_score, axis=1)\n",
    "\n",
    "    plt.plot(param_range, mean_train_score,\n",
    "             label=\"Training Score\", color='b')\n",
    "\n",
    "    plt.plot(param_range, mean_test_score,\n",
    "             label=\"Validation Score\", color='g')\n",
    "\n",
    "    plt.title(f\"Validation Curve for {type(model).__name__}\")\n",
    "    plt.xlabel(f\"Number of {param_name}\")\n",
    "    plt.ylabel(f\"{scoring}\")\n",
    "    plt.tight_layout()\n",
    "    plt.legend(loc='best')\n",
    "    plt.show(block=True)\n",
    "\n",
    "\n",
    "rf_val_params = [[\"max_depth\", [5, 8, 15, 20, 30, None]],\n",
    "                 [\"max_features\", [3, 5, 7, \"auto\"]],\n",
    "                 [\"min_samples_split\", [2, 5, 8, 15, 20]],\n",
    "                 [\"n_estimators\", [10, 50, 100, 200, 500]]]\n",
    "\n",
    "\n",
    "rf_model = RandomForestClassifier(random_state=17)\n",
    "\n",
    "for i in range(len(rf_val_params)):\n",
    "    val_curve_params(rf_model, X, y, rf_val_params[i][0], rf_val_params[i][1])\n",
    "\n",
    "rf_val_params[0][1]\n",
    "\n"
   ]
  },
  {
   "cell_type": "markdown",
   "id": "6213d539",
   "metadata": {},
   "source": [
    "# SINIFLANDIRMA MODELLERİNDE PERFORMANS DEĞERLENDİRME"
   ]
  },
  {
   "cell_type": "markdown",
   "id": "0bc7b768",
   "metadata": {},
   "source": [
    "## CONFUSION MATRIX"
   ]
  },
  {
   "cell_type": "raw",
   "id": "e31256e7",
   "metadata": {},
   "source": [
    "                \n",
    "                        TAHMİN EDİLEN SINIFLAR\n",
    "                        NEGATİF        POZİTİF\n",
    "DOĞRU SINIFLAR\n",
    "        NEGATİF           TN             FP                   \n",
    "        POZİTİF           FN             TP \n",
    "                \n",
    "TN = Olumsuz tahmin ettiniz ve bu doğru.\n",
    "FN = Olumsuz tahmin ettiniz ama bu yanlış.\n",
    "FP = Olumlu tahmin ettiniz ama bu yanlış\n",
    "TP = Olumlu tahmin ettiniz ve bu doğru.\n",
    "\n",
    "ACCURACY = Doğru tahmin edilen hedef değişkenlerin tüm hedef değişkenlere oranıdır. (TP + TN) / TN+FP+FN+TP\n",
    "\n",
    "PRECISION = Doğru pozitif olarak tahmin edilen gözlemlerin tüm pozitif gözlemlere oranıdır. TP / (TP+FN)\n",
    "\n",
    "RECALL = Doğru bir şekilde pozitif olarak tahmin edilen gözlemlerin ne kadar başarılı tahmin edildiğini gösterir. TP / (TP+FN)\n",
    "\n",
    "F1 Score = PRECISION VE RECALL harmonik ortalamasıdır. (PRECION * RECALL) / (PRECISION + RECALL)"
   ]
  },
  {
   "cell_type": "markdown",
   "id": "8222bba7",
   "metadata": {},
   "source": [
    "# ROC (Receiver Operating Charasteristics) Eğrisi ve AUC(Area Under The Curve) Alanı"
   ]
  },
  {
   "cell_type": "raw",
   "id": "069d7c06",
   "metadata": {},
   "source": [
    "ROC sınıflandırma modellerinde kullanılan ve farklı eşit değerler için modelin sınıfları ne ölçüde başarı öngördüğünü gösteren performans ölçüm tekniğidir. ROC bir olasılık eğrisi iken AUC sınıfların birbirinden ne derece ayrıştırıcı olabildiğini gösterir. En yalın hali ile ROC-AUC bize modelin sınıfları ayırt etmede ne kadar başarılı olduğunu gösterir. AUC'un olabildiğince yüksek olması(1'e yakın olmasını) model o kadar negatif durumları negatif, pozitif durumları pozitif öngörüyor demektir.\n",
    "Bir sınıflandırma çalışmasında her bir gözlemin hangi sınıfa ait olduğunun olasılığını hesaplamak gözlemlerin sınıflarını direkt tahmin etmekten daha esnek bir yaklaşım olabilir. Buradaki esneklik bir gözlemin hangi sınıfa ait olabileceğinin olasılığını hesaplarken sonucun olasılık eşik değeri seçimine bağlı olmasından kaynaklanır.\n",
    "ROC eğrisi, 0-1 arasında yer alan her bir olasılık eşik değeri için RECALL ile FP / (FP+TN) kesişim noktalarının birleştirilmesiyle elde edilir. ROC eğrisi RECALL değerleri dikey eksene, FP / (FP+TN) yatay eksene gelecek şekilde çizilir. ROC eğrisi ile ilgili en önemli sıkıntı veri setindeki gözlemlerin sınıflarının yaklaşık sayılarda olup olmamasına(Normal Dağılıma sahip olup olmaması) duyarlı oluşudur. "
   ]
  }
 ],
 "metadata": {
  "kernelspec": {
   "display_name": "Python 3 (ipykernel)",
   "language": "python",
   "name": "python3"
  },
  "language_info": {
   "codemirror_mode": {
    "name": "ipython",
    "version": 3
   },
   "file_extension": ".py",
   "mimetype": "text/x-python",
   "name": "python",
   "nbconvert_exporter": "python",
   "pygments_lexer": "ipython3",
   "version": "3.9.7"
  }
 },
 "nbformat": 4,
 "nbformat_minor": 5
}
