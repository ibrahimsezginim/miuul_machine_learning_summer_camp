{
 "cells": [
  {
   "cell_type": "markdown",
   "id": "07b8a997",
   "metadata": {},
   "source": [
    "# SUPERVISED LEARNING: UNLINEAR REGRESSION MODELS"
   ]
  },
  {
   "cell_type": "markdown",
   "id": "597d2ec6",
   "metadata": {},
   "source": [
    "# KNN"
   ]
  },
  {
   "cell_type": "raw",
   "id": "48d93411",
   "metadata": {},
   "source": [
    "KNN algoritması önce veri noktasının diğer tüm veri noktalarına mesafesini hesaplar ve verilen K en yakın komşu sayısına göre yeni veri noktasının hangi kategoriye girdiğini belirler. Diyelim ki K=3 seçildi ve yeni veri noktasına en yakın mesafedeki gözlemlerden bağımlı değişkenin ortalama değerini döndür. Pek çok mesafe ölçüm hesaplaması olsa da en yaygın kullanılan Öklid Mesafesi hesaplama yöntemidir.\n",
    "KNN algoritmasının;\n",
    "Uygulamasının kolay olması,\n",
    "Fazla hiperparametresinin olmaması gibi avantajları bulunmaktadır.\n",
    "\n",
    "KNN algoritmasının;\n",
    "Çok sayıda bağımsız değişken olduğunda, pratik olmaması gibi dezavantajı bulunmaktadır."
   ]
  },
  {
   "cell_type": "code",
   "execution_count": 1,
   "id": "c0e51755",
   "metadata": {},
   "outputs": [],
   "source": [
    "import pandas as pd\n",
    "\n",
    "df = pd.read_csv(\"dataset_hitters.csv\")\n",
    "df = df.dropna()\n",
    "dms = pd.get_dummies(df[['League', 'Division', 'NewLeague']])"
   ]
  },
  {
   "cell_type": "code",
   "execution_count": 2,
   "id": "4f499922",
   "metadata": {},
   "outputs": [],
   "source": [
    "y = df[\"Salary\"]\n",
    "X_ = df.drop(['Salary', 'League', 'Division', 'NewLeague'], axis=1).astype('float64')\n",
    "X = pd.concat([X_, dms[['League_N', 'Division_W', 'NewLeague_N']]], axis=1)\n",
    "\n",
    "from sklearn.model_selection import train_test_split\n",
    "X_train, X_test, y_train, y_test = train_test_split(X, y, \n",
    "                                                    test_size=0.25, \n",
    "                                                    random_state=42)"
   ]
  },
  {
   "cell_type": "code",
   "execution_count": 3,
   "id": "a11dae25",
   "metadata": {},
   "outputs": [],
   "source": [
    "from sklearn.neighbors import KNeighborsRegressor\n",
    "\n",
    "knn_model = KNeighborsRegressor().fit(X_train, y_train)"
   ]
  },
  {
   "cell_type": "code",
   "execution_count": 4,
   "id": "876c5b41",
   "metadata": {},
   "outputs": [],
   "source": [
    "y_pred = knn_model.predict(X_test)"
   ]
  },
  {
   "cell_type": "code",
   "execution_count": 5,
   "id": "03863be4",
   "metadata": {},
   "outputs": [
    {
     "data": {
      "text/plain": [
       "426.6570764525201"
      ]
     },
     "execution_count": 5,
     "metadata": {},
     "output_type": "execute_result"
    }
   ],
   "source": [
    "import numpy as np\n",
    "from sklearn.metrics import mean_squared_error\n",
    "\n",
    "np.sqrt(mean_squared_error(y_test, y_pred))"
   ]
  },
  {
   "cell_type": "code",
   "execution_count": 6,
   "id": "beb449a7",
   "metadata": {},
   "outputs": [
    {
     "name": "stdout",
     "output_type": "stream",
     "text": [
      "k = 1 için RMSE değeri:  0.0\n",
      "k = 2 için RMSE değeri:  179.52761335480352\n",
      "k = 3 için RMSE değeri:  205.20157172291863\n",
      "k = 4 için RMSE değeri:  220.5139794876305\n",
      "k = 5 için RMSE değeri:  239.6467132541376\n",
      "k = 6 için RMSE değeri:  243.5904190007242\n",
      "k = 7 için RMSE değeri:  258.1478781634636\n",
      "k = 8 için RMSE değeri:  266.05374203349805\n",
      "k = 9 için RMSE değeri:  269.73782093553376\n",
      "k = 10 için RMSE değeri:  271.2798300436963\n"
     ]
    }
   ],
   "source": [
    "RMSE = [] \n",
    "\n",
    "for k in range(10):\n",
    "    k = k+1\n",
    "    knn_model = KNeighborsRegressor(n_neighbors = k).fit(X_train, y_train)\n",
    "    y_pred = knn_model.predict(X_train) \n",
    "    rmse = np.sqrt(mean_squared_error(y_train,y_pred)) \n",
    "    RMSE.append(rmse) \n",
    "    print(\"k =\" , k , \"için RMSE değeri: \", rmse)"
   ]
  },
  {
   "cell_type": "code",
   "execution_count": 7,
   "id": "14432e42",
   "metadata": {},
   "outputs": [
    {
     "data": {
      "text/plain": [
       "GridSearchCV(cv=5, estimator=KNeighborsRegressor(),\n",
       "             param_grid={'n_neighbors': array([ 1,  2,  3,  4,  5,  6,  7,  8,  9, 10, 11, 12, 13, 14, 15, 16, 17,\n",
       "       18, 19, 20, 21, 22, 23, 24, 25, 26, 27, 28, 29])})"
      ]
     },
     "execution_count": 7,
     "metadata": {},
     "output_type": "execute_result"
    }
   ],
   "source": [
    "from sklearn.model_selection import GridSearchCV\n",
    "\n",
    "knn_params = {'n_neighbors': np.arange(1,30,1)}\n",
    "knn = KNeighborsRegressor()\n",
    "\n",
    "knn_cv_model = GridSearchCV(knn, knn_params, cv = 5)\n",
    "knn_cv_model.fit(X_train, y_train)"
   ]
  },
  {
   "cell_type": "code",
   "execution_count": 8,
   "id": "da06af73",
   "metadata": {},
   "outputs": [
    {
     "data": {
      "text/plain": [
       "7"
      ]
     },
     "execution_count": 8,
     "metadata": {},
     "output_type": "execute_result"
    }
   ],
   "source": [
    "knn_cv_model.best_params_[\"n_neighbors\"]"
   ]
  },
  {
   "cell_type": "code",
   "execution_count": 9,
   "id": "343aefaa",
   "metadata": {},
   "outputs": [
    {
     "name": "stdout",
     "output_type": "stream",
     "text": [
      "k = 1 için RMSE değeri:  0.0 RMSE_CV değeri:  312.57423176854286\n",
      "k = 2 için RMSE değeri:  179.52761335480352 RMSE_CV değeri:  300.85667977336925\n",
      "k = 3 için RMSE değeri:  205.20157172291863 RMSE_CV değeri:  285.33670183535077\n",
      "k = 4 için RMSE değeri:  220.5139794876305 RMSE_CV değeri:  291.0181553896766\n",
      "k = 5 için RMSE değeri:  239.6467132541376 RMSE_CV değeri:  288.419452065942\n",
      "k = 6 için RMSE değeri:  243.5904190007242 RMSE_CV değeri:  293.3963398729708\n",
      "k = 7 için RMSE değeri:  258.1478781634636 RMSE_CV değeri:  289.5230298284862\n",
      "k = 8 için RMSE değeri:  266.05374203349805 RMSE_CV değeri:  298.0004605806818\n",
      "k = 9 için RMSE değeri:  269.73782093553376 RMSE_CV değeri:  303.77187737702144\n",
      "k = 10 için RMSE değeri:  271.2798300436963 RMSE_CV değeri:  299.7278969468424\n"
     ]
    }
   ],
   "source": [
    "from sklearn.model_selection import cross_val_score\n",
    "\n",
    "RMSE = [] \n",
    "RMSE_CV = []\n",
    "for k in range(10):\n",
    "    k = k+1\n",
    "    knn_model = KNeighborsRegressor(n_neighbors = k).fit(X_train, y_train)\n",
    "    y_pred = knn_model.predict(X_train) \n",
    "    rmse = np.sqrt(mean_squared_error(y_train,y_pred)) \n",
    "    rmse_cv = np.sqrt(-1*cross_val_score(knn_model, X_train, y_train, cv=5, \n",
    "                                         scoring = \"neg_mean_squared_error\").mean())\n",
    "    RMSE.append(rmse) \n",
    "    RMSE_CV.append(rmse_cv)\n",
    "    print(\"k =\" , k , \"için RMSE değeri: \", rmse, \"RMSE_CV değeri: \", rmse_cv )\n"
   ]
  },
  {
   "cell_type": "code",
   "execution_count": 10,
   "id": "dd413ecd",
   "metadata": {},
   "outputs": [],
   "source": [
    "knn_tuned = KNeighborsRegressor(n_neighbors = knn_cv_model.best_params_[\"n_neighbors\"])"
   ]
  },
  {
   "cell_type": "code",
   "execution_count": 11,
   "id": "90adbb6a",
   "metadata": {},
   "outputs": [
    {
     "data": {
      "text/plain": [
       "KNeighborsRegressor(n_neighbors=7)"
      ]
     },
     "execution_count": 11,
     "metadata": {},
     "output_type": "execute_result"
    }
   ],
   "source": [
    "knn_tuned.fit(X_train, y_train)"
   ]
  },
  {
   "cell_type": "code",
   "execution_count": 12,
   "id": "cbe5b97b",
   "metadata": {},
   "outputs": [
    {
     "data": {
      "text/plain": [
       "414.9361222421057"
      ]
     },
     "execution_count": 12,
     "metadata": {},
     "output_type": "execute_result"
    }
   ],
   "source": [
    "np.sqrt(mean_squared_error(y_test, knn_tuned.predict(X_test)))"
   ]
  },
  {
   "cell_type": "markdown",
   "id": "0aaee91b",
   "metadata": {},
   "source": [
    "### LINEAR SUPPORT VECTOR REGRESSION (DOĞRUSAL DESTEK VEKTÖR REGRESYONU)"
   ]
  },
  {
   "cell_type": "code",
   "execution_count": 13,
   "id": "bd25ea4c",
   "metadata": {},
   "outputs": [],
   "source": [
    "import pandas as pd\n",
    "df = pd.read_csv(\"dataset_hitters.csv\")\n",
    "df = df.dropna()\n",
    "dms = pd.get_dummies(df[['League', 'Division', 'NewLeague']])\n",
    "\n",
    "y = df[\"Salary\"]\n",
    "X_ = df.drop(['Salary', 'League', 'Division', 'NewLeague'], axis=1).astype('float64')\n",
    "X = pd.concat([X_, dms[['League_N', 'Division_W', 'NewLeague_N']]], axis=1)"
   ]
  },
  {
   "cell_type": "code",
   "execution_count": 14,
   "id": "3bc7a58d",
   "metadata": {},
   "outputs": [],
   "source": [
    "from sklearn.model_selection import train_test_split\n",
    "\n",
    "X_train, X_test, y_train, y_test = train_test_split(X, y, \n",
    "                                                    test_size=0.25, \n",
    "                                                    random_state=42)"
   ]
  },
  {
   "cell_type": "code",
   "execution_count": 15,
   "id": "51a459fe",
   "metadata": {},
   "outputs": [],
   "source": [
    "X_train = pd.DataFrame(X_train[\"Hits\"])\n",
    "X_test = pd.DataFrame(X_test[\"Hits\"])"
   ]
  },
  {
   "cell_type": "code",
   "execution_count": 16,
   "id": "f7623f10",
   "metadata": {},
   "outputs": [],
   "source": [
    "from sklearn.svm import SVR\n",
    "\n",
    "svr_model = SVR(kernel = \"linear\").fit(X_train, y_train)"
   ]
  },
  {
   "cell_type": "code",
   "execution_count": 17,
   "id": "ba9e0839",
   "metadata": {},
   "outputs": [
    {
     "data": {
      "text/plain": [
       "[<matplotlib.lines.Line2D at 0x277b3eb29a0>]"
      ]
     },
     "execution_count": 17,
     "metadata": {},
     "output_type": "execute_result"
    },
    {
     "data": {
      "image/png": "[encoded data removed]",
      "text/plain": [
       "<Figure size 432x288 with 1 Axes>"
      ]
     },
     "metadata": {
      "needs_background": "light"
     },
     "output_type": "display_data"
    }
   ],
   "source": [
    "import matplotlib.pyplot as plt\n",
    "\n",
    "y_pred = svr_model.predict(X_train)\n",
    "\n",
    "plt.scatter(X_train, y_train)\n",
    "plt.plot(X_train,y_pred, color = \"r\")"
   ]
  },
  {
   "cell_type": "code",
   "execution_count": 18,
   "id": "119bf22c",
   "metadata": {},
   "outputs": [
    {
     "name": "stdout",
     "output_type": "stream",
     "text": [
      "y = -48.69756097561513 + 4.969512195122093 x\n"
     ]
    }
   ],
   "source": [
    "print (\"y = {0} + {1} x\".format(svr_model.intercept_[0], \n",
    "                                svr_model.coef_[0][0])) "
   ]
  },
  {
   "cell_type": "code",
   "execution_count": 19,
   "id": "bcc3b59c",
   "metadata": {},
   "outputs": [],
   "source": [
    "y_pred = svr_model.predict(X_test)"
   ]
  },
  {
   "cell_type": "code",
   "execution_count": 20,
   "id": "a7905cbb",
   "metadata": {},
   "outputs": [
    {
     "data": {
      "text/plain": [
       "459.0187960365147"
      ]
     },
     "execution_count": 20,
     "metadata": {},
     "output_type": "execute_result"
    }
   ],
   "source": [
    "import numpy as np\n",
    "from sklearn.metrics import mean_squared_error\n",
    "\n",
    "np.sqrt(mean_squared_error(y_test, y_pred))"
   ]
  },
  {
   "cell_type": "code",
   "execution_count": 21,
   "id": "46735e76",
   "metadata": {},
   "outputs": [],
   "source": [
    "from sklearn.model_selection import GridSearchCV\n",
    "\n",
    "svr_params = {\"C\": np.arange(0.1,2,0.1)}\n",
    "svr_cv_model = GridSearchCV(svr_model, svr_params, cv = 5).fit(X_train,y_train)"
   ]
  },
  {
   "cell_type": "code",
   "execution_count": 22,
   "id": "6ba65098",
   "metadata": {},
   "outputs": [],
   "source": [
    "svr_tuned = SVR(kernel = \"linear\", \n",
    "                C = pd.Series(svr_cv_model.best_params_)[0]).fit(X_train, y_train)\n"
   ]
  },
  {
   "cell_type": "code",
   "execution_count": 23,
   "id": "3e099caa",
   "metadata": {},
   "outputs": [],
   "source": [
    "y_pred = svr_tuned.predict(X_test)"
   ]
  },
  {
   "cell_type": "code",
   "execution_count": 24,
   "id": "f31777e3",
   "metadata": {},
   "outputs": [
    {
     "data": {
      "text/plain": [
       "458.1989667811154"
      ]
     },
     "execution_count": 24,
     "metadata": {},
     "output_type": "execute_result"
    }
   ],
   "source": [
    "np.sqrt(mean_squared_error(y_test, y_pred))"
   ]
  },
  {
   "cell_type": "markdown",
   "id": "4935b04f",
   "metadata": {},
   "source": [
    "### UNLINEAR SUPPORT VECTOR REGRESSION(DOĞRUSAL OLMAYAN DESTEK VEKTÖR REGRESYONU)"
   ]
  },
  {
   "cell_type": "code",
   "execution_count": 25,
   "id": "21fea8fb",
   "metadata": {},
   "outputs": [],
   "source": [
    "np.random.seed(3)\n",
    "\n",
    "x_sim = np.random.uniform(2, 10, 145)\n",
    "y_sim = np.sin(x_sim) + np.random.normal(0, 0.4, 145)\n",
    "\n",
    "x_outliers = np.arange(2.5, 5, 0.5)\n",
    "y_outliers = -5*np.ones(5)\n",
    "\n",
    "x_sim_idx = np.argsort(np.concatenate([x_sim, x_outliers]))\n",
    "x_sim = np.concatenate([x_sim, x_outliers])[x_sim_idx]\n",
    "y_sim = np.concatenate([y_sim, y_outliers])[x_sim_idx]"
   ]
  },
  {
   "cell_type": "code",
   "execution_count": 26,
   "id": "a99ed7ed",
   "metadata": {},
   "outputs": [],
   "source": [
    "from sklearn.linear_model import LinearRegression\n",
    "ols = LinearRegression()\n",
    "ols.fit(np.sin(x_sim[:, np.newaxis]), y_sim)\n",
    "ols_pred = ols.predict(np.sin(x_sim[:, np.newaxis]))\n",
    "\n",
    "from sklearn.svm import SVR\n",
    "eps = 0.1\n",
    "svr = SVR(kernel = 'rbf', epsilon = eps)\n",
    "svr.fit(x_sim[:, np.newaxis], y_sim)\n",
    "svr_pred = svr.predict(x_sim[:, np.newaxis])"
   ]
  },
  {
   "cell_type": "code",
   "execution_count": 27,
   "id": "f11f952b",
   "metadata": {},
   "outputs": [
    {
     "data": {
      "image/png": "[encoded data removed]",
      "text/plain": [
       "<Figure size 432x288 with 1 Axes>"
      ]
     },
     "metadata": {
      "needs_background": "light"
     },
     "output_type": "display_data"
    }
   ],
   "source": [
    "plt.scatter(x_sim, y_sim, alpha=0.5, s=26)\n",
    "plt_ols, = plt.plot(x_sim, ols_pred, 'g')\n",
    "plt_svr, = plt.plot(x_sim, svr_pred, color='r')\n",
    "plt.xlabel(\"Bağımsız Değişken\")\n",
    "plt.ylabel(\"Bağımlı Değişken\")\n",
    "plt.ylim(-5.2, 2.2)\n",
    "plt.legend([plt_ols, plt_svr], ['EKK', 'SVR'], loc = 4);"
   ]
  },
  {
   "cell_type": "code",
   "execution_count": 28,
   "id": "149cb2ab",
   "metadata": {},
   "outputs": [],
   "source": [
    "df = pd.read_csv(\"dataset_hitters.csv\")\n",
    "df = df.dropna()\n",
    "dms = pd.get_dummies(df[['League', 'Division', 'NewLeague']])\n",
    "y = df[\"Salary\"]\n",
    "X_ = df.drop(['Salary', 'League', 'Division', 'NewLeague'], axis=1).astype('float64')\n",
    "X = pd.concat([X_, dms[['League_N', 'Division_W', 'NewLeague_N']]], axis=1)\n"
   ]
  },
  {
   "cell_type": "code",
   "execution_count": 29,
   "id": "856e67dc",
   "metadata": {},
   "outputs": [],
   "source": [
    "from sklearn.model_selection import train_test_split\n",
    "X_train, X_test, y_train, y_test = train_test_split(X, y, \n",
    "                                                    test_size=0.25, \n",
    "                                                    random_state=42)"
   ]
  },
  {
   "cell_type": "code",
   "execution_count": 30,
   "id": "7e710c63",
   "metadata": {},
   "outputs": [],
   "source": [
    "svr_rbf = SVR(kernel = \"rbf\").fit(X_train, y_train)"
   ]
  },
  {
   "cell_type": "code",
   "execution_count": 31,
   "id": "969061b7",
   "metadata": {},
   "outputs": [],
   "source": [
    "y_pred = svr_rbf.predict(X_test)"
   ]
  },
  {
   "cell_type": "code",
   "execution_count": 32,
   "id": "7668585d",
   "metadata": {},
   "outputs": [
    {
     "data": {
      "text/plain": [
       "460.0032657244849"
      ]
     },
     "execution_count": 32,
     "metadata": {},
     "output_type": "execute_result"
    }
   ],
   "source": [
    "np.sqrt(mean_squared_error(y_test, y_pred))"
   ]
  },
  {
   "cell_type": "code",
   "execution_count": 33,
   "id": "0f34f2b8",
   "metadata": {},
   "outputs": [
    {
     "data": {
      "text/plain": [
       "GridSearchCV(cv=5, estimator=SVR(),\n",
       "             param_grid={'C': [0.01, 0.1, 0.4, 5, 10, 20, 30, 40, 50]})"
      ]
     },
     "execution_count": 33,
     "metadata": {},
     "output_type": "execute_result"
    }
   ],
   "source": [
    "svr_params = {\"C\": [0.01, 0.1,0.4,5,10,20,30,40,50]}\n",
    "svr_cv_model = GridSearchCV(svr_rbf,svr_params, cv = 5)\n",
    "svr_cv_model.fit(X_train, y_train)"
   ]
  },
  {
   "cell_type": "code",
   "execution_count": 34,
   "id": "0ed83693",
   "metadata": {},
   "outputs": [],
   "source": [
    "svr_tuned = SVR(kernel = \"rbf\", C = pd.Series(svr_cv_model.best_params_)[0]).fit(X_train, \n",
    "                                                                        y_train)\n"
   ]
  },
  {
   "cell_type": "code",
   "execution_count": 35,
   "id": "eaadef95",
   "metadata": {},
   "outputs": [
    {
     "data": {
      "text/plain": [
       "428.00406888095694"
      ]
     },
     "execution_count": 35,
     "metadata": {},
     "output_type": "execute_result"
    }
   ],
   "source": [
    "y_pred = svr_tuned.predict(X_test)\n",
    "\n",
    "np.sqrt(mean_squared_error(y_test, y_pred))"
   ]
  },
  {
   "cell_type": "markdown",
   "id": "49316c02",
   "metadata": {},
   "source": [
    "# CART (CLASSIFICATION AND REGRESSION TREES)"
   ]
  },
  {
   "cell_type": "raw",
   "id": "2c67d12c",
   "metadata": {},
   "source": [
    "Bağımsız değişkenlerin her biri kullanılarak hedef değişkene bir regresyon modeli uydurulur. Bundan sonra, veriler her bağımsız değişken için birkaç noktada bölünür.\n",
    "\n",
    "Bu tür her noktada, tahmin edilen değerler ile gerçek değerler arasındaki hatanın karesi alınır ve “A Toplam Kare Hataları” (SSE) elde edilir. SSE, değişkenler arasında karşılaştırılır ve en düşük SSE'ye sahip değişken veya nokta, bölünme noktası olarak seçilir. Bu süreç yinelemeli olarak devam ettirilir."
   ]
  },
  {
   "cell_type": "raw",
   "id": "ae997b9a",
   "metadata": {},
   "source": [
    "+ Feature Selection (özellik seçimi) analizin önemli bir parçasıdır. Karar ağaçlarını kullandığımızda, ağacın bölündüğü en üstteki birkaç düğüm küme içindeki en önemli değişkenlerdir. Sonuç olarak, özellik seçimi otomatik olarak yapılır ve tekrar yapmamıza gerek kalmaz.\n",
    "\n",
    "- Overfittinge sebep olabilir"
   ]
  },
  {
   "cell_type": "code",
   "execution_count": 36,
   "id": "10eab162",
   "metadata": {},
   "outputs": [],
   "source": [
    "df = pd.read_csv(\"dataset_hitters.csv\")\n",
    "df = df.dropna()\n",
    "dms = pd.get_dummies(df[['League', 'Division', 'NewLeague']])\n",
    "\n",
    "y = df[\"Salary\"]\n",
    "X_ = df.drop(['Salary', 'League', 'Division', 'NewLeague'], axis=1).astype('float64')\n",
    "X = pd.concat([X_, dms[['League_N', 'Division_W', 'NewLeague_N']]], axis=1)"
   ]
  },
  {
   "cell_type": "code",
   "execution_count": 37,
   "id": "5c6d9ca0",
   "metadata": {},
   "outputs": [],
   "source": [
    "from sklearn.model_selection import train_test_split\n",
    "X_train, X_test, y_train, y_test = train_test_split(X, y, \n",
    "                                                    test_size=0.25, \n",
    "                                                    random_state=42)"
   ]
  },
  {
   "cell_type": "code",
   "execution_count": 38,
   "id": "3fd4271b",
   "metadata": {},
   "outputs": [],
   "source": [
    "X_train = pd.DataFrame(X_train[\"Hits\"])\n",
    "X_test = pd.DataFrame(X_test[\"Hits\"])"
   ]
  },
  {
   "cell_type": "code",
   "execution_count": 39,
   "id": "9ab90af7",
   "metadata": {},
   "outputs": [],
   "source": [
    "from sklearn.tree import DecisionTreeRegressor\n",
    "\n",
    "cart_model = DecisionTreeRegressor(min_samples_split = 2)"
   ]
  },
  {
   "cell_type": "code",
   "execution_count": 40,
   "id": "60e0ca98",
   "metadata": {},
   "outputs": [
    {
     "data": {
      "text/plain": [
       "DecisionTreeRegressor()"
      ]
     },
     "execution_count": 40,
     "metadata": {},
     "output_type": "execute_result"
    }
   ],
   "source": [
    "cart_model.fit(X_train, y_train)"
   ]
  },
  {
   "cell_type": "code",
   "execution_count": 41,
   "id": "0ea52256",
   "metadata": {},
   "outputs": [
    {
     "name": "stderr",
     "output_type": "stream",
     "text": [
      "C:\\Anaconda\\lib\\site-packages\\sklearn\\base.py:450: UserWarning: X does not have valid feature names, but DecisionTreeRegressor was fitted with feature names\n",
      "  warnings.warn(\n"
     ]
    },
    {
     "data": {
      "image/png": "[encoded data removed]",
      "text/plain": [
       "<Figure size 432x288 with 1 Axes>"
      ]
     },
     "metadata": {
      "needs_background": "light"
     },
     "output_type": "display_data"
    }
   ],
   "source": [
    "X_grid = np.arange(min(np.array(X_train)),max(np.array(X_train)), 0.01) \n",
    "X_grid = X_grid.reshape((len(X_grid), 1))  \n",
    "plt.scatter(X_train, y_train, color = 'red') \n",
    "plt.plot(X_grid, cart_model.predict(X_grid), color = 'blue')  \n",
    "plt.title('CART REGRESON AĞACI')  \n",
    "plt.xlabel('Atış Sayısı(Hits)') \n",
    "plt.ylabel('Maaş (Salary)') ;"
   ]
  },
  {
   "cell_type": "code",
   "execution_count": 42,
   "id": "1b981a6f",
   "metadata": {
    "scrolled": true
   },
   "outputs": [
    {
     "name": "stderr",
     "output_type": "stream",
     "text": [
      "C:\\Anaconda\\lib\\site-packages\\sklearn\\utils\\deprecation.py:103: FutureWarning: The attribute `n_features_` is deprecated in 1.0 and will be removed in 1.2. Use `n_features_in_` instead.\n",
      "  warnings.warn(msg, category=FutureWarning)\n"
     ]
    },
    {
     "name": "stdout",
     "output_type": "stream",
     "text": [
      "((920.0 if x[0] <= 18.0 else ((500.0 if x[0] <= 34.5 else (70.0 if x[0] <= \n",
      "    38.0 else 175.0) if x[0] <= 39.5 else 90.0 if x[0] <= 40.5 else 67.5) if\n",
      "    x[0] <= 41.5 else 900.0 if x[0] <= 42.5 else (((((215.55566666666664 if\n",
      "    x[0] <= 44.5 else 180.0) if x[0] <= 46.5 else 347.5 if x[0] <= 48.0 else\n",
      "    337.5) if x[0] <= 50.0 else 70.0) if x[0] <= 51.5 else 507.5) if x[0] <=\n",
      "    52.5 else 150.0 if x[0] <= 53.5 else 146.83333333333334) if x[0] <= \n",
      "    54.5 else 1300.0 if x[0] <= 55.5 else (170.0 if x[0] <= 56.5 else \n",
      "    193.75) if x[0] <= 57.5 else ((((((340.0 if x[0] <= 59.0 else 418.5) if\n",
      "    x[0] <= 60.5 else 235.0 if x[0] <= 62.0 else 341.667) if x[0] <= 63.5 else\n",
      "    75.0) if x[0] <= 64.5 else 650.0) if x[0] <= 65.5 else 170.0 if x[0] <=\n",
      "    67.0 else 228.66666666666666) if x[0] <= 69.0 else 472.5) if x[0] <= \n",
      "    70.5 else (100.0 if x[0] <= 71.5 else 130.0) if x[0] <= 72.5 else \n",
      "    409.1665 if x[0] <= 74.5 else 215.0) if x[0] <= 76.5 else (((505.0 if x\n",
      "    [0] <= 77.5 else ((((328.88899999999995 if x[0] <= 79.0 else 700.0) if \n",
      "    x[0] <= 80.5 else 348.75 if x[0] <= 81.5 else 267.5) if x[0] <= 82.5 else\n",
      "    600.0 if x[0] <= 83.5 else 600.0) if x[0] <= 84.5 else (331.25 if x[0] <=\n",
      "    85.5 else (180.0 if x[0] <= 86.5 else 91.5) if x[0] <= 88.5 else 450.0 if\n",
      "    x[0] <= 90.5 else 125.0) if x[0] <= 91.5 else 411.25 if x[0] <= 92.5 else\n",
      "    250.0) if x[0] <= 93.5 else 670.0 if x[0] <= 94.5 else ((100.0 if x[0] <=\n",
      "    95.5 else 504.1665) if x[0] <= 96.5 else 210.0 if x[0] <= 98.0 else \n",
      "    87.5) if x[0] <= 100.0 else 466.0) if x[0] <= 101.5 else 247.5 if x[0] <=\n",
      "    102.5 else 257.3334) if x[0] <= 103.5 else (750.0 if x[0] <= 105.0 else\n",
      "    850.0) if x[0] <= 107.0 else 162.5 if x[0] <= 109.0 else (560.0 if x[0] <=\n",
      "    111.0 else 442.5 if x[0] <= 112.5 else 487.5) if x[0] <= 114.0 else \n",
      "    300.0) if x[0] <= 116.0 else 110.0) if x[0] <= 117.5 else ((((1300.0 if\n",
      "    x[0] <= 118.5 else 773.3333333333334 if x[0] <= 120.5 else 442.5) if x[\n",
      "    0] <= 122.5 else 1240.0 if x[0] <= 124.0 else 1925.571) if x[0] <= \n",
      "    125.5 else (561.25 if x[0] <= 126.5 else (695.2776666666667 if x[0] <= \n",
      "    127.5 else 1043.75) if x[0] <= 128.5 else (750.0 if x[0] <= 129.5 else \n",
      "    480.0) if x[0] <= 130.5 else 726.6666666666666) if x[0] <= 131.5 else (\n",
      "    ((611.6665 if x[0] <= 133.5 else 461.0) if x[0] <= 135.5 else 725.0) if\n",
      "    x[0] <= 137.0 else 152.5 if x[0] <= 138.5 else 555.0 if x[0] <= 139.5 else\n",
      "    200.0) if x[0] <= 140.5 else 712.5 if x[0] <= 141.5 else 777.5) if x[0] <=\n",
      "    143.0 else (((1021.6666666666666 if x[0] <= 144.5 else 500.0 if x[0] <=\n",
      "    145.5 else 815.0) if x[0] <= 146.5 else 1230.0 if x[0] <= 148.0 else \n",
      "    787.5 if x[0] <= 149.5 else 1000.0) if x[0] <= 150.5 else 2460.0) if x[\n",
      "    0] <= 151.5 else (451.6666666666667 if x[0] <= 153.0 else 580.0 if x[0] <=\n",
      "    155.5 else 530.0) if x[0] <= 157.5 else (((((775.0 if x[0] <= 158.5 else\n",
      "    759.1665) if x[0] <= 159.5 else 1670.0 if x[0] <= 161.5 else 923.0 if x\n",
      "    [0] <= 165.5 else 863.0556666666666) if x[0] <= 168.5 else \n",
      "    743.3333333333334) if x[0] <= 169.5 else 1118.75 if x[0] <= 170.5 else \n",
      "    1350.0) if x[0] <= 171.5 else 165.0 if x[0] <= 173.0 else (849.3335 if \n",
      "    x[0] <= 175.5 else 1350.0) if x[0] <= 177.5 else (740.0 if x[0] <= \n",
      "    178.5 else 575.0 if x[0] <= 181.5 else 630.0) if x[0] <= 185.0 else \n",
      "    1300.0 if x[0] <= 198.5 else 740.0) if x[0] <= 212.0 else 350.0) if x[0\n",
      "    ] <= 225.5 else 1975.0)\n",
      "\n"
     ]
    }
   ],
   "source": [
    "from skompiler import skompile\n",
    "\n",
    "print(skompile(cart_model.predict).to('python/code'))"
   ]
  },
  {
   "cell_type": "code",
   "execution_count": 43,
   "id": "cbe86497",
   "metadata": {},
   "outputs": [
    {
     "data": {
      "text/plain": [
       "468.49579052913884"
      ]
     },
     "execution_count": 43,
     "metadata": {},
     "output_type": "execute_result"
    }
   ],
   "source": [
    "y_pred =cart_model.predict(X_test)\n",
    "\n",
    "np.sqrt(mean_squared_error(y_test, y_pred))"
   ]
  },
  {
   "cell_type": "code",
   "execution_count": 44,
   "id": "0e7c034a",
   "metadata": {},
   "outputs": [],
   "source": [
    "cart_params = {\"min_samples_split\": range(2,100),\n",
    "               \"max_leaf_nodes\": range(2,10)}"
   ]
  },
  {
   "cell_type": "code",
   "execution_count": 45,
   "id": "f0cd1cfa",
   "metadata": {},
   "outputs": [],
   "source": [
    "cart_cv_model = GridSearchCV(cart_model, cart_params, cv = 5)"
   ]
  },
  {
   "cell_type": "code",
   "execution_count": 46,
   "id": "6e6fe6d5",
   "metadata": {},
   "outputs": [
    {
     "data": {
      "text/plain": [
       "GridSearchCV(cv=5, estimator=DecisionTreeRegressor(),\n",
       "             param_grid={'max_leaf_nodes': range(2, 10),\n",
       "                         'min_samples_split': range(2, 100)})"
      ]
     },
     "execution_count": 46,
     "metadata": {},
     "output_type": "execute_result"
    }
   ],
   "source": [
    "cart_cv_model.fit(X_train, y_train)"
   ]
  },
  {
   "cell_type": "code",
   "execution_count": 47,
   "id": "dd29b274",
   "metadata": {},
   "outputs": [
    {
     "data": {
      "text/plain": [
       "{'max_leaf_nodes': 3, 'min_samples_split': 64}"
      ]
     },
     "execution_count": 47,
     "metadata": {},
     "output_type": "execute_result"
    }
   ],
   "source": [
    "cart_cv_model.best_params_"
   ]
  },
  {
   "cell_type": "code",
   "execution_count": 48,
   "id": "4b20e5dd",
   "metadata": {},
   "outputs": [],
   "source": [
    "cart_tuned = DecisionTreeRegressor(max_leaf_nodes = 9, min_samples_split = 76)"
   ]
  },
  {
   "cell_type": "code",
   "execution_count": 49,
   "id": "16dd1db2",
   "metadata": {},
   "outputs": [
    {
     "data": {
      "text/plain": [
       "DecisionTreeRegressor(max_leaf_nodes=9, min_samples_split=76)"
      ]
     },
     "execution_count": 49,
     "metadata": {},
     "output_type": "execute_result"
    }
   ],
   "source": [
    "cart_tuned.fit(X_train, y_train)"
   ]
  },
  {
   "cell_type": "code",
   "execution_count": 50,
   "id": "cf46d588",
   "metadata": {},
   "outputs": [
    {
     "data": {
      "text/plain": [
       "423.406689243066"
      ]
     },
     "execution_count": 50,
     "metadata": {},
     "output_type": "execute_result"
    }
   ],
   "source": [
    "y_pred = cart_tuned.predict(X_test)\n",
    "\n",
    "np.sqrt(mean_squared_error(y_test, y_pred))"
   ]
  },
  {
   "cell_type": "markdown",
   "id": "14881618",
   "metadata": {},
   "source": [
    "#### Değişkenlerin önem düzeylerini görselleştirmek için"
   ]
  },
  {
   "cell_type": "code",
   "execution_count": 51,
   "id": "0befa30e",
   "metadata": {},
   "outputs": [
    {
     "data": {
      "image/png": "[encoded data removed]",
      "text/plain": [
       "<Figure size 720x720 with 1 Axes>"
      ]
     },
     "metadata": {
      "needs_background": "light"
     },
     "output_type": "display_data"
    }
   ],
   "source": [
    "import seaborn as sns\n",
    "\n",
    "def plot_importance(model, features, num=len(X_train), save=False):\n",
    "    feature_imp = pd.DataFrame({'Value': model.feature_importances_, 'Feature': features.columns})\n",
    "    plt.figure(figsize=(10, 10))\n",
    "    sns.set(font_scale=1)\n",
    "    sns.barplot(x=\"Value\", y=\"Feature\", data=feature_imp.sort_values(by=\"Value\",\n",
    "                                                                     ascending=False)[0:num])\n",
    "    plt.title('Features')\n",
    "    plt.tight_layout()\n",
    "    plt.show()\n",
    "    if save:\n",
    "        plt.savefig('importances.png')\n",
    "\n",
    "\n",
    "plot_importance(cart_tuned, X_train)\n"
   ]
  },
  {
   "cell_type": "raw",
   "id": "8c8c28af",
   "metadata": {},
   "source": [
    "from sklearn.model_selection import validation_curve\n",
    "\n",
    "train_score, test_score = validation_curve(cart_tuned, X, y,\n",
    "                                           param_name=\"max_depth\",\n",
    "                                           param_range=range(1, 11),\n",
    "                                           scoring=\"roc_auc\",\n",
    "                                           cv=10)\n",
    "\n",
    "mean_train_score = np.mean(train_score, axis=1)\n",
    "mean_test_score = np.mean(test_score, axis=1)\n",
    "\n",
    "\n",
    "plt.plot(range(1, 11), mean_train_score,\n",
    "         label=\"Training Score\", color='b')\n",
    "\n",
    "plt.plot(range(1, 11), mean_test_score,\n",
    "         label=\"Validation Score\", color='g')\n",
    "\n",
    "plt.title(\"Validation Curve for CART\")\n",
    "plt.xlabel(\"Number of max_depth\")\n",
    "plt.ylabel(\"AUC\")\n",
    "plt.tight_layout()\n",
    "plt.legend(loc='best')\n",
    "plt.show()\n"
   ]
  },
  {
   "cell_type": "raw",
   "id": "75aa22c5",
   "metadata": {},
   "source": [
    "def val_curve_params(model, X, y, param_name, param_range, scoring=\"roc_auc\", cv=10):\n",
    "    train_score, test_score = validation_curve(\n",
    "        model, X=X, y=y, param_name=param_name, param_range=param_range, scoring=scoring, cv=cv)\n",
    "\n",
    "    mean_train_score = np.mean(train_score, axis=1)\n",
    "    mean_test_score = np.mean(test_score, axis=1)\n",
    "\n",
    "    plt.plot(param_range, mean_train_score,\n",
    "             label=\"Training Score\", color='b')\n",
    "\n",
    "    plt.plot(param_range, mean_test_score,\n",
    "             label=\"Validation Score\", color='g')\n",
    "\n",
    "    plt.title(f\"Validation Curve for {type(model).__name__}\")\n",
    "    plt.xlabel(f\"Number of {param_name}\")\n",
    "    plt.ylabel(f\"{scoring}\")\n",
    "    plt.tight_layout()\n",
    "    plt.legend(loc='best')\n",
    "    plt.show(block=True)\n",
    "\n",
    "\n",
    "val_curve_params(cart_tuned, X, y, \"max_depth\", range(1, 11), scoring=\"f1\")\n",
    "\n",
    "cart_val_params = [[\"max_depth\", range(1, 11)], [\"min_samples_split\", range(2, 20)]]\n",
    "\n",
    "for i in range(len(cart_val_params)):\n",
    "    val_curve_params(cart_model, X, y, cart_val_params[i][0], cart_val_params[i][1])\n",
    "\n"
   ]
  },
  {
   "cell_type": "raw",
   "id": "8ada58cf",
   "metadata": {},
   "source": [
    "import graphviz\n",
    "\n",
    "def tree_graph(model, col_names, file_name):\n",
    "    tree_str = export_graphviz(model, feature_names=col_names, filled=True, out_file=None)\n",
    "    graph = pydotplus.graph_from_dot_data(tree_str)\n",
    "    graph.write_png(file_name)\n",
    "\n",
    "\n",
    "tree_graph(model=cart_final, col_names=X.columns, file_name=\"cart_final.png\")\n",
    "\n",
    "cart_final.get_params()"
   ]
  },
  {
   "cell_type": "raw",
   "id": "e904c465",
   "metadata": {},
   "source": [
    "tree_rules = export_text(cart_final, feature_names=list(X.columns))\n",
    "print(tree_rules)"
   ]
  },
  {
   "cell_type": "raw",
   "id": "71a0f419",
   "metadata": {},
   "source": [
    "print(skompile(cart_tuned.predict).to('python/code'))\n",
    "\n",
    "print(skompile(cart_tuned.predict).to('sqlalchemy/sqlite'))\n",
    "\n",
    "print(skompile(cart_tuned.predict).to('excel'))"
   ]
  },
  {
   "cell_type": "raw",
   "id": "27d05362",
   "metadata": {},
   "source": [
    "def predict_with_rules(x):\n",
    "    return ((((((0 if x[6] <= 0.671999990940094 else 1 if x[6] <= 0.6864999830722809 else\n",
    "        0) if x[0] <= 7.5 else 1) if x[5] <= 30.949999809265137 else ((1 if x[5\n",
    "        ] <= 32.45000076293945 else 1 if x[3] <= 10.5 else 0) if x[2] <= 53.0 else\n",
    "        ((0 if x[1] <= 111.5 else 0 if x[2] <= 72.0 else 1 if x[3] <= 31.0 else\n",
    "        0) if x[2] <= 82.5 else 1) if x[4] <= 36.5 else 0) if x[6] <=\n",
    "        0.5005000084638596 else (0 if x[1] <= 88.5 else (((0 if x[0] <= 1.0 else\n",
    "        1) if x[1] <= 98.5 else 1) if x[6] <= 0.9269999861717224 else 0) if x[1\n",
    "        ] <= 116.0 else 0 if x[4] <= 166.0 else 1) if x[2] <= 69.0 else ((0 if\n",
    "        x[2] <= 79.0 else 0 if x[1] <= 104.5 else 1) if x[3] <= 5.5 else 0) if\n",
    "        x[6] <= 1.098000019788742 else 1) if x[5] <= 45.39999961853027 else 0 if\n",
    "        x[7] <= 22.5 else 1) if x[7] <= 28.5 else (1 if x[5] <=\n",
    "        9.649999618530273 else 0) if x[5] <= 26.350000381469727 else (1 if x[1] <=\n",
    "        28.5 else ((0 if x[0] <= 11.5 else 1 if x[5] <= 31.25 else 0) if x[1] <=\n",
    "        94.5 else (1 if x[5] <= 36.19999885559082 else 0) if x[1] <= 97.5 else\n",
    "        0) if x[6] <= 0.7960000038146973 else 0 if x[0] <= 3.0 else (1 if x[6] <=\n",
    "        0.9614999890327454 else 0) if x[3] <= 20.0 else 1) if x[1] <= 99.5 else\n",
    "        ((1 if x[5] <= 27.649999618530273 else 0 if x[0] <= 5.5 else (((1 if x[\n",
    "        0] <= 7.0 else 0) if x[1] <= 103.5 else 0) if x[1] <= 118.5 else 1) if\n",
    "        x[0] <= 9.0 else 0) if x[6] <= 0.19999999552965164 else ((0 if x[5] <=\n",
    "        36.14999961853027 else 1) if x[1] <= 113.0 else 1) if x[0] <= 1.5 else\n",
    "        (1 if x[6] <= 0.3620000034570694 else 1 if x[5] <= 30.050000190734863 else\n",
    "        0) if x[2] <= 67.0 else (((0 if x[6] <= 0.2524999976158142 else 1) if x\n",
    "        [1] <= 120.0 else 1 if x[6] <= 0.23899999260902405 else 1 if x[7] <=\n",
    "        30.5 else 0) if x[2] <= 83.0 else 0) if x[5] <= 34.45000076293945 else\n",
    "        1 if x[1] <= 101.0 else 0 if x[5] <= 43.10000038146973 else 1) if x[6] <=\n",
    "        0.5609999895095825 else ((0 if x[7] <= 34.5 else 1 if x[5] <=\n",
    "        33.14999961853027 else 0) if x[4] <= 120.5 else (1 if x[3] <= 47.5 else\n",
    "        0) if x[4] <= 225.0 else 0) if x[0] <= 6.5 else 1) if x[1] <= 127.5 else\n",
    "        (((((1 if x[1] <= 129.5 else ((1 if x[6] <= 0.5444999933242798 else 0) if\n",
    "        x[2] <= 56.0 else 0) if x[2] <= 71.0 else 1) if x[2] <= 73.0 else 0) if\n",
    "        x[5] <= 28.149999618530273 else (1 if x[1] <= 135.0 else 0) if x[3] <=\n",
    "        21.0 else 1) if x[4] <= 132.5 else 0) if x[1] <= 145.5 else 0 if x[7] <=\n",
    "        25.5 else ((0 if x[1] <= 151.0 else 1) if x[5] <= 27.09999942779541 else\n",
    "        ((1 if x[0] <= 6.5 else 0) if x[6] <= 0.3974999934434891 else 0) if x[2\n",
    "        ] <= 82.0 else 0) if x[7] <= 61.0 else 0) if x[5] <= 29.949999809265137\n",
    "         else ((1 if x[2] <= 61.0 else (((((0 if x[6] <= 0.18299999833106995 else\n",
    "        1) if x[0] <= 0.5 else 1 if x[5] <= 32.45000076293945 else 0) if x[2] <=\n",
    "        73.0 else 0) if x[0] <= 4.5 else 1 if x[6] <= 0.6169999837875366 else 0\n",
    "        ) if x[6] <= 1.1414999961853027 else 1) if x[5] <= 41.79999923706055 else\n",
    "        1 if x[6] <= 0.37299999594688416 else 1 if x[1] <= 142.5 else 0) if x[7\n",
    "        ] <= 30.5 else (((1 if x[6] <= 0.13649999350309372 else 0 if x[5] <=\n",
    "        32.45000076293945 else 1 if x[5] <= 33.05000114440918 else (0 if x[6] <=\n",
    "        0.25599999725818634 else (0 if x[1] <= 130.5 else 1) if x[0] <= 8.5 else\n",
    "        0) if x[0] <= 13.5 else 1) if x[2] <= 92.0 else 1) if x[5] <=\n",
    "        45.54999923706055 else 1) if x[6] <= 0.4294999986886978 else (1 if x[5] <=\n",
    "        40.05000114440918 else 0 if x[5] <= 40.89999961853027 else 1) if x[4] <=\n",
    "        333.5 else 1 if x[2] <= 64.0 else 0) if x[1] <= 157.5 else ((((1 if x[7\n",
    "        ] <= 25.5 else 0 if x[4] <= 87.5 else 1 if x[5] <= 45.60000038146973 else\n",
    "        0) if x[7] <= 37.5 else 1 if x[7] <= 56.5 else 0 if x[6] <=\n",
    "        0.22100000083446503 else 1) if x[6] <= 0.28849999606609344 else 0) if x\n",
    "        [6] <= 0.3004999905824661 else 1 if x[7] <= 44.0 else (0 if x[7] <=\n",
    "        51.0 else 1 if x[6] <= 1.1565000414848328 else 0) if x[0] <= 6.5 else 1\n",
    "        ) if x[4] <= 629.5 else 1 if x[6] <= 0.4124999940395355 else 0)\n",
    "\n",
    "X.columns\n",
    "\n",
    "x = [12, 13, 20, 23, 4, 55, 12, 7]\n",
    "\n",
    "predict_with_rules(x)\n",
    "\n",
    "x = [6, 148, 70, 35, 0, 30, 0.62, 50]\n",
    "\n",
    "predict_with_rules(x)\n",
    "\n"
   ]
  },
  {
   "cell_type": "raw",
   "id": "350fb538",
   "metadata": {},
   "source": [
    "joblib.dump(cart_final, \"cart_final.pkl\")\n",
    "\n",
    "cart_model_from_disc = joblib.load(\"cart_final.pkl\")\n",
    "\n",
    "x = [12, 13, 20, 23, 4, 55, 12, 7]\n",
    "\n",
    "cart_model_from_disc.predict(pd.DataFrame(x).T)"
   ]
  },
  {
   "cell_type": "markdown",
   "id": "0a98b8c1",
   "metadata": {},
   "source": [
    "# Bagged Trees Regresyon"
   ]
  },
  {
   "cell_type": "raw",
   "id": "74df1cae",
   "metadata": {},
   "source": [
    "https://towardsdatascience.com/bagged-trees-a-machine-learning-algorithm-every-data-scientist-needs-d8417ec2e0d9"
   ]
  },
  {
   "cell_type": "code",
   "execution_count": 52,
   "id": "4c33aa31",
   "metadata": {},
   "outputs": [],
   "source": [
    "import pandas as pd\n",
    "\n",
    "df = pd.read_csv(\"dataset_hitters.csv\")\n",
    "df = df.dropna()\n",
    "dms = pd.get_dummies(df[['League', 'Division', 'NewLeague']])\n",
    "\n",
    "y = df[\"Salary\"]\n",
    "X_ = df.drop(['Salary', 'League', 'Division', 'NewLeague'], axis=1).astype('float64')\n",
    "X = pd.concat([X_, dms[['League_N', 'Division_W', 'NewLeague_N']]], axis=1)"
   ]
  },
  {
   "cell_type": "code",
   "execution_count": 53,
   "id": "0379ddd2",
   "metadata": {},
   "outputs": [],
   "source": [
    "from sklearn.model_selection import train_test_split\n",
    "X_train, X_test, y_train, y_test = train_test_split(X, y, \n",
    "                                                    test_size=0.25, \n",
    "                                                    random_state=42)"
   ]
  },
  {
   "cell_type": "code",
   "execution_count": 54,
   "id": "44fe4aa7",
   "metadata": {},
   "outputs": [
    {
     "data": {
      "text/plain": [
       "BaggingRegressor(bootstrap_features=True)"
      ]
     },
     "execution_count": 54,
     "metadata": {},
     "output_type": "execute_result"
    }
   ],
   "source": [
    "from sklearn.ensemble import BaggingRegressor\n",
    "\n",
    "bag_model = BaggingRegressor(bootstrap_features = True)\n",
    "bag_model.fit(X_train, y_train)"
   ]
  },
  {
   "cell_type": "code",
   "execution_count": 55,
   "id": "72cbc2cd",
   "metadata": {},
   "outputs": [],
   "source": [
    "y_pred = bag_model.predict(X_test)"
   ]
  },
  {
   "cell_type": "code",
   "execution_count": 56,
   "id": "99294a05",
   "metadata": {},
   "outputs": [
    {
     "data": {
      "text/plain": [
       "323.6941383055772"
      ]
     },
     "execution_count": 56,
     "metadata": {},
     "output_type": "execute_result"
    }
   ],
   "source": [
    "import numpy as np\n",
    "from sklearn.metrics import mean_squared_error\n",
    "\n",
    "np.sqrt(mean_squared_error(y_test, y_pred))"
   ]
  },
  {
   "cell_type": "code",
   "execution_count": 57,
   "id": "f43c725f",
   "metadata": {},
   "outputs": [
    {
     "data": {
      "text/plain": [
       "DecisionTreeRegressor(random_state=1734371943)"
      ]
     },
     "execution_count": 57,
     "metadata": {},
     "output_type": "execute_result"
    }
   ],
   "source": [
    "bag_model.estimators_[1]"
   ]
  },
  {
   "cell_type": "code",
   "execution_count": 58,
   "id": "3b58983d",
   "metadata": {},
   "outputs": [
    {
     "data": {
      "text/plain": [
       "DecisionTreeRegressor(random_state=1369728180)"
      ]
     },
     "execution_count": 58,
     "metadata": {},
     "output_type": "execute_result"
    }
   ],
   "source": [
    "bag_model.estimators_[4]"
   ]
  },
  {
   "cell_type": "code",
   "execution_count": 59,
   "id": "e20de843",
   "metadata": {},
   "outputs": [
    {
     "data": {
      "text/plain": [
       "508.4617817718814"
      ]
     },
     "execution_count": 59,
     "metadata": {},
     "output_type": "execute_result"
    }
   ],
   "source": [
    "iki_y_pred = bag_model.estimators_[1].fit(X_train, y_train).predict(X_test)\n",
    "\n",
    "np.sqrt(mean_squared_error(y_test, iki_y_pred))"
   ]
  },
  {
   "cell_type": "code",
   "execution_count": 60,
   "id": "367ac2a7",
   "metadata": {},
   "outputs": [
    {
     "data": {
      "text/plain": [
       "520.1549516426171"
      ]
     },
     "execution_count": 60,
     "metadata": {},
     "output_type": "execute_result"
    }
   ],
   "source": [
    "yedi_y_pred = bag_model.estimators_[4].fit(X_train, y_train).predict(X_test)\n",
    "\n",
    "np.sqrt(mean_squared_error(y_test, yedi_y_pred))"
   ]
  },
  {
   "cell_type": "code",
   "execution_count": 61,
   "id": "dcdb32d3",
   "metadata": {},
   "outputs": [],
   "source": [
    "bag_params = {\"n_estimators\": range(2,20)}"
   ]
  },
  {
   "cell_type": "code",
   "execution_count": 62,
   "id": "2e72ae57",
   "metadata": {},
   "outputs": [],
   "source": [
    "from sklearn.model_selection import GridSearchCV\n",
    "\n",
    "bag_cv_model = GridSearchCV(bag_model, bag_params, cv = 5)"
   ]
  },
  {
   "cell_type": "code",
   "execution_count": 63,
   "id": "da69ccc2",
   "metadata": {},
   "outputs": [
    {
     "data": {
      "text/plain": [
       "GridSearchCV(cv=5, estimator=BaggingRegressor(bootstrap_features=True),\n",
       "             param_grid={'n_estimators': range(2, 20)})"
      ]
     },
     "execution_count": 63,
     "metadata": {},
     "output_type": "execute_result"
    }
   ],
   "source": [
    "bag_cv_model.fit(X_train, y_train)"
   ]
  },
  {
   "cell_type": "code",
   "execution_count": 64,
   "id": "842f5a69",
   "metadata": {},
   "outputs": [
    {
     "data": {
      "text/plain": [
       "{'n_estimators': 19}"
      ]
     },
     "execution_count": 64,
     "metadata": {},
     "output_type": "execute_result"
    }
   ],
   "source": [
    "bag_cv_model.best_params_"
   ]
  },
  {
   "cell_type": "code",
   "execution_count": 65,
   "id": "77058a0c",
   "metadata": {},
   "outputs": [],
   "source": [
    "bag_tuned = BaggingRegressor(n_estimators = 14)"
   ]
  },
  {
   "cell_type": "code",
   "execution_count": 66,
   "id": "d472b51f",
   "metadata": {},
   "outputs": [
    {
     "data": {
      "text/plain": [
       "BaggingRegressor(n_estimators=14)"
      ]
     },
     "execution_count": 66,
     "metadata": {},
     "output_type": "execute_result"
    }
   ],
   "source": [
    "bag_tuned.fit(X_train, y_train)"
   ]
  },
  {
   "cell_type": "code",
   "execution_count": 67,
   "id": "002da10b",
   "metadata": {},
   "outputs": [
    {
     "data": {
      "text/plain": [
       "349.18806285215203"
      ]
     },
     "execution_count": 67,
     "metadata": {},
     "output_type": "execute_result"
    }
   ],
   "source": [
    "y_pred = bag_tuned.predict(X_test)\n",
    "\n",
    "np.sqrt(mean_squared_error(y_test, y_pred))"
   ]
  },
  {
   "cell_type": "markdown",
   "id": "009e6b70",
   "metadata": {},
   "source": [
    "# RANDOM FOREST"
   ]
  },
  {
   "cell_type": "code",
   "execution_count": 68,
   "id": "4b789362",
   "metadata": {},
   "outputs": [],
   "source": [
    "import pandas as pd\n",
    "\n",
    "df = pd.read_csv(\"dataset_hitters.csv\")\n",
    "df = df.dropna()\n",
    "dms = pd.get_dummies(df[['League', 'Division', 'NewLeague']])\n",
    "\n",
    "\n",
    "y = df[\"Salary\"]\n",
    "X_ = df.drop(['Salary', 'League', 'Division', 'NewLeague'], axis=1).astype('float64')\n",
    "X = pd.concat([X_, dms[['League_N', 'Division_W', 'NewLeague_N']]], axis=1)"
   ]
  },
  {
   "cell_type": "code",
   "execution_count": 69,
   "id": "e7429159",
   "metadata": {},
   "outputs": [],
   "source": [
    "from sklearn.model_selection import train_test_split\n",
    "\n",
    "X_train, X_test, y_train, y_test = train_test_split(X, y, \n",
    "                                                    test_size=0.25, \n",
    "                                                    random_state=42)"
   ]
  },
  {
   "cell_type": "code",
   "execution_count": 70,
   "id": "7f0526de",
   "metadata": {},
   "outputs": [],
   "source": [
    "from sklearn.ensemble import RandomForestRegressor\n",
    "\n",
    "rf_model = RandomForestRegressor(random_state = 42)"
   ]
  },
  {
   "cell_type": "code",
   "execution_count": 71,
   "id": "775f7420",
   "metadata": {},
   "outputs": [
    {
     "data": {
      "text/plain": [
       "RandomForestRegressor(random_state=42)"
      ]
     },
     "execution_count": 71,
     "metadata": {},
     "output_type": "execute_result"
    }
   ],
   "source": [
    "rf_model.fit(X_train, y_train)"
   ]
  },
  {
   "cell_type": "code",
   "execution_count": 72,
   "id": "0c378f2b",
   "metadata": {},
   "outputs": [
    {
     "data": {
      "text/plain": [
       "344.8191624908484"
      ]
     },
     "execution_count": 72,
     "metadata": {},
     "output_type": "execute_result"
    }
   ],
   "source": [
    "import numpy as np\n",
    "from sklearn.metrics import mean_squared_error\n",
    "\n",
    "y_pred = rf_model.predict(X_test)\n",
    "np.sqrt(mean_squared_error(y_test, y_pred))"
   ]
  },
  {
   "cell_type": "code",
   "execution_count": 73,
   "id": "b5e6c9c5",
   "metadata": {},
   "outputs": [],
   "source": [
    "from sklearn.model_selection import GridSearchCV\n",
    "\n",
    "rf_params = {'max_depth': list(range(1,10)),\n",
    "            'max_features': [3,5,10],\n",
    "            'n_estimators' : [100, 200, 500]}\n",
    "\n",
    "rf_cv_model = GridSearchCV(rf_model, \n",
    "                           rf_params, \n",
    "                           cv = 5).fit(X_train, y_train)"
   ]
  },
  {
   "cell_type": "code",
   "execution_count": 74,
   "id": "a4cedc23",
   "metadata": {},
   "outputs": [
    {
     "data": {
      "text/plain": [
       "{'max_depth': 9, 'max_features': 3, 'n_estimators': 500}"
      ]
     },
     "execution_count": 74,
     "metadata": {},
     "output_type": "execute_result"
    }
   ],
   "source": [
    "rf_cv_model.best_params_"
   ]
  },
  {
   "cell_type": "code",
   "execution_count": 75,
   "id": "9aba11b9",
   "metadata": {},
   "outputs": [],
   "source": [
    "rf_final = rf_model.set_params(**rf_cv_model.best_params_,\n",
    "                               random_state=42).fit(X, y)"
   ]
  },
  {
   "cell_type": "code",
   "execution_count": 76,
   "id": "e9929823",
   "metadata": {},
   "outputs": [],
   "source": [
    "from sklearn.model_selection import cross_validate\n",
    "\n",
    "cv_results = cross_validate(rf_final, X, y, cv=5)"
   ]
  },
  {
   "cell_type": "code",
   "execution_count": 77,
   "id": "4dc201a6",
   "metadata": {},
   "outputs": [
    {
     "data": {
      "text/plain": [
       "0.5987406747327657"
      ]
     },
     "execution_count": 77,
     "metadata": {},
     "output_type": "execute_result"
    }
   ],
   "source": [
    "cv_results['test_score'].mean()"
   ]
  },
  {
   "cell_type": "code",
   "execution_count": 78,
   "id": "0b7b8342",
   "metadata": {},
   "outputs": [
    {
     "data": {
      "image/png": "[encoded data removed]",
      "text/plain": [
       "<Figure size 720x720 with 1 Axes>"
      ]
     },
     "metadata": {},
     "output_type": "display_data"
    }
   ],
   "source": [
    "from matplotlib import pyplot as plt\n",
    "import seaborn as sns\n",
    "\n",
    "def plot_importance(model, features, num=len(X), save=False):\n",
    "    df_feature_importance = pd.DataFrame({'Feature İmportance Percentage': model.feature_importances_}, index = features.columns)\n",
    "    plt.figure(figsize=(10, 10))\n",
    "    sns.set(font_scale=1)\n",
    "    sns.barplot(x = \"Feature İmportance Percentage\", y = features.columns, \n",
    "                data=df_feature_importance.sort_values(by= \"Feature İmportance Percentage\",ascending=False)[0:num])\n",
    "    \n",
    "\n",
    "    plt.xlabel(xlabel=\"Feature İmportance Percentage\", fontsize= 20)\n",
    "    plt.tight_layout()\n",
    "    plt.show()\n",
    "    if save:\n",
    "        plt.savefig('feature_importance.png')\n",
    "\n",
    "plot_importance(rf_final, X)"
   ]
  },
  {
   "cell_type": "raw",
   "id": "3d589cd0",
   "metadata": {},
   "source": [
    "from sklearn.model_selection import validation_curve\n",
    "\n",
    "def val_curve_params(model, X, y, param_name, param_range, scoring=\"roc_auc\", cv=10):\n",
    "    train_score, test_score = validation_curve(\n",
    "        model, X=X, y=y, param_name=param_name, param_range=param_range, scoring=scoring, cv=cv)\n",
    "\n",
    "    mean_train_score = np.mean(train_score, axis=1)\n",
    "    mean_test_score = np.mean(test_score, axis=1)\n",
    "\n",
    "    plt.plot(param_range, mean_train_score,\n",
    "             label=\"Training Score\", color='b')\n",
    "\n",
    "    plt.plot(param_range, mean_test_score,\n",
    "             label=\"Validation Score\", color='g')\n",
    "\n",
    "    plt.title(f\"Validation Curve for {type(model).__name__}\")\n",
    "    plt.xlabel(f\"Number of {param_name}\")\n",
    "    plt.ylabel(f\"{scoring}\")\n",
    "    plt.tight_layout()\n",
    "    plt.legend(loc='best')\n",
    "    plt.show(block=True)\n",
    "\n",
    "val_curve_params(rf_final, X, y, \"max_depth\", range(1, 11), scoring=\"roc_auc\")"
   ]
  },
  {
   "cell_type": "markdown",
   "id": "6e7ed19f",
   "metadata": {},
   "source": [
    "# GRADIENT BOOSTING MACHINES"
   ]
  },
  {
   "cell_type": "raw",
   "id": "2e809183",
   "metadata": {},
   "source": [
    "Gradient Boosting veya GBM, hem regresyon hem de sınıflandırma problemleri için çalışan bir başka topluluk makine öğrenme algoritmasıdır. GBM, güçlü bir öğrenici oluşturmak için birtakım zayıf öğrenicileri birleştirerek, yükseltme tekniğini kullanır. Temel öğrenici olarak kullanılan regresyon ağaçları, her biri seri halinde olan bir ağaç önceki ağaç tarafından hesaplanan hatalar üzerine kuruludur.\n",
    "Gradient Boosting ilk iterasyonda tahminleri üreten bir “F” fonksiyonu oluşturur. Tahminler ile hedef değer arasındaki farkı hesaplar ve bu farklar için de “h” fonksiyonunu oluşturur. İkinci iterasyonda “F” ve “h” fonksiyonlarını birleştirir ve tekrar tahminler ile hedefler arasındaki farkı hesaplar. Bu sayede sürekli üstüne ekleyerek “F” fonksiyonunun başarısını arttırmaya, dolayısıyla da tahminler ile hedefler arasındaki farkı sıfıra indirmeye çalışır."
   ]
  },
  {
   "cell_type": "raw",
   "id": "14058ba1",
   "metadata": {},
   "source": [
    "Gradient Boosting tek bir tahminsel model formunda olan modeller serisi oluşturur.\n",
    "\n",
    "Seri içerisindeki bir model serideki bir önceki modelin tahmin hatalarının üzerine kurularak fit edilir.\n",
    "\n",
    "GBM diferansiyellenebilen herhangi bir kayıp fonksiyonu optimize edebilen Gradient Descent algoritmasını kullanmaktadır.\n",
    "\n",
    "GBM bir çok temel öğrenci tipi(base learner type) kullanabilir.\n",
    "\n",
    "Cost fonksiyonları ve link fonksiyonları modifiye edebilirdir."
   ]
  },
  {
   "cell_type": "code",
   "execution_count": 79,
   "id": "a934ce05",
   "metadata": {},
   "outputs": [],
   "source": [
    "import pandas as pd\n",
    "\n",
    "df = pd.read_csv(\"dataset_hitters.csv\")\n",
    "df = df.dropna()\n",
    "dms = pd.get_dummies(df[['League', 'Division', 'NewLeague']])\n",
    "\n",
    "y = df[\"Salary\"]\n",
    "X_ = df.drop(['Salary', 'League', 'Division', 'NewLeague'], axis=1).astype('float64')\n",
    "X = pd.concat([X_, dms[['League_N', 'Division_W', 'NewLeague_N']]], axis=1)\n"
   ]
  },
  {
   "cell_type": "code",
   "execution_count": 80,
   "id": "e600f838",
   "metadata": {},
   "outputs": [],
   "source": [
    "from sklearn.model_selection import train_test_split\n",
    "\n",
    "X_train, X_test, y_train, y_test = train_test_split(X, y, \n",
    "                                                    test_size=0.25, \n",
    "                                                    random_state=42)\n"
   ]
  },
  {
   "cell_type": "code",
   "execution_count": 81,
   "id": "27f241d5",
   "metadata": {},
   "outputs": [
    {
     "data": {
      "text/plain": [
       "GradientBoostingRegressor()"
      ]
     },
     "execution_count": 81,
     "metadata": {},
     "output_type": "execute_result"
    }
   ],
   "source": [
    "from sklearn.ensemble import GradientBoostingRegressor\n",
    "\n",
    "gbm_model = GradientBoostingRegressor()\n",
    "gbm_model.fit(X_train, y_train)"
   ]
  },
  {
   "cell_type": "code",
   "execution_count": 82,
   "id": "6f49b018",
   "metadata": {},
   "outputs": [
    {
     "data": {
      "text/plain": [
       "350.3860338883814"
      ]
     },
     "execution_count": 82,
     "metadata": {},
     "output_type": "execute_result"
    }
   ],
   "source": [
    "import numpy as np\n",
    "from sklearn.metrics import mean_squared_error\n",
    "\n",
    "y_pred = gbm_model.predict(X_test)\n",
    "np.sqrt(mean_squared_error(y_test, y_pred))"
   ]
  },
  {
   "cell_type": "code",
   "execution_count": 83,
   "id": "b6c4c5b3",
   "metadata": {},
   "outputs": [],
   "source": [
    "gbm_params = {\n",
    "    'learning_rate': [0.001, 0.01, 0.1],\n",
    "    'max_depth': [3, 5, 8],\n",
    "    'n_estimators': [200, 500, 1000],\n",
    "    'subsample': [1,0.5,0.75],\n",
    "}"
   ]
  },
  {
   "cell_type": "code",
   "execution_count": 84,
   "id": "67003de3",
   "metadata": {},
   "outputs": [
    {
     "name": "stdout",
     "output_type": "stream",
     "text": [
      "Fitting 5 folds for each of 81 candidates, totalling 405 fits\n"
     ]
    },
    {
     "data": {
      "text/plain": [
       "GridSearchCV(cv=5, estimator=GradientBoostingRegressor(),\n",
       "             param_grid={'learning_rate': [0.001, 0.01, 0.1],\n",
       "                         'max_depth': [3, 5, 8],\n",
       "                         'n_estimators': [200, 500, 1000],\n",
       "                         'subsample': [1, 0.5, 0.75]},\n",
       "             verbose=1)"
      ]
     },
     "execution_count": 84,
     "metadata": {},
     "output_type": "execute_result"
    }
   ],
   "source": [
    "from sklearn.model_selection import GridSearchCV\n",
    "\n",
    "gbm = GradientBoostingRegressor()\n",
    "gbm_cv_model = GridSearchCV(gbm, gbm_params, cv = 5, verbose = 1)\n",
    "gbm_cv_model.fit(X_train, y_train)"
   ]
  },
  {
   "cell_type": "code",
   "execution_count": 85,
   "id": "30218b5e",
   "metadata": {},
   "outputs": [
    {
     "data": {
      "text/plain": [
       "{'learning_rate': 0.1, 'max_depth': 3, 'n_estimators': 500, 'subsample': 0.5}"
      ]
     },
     "execution_count": 85,
     "metadata": {},
     "output_type": "execute_result"
    }
   ],
   "source": [
    "gbm_cv_model.best_params_"
   ]
  },
  {
   "cell_type": "code",
   "execution_count": 86,
   "id": "75a525ee",
   "metadata": {},
   "outputs": [],
   "source": [
    "gbm_tuned = GradientBoostingRegressor(learning_rate = 0.1,  \n",
    "                                      max_depth = 5, \n",
    "                                      n_estimators = 200, \n",
    "                                      subsample = 0.5)\n",
    "\n",
    "gbm_tuned = gbm_tuned.fit(X_train,y_train)"
   ]
  },
  {
   "cell_type": "code",
   "execution_count": 87,
   "id": "13e63281",
   "metadata": {},
   "outputs": [
    {
     "data": {
      "text/plain": [
       "344.334415557723"
      ]
     },
     "execution_count": 87,
     "metadata": {},
     "output_type": "execute_result"
    }
   ],
   "source": [
    "import numpy as np\n",
    "from sklearn.metrics import mean_squared_error\n",
    "\n",
    "y_pred = gbm_tuned.predict(X_test)\n",
    "np.sqrt(mean_squared_error(y_test, y_pred))"
   ]
  },
  {
   "cell_type": "code",
   "execution_count": 88,
   "id": "49786fb0",
   "metadata": {},
   "outputs": [
    {
     "data": {
      "text/plain": [
       "Text(0.5, 0, 'Değişken Önem Düzeyleri')"
      ]
     },
     "execution_count": 88,
     "metadata": {},
     "output_type": "execute_result"
    },
    {
     "data": {
      "image/png": "[encoded data removed]",
      "text/plain": [
       "<Figure size 432x288 with 1 Axes>"
      ]
     },
     "metadata": {},
     "output_type": "display_data"
    }
   ],
   "source": [
    "Importance = pd.DataFrame({\"Importance\": gbm_tuned.feature_importances_*100},\n",
    "                         index = X_train.columns)\n",
    "\n",
    "Importance.sort_values(by = \"Importance\", \n",
    "                       axis = 0, \n",
    "                       ascending = True).plot(kind =\"barh\", color = \"r\")\n",
    "\n",
    "plt.xlabel(\"Değişken Önem Düzeyleri\")"
   ]
  },
  {
   "cell_type": "markdown",
   "id": "df1d8676",
   "metadata": {},
   "source": [
    "# eXtreme Gradient Boosting (XGBOOST)"
   ]
  },
  {
   "cell_type": "code",
   "execution_count": 90,
   "id": "73f769aa",
   "metadata": {},
   "outputs": [],
   "source": [
    "df = pd.read_csv(\"dataset_hitters.csv\")\n",
    "df = df.dropna()\n",
    "dms = pd.get_dummies(df[['League', 'Division', 'NewLeague']])\n",
    "\n",
    "y = df[\"Salary\"]\n",
    "X_ = df.drop(['Salary', 'League', 'Division', 'NewLeague'], axis=1).astype('float64')\n",
    "X = pd.concat([X_, dms[['League_N', 'Division_W', 'NewLeague_N']]], axis=1)"
   ]
  },
  {
   "cell_type": "code",
   "execution_count": 91,
   "id": "9a9c5cf6",
   "metadata": {},
   "outputs": [],
   "source": [
    "from sklearn.model_selection import train_test_split\n",
    "\n",
    "X_train, X_test, y_train, y_test = train_test_split(X, y, \n",
    "                                                    test_size=0.25, \n",
    "                                                    random_state=42)\n"
   ]
  },
  {
   "cell_type": "code",
   "execution_count": 92,
   "id": "e83ad3a5",
   "metadata": {},
   "outputs": [],
   "source": [
    "import xgboost as xgb\n",
    "\n",
    "DM_train = xgb.DMatrix(data = X_train, label = y_train)\n",
    "DM_test = xgb.DMatrix(data = X_test, label = y_test)"
   ]
  },
  {
   "cell_type": "code",
   "execution_count": 93,
   "id": "62bd8205",
   "metadata": {},
   "outputs": [],
   "source": [
    "from xgboost import XGBRegressor\n",
    "\n",
    "xgb_model = XGBRegressor().fit(X_train, y_train)"
   ]
  },
  {
   "cell_type": "code",
   "execution_count": 94,
   "id": "a61cf7de",
   "metadata": {},
   "outputs": [
    {
     "data": {
      "text/plain": [
       "355.46515176059927"
      ]
     },
     "execution_count": 94,
     "metadata": {},
     "output_type": "execute_result"
    }
   ],
   "source": [
    "import numpy as np\n",
    "from sklearn.metrics import mean_squared_error\n",
    "\n",
    "y_pred = xgb_model.predict(X_test)\n",
    "np.sqrt(mean_squared_error(y_test, y_pred))"
   ]
  },
  {
   "cell_type": "code",
   "execution_count": 95,
   "id": "ad4737b1",
   "metadata": {},
   "outputs": [
    {
     "name": "stdout",
     "output_type": "stream",
     "text": [
      "Fitting 5 folds for each of 300 candidates, totalling 1500 fits\n"
     ]
    },
    {
     "data": {
      "text/plain": [
       "GridSearchCV(cv=5,\n",
       "             estimator=XGBRegressor(base_score=None, booster=None,\n",
       "                                    callbacks=None, colsample_bylevel=None,\n",
       "                                    colsample_bynode=None,\n",
       "                                    colsample_bytree=None,\n",
       "                                    early_stopping_rounds=None,\n",
       "                                    enable_categorical=False, eval_metric=None,\n",
       "                                    gamma=None, gpu_id=None, grow_policy=None,\n",
       "                                    importance_type=None,\n",
       "                                    interaction_constraints=None,\n",
       "                                    learning_rate=None, max_bin=None,\n",
       "                                    max_cat...\n",
       "                                    max_depth=None, max_leaves=None,\n",
       "                                    min_child_weight=None, missing=nan,\n",
       "                                    monotone_constraints=None, n_estimators=100,\n",
       "                                    n_jobs=None, num_parallel_tree=None,\n",
       "                                    predictor=None, random_state=None,\n",
       "                                    reg_alpha=None, reg_lambda=None, ...),\n",
       "             n_jobs=-1,\n",
       "             param_grid={'colsample_bytree': [0.4, 0.5, 0.6, 0.9, 1],\n",
       "                         'learning_rate': [0.1, 0.01, 0.5],\n",
       "                         'max_depth': [2, 3, 4, 5, 6],\n",
       "                         'n_estimators': [100, 200, 500, 1000]},\n",
       "             verbose=2)"
      ]
     },
     "execution_count": 95,
     "metadata": {},
     "output_type": "execute_result"
    }
   ],
   "source": [
    "xgb_grid = {\n",
    "     'colsample_bytree': [0.4, 0.5,0.6,0.9,1], \n",
    "     'n_estimators':[100, 200, 500, 1000],\n",
    "     'max_depth': [2,3,4,5,6],\n",
    "     'learning_rate': [0.1, 0.01, 0.5]\n",
    "}\n",
    "\n",
    "from sklearn.model_selection import GridSearchCV\n",
    "\n",
    "xgb = XGBRegressor()\n",
    "\n",
    "xgb_cv = GridSearchCV(xgb, \n",
    "                      param_grid = xgb_grid, \n",
    "                      cv = 5, \n",
    "                      n_jobs = -1,\n",
    "                      verbose = 2)\n",
    "\n",
    "\n",
    "xgb_cv.fit(X_train, y_train)"
   ]
  },
  {
   "cell_type": "code",
   "execution_count": 96,
   "id": "8eb8f29e",
   "metadata": {},
   "outputs": [
    {
     "data": {
      "text/plain": [
       "{'colsample_bytree': 0.4,\n",
       " 'learning_rate': 0.1,\n",
       " 'max_depth': 2,\n",
       " 'n_estimators': 1000}"
      ]
     },
     "execution_count": 96,
     "metadata": {},
     "output_type": "execute_result"
    }
   ],
   "source": [
    "xgb_cv.best_params_"
   ]
  },
  {
   "cell_type": "code",
   "execution_count": 97,
   "id": "648db489",
   "metadata": {},
   "outputs": [],
   "source": [
    "xgb_tuned = XGBRegressor(colsample_bytree = 0.4, \n",
    "                         learning_rate = 0.1, \n",
    "                         max_depth = 2, \n",
    "                         n_estimators = 1000) \n",
    "\n",
    "xgb_tuned = xgb_tuned.fit(X_train,y_train)"
   ]
  },
  {
   "cell_type": "code",
   "execution_count": 98,
   "id": "8073d62e",
   "metadata": {},
   "outputs": [
    {
     "data": {
      "text/plain": [
       "367.8515299923177"
      ]
     },
     "execution_count": 98,
     "metadata": {},
     "output_type": "execute_result"
    }
   ],
   "source": [
    "y_pred = xgb_tuned.predict(X_test)\n",
    "np.sqrt(mean_squared_error(y_test, y_pred))"
   ]
  },
  {
   "cell_type": "markdown",
   "id": "1a07985d",
   "metadata": {},
   "source": [
    "# LightGBM"
   ]
  },
  {
   "cell_type": "code",
   "execution_count": 101,
   "id": "47a061fd",
   "metadata": {},
   "outputs": [],
   "source": [
    "import pandas as pd\n",
    "\n",
    "df = pd.read_csv(\"dataset_hitters.csv\")\n",
    "df = df.dropna()\n",
    "dms = pd.get_dummies(df[['League', 'Division', 'NewLeague']])\n",
    "\n",
    "\n",
    "y = df[\"Salary\"]\n",
    "X_ = df.drop(['Salary', 'League', 'Division', 'NewLeague'], axis=1).astype('float64')\n",
    "X = pd.concat([X_, dms[['League_N', 'Division_W', 'NewLeague_N']]], axis=1)"
   ]
  },
  {
   "cell_type": "code",
   "execution_count": 102,
   "id": "f3b9843a",
   "metadata": {},
   "outputs": [],
   "source": [
    "from sklearn.model_selection import train_test_split\n",
    "\n",
    "X_train, X_test, y_train, y_test = train_test_split(X, y, \n",
    "                                                    test_size=0.25, \n",
    "                                                    random_state=42)"
   ]
  },
  {
   "cell_type": "code",
   "execution_count": 103,
   "id": "7bbe7cc4",
   "metadata": {},
   "outputs": [],
   "source": [
    "from lightgbm import LGBMRegressor\n",
    "\n",
    "lgbm = LGBMRegressor()\n",
    "lgbm_model = lgbm.fit(X_train, y_train)"
   ]
  },
  {
   "cell_type": "code",
   "execution_count": 104,
   "id": "3019adf7",
   "metadata": {},
   "outputs": [
    {
     "data": {
      "text/plain": [
       "363.8712087611089"
      ]
     },
     "execution_count": 104,
     "metadata": {},
     "output_type": "execute_result"
    }
   ],
   "source": [
    "import numpy as np\n",
    "from sklearn.metrics import mean_squared_error\n",
    "\n",
    "y_pred = lgbm_model.predict(X_test, \n",
    "                            num_iteration = lgbm_model.best_iteration_)\n",
    "\n",
    "np.sqrt(mean_squared_error(y_test, y_pred))"
   ]
  },
  {
   "cell_type": "code",
   "execution_count": 105,
   "id": "b5411b50",
   "metadata": {},
   "outputs": [
    {
     "name": "stdout",
     "output_type": "stream",
     "text": [
      "Fitting 3 folds for each of 960 candidates, totalling 2880 fits\n"
     ]
    },
    {
     "data": {
      "text/plain": [
       "GridSearchCV(cv=3, estimator=LGBMRegressor(), n_jobs=-1,\n",
       "             param_grid={'colsample_bytree': [0.4, 0.5, 0.6, 0.9, 1],\n",
       "                         'learning_rate': [0.01, 0.1, 0.5, 1],\n",
       "                         'max_depth': [1, 2, 3, 4, 5, 6, 7, 8],\n",
       "                         'n_estimators': [20, 40, 100, 200, 500, 1000]},\n",
       "             verbose=2)"
      ]
     },
     "execution_count": 105,
     "metadata": {},
     "output_type": "execute_result"
    }
   ],
   "source": [
    "lgbm_grid = {\n",
    "    'colsample_bytree': [0.4, 0.5,0.6,0.9,1],\n",
    "    'learning_rate': [0.01, 0.1, 0.5,1],\n",
    "    'n_estimators': [20, 40, 100, 200, 500,1000],\n",
    "    'max_depth': [1,2,3,4,5,6,7,8] }\n",
    "\n",
    "from sklearn.model_selection import GridSearchCV\n",
    "\n",
    "lgbm = LGBMRegressor()\n",
    "lgbm_cv_model = GridSearchCV(lgbm, lgbm_grid, cv=3, n_jobs = -1, verbose = 2)\n",
    "\n",
    "lgbm_cv_model.fit(X_train, y_train)"
   ]
  },
  {
   "cell_type": "code",
   "execution_count": 106,
   "id": "8586c6d1",
   "metadata": {},
   "outputs": [
    {
     "data": {
      "text/plain": [
       "{'colsample_bytree': 0.6,\n",
       " 'learning_rate': 0.01,\n",
       " 'max_depth': 5,\n",
       " 'n_estimators': 500}"
      ]
     },
     "execution_count": 106,
     "metadata": {},
     "output_type": "execute_result"
    }
   ],
   "source": [
    "lgbm_cv_model.best_params_"
   ]
  },
  {
   "cell_type": "code",
   "execution_count": 107,
   "id": "a17c2eb7",
   "metadata": {},
   "outputs": [],
   "source": [
    "lgbm_tuned = LGBMRegressor(learning_rate = 0.01, \n",
    "                           max_depth = 5, \n",
    "                           n_estimators = 500,\n",
    "                          colsample_bytree = 0.6)\n",
    "\n",
    "lgbm_tuned = lgbm_tuned.fit(X_train,y_train)"
   ]
  },
  {
   "cell_type": "code",
   "execution_count": 108,
   "id": "f7fc68c6",
   "metadata": {},
   "outputs": [
    {
     "data": {
      "text/plain": [
       "370.01474021657657"
      ]
     },
     "execution_count": 108,
     "metadata": {},
     "output_type": "execute_result"
    }
   ],
   "source": [
    "y_pred = lgbm_tuned.predict(X_test)\n",
    "np.sqrt(mean_squared_error(y_test, y_pred))"
   ]
  },
  {
   "cell_type": "markdown",
   "id": "0458d9d1",
   "metadata": {},
   "source": [
    "# CatBOOST"
   ]
  },
  {
   "cell_type": "code",
   "execution_count": 109,
   "id": "00cffdd9",
   "metadata": {},
   "outputs": [],
   "source": [
    "import pandas as pd\n",
    "\n",
    "df = pd.read_csv(\"dataset_hitters.csv\")\n",
    "df = df.dropna()\n",
    "dms = pd.get_dummies(df[['League', 'Division', 'NewLeague']])\n",
    "\n",
    "y = df[\"Salary\"]\n",
    "X_ = df.drop(['Salary', 'League', 'Division', 'NewLeague'], axis=1).astype('float64')\n",
    "X = pd.concat([X_, dms[['League_N', 'Division_W', 'NewLeague_N']]], axis=1)"
   ]
  },
  {
   "cell_type": "code",
   "execution_count": 110,
   "id": "cfbe3997",
   "metadata": {},
   "outputs": [],
   "source": [
    "from sklearn.model_selection import train_test_split\n",
    "\n",
    "X_train, X_test, y_train, y_test = train_test_split(X, y, \n",
    "                                                    test_size=0.25, \n",
    "                                                    random_state=42)"
   ]
  },
  {
   "cell_type": "code",
   "execution_count": 111,
   "id": "722a5fea",
   "metadata": {},
   "outputs": [
    {
     "name": "stdout",
     "output_type": "stream",
     "text": [
      "Learning rate set to 0.031674\n",
      "0:\tlearn: 437.6430699\ttotal: 163ms\tremaining: 2m 42s\n",
      "1:\tlearn: 431.3923642\ttotal: 165ms\tremaining: 1m 22s\n",
      "2:\tlearn: 424.8820360\ttotal: 167ms\tremaining: 55.4s\n",
      "3:\tlearn: 418.2514904\ttotal: 168ms\tremaining: 41.9s\n",
      "4:\tlearn: 412.6394021\ttotal: 170ms\tremaining: 33.8s\n",
      "5:\tlearn: 406.6247020\ttotal: 171ms\tremaining: 28.4s\n",
      "6:\tlearn: 400.5321206\ttotal: 173ms\tremaining: 24.5s\n",
      "7:\tlearn: 394.6683437\ttotal: 174ms\tremaining: 21.6s\n",
      "8:\tlearn: 388.2496484\ttotal: 176ms\tremaining: 19.4s\n",
      "9:\tlearn: 382.9448842\ttotal: 178ms\tremaining: 17.6s\n",
      "10:\tlearn: 377.2600080\ttotal: 179ms\tremaining: 16.1s\n",
      "11:\tlearn: 372.4829606\ttotal: 181ms\tremaining: 14.9s\n",
      "12:\tlearn: 366.6823437\ttotal: 183ms\tremaining: 13.9s\n",
      "13:\tlearn: 362.6076230\ttotal: 184ms\tremaining: 13s\n",
      "14:\tlearn: 358.0107745\ttotal: 186ms\tremaining: 12.2s\n",
      "15:\tlearn: 353.2802665\ttotal: 188ms\tremaining: 11.5s\n",
      "16:\tlearn: 348.5646265\ttotal: 189ms\tremaining: 10.9s\n",
      "17:\tlearn: 343.6407912\ttotal: 190ms\tremaining: 10.4s\n",
      "18:\tlearn: 339.2363847\ttotal: 192ms\tremaining: 9.91s\n",
      "19:\tlearn: 334.3431252\ttotal: 193ms\tremaining: 9.48s\n",
      "20:\tlearn: 330.3247028\ttotal: 195ms\tremaining: 9.09s\n",
      "21:\tlearn: 326.6118334\ttotal: 197ms\tremaining: 8.74s\n",
      "22:\tlearn: 322.7759981\ttotal: 198ms\tremaining: 8.41s\n",
      "23:\tlearn: 318.9511822\ttotal: 200ms\tremaining: 8.11s\n",
      "24:\tlearn: 315.4216253\ttotal: 201ms\tremaining: 7.84s\n",
      "25:\tlearn: 311.3551377\ttotal: 202ms\tremaining: 7.58s\n",
      "26:\tlearn: 308.1492371\ttotal: 204ms\tremaining: 7.35s\n",
      "27:\tlearn: 304.7284729\ttotal: 205ms\tremaining: 7.13s\n",
      "28:\tlearn: 301.3893204\ttotal: 207ms\tremaining: 6.93s\n",
      "29:\tlearn: 298.2080758\ttotal: 208ms\tremaining: 6.74s\n",
      "30:\tlearn: 295.6878398\ttotal: 210ms\tremaining: 6.56s\n",
      "31:\tlearn: 292.3912243\ttotal: 212ms\tremaining: 6.4s\n",
      "32:\tlearn: 289.6345744\ttotal: 213ms\tremaining: 6.24s\n",
      "33:\tlearn: 287.2158711\ttotal: 215ms\tremaining: 6.1s\n",
      "34:\tlearn: 284.3879081\ttotal: 216ms\tremaining: 5.96s\n",
      "35:\tlearn: 281.7994818\ttotal: 218ms\tremaining: 5.83s\n",
      "36:\tlearn: 279.2028261\ttotal: 219ms\tremaining: 5.7s\n",
      "37:\tlearn: 276.5821160\ttotal: 220ms\tremaining: 5.58s\n",
      "38:\tlearn: 273.8890894\ttotal: 222ms\tremaining: 5.47s\n",
      "39:\tlearn: 271.1681677\ttotal: 223ms\tremaining: 5.36s\n",
      "40:\tlearn: 269.0159531\ttotal: 225ms\tremaining: 5.26s\n",
      "41:\tlearn: 266.3601804\ttotal: 226ms\tremaining: 5.16s\n",
      "42:\tlearn: 263.8608958\ttotal: 228ms\tremaining: 5.07s\n",
      "43:\tlearn: 261.1405566\ttotal: 229ms\tremaining: 4.98s\n",
      "44:\tlearn: 258.9314736\ttotal: 231ms\tremaining: 4.9s\n",
      "45:\tlearn: 256.3885577\ttotal: 232ms\tremaining: 4.82s\n",
      "46:\tlearn: 254.2857349\ttotal: 234ms\tremaining: 4.74s\n",
      "47:\tlearn: 252.2347121\ttotal: 235ms\tremaining: 4.66s\n",
      "48:\tlearn: 250.1779367\ttotal: 237ms\tremaining: 4.59s\n",
      "49:\tlearn: 248.2687430\ttotal: 238ms\tremaining: 4.53s\n",
      "50:\tlearn: 246.3685582\ttotal: 240ms\tremaining: 4.46s\n",
      "51:\tlearn: 244.8719988\ttotal: 241ms\tremaining: 4.39s\n",
      "52:\tlearn: 242.7348892\ttotal: 242ms\tremaining: 4.33s\n",
      "53:\tlearn: 241.1611112\ttotal: 243ms\tremaining: 4.26s\n",
      "54:\tlearn: 239.4819462\ttotal: 245ms\tremaining: 4.21s\n",
      "55:\tlearn: 237.3877895\ttotal: 246ms\tremaining: 4.15s\n",
      "56:\tlearn: 235.7619262\ttotal: 248ms\tremaining: 4.1s\n",
      "57:\tlearn: 233.9604804\ttotal: 249ms\tremaining: 4.05s\n",
      "58:\tlearn: 232.4948011\ttotal: 251ms\tremaining: 4s\n",
      "59:\tlearn: 230.6283304\ttotal: 252ms\tremaining: 3.95s\n",
      "60:\tlearn: 228.9920307\ttotal: 253ms\tremaining: 3.9s\n",
      "61:\tlearn: 227.5197637\ttotal: 255ms\tremaining: 3.85s\n",
      "62:\tlearn: 226.0561213\ttotal: 256ms\tremaining: 3.81s\n",
      "63:\tlearn: 224.3484762\ttotal: 257ms\tremaining: 3.76s\n",
      "64:\tlearn: 223.0652023\ttotal: 259ms\tremaining: 3.72s\n",
      "65:\tlearn: 221.6608069\ttotal: 260ms\tremaining: 3.68s\n",
      "66:\tlearn: 220.2445284\ttotal: 261ms\tremaining: 3.64s\n",
      "67:\tlearn: 219.0044262\ttotal: 263ms\tremaining: 3.6s\n",
      "68:\tlearn: 217.4624313\ttotal: 264ms\tremaining: 3.56s\n",
      "69:\tlearn: 216.0502248\ttotal: 265ms\tremaining: 3.52s\n",
      "70:\tlearn: 214.5361705\ttotal: 267ms\tremaining: 3.49s\n",
      "71:\tlearn: 213.1812509\ttotal: 268ms\tremaining: 3.45s\n",
      "72:\tlearn: 211.7399390\ttotal: 269ms\tremaining: 3.42s\n",
      "73:\tlearn: 210.5557639\ttotal: 271ms\tremaining: 3.39s\n",
      "74:\tlearn: 209.4242283\ttotal: 272ms\tremaining: 3.35s\n",
      "75:\tlearn: 208.4366109\ttotal: 273ms\tremaining: 3.32s\n",
      "76:\tlearn: 207.4514860\ttotal: 275ms\tremaining: 3.29s\n",
      "77:\tlearn: 206.1912213\ttotal: 276ms\tremaining: 3.26s\n",
      "78:\tlearn: 205.2585316\ttotal: 277ms\tremaining: 3.23s\n",
      "79:\tlearn: 203.8747879\ttotal: 279ms\tremaining: 3.21s\n",
      "80:\tlearn: 202.5993031\ttotal: 280ms\tremaining: 3.18s\n",
      "81:\tlearn: 201.4719061\ttotal: 281ms\tremaining: 3.15s\n",
      "82:\tlearn: 200.2871874\ttotal: 283ms\tremaining: 3.12s\n",
      "83:\tlearn: 199.1074683\ttotal: 284ms\tremaining: 3.1s\n",
      "84:\tlearn: 197.8511342\ttotal: 285ms\tremaining: 3.07s\n",
      "85:\tlearn: 196.8788042\ttotal: 287ms\tremaining: 3.05s\n",
      "86:\tlearn: 195.9815130\ttotal: 288ms\tremaining: 3.03s\n",
      "87:\tlearn: 195.0807956\ttotal: 290ms\tremaining: 3.01s\n",
      "88:\tlearn: 193.9775466\ttotal: 292ms\tremaining: 2.99s\n",
      "89:\tlearn: 192.8810426\ttotal: 294ms\tremaining: 2.98s\n",
      "90:\tlearn: 192.5363626\ttotal: 296ms\tremaining: 2.96s\n",
      "91:\tlearn: 191.3259849\ttotal: 298ms\tremaining: 2.94s\n",
      "92:\tlearn: 190.3650025\ttotal: 299ms\tremaining: 2.92s\n",
      "93:\tlearn: 189.3255643\ttotal: 301ms\tremaining: 2.9s\n",
      "94:\tlearn: 188.2433480\ttotal: 303ms\tremaining: 2.89s\n",
      "95:\tlearn: 187.2786096\ttotal: 305ms\tremaining: 2.87s\n",
      "96:\tlearn: 186.1284681\ttotal: 306ms\tremaining: 2.85s\n",
      "97:\tlearn: 185.0190872\ttotal: 307ms\tremaining: 2.83s\n",
      "98:\tlearn: 184.2888024\ttotal: 308ms\tremaining: 2.81s\n",
      "99:\tlearn: 183.3111217\ttotal: 310ms\tremaining: 2.79s\n",
      "100:\tlearn: 182.2519940\ttotal: 311ms\tremaining: 2.77s\n",
      "101:\tlearn: 181.0186200\ttotal: 312ms\tremaining: 2.75s\n",
      "102:\tlearn: 179.9672344\ttotal: 313ms\tremaining: 2.73s\n",
      "103:\tlearn: 178.9776753\ttotal: 315ms\tremaining: 2.71s\n",
      "104:\tlearn: 178.2445101\ttotal: 316ms\tremaining: 2.69s\n",
      "105:\tlearn: 177.4055906\ttotal: 317ms\tremaining: 2.67s\n",
      "106:\tlearn: 176.2405445\ttotal: 319ms\tremaining: 2.66s\n",
      "107:\tlearn: 175.1813091\ttotal: 320ms\tremaining: 2.64s\n",
      "108:\tlearn: 174.5537682\ttotal: 322ms\tremaining: 2.63s\n",
      "109:\tlearn: 173.8231890\ttotal: 324ms\tremaining: 2.62s\n",
      "110:\tlearn: 172.9324461\ttotal: 325ms\tremaining: 2.6s\n",
      "111:\tlearn: 172.0019421\ttotal: 327ms\tremaining: 2.59s\n",
      "112:\tlearn: 171.2945678\ttotal: 328ms\tremaining: 2.57s\n",
      "113:\tlearn: 170.4815313\ttotal: 329ms\tremaining: 2.56s\n",
      "114:\tlearn: 169.9491294\ttotal: 331ms\tremaining: 2.54s\n",
      "115:\tlearn: 169.2483859\ttotal: 332ms\tremaining: 2.53s\n",
      "116:\tlearn: 168.7342383\ttotal: 334ms\tremaining: 2.52s\n",
      "117:\tlearn: 168.1837140\ttotal: 335ms\tremaining: 2.5s\n",
      "118:\tlearn: 167.1222358\ttotal: 336ms\tremaining: 2.49s\n",
      "119:\tlearn: 166.3472734\ttotal: 338ms\tremaining: 2.48s\n",
      "120:\tlearn: 165.5330342\ttotal: 339ms\tremaining: 2.46s\n",
      "121:\tlearn: 164.8476246\ttotal: 341ms\tremaining: 2.45s\n",
      "122:\tlearn: 164.2399797\ttotal: 342ms\tremaining: 2.44s\n",
      "123:\tlearn: 164.0121571\ttotal: 343ms\tremaining: 2.42s\n",
      "124:\tlearn: 162.9794212\ttotal: 345ms\tremaining: 2.41s\n",
      "125:\tlearn: 162.2095741\ttotal: 347ms\tremaining: 2.4s\n",
      "126:\tlearn: 161.1695920\ttotal: 348ms\tremaining: 2.39s\n",
      "127:\tlearn: 160.3516612\ttotal: 350ms\tremaining: 2.38s\n",
      "128:\tlearn: 159.1596356\ttotal: 351ms\tremaining: 2.37s\n",
      "129:\tlearn: 158.5354394\ttotal: 353ms\tremaining: 2.36s\n",
      "130:\tlearn: 157.5922383\ttotal: 355ms\tremaining: 2.35s\n",
      "131:\tlearn: 156.9689796\ttotal: 356ms\tremaining: 2.34s\n",
      "132:\tlearn: 156.4170623\ttotal: 357ms\tremaining: 2.33s\n",
      "133:\tlearn: 156.1222595\ttotal: 358ms\tremaining: 2.32s\n",
      "134:\tlearn: 155.5996569\ttotal: 360ms\tremaining: 2.31s\n",
      "135:\tlearn: 154.8990155\ttotal: 361ms\tremaining: 2.29s\n",
      "136:\tlearn: 154.3704896\ttotal: 362ms\tremaining: 2.28s\n",
      "137:\tlearn: 153.8560012\ttotal: 364ms\tremaining: 2.27s\n",
      "138:\tlearn: 153.2399938\ttotal: 365ms\tremaining: 2.26s\n",
      "139:\tlearn: 152.2142414\ttotal: 366ms\tremaining: 2.25s\n",
      "140:\tlearn: 151.5976950\ttotal: 368ms\tremaining: 2.24s\n",
      "141:\tlearn: 151.4426506\ttotal: 369ms\tremaining: 2.23s\n",
      "142:\tlearn: 150.8467135\ttotal: 370ms\tremaining: 2.22s\n",
      "143:\tlearn: 150.0175883\ttotal: 372ms\tremaining: 2.21s\n",
      "144:\tlearn: 149.6327647\ttotal: 373ms\tremaining: 2.2s\n",
      "145:\tlearn: 148.9265718\ttotal: 374ms\tremaining: 2.19s\n",
      "146:\tlearn: 148.4460764\ttotal: 376ms\tremaining: 2.18s\n",
      "147:\tlearn: 147.8108318\ttotal: 377ms\tremaining: 2.17s\n",
      "148:\tlearn: 147.2766525\ttotal: 378ms\tremaining: 2.16s\n",
      "149:\tlearn: 146.8537279\ttotal: 380ms\tremaining: 2.15s\n",
      "150:\tlearn: 146.0227438\ttotal: 381ms\tremaining: 2.14s\n",
      "151:\tlearn: 145.5603059\ttotal: 382ms\tremaining: 2.13s\n",
      "152:\tlearn: 145.0318400\ttotal: 384ms\tremaining: 2.12s\n",
      "153:\tlearn: 144.6082188\ttotal: 385ms\tremaining: 2.11s\n",
      "154:\tlearn: 144.2070501\ttotal: 386ms\tremaining: 2.1s\n",
      "155:\tlearn: 143.8060676\ttotal: 388ms\tremaining: 2.1s\n",
      "156:\tlearn: 143.3819707\ttotal: 389ms\tremaining: 2.09s\n",
      "157:\tlearn: 143.0764402\ttotal: 390ms\tremaining: 2.08s\n",
      "158:\tlearn: 142.4609449\ttotal: 392ms\tremaining: 2.07s\n",
      "159:\tlearn: 142.3321970\ttotal: 393ms\tremaining: 2.06s\n",
      "160:\tlearn: 141.9044208\ttotal: 394ms\tremaining: 2.05s\n",
      "161:\tlearn: 141.4544471\ttotal: 395ms\tremaining: 2.04s\n",
      "162:\tlearn: 140.9391569\ttotal: 397ms\tremaining: 2.04s\n",
      "163:\tlearn: 140.3413557\ttotal: 398ms\tremaining: 2.03s\n",
      "164:\tlearn: 139.7992277\ttotal: 399ms\tremaining: 2.02s\n",
      "165:\tlearn: 139.3139418\ttotal: 401ms\tremaining: 2.01s\n",
      "166:\tlearn: 139.1617594\ttotal: 402ms\tremaining: 2s\n",
      "167:\tlearn: 138.8837397\ttotal: 403ms\tremaining: 2s\n",
      "168:\tlearn: 138.6951410\ttotal: 405ms\tremaining: 1.99s\n",
      "169:\tlearn: 138.0167618\ttotal: 406ms\tremaining: 1.98s\n",
      "170:\tlearn: 137.7020324\ttotal: 407ms\tremaining: 1.97s\n",
      "171:\tlearn: 137.1976478\ttotal: 408ms\tremaining: 1.97s\n",
      "172:\tlearn: 136.6670434\ttotal: 410ms\tremaining: 1.96s\n",
      "173:\tlearn: 136.4670074\ttotal: 411ms\tremaining: 1.95s\n",
      "174:\tlearn: 136.0663779\ttotal: 412ms\tremaining: 1.94s\n",
      "175:\tlearn: 135.9542221\ttotal: 414ms\tremaining: 1.94s\n",
      "176:\tlearn: 135.6178437\ttotal: 415ms\tremaining: 1.93s\n",
      "177:\tlearn: 134.6062854\ttotal: 416ms\tremaining: 1.92s\n",
      "178:\tlearn: 134.5063344\ttotal: 417ms\tremaining: 1.91s\n",
      "179:\tlearn: 133.9371247\ttotal: 418ms\tremaining: 1.91s\n",
      "180:\tlearn: 133.8431589\ttotal: 419ms\tremaining: 1.89s\n",
      "181:\tlearn: 133.4293648\ttotal: 420ms\tremaining: 1.89s\n",
      "182:\tlearn: 133.2065999\ttotal: 421ms\tremaining: 1.88s\n",
      "183:\tlearn: 132.9235113\ttotal: 423ms\tremaining: 1.87s\n",
      "184:\tlearn: 132.6695944\ttotal: 424ms\tremaining: 1.87s\n",
      "185:\tlearn: 132.3135234\ttotal: 425ms\tremaining: 1.86s\n",
      "186:\tlearn: 132.2233433\ttotal: 426ms\tremaining: 1.85s\n",
      "187:\tlearn: 132.0628764\ttotal: 427ms\tremaining: 1.84s\n",
      "188:\tlearn: 131.8624217\ttotal: 429ms\tremaining: 1.84s\n",
      "189:\tlearn: 131.3846390\ttotal: 430ms\tremaining: 1.83s\n",
      "190:\tlearn: 131.0638781\ttotal: 431ms\tremaining: 1.83s\n",
      "191:\tlearn: 130.4721276\ttotal: 433ms\tremaining: 1.82s\n",
      "192:\tlearn: 129.9910319\ttotal: 434ms\tremaining: 1.81s\n",
      "193:\tlearn: 129.7074214\ttotal: 435ms\tremaining: 1.81s\n",
      "194:\tlearn: 129.0491404\ttotal: 437ms\tremaining: 1.8s\n",
      "195:\tlearn: 128.6928621\ttotal: 438ms\tremaining: 1.8s\n",
      "196:\tlearn: 128.5117514\ttotal: 439ms\tremaining: 1.79s\n",
      "197:\tlearn: 128.4035709\ttotal: 440ms\tremaining: 1.78s\n",
      "198:\tlearn: 127.9924182\ttotal: 442ms\tremaining: 1.78s\n",
      "199:\tlearn: 127.7690317\ttotal: 443ms\tremaining: 1.77s\n",
      "200:\tlearn: 127.6252249\ttotal: 444ms\tremaining: 1.77s\n",
      "201:\tlearn: 127.4951417\ttotal: 446ms\tremaining: 1.76s\n",
      "202:\tlearn: 127.0315349\ttotal: 447ms\tremaining: 1.75s\n",
      "203:\tlearn: 126.7791475\ttotal: 448ms\tremaining: 1.75s\n",
      "204:\tlearn: 126.4903107\ttotal: 450ms\tremaining: 1.74s\n",
      "205:\tlearn: 126.0664803\ttotal: 451ms\tremaining: 1.74s\n",
      "206:\tlearn: 125.3934071\ttotal: 452ms\tremaining: 1.73s\n",
      "207:\tlearn: 125.0899622\ttotal: 454ms\tremaining: 1.73s\n",
      "208:\tlearn: 124.7757310\ttotal: 455ms\tremaining: 1.72s\n",
      "209:\tlearn: 124.5475960\ttotal: 456ms\tremaining: 1.72s\n",
      "210:\tlearn: 124.1962887\ttotal: 457ms\tremaining: 1.71s\n",
      "211:\tlearn: 123.9686937\ttotal: 459ms\tremaining: 1.7s\n",
      "212:\tlearn: 123.0280048\ttotal: 460ms\tremaining: 1.7s\n",
      "213:\tlearn: 122.5447141\ttotal: 461ms\tremaining: 1.69s\n",
      "214:\tlearn: 122.1785305\ttotal: 462ms\tremaining: 1.69s\n",
      "215:\tlearn: 121.4403560\ttotal: 464ms\tremaining: 1.68s\n",
      "216:\tlearn: 120.8269584\ttotal: 466ms\tremaining: 1.68s\n",
      "217:\tlearn: 120.2399329\ttotal: 468ms\tremaining: 1.68s\n",
      "218:\tlearn: 119.4852557\ttotal: 470ms\tremaining: 1.68s\n",
      "219:\tlearn: 119.2094151\ttotal: 472ms\tremaining: 1.67s\n",
      "220:\tlearn: 119.0417229\ttotal: 474ms\tremaining: 1.67s\n",
      "221:\tlearn: 118.9557915\ttotal: 475ms\tremaining: 1.66s\n",
      "222:\tlearn: 118.3082421\ttotal: 476ms\tremaining: 1.66s\n",
      "223:\tlearn: 117.7364211\ttotal: 478ms\tremaining: 1.65s\n",
      "224:\tlearn: 117.6324235\ttotal: 479ms\tremaining: 1.65s\n",
      "225:\tlearn: 117.2879743\ttotal: 480ms\tremaining: 1.64s\n",
      "226:\tlearn: 117.0422612\ttotal: 481ms\tremaining: 1.64s\n",
      "227:\tlearn: 116.8001379\ttotal: 483ms\tremaining: 1.63s\n",
      "228:\tlearn: 116.4854978\ttotal: 484ms\tremaining: 1.63s\n",
      "229:\tlearn: 115.7559740\ttotal: 485ms\tremaining: 1.62s\n",
      "230:\tlearn: 115.1896271\ttotal: 486ms\tremaining: 1.62s\n",
      "231:\tlearn: 114.9666291\ttotal: 488ms\tremaining: 1.61s\n",
      "232:\tlearn: 114.1239318\ttotal: 489ms\tremaining: 1.61s\n",
      "233:\tlearn: 113.9964466\ttotal: 490ms\tremaining: 1.6s\n"
     ]
    },
    {
     "name": "stdout",
     "output_type": "stream",
     "text": [
      "234:\tlearn: 113.8912592\ttotal: 492ms\tremaining: 1.6s\n",
      "235:\tlearn: 113.4606970\ttotal: 494ms\tremaining: 1.6s\n",
      "236:\tlearn: 113.0958922\ttotal: 496ms\tremaining: 1.59s\n",
      "237:\tlearn: 113.0091361\ttotal: 497ms\tremaining: 1.59s\n",
      "238:\tlearn: 112.7657197\ttotal: 498ms\tremaining: 1.59s\n",
      "239:\tlearn: 112.2315070\ttotal: 500ms\tremaining: 1.58s\n",
      "240:\tlearn: 111.9507125\ttotal: 501ms\tremaining: 1.58s\n",
      "241:\tlearn: 111.7384492\ttotal: 502ms\tremaining: 1.57s\n",
      "242:\tlearn: 111.0693763\ttotal: 503ms\tremaining: 1.57s\n",
      "243:\tlearn: 110.3499926\ttotal: 505ms\tremaining: 1.56s\n",
      "244:\tlearn: 110.2316231\ttotal: 506ms\tremaining: 1.56s\n",
      "245:\tlearn: 109.6985998\ttotal: 507ms\tremaining: 1.55s\n",
      "246:\tlearn: 109.4279824\ttotal: 509ms\tremaining: 1.55s\n",
      "247:\tlearn: 109.1466762\ttotal: 510ms\tremaining: 1.55s\n",
      "248:\tlearn: 108.9628542\ttotal: 511ms\tremaining: 1.54s\n",
      "249:\tlearn: 108.7268676\ttotal: 513ms\tremaining: 1.54s\n",
      "250:\tlearn: 108.0921190\ttotal: 514ms\tremaining: 1.53s\n",
      "251:\tlearn: 107.6167844\ttotal: 516ms\tremaining: 1.53s\n",
      "252:\tlearn: 106.9716563\ttotal: 517ms\tremaining: 1.53s\n",
      "253:\tlearn: 106.4272485\ttotal: 519ms\tremaining: 1.52s\n",
      "254:\tlearn: 106.2032614\ttotal: 520ms\tremaining: 1.52s\n",
      "255:\tlearn: 105.5756794\ttotal: 522ms\tremaining: 1.52s\n",
      "256:\tlearn: 105.4918649\ttotal: 523ms\tremaining: 1.51s\n",
      "257:\tlearn: 105.2466976\ttotal: 524ms\tremaining: 1.51s\n",
      "258:\tlearn: 105.0461428\ttotal: 526ms\tremaining: 1.5s\n",
      "259:\tlearn: 104.5887628\ttotal: 527ms\tremaining: 1.5s\n",
      "260:\tlearn: 104.1305873\ttotal: 528ms\tremaining: 1.5s\n",
      "261:\tlearn: 103.5527158\ttotal: 530ms\tremaining: 1.49s\n",
      "262:\tlearn: 103.0334823\ttotal: 531ms\tremaining: 1.49s\n",
      "263:\tlearn: 102.6732388\ttotal: 532ms\tremaining: 1.48s\n",
      "264:\tlearn: 102.4678728\ttotal: 534ms\tremaining: 1.48s\n",
      "265:\tlearn: 101.9608852\ttotal: 535ms\tremaining: 1.48s\n",
      "266:\tlearn: 101.4449668\ttotal: 536ms\tremaining: 1.47s\n",
      "267:\tlearn: 100.9647899\ttotal: 537ms\tremaining: 1.47s\n",
      "268:\tlearn: 100.4376357\ttotal: 541ms\tremaining: 1.47s\n",
      "269:\tlearn: 100.1038322\ttotal: 542ms\tremaining: 1.47s\n",
      "270:\tlearn: 99.8991183\ttotal: 544ms\tremaining: 1.46s\n",
      "271:\tlearn: 99.4016031\ttotal: 545ms\tremaining: 1.46s\n",
      "272:\tlearn: 98.9231252\ttotal: 546ms\tremaining: 1.45s\n",
      "273:\tlearn: 98.5734863\ttotal: 548ms\tremaining: 1.45s\n",
      "274:\tlearn: 98.3333355\ttotal: 549ms\tremaining: 1.45s\n",
      "275:\tlearn: 97.9164082\ttotal: 550ms\tremaining: 1.44s\n",
      "276:\tlearn: 97.3911203\ttotal: 551ms\tremaining: 1.44s\n",
      "277:\tlearn: 96.9317789\ttotal: 553ms\tremaining: 1.44s\n",
      "278:\tlearn: 96.6243997\ttotal: 554ms\tremaining: 1.43s\n",
      "279:\tlearn: 96.3288821\ttotal: 555ms\tremaining: 1.43s\n",
      "280:\tlearn: 95.8579534\ttotal: 557ms\tremaining: 1.42s\n",
      "281:\tlearn: 95.4136026\ttotal: 558ms\tremaining: 1.42s\n",
      "282:\tlearn: 95.3442077\ttotal: 559ms\tremaining: 1.42s\n",
      "283:\tlearn: 95.1166584\ttotal: 560ms\tremaining: 1.41s\n",
      "284:\tlearn: 94.8017360\ttotal: 562ms\tremaining: 1.41s\n",
      "285:\tlearn: 94.5863908\ttotal: 563ms\tremaining: 1.41s\n",
      "286:\tlearn: 94.4111694\ttotal: 565ms\tremaining: 1.4s\n",
      "287:\tlearn: 94.2678024\ttotal: 567ms\tremaining: 1.4s\n",
      "288:\tlearn: 93.7753419\ttotal: 568ms\tremaining: 1.4s\n",
      "289:\tlearn: 93.3772710\ttotal: 570ms\tremaining: 1.39s\n",
      "290:\tlearn: 92.8750904\ttotal: 571ms\tremaining: 1.39s\n",
      "291:\tlearn: 92.6654794\ttotal: 572ms\tremaining: 1.39s\n",
      "292:\tlearn: 92.2659876\ttotal: 573ms\tremaining: 1.38s\n",
      "293:\tlearn: 92.0282495\ttotal: 575ms\tremaining: 1.38s\n",
      "294:\tlearn: 91.8288855\ttotal: 576ms\tremaining: 1.38s\n",
      "295:\tlearn: 91.6752612\ttotal: 577ms\tremaining: 1.37s\n",
      "296:\tlearn: 91.2561883\ttotal: 578ms\tremaining: 1.37s\n",
      "297:\tlearn: 91.0227123\ttotal: 580ms\tremaining: 1.36s\n",
      "298:\tlearn: 90.8392142\ttotal: 581ms\tremaining: 1.36s\n",
      "299:\tlearn: 90.6853014\ttotal: 582ms\tremaining: 1.36s\n",
      "300:\tlearn: 90.5986761\ttotal: 584ms\tremaining: 1.35s\n",
      "301:\tlearn: 90.2180036\ttotal: 585ms\tremaining: 1.35s\n",
      "302:\tlearn: 89.8313622\ttotal: 586ms\tremaining: 1.35s\n",
      "303:\tlearn: 89.6872837\ttotal: 587ms\tremaining: 1.34s\n",
      "304:\tlearn: 89.3853276\ttotal: 589ms\tremaining: 1.34s\n",
      "305:\tlearn: 88.9459206\ttotal: 590ms\tremaining: 1.34s\n",
      "306:\tlearn: 88.7258770\ttotal: 591ms\tremaining: 1.33s\n",
      "307:\tlearn: 88.5374358\ttotal: 592ms\tremaining: 1.33s\n",
      "308:\tlearn: 88.0624447\ttotal: 593ms\tremaining: 1.33s\n",
      "309:\tlearn: 87.7942692\ttotal: 595ms\tremaining: 1.32s\n",
      "310:\tlearn: 87.6354184\ttotal: 596ms\tremaining: 1.32s\n",
      "311:\tlearn: 87.4879486\ttotal: 598ms\tremaining: 1.32s\n",
      "312:\tlearn: 87.0294739\ttotal: 599ms\tremaining: 1.31s\n",
      "313:\tlearn: 86.6746221\ttotal: 600ms\tremaining: 1.31s\n",
      "314:\tlearn: 86.2792146\ttotal: 601ms\tremaining: 1.31s\n",
      "315:\tlearn: 86.2127070\ttotal: 602ms\tremaining: 1.3s\n",
      "316:\tlearn: 86.1507368\ttotal: 604ms\tremaining: 1.3s\n",
      "317:\tlearn: 85.7089141\ttotal: 605ms\tremaining: 1.3s\n",
      "318:\tlearn: 85.6035137\ttotal: 606ms\tremaining: 1.29s\n",
      "319:\tlearn: 85.3587988\ttotal: 607ms\tremaining: 1.29s\n",
      "320:\tlearn: 84.9660906\ttotal: 609ms\tremaining: 1.29s\n",
      "321:\tlearn: 84.5474713\ttotal: 610ms\tremaining: 1.28s\n",
      "322:\tlearn: 84.1996852\ttotal: 612ms\tremaining: 1.28s\n",
      "323:\tlearn: 84.0654282\ttotal: 613ms\tremaining: 1.28s\n",
      "324:\tlearn: 83.7937327\ttotal: 615ms\tremaining: 1.28s\n",
      "325:\tlearn: 83.5064288\ttotal: 617ms\tremaining: 1.27s\n",
      "326:\tlearn: 83.3997655\ttotal: 618ms\tremaining: 1.27s\n",
      "327:\tlearn: 83.2958622\ttotal: 619ms\tremaining: 1.27s\n",
      "328:\tlearn: 82.9877578\ttotal: 620ms\tremaining: 1.26s\n",
      "329:\tlearn: 82.6286638\ttotal: 622ms\tremaining: 1.26s\n",
      "330:\tlearn: 82.2827132\ttotal: 623ms\tremaining: 1.26s\n",
      "331:\tlearn: 82.0895251\ttotal: 624ms\tremaining: 1.26s\n",
      "332:\tlearn: 82.0130649\ttotal: 626ms\tremaining: 1.25s\n",
      "333:\tlearn: 81.6771734\ttotal: 627ms\tremaining: 1.25s\n",
      "334:\tlearn: 81.3519124\ttotal: 628ms\tremaining: 1.25s\n",
      "335:\tlearn: 81.0170326\ttotal: 629ms\tremaining: 1.24s\n",
      "336:\tlearn: 80.6917886\ttotal: 631ms\tremaining: 1.24s\n",
      "337:\tlearn: 80.3455177\ttotal: 632ms\tremaining: 1.24s\n",
      "338:\tlearn: 80.0260727\ttotal: 633ms\tremaining: 1.23s\n",
      "339:\tlearn: 79.9154748\ttotal: 634ms\tremaining: 1.23s\n",
      "340:\tlearn: 79.7813079\ttotal: 636ms\tremaining: 1.23s\n",
      "341:\tlearn: 79.3513293\ttotal: 637ms\tremaining: 1.23s\n",
      "342:\tlearn: 78.8666019\ttotal: 639ms\tremaining: 1.22s\n",
      "343:\tlearn: 78.7959013\ttotal: 642ms\tremaining: 1.22s\n",
      "344:\tlearn: 78.7081334\ttotal: 644ms\tremaining: 1.22s\n",
      "345:\tlearn: 78.3354931\ttotal: 648ms\tremaining: 1.22s\n",
      "346:\tlearn: 77.9475067\ttotal: 650ms\tremaining: 1.22s\n",
      "347:\tlearn: 77.8910420\ttotal: 652ms\tremaining: 1.22s\n",
      "348:\tlearn: 77.5461672\ttotal: 654ms\tremaining: 1.22s\n",
      "349:\tlearn: 77.3717101\ttotal: 656ms\tremaining: 1.22s\n",
      "350:\tlearn: 77.0729657\ttotal: 657ms\tremaining: 1.22s\n",
      "351:\tlearn: 76.7699287\ttotal: 659ms\tremaining: 1.21s\n",
      "352:\tlearn: 76.6029759\ttotal: 660ms\tremaining: 1.21s\n",
      "353:\tlearn: 76.1642615\ttotal: 662ms\tremaining: 1.21s\n",
      "354:\tlearn: 76.1202523\ttotal: 663ms\tremaining: 1.2s\n",
      "355:\tlearn: 75.9487132\ttotal: 664ms\tremaining: 1.2s\n",
      "356:\tlearn: 75.6748479\ttotal: 666ms\tremaining: 1.2s\n",
      "357:\tlearn: 75.4290864\ttotal: 667ms\tremaining: 1.2s\n",
      "358:\tlearn: 75.0463849\ttotal: 668ms\tremaining: 1.19s\n",
      "359:\tlearn: 74.9902381\ttotal: 670ms\tremaining: 1.19s\n",
      "360:\tlearn: 74.5243875\ttotal: 671ms\tremaining: 1.19s\n",
      "361:\tlearn: 74.1913065\ttotal: 673ms\tremaining: 1.19s\n",
      "362:\tlearn: 73.8413359\ttotal: 674ms\tremaining: 1.18s\n",
      "363:\tlearn: 73.7602119\ttotal: 675ms\tremaining: 1.18s\n",
      "364:\tlearn: 73.3278135\ttotal: 677ms\tremaining: 1.18s\n",
      "365:\tlearn: 72.9524336\ttotal: 678ms\tremaining: 1.17s\n",
      "366:\tlearn: 72.6791856\ttotal: 679ms\tremaining: 1.17s\n",
      "367:\tlearn: 72.4333577\ttotal: 680ms\tremaining: 1.17s\n",
      "368:\tlearn: 72.1672937\ttotal: 682ms\tremaining: 1.17s\n",
      "369:\tlearn: 71.9070276\ttotal: 683ms\tremaining: 1.16s\n",
      "370:\tlearn: 71.5496196\ttotal: 685ms\tremaining: 1.16s\n",
      "371:\tlearn: 71.3161902\ttotal: 686ms\tremaining: 1.16s\n",
      "372:\tlearn: 71.1259191\ttotal: 687ms\tremaining: 1.16s\n",
      "373:\tlearn: 70.9889962\ttotal: 689ms\tremaining: 1.15s\n",
      "374:\tlearn: 70.7417966\ttotal: 690ms\tremaining: 1.15s\n",
      "375:\tlearn: 70.4931174\ttotal: 691ms\tremaining: 1.15s\n",
      "376:\tlearn: 70.3300576\ttotal: 693ms\tremaining: 1.14s\n",
      "377:\tlearn: 69.9233248\ttotal: 694ms\tremaining: 1.14s\n",
      "378:\tlearn: 69.6261005\ttotal: 695ms\tremaining: 1.14s\n",
      "379:\tlearn: 69.3989708\ttotal: 696ms\tremaining: 1.14s\n",
      "380:\tlearn: 69.0085387\ttotal: 698ms\tremaining: 1.13s\n",
      "381:\tlearn: 68.7604153\ttotal: 700ms\tremaining: 1.13s\n",
      "382:\tlearn: 68.4602767\ttotal: 701ms\tremaining: 1.13s\n",
      "383:\tlearn: 68.1005452\ttotal: 702ms\tremaining: 1.13s\n",
      "384:\tlearn: 68.0540467\ttotal: 704ms\tremaining: 1.12s\n",
      "385:\tlearn: 67.8972753\ttotal: 705ms\tremaining: 1.12s\n",
      "386:\tlearn: 67.5389629\ttotal: 706ms\tremaining: 1.12s\n",
      "387:\tlearn: 67.2390178\ttotal: 708ms\tremaining: 1.12s\n",
      "388:\tlearn: 67.0279888\ttotal: 709ms\tremaining: 1.11s\n",
      "389:\tlearn: 66.8375919\ttotal: 710ms\tremaining: 1.11s\n",
      "390:\tlearn: 66.4118315\ttotal: 711ms\tremaining: 1.11s\n",
      "391:\tlearn: 66.3642690\ttotal: 713ms\tremaining: 1.1s\n",
      "392:\tlearn: 66.1673138\ttotal: 714ms\tremaining: 1.1s\n",
      "393:\tlearn: 66.0177482\ttotal: 716ms\tremaining: 1.1s\n",
      "394:\tlearn: 65.8018038\ttotal: 717ms\tremaining: 1.1s\n",
      "395:\tlearn: 65.6886505\ttotal: 719ms\tremaining: 1.1s\n",
      "396:\tlearn: 65.6120185\ttotal: 720ms\tremaining: 1.09s\n",
      "397:\tlearn: 65.5746662\ttotal: 721ms\tremaining: 1.09s\n",
      "398:\tlearn: 65.2974851\ttotal: 723ms\tremaining: 1.09s\n",
      "399:\tlearn: 65.2464764\ttotal: 724ms\tremaining: 1.09s\n",
      "400:\tlearn: 65.1241314\ttotal: 725ms\tremaining: 1.08s\n",
      "401:\tlearn: 65.0515740\ttotal: 727ms\tremaining: 1.08s\n",
      "402:\tlearn: 64.8089636\ttotal: 728ms\tremaining: 1.08s\n",
      "403:\tlearn: 64.5992230\ttotal: 729ms\tremaining: 1.07s\n",
      "404:\tlearn: 64.2907010\ttotal: 730ms\tremaining: 1.07s\n",
      "405:\tlearn: 64.1568642\ttotal: 732ms\tremaining: 1.07s\n",
      "406:\tlearn: 63.8279106\ttotal: 733ms\tremaining: 1.07s\n",
      "407:\tlearn: 63.5558565\ttotal: 734ms\tremaining: 1.06s\n",
      "408:\tlearn: 63.3865445\ttotal: 736ms\tremaining: 1.06s\n",
      "409:\tlearn: 63.2752408\ttotal: 737ms\tremaining: 1.06s\n",
      "410:\tlearn: 63.1070190\ttotal: 738ms\tremaining: 1.06s\n",
      "411:\tlearn: 62.7868376\ttotal: 739ms\tremaining: 1.05s\n",
      "412:\tlearn: 62.5345803\ttotal: 741ms\tremaining: 1.05s\n",
      "413:\tlearn: 62.2729058\ttotal: 742ms\tremaining: 1.05s\n",
      "414:\tlearn: 61.9850985\ttotal: 743ms\tremaining: 1.05s\n",
      "415:\tlearn: 61.7784164\ttotal: 744ms\tremaining: 1.04s\n",
      "416:\tlearn: 61.7431976\ttotal: 745ms\tremaining: 1.04s\n",
      "417:\tlearn: 61.4309964\ttotal: 747ms\tremaining: 1.04s\n",
      "418:\tlearn: 61.3513660\ttotal: 748ms\tremaining: 1.04s\n",
      "419:\tlearn: 61.1253739\ttotal: 749ms\tremaining: 1.03s\n",
      "420:\tlearn: 61.0742571\ttotal: 750ms\tremaining: 1.03s\n",
      "421:\tlearn: 61.0390980\ttotal: 752ms\tremaining: 1.03s\n",
      "422:\tlearn: 61.0095757\ttotal: 753ms\tremaining: 1.03s\n",
      "423:\tlearn: 60.6843255\ttotal: 755ms\tremaining: 1.02s\n",
      "424:\tlearn: 60.4045551\ttotal: 756ms\tremaining: 1.02s\n",
      "425:\tlearn: 60.3649587\ttotal: 757ms\tremaining: 1.02s\n",
      "426:\tlearn: 60.3315828\ttotal: 759ms\tremaining: 1.02s\n",
      "427:\tlearn: 60.1047027\ttotal: 760ms\tremaining: 1.01s\n",
      "428:\tlearn: 59.9170736\ttotal: 762ms\tremaining: 1.01s\n",
      "429:\tlearn: 59.6875648\ttotal: 763ms\tremaining: 1.01s\n",
      "430:\tlearn: 59.6662150\ttotal: 764ms\tremaining: 1.01s\n",
      "431:\tlearn: 59.4208112\ttotal: 766ms\tremaining: 1.01s\n",
      "432:\tlearn: 59.2358034\ttotal: 767ms\tremaining: 1s\n",
      "433:\tlearn: 58.9818868\ttotal: 769ms\tremaining: 1s\n",
      "434:\tlearn: 58.7089433\ttotal: 770ms\tremaining: 1s\n",
      "435:\tlearn: 58.5898817\ttotal: 772ms\tremaining: 998ms\n",
      "436:\tlearn: 58.5425342\ttotal: 773ms\tremaining: 996ms\n",
      "437:\tlearn: 58.2884605\ttotal: 775ms\tremaining: 994ms\n",
      "438:\tlearn: 58.2643873\ttotal: 776ms\tremaining: 992ms\n",
      "439:\tlearn: 58.2330868\ttotal: 778ms\tremaining: 990ms\n",
      "440:\tlearn: 57.9676592\ttotal: 779ms\tremaining: 988ms\n",
      "441:\tlearn: 57.7670212\ttotal: 781ms\tremaining: 985ms\n",
      "442:\tlearn: 57.5322464\ttotal: 782ms\tremaining: 983ms\n",
      "443:\tlearn: 57.2771620\ttotal: 783ms\tremaining: 981ms\n",
      "444:\tlearn: 57.0227885\ttotal: 785ms\tremaining: 979ms\n",
      "445:\tlearn: 56.7616770\ttotal: 786ms\tremaining: 976ms\n",
      "446:\tlearn: 56.7367450\ttotal: 788ms\tremaining: 975ms\n",
      "447:\tlearn: 56.6715001\ttotal: 789ms\tremaining: 972ms\n",
      "448:\tlearn: 56.4881346\ttotal: 791ms\tremaining: 970ms\n",
      "449:\tlearn: 56.3749776\ttotal: 792ms\tremaining: 968ms\n",
      "450:\tlearn: 56.2172319\ttotal: 793ms\tremaining: 966ms\n",
      "451:\tlearn: 55.9461925\ttotal: 795ms\tremaining: 964ms\n",
      "452:\tlearn: 55.8884270\ttotal: 797ms\tremaining: 962ms\n",
      "453:\tlearn: 55.7987432\ttotal: 798ms\tremaining: 960ms\n",
      "454:\tlearn: 55.7376337\ttotal: 800ms\tremaining: 959ms\n",
      "455:\tlearn: 55.5150595\ttotal: 802ms\tremaining: 957ms\n",
      "456:\tlearn: 55.4819680\ttotal: 804ms\tremaining: 955ms\n",
      "457:\tlearn: 55.1719919\ttotal: 805ms\tremaining: 953ms\n",
      "458:\tlearn: 55.1295759\ttotal: 806ms\tremaining: 951ms\n",
      "459:\tlearn: 55.0856302\ttotal: 808ms\tremaining: 948ms\n",
      "460:\tlearn: 54.8056235\ttotal: 809ms\tremaining: 946ms\n"
     ]
    },
    {
     "name": "stdout",
     "output_type": "stream",
     "text": [
      "461:\tlearn: 54.4030407\ttotal: 811ms\tremaining: 945ms\n",
      "462:\tlearn: 54.3308204\ttotal: 813ms\tremaining: 943ms\n",
      "463:\tlearn: 54.0283724\ttotal: 815ms\tremaining: 941ms\n",
      "464:\tlearn: 53.9962714\ttotal: 816ms\tremaining: 939ms\n",
      "465:\tlearn: 53.8149476\ttotal: 818ms\tremaining: 937ms\n",
      "466:\tlearn: 53.7806209\ttotal: 819ms\tremaining: 935ms\n",
      "467:\tlearn: 53.7585727\ttotal: 821ms\tremaining: 933ms\n",
      "468:\tlearn: 53.5042777\ttotal: 822ms\tremaining: 931ms\n",
      "469:\tlearn: 53.3257034\ttotal: 824ms\tremaining: 929ms\n",
      "470:\tlearn: 53.0801119\ttotal: 826ms\tremaining: 927ms\n",
      "471:\tlearn: 53.0136550\ttotal: 827ms\tremaining: 925ms\n",
      "472:\tlearn: 52.9408930\ttotal: 829ms\tremaining: 924ms\n",
      "473:\tlearn: 52.7089062\ttotal: 831ms\tremaining: 922ms\n",
      "474:\tlearn: 52.6819781\ttotal: 833ms\tremaining: 920ms\n",
      "475:\tlearn: 52.5065568\ttotal: 834ms\tremaining: 918ms\n",
      "476:\tlearn: 52.3688770\ttotal: 836ms\tremaining: 916ms\n",
      "477:\tlearn: 52.2402473\ttotal: 837ms\tremaining: 914ms\n",
      "478:\tlearn: 52.1406517\ttotal: 838ms\tremaining: 912ms\n",
      "479:\tlearn: 52.1107144\ttotal: 839ms\tremaining: 909ms\n",
      "480:\tlearn: 51.9239449\ttotal: 841ms\tremaining: 907ms\n",
      "481:\tlearn: 51.7096820\ttotal: 842ms\tremaining: 905ms\n",
      "482:\tlearn: 51.6266918\ttotal: 844ms\tremaining: 903ms\n",
      "483:\tlearn: 51.5969797\ttotal: 845ms\tremaining: 901ms\n",
      "484:\tlearn: 51.4480162\ttotal: 847ms\tremaining: 900ms\n",
      "485:\tlearn: 51.2269261\ttotal: 849ms\tremaining: 898ms\n",
      "486:\tlearn: 50.9904632\ttotal: 850ms\tremaining: 896ms\n",
      "487:\tlearn: 50.9342043\ttotal: 852ms\tremaining: 893ms\n",
      "488:\tlearn: 50.8423680\ttotal: 853ms\tremaining: 891ms\n",
      "489:\tlearn: 50.7269788\ttotal: 855ms\tremaining: 889ms\n",
      "490:\tlearn: 50.5384699\ttotal: 856ms\tremaining: 887ms\n",
      "491:\tlearn: 50.5047793\ttotal: 857ms\tremaining: 885ms\n",
      "492:\tlearn: 50.3234448\ttotal: 859ms\tremaining: 883ms\n",
      "493:\tlearn: 50.1653421\ttotal: 860ms\tremaining: 881ms\n",
      "494:\tlearn: 49.9835558\ttotal: 862ms\tremaining: 879ms\n",
      "495:\tlearn: 49.8884283\ttotal: 863ms\tremaining: 877ms\n",
      "496:\tlearn: 49.6217364\ttotal: 865ms\tremaining: 875ms\n",
      "497:\tlearn: 49.5268562\ttotal: 866ms\tremaining: 873ms\n",
      "498:\tlearn: 49.3078402\ttotal: 867ms\tremaining: 871ms\n",
      "499:\tlearn: 49.2571676\ttotal: 869ms\tremaining: 869ms\n",
      "500:\tlearn: 49.2173141\ttotal: 870ms\tremaining: 867ms\n",
      "501:\tlearn: 48.9813103\ttotal: 871ms\tremaining: 864ms\n",
      "502:\tlearn: 48.8304542\ttotal: 873ms\tremaining: 862ms\n",
      "503:\tlearn: 48.7430936\ttotal: 874ms\tremaining: 860ms\n",
      "504:\tlearn: 48.5493989\ttotal: 875ms\tremaining: 858ms\n",
      "505:\tlearn: 48.5134839\ttotal: 876ms\tremaining: 856ms\n",
      "506:\tlearn: 48.3516141\ttotal: 878ms\tremaining: 853ms\n",
      "507:\tlearn: 48.0631542\ttotal: 879ms\tremaining: 851ms\n",
      "508:\tlearn: 47.8591880\ttotal: 880ms\tremaining: 849ms\n",
      "509:\tlearn: 47.7182444\ttotal: 882ms\tremaining: 847ms\n",
      "510:\tlearn: 47.6301870\ttotal: 883ms\tremaining: 845ms\n",
      "511:\tlearn: 47.4767324\ttotal: 884ms\tremaining: 843ms\n",
      "512:\tlearn: 47.2822625\ttotal: 885ms\tremaining: 841ms\n",
      "513:\tlearn: 47.1022658\ttotal: 887ms\tremaining: 838ms\n",
      "514:\tlearn: 47.0536181\ttotal: 888ms\tremaining: 836ms\n",
      "515:\tlearn: 47.0249559\ttotal: 889ms\tremaining: 834ms\n",
      "516:\tlearn: 46.8789720\ttotal: 891ms\tremaining: 832ms\n",
      "517:\tlearn: 46.7133769\ttotal: 892ms\tremaining: 830ms\n",
      "518:\tlearn: 46.5157986\ttotal: 893ms\tremaining: 828ms\n",
      "519:\tlearn: 46.3630405\ttotal: 895ms\tremaining: 826ms\n",
      "520:\tlearn: 46.1730188\ttotal: 896ms\tremaining: 824ms\n",
      "521:\tlearn: 46.1360908\ttotal: 897ms\tremaining: 822ms\n",
      "522:\tlearn: 45.9652487\ttotal: 898ms\tremaining: 819ms\n",
      "523:\tlearn: 45.8122703\ttotal: 900ms\tremaining: 817ms\n",
      "524:\tlearn: 45.4984451\ttotal: 901ms\tremaining: 815ms\n",
      "525:\tlearn: 45.3161076\ttotal: 902ms\tremaining: 813ms\n",
      "526:\tlearn: 45.2802854\ttotal: 904ms\tremaining: 811ms\n",
      "527:\tlearn: 45.2448275\ttotal: 905ms\tremaining: 809ms\n",
      "528:\tlearn: 45.0816321\ttotal: 906ms\tremaining: 807ms\n",
      "529:\tlearn: 44.9794319\ttotal: 908ms\tremaining: 805ms\n",
      "530:\tlearn: 44.6832140\ttotal: 909ms\tremaining: 803ms\n",
      "531:\tlearn: 44.4460046\ttotal: 910ms\tremaining: 801ms\n",
      "532:\tlearn: 44.2118287\ttotal: 912ms\tremaining: 799ms\n",
      "533:\tlearn: 44.0693524\ttotal: 913ms\tremaining: 797ms\n",
      "534:\tlearn: 43.7781614\ttotal: 914ms\tremaining: 795ms\n",
      "535:\tlearn: 43.5541731\ttotal: 916ms\tremaining: 793ms\n",
      "536:\tlearn: 43.5134866\ttotal: 917ms\tremaining: 791ms\n",
      "537:\tlearn: 43.3609810\ttotal: 918ms\tremaining: 789ms\n",
      "538:\tlearn: 43.1828364\ttotal: 920ms\tremaining: 787ms\n",
      "539:\tlearn: 43.1681810\ttotal: 920ms\tremaining: 784ms\n",
      "540:\tlearn: 43.0597548\ttotal: 922ms\tremaining: 782ms\n",
      "541:\tlearn: 43.0399237\ttotal: 923ms\tremaining: 780ms\n",
      "542:\tlearn: 42.7955247\ttotal: 924ms\tremaining: 778ms\n",
      "543:\tlearn: 42.5339065\ttotal: 925ms\tremaining: 776ms\n",
      "544:\tlearn: 42.4295635\ttotal: 927ms\tremaining: 774ms\n",
      "545:\tlearn: 42.2338376\ttotal: 928ms\tremaining: 772ms\n",
      "546:\tlearn: 42.0124060\ttotal: 929ms\tremaining: 770ms\n",
      "547:\tlearn: 41.8255183\ttotal: 930ms\tremaining: 767ms\n",
      "548:\tlearn: 41.6388681\ttotal: 932ms\tremaining: 765ms\n",
      "549:\tlearn: 41.4001270\ttotal: 933ms\tremaining: 763ms\n",
      "550:\tlearn: 41.1013528\ttotal: 934ms\tremaining: 761ms\n",
      "551:\tlearn: 41.0100295\ttotal: 936ms\tremaining: 759ms\n",
      "552:\tlearn: 40.9906076\ttotal: 937ms\tremaining: 757ms\n",
      "553:\tlearn: 40.8809109\ttotal: 938ms\tremaining: 755ms\n",
      "554:\tlearn: 40.7831302\ttotal: 940ms\tremaining: 754ms\n",
      "555:\tlearn: 40.7317763\ttotal: 941ms\tremaining: 751ms\n",
      "556:\tlearn: 40.6321710\ttotal: 942ms\tremaining: 749ms\n",
      "557:\tlearn: 40.4475073\ttotal: 944ms\tremaining: 747ms\n",
      "558:\tlearn: 40.2859957\ttotal: 945ms\tremaining: 746ms\n",
      "559:\tlearn: 40.0262057\ttotal: 946ms\tremaining: 744ms\n",
      "560:\tlearn: 39.9326350\ttotal: 948ms\tremaining: 742ms\n",
      "561:\tlearn: 39.8735956\ttotal: 949ms\tremaining: 740ms\n",
      "562:\tlearn: 39.7083019\ttotal: 950ms\tremaining: 738ms\n",
      "563:\tlearn: 39.5379855\ttotal: 952ms\tremaining: 736ms\n",
      "564:\tlearn: 39.3451301\ttotal: 953ms\tremaining: 734ms\n",
      "565:\tlearn: 39.2041273\ttotal: 954ms\tremaining: 732ms\n",
      "566:\tlearn: 38.9870162\ttotal: 956ms\tremaining: 730ms\n",
      "567:\tlearn: 38.8638040\ttotal: 957ms\tremaining: 728ms\n",
      "568:\tlearn: 38.7752116\ttotal: 958ms\tremaining: 726ms\n",
      "569:\tlearn: 38.6530297\ttotal: 960ms\tremaining: 724ms\n",
      "570:\tlearn: 38.5505372\ttotal: 962ms\tremaining: 723ms\n",
      "571:\tlearn: 38.5134486\ttotal: 963ms\tremaining: 721ms\n",
      "572:\tlearn: 38.3680902\ttotal: 965ms\tremaining: 719ms\n",
      "573:\tlearn: 38.1897295\ttotal: 966ms\tremaining: 717ms\n",
      "574:\tlearn: 38.1083536\ttotal: 967ms\tremaining: 715ms\n",
      "575:\tlearn: 37.9229216\ttotal: 969ms\tremaining: 713ms\n",
      "576:\tlearn: 37.8377087\ttotal: 970ms\tremaining: 711ms\n",
      "577:\tlearn: 37.7966900\ttotal: 972ms\tremaining: 710ms\n",
      "578:\tlearn: 37.6700761\ttotal: 973ms\tremaining: 708ms\n",
      "579:\tlearn: 37.6355177\ttotal: 974ms\tremaining: 706ms\n",
      "580:\tlearn: 37.4648199\ttotal: 976ms\tremaining: 704ms\n",
      "581:\tlearn: 37.2959505\ttotal: 977ms\tremaining: 702ms\n",
      "582:\tlearn: 37.1423961\ttotal: 979ms\tremaining: 701ms\n",
      "583:\tlearn: 36.9297315\ttotal: 981ms\tremaining: 699ms\n",
      "584:\tlearn: 36.8850382\ttotal: 1s\tremaining: 712ms\n",
      "585:\tlearn: 36.7546519\ttotal: 1s\tremaining: 710ms\n",
      "586:\tlearn: 36.7377554\ttotal: 1.01s\tremaining: 708ms\n",
      "587:\tlearn: 36.6899102\ttotal: 1.01s\tremaining: 706ms\n",
      "588:\tlearn: 36.5617094\ttotal: 1.01s\tremaining: 704ms\n",
      "589:\tlearn: 36.4272921\ttotal: 1.01s\tremaining: 702ms\n",
      "590:\tlearn: 36.2657889\ttotal: 1.01s\tremaining: 700ms\n",
      "591:\tlearn: 36.2539345\ttotal: 1.01s\tremaining: 698ms\n",
      "592:\tlearn: 36.2314399\ttotal: 1.01s\tremaining: 696ms\n",
      "593:\tlearn: 36.0683824\ttotal: 1.01s\tremaining: 694ms\n",
      "594:\tlearn: 35.9283095\ttotal: 1.02s\tremaining: 693ms\n",
      "595:\tlearn: 35.7968288\ttotal: 1.02s\tremaining: 692ms\n",
      "596:\tlearn: 35.7223423\ttotal: 1.02s\tremaining: 691ms\n",
      "597:\tlearn: 35.5848854\ttotal: 1.02s\tremaining: 689ms\n",
      "598:\tlearn: 35.4754344\ttotal: 1.03s\tremaining: 687ms\n",
      "599:\tlearn: 35.3533890\ttotal: 1.03s\tremaining: 686ms\n",
      "600:\tlearn: 35.2201505\ttotal: 1.03s\tremaining: 685ms\n",
      "601:\tlearn: 35.0873272\ttotal: 1.03s\tremaining: 683ms\n",
      "602:\tlearn: 35.0461873\ttotal: 1.03s\tremaining: 681ms\n",
      "603:\tlearn: 34.9273071\ttotal: 1.03s\tremaining: 679ms\n",
      "604:\tlearn: 34.8162855\ttotal: 1.04s\tremaining: 677ms\n",
      "605:\tlearn: 34.7130059\ttotal: 1.04s\tremaining: 676ms\n",
      "606:\tlearn: 34.5585617\ttotal: 1.04s\tremaining: 674ms\n",
      "607:\tlearn: 34.4611907\ttotal: 1.04s\tremaining: 672ms\n",
      "608:\tlearn: 34.4326546\ttotal: 1.04s\tremaining: 670ms\n",
      "609:\tlearn: 34.2846979\ttotal: 1.04s\tremaining: 668ms\n",
      "610:\tlearn: 34.1734501\ttotal: 1.05s\tremaining: 666ms\n",
      "611:\tlearn: 34.0230965\ttotal: 1.05s\tremaining: 664ms\n",
      "612:\tlearn: 33.8282501\ttotal: 1.05s\tremaining: 662ms\n",
      "613:\tlearn: 33.7746747\ttotal: 1.05s\tremaining: 660ms\n",
      "614:\tlearn: 33.7068386\ttotal: 1.05s\tremaining: 658ms\n",
      "615:\tlearn: 33.5780800\ttotal: 1.05s\tremaining: 656ms\n",
      "616:\tlearn: 33.4695325\ttotal: 1.05s\tremaining: 654ms\n",
      "617:\tlearn: 33.3463443\ttotal: 1.05s\tremaining: 652ms\n",
      "618:\tlearn: 33.2877395\ttotal: 1.06s\tremaining: 650ms\n",
      "619:\tlearn: 33.2418826\ttotal: 1.06s\tremaining: 648ms\n",
      "620:\tlearn: 33.1045465\ttotal: 1.06s\tremaining: 646ms\n",
      "621:\tlearn: 32.9400639\ttotal: 1.06s\tremaining: 644ms\n",
      "622:\tlearn: 32.8996970\ttotal: 1.06s\tremaining: 642ms\n",
      "623:\tlearn: 32.7429487\ttotal: 1.06s\tremaining: 640ms\n",
      "624:\tlearn: 32.6132355\ttotal: 1.06s\tremaining: 638ms\n",
      "625:\tlearn: 32.4714976\ttotal: 1.06s\tremaining: 636ms\n",
      "626:\tlearn: 32.4320448\ttotal: 1.07s\tremaining: 634ms\n",
      "627:\tlearn: 32.2628258\ttotal: 1.07s\tremaining: 632ms\n",
      "628:\tlearn: 32.2038569\ttotal: 1.07s\tremaining: 630ms\n",
      "629:\tlearn: 32.0940738\ttotal: 1.07s\tremaining: 629ms\n",
      "630:\tlearn: 32.0068495\ttotal: 1.07s\tremaining: 627ms\n",
      "631:\tlearn: 31.9053748\ttotal: 1.07s\tremaining: 625ms\n",
      "632:\tlearn: 31.7715772\ttotal: 1.07s\tremaining: 623ms\n",
      "633:\tlearn: 31.6687835\ttotal: 1.07s\tremaining: 621ms\n",
      "634:\tlearn: 31.6368050\ttotal: 1.08s\tremaining: 619ms\n",
      "635:\tlearn: 31.5709628\ttotal: 1.08s\tremaining: 617ms\n",
      "636:\tlearn: 31.4052213\ttotal: 1.08s\tremaining: 616ms\n",
      "637:\tlearn: 31.2452229\ttotal: 1.08s\tremaining: 614ms\n",
      "638:\tlearn: 31.1221828\ttotal: 1.08s\tremaining: 612ms\n",
      "639:\tlearn: 31.0853500\ttotal: 1.08s\tremaining: 610ms\n",
      "640:\tlearn: 30.9167355\ttotal: 1.08s\tremaining: 608ms\n",
      "641:\tlearn: 30.8667253\ttotal: 1.09s\tremaining: 606ms\n",
      "642:\tlearn: 30.7427129\ttotal: 1.09s\tremaining: 605ms\n",
      "643:\tlearn: 30.5748228\ttotal: 1.09s\tremaining: 603ms\n",
      "644:\tlearn: 30.5080592\ttotal: 1.09s\tremaining: 601ms\n",
      "645:\tlearn: 30.3444228\ttotal: 1.09s\tremaining: 599ms\n",
      "646:\tlearn: 30.1858385\ttotal: 1.09s\tremaining: 597ms\n",
      "647:\tlearn: 30.1481951\ttotal: 1.09s\tremaining: 595ms\n",
      "648:\tlearn: 30.1139150\ttotal: 1.1s\tremaining: 593ms\n",
      "649:\tlearn: 30.0147177\ttotal: 1.1s\tremaining: 591ms\n",
      "650:\tlearn: 29.8610501\ttotal: 1.1s\tremaining: 589ms\n",
      "651:\tlearn: 29.7793561\ttotal: 1.1s\tremaining: 587ms\n",
      "652:\tlearn: 29.6870188\ttotal: 1.1s\tremaining: 585ms\n",
      "653:\tlearn: 29.6229921\ttotal: 1.1s\tremaining: 584ms\n",
      "654:\tlearn: 29.5806823\ttotal: 1.1s\tremaining: 582ms\n",
      "655:\tlearn: 29.4903496\ttotal: 1.1s\tremaining: 580ms\n",
      "656:\tlearn: 29.4011642\ttotal: 1.11s\tremaining: 578ms\n",
      "657:\tlearn: 29.3880977\ttotal: 1.11s\tremaining: 576ms\n",
      "658:\tlearn: 29.2615919\ttotal: 1.11s\tremaining: 574ms\n",
      "659:\tlearn: 29.1004727\ttotal: 1.11s\tremaining: 572ms\n",
      "660:\tlearn: 29.0530692\ttotal: 1.11s\tremaining: 570ms\n",
      "661:\tlearn: 28.9863628\ttotal: 1.11s\tremaining: 569ms\n",
      "662:\tlearn: 28.8714304\ttotal: 1.11s\tremaining: 567ms\n",
      "663:\tlearn: 28.7331979\ttotal: 1.12s\tremaining: 565ms\n",
      "664:\tlearn: 28.6366801\ttotal: 1.12s\tremaining: 563ms\n",
      "665:\tlearn: 28.5716341\ttotal: 1.12s\tremaining: 561ms\n",
      "666:\tlearn: 28.4974876\ttotal: 1.12s\tremaining: 559ms\n",
      "667:\tlearn: 28.4112710\ttotal: 1.12s\tremaining: 558ms\n",
      "668:\tlearn: 28.2984651\ttotal: 1.12s\tremaining: 556ms\n",
      "669:\tlearn: 28.1339510\ttotal: 1.12s\tremaining: 554ms\n",
      "670:\tlearn: 28.1075789\ttotal: 1.13s\tremaining: 552ms\n",
      "671:\tlearn: 28.0922293\ttotal: 1.13s\tremaining: 550ms\n",
      "672:\tlearn: 27.9723760\ttotal: 1.13s\tremaining: 548ms\n",
      "673:\tlearn: 27.9055283\ttotal: 1.13s\tremaining: 547ms\n",
      "674:\tlearn: 27.8205243\ttotal: 1.13s\tremaining: 545ms\n",
      "675:\tlearn: 27.8084834\ttotal: 1.13s\tremaining: 543ms\n",
      "676:\tlearn: 27.7891840\ttotal: 1.13s\tremaining: 541ms\n",
      "677:\tlearn: 27.6730952\ttotal: 1.14s\tremaining: 539ms\n",
      "678:\tlearn: 27.6094279\ttotal: 1.14s\tremaining: 537ms\n",
      "679:\tlearn: 27.5709406\ttotal: 1.14s\tremaining: 536ms\n",
      "680:\tlearn: 27.5062932\ttotal: 1.14s\tremaining: 534ms\n"
     ]
    },
    {
     "name": "stdout",
     "output_type": "stream",
     "text": [
      "681:\tlearn: 27.4149358\ttotal: 1.14s\tremaining: 532ms\n",
      "682:\tlearn: 27.3480578\ttotal: 1.14s\tremaining: 531ms\n",
      "683:\tlearn: 27.2546632\ttotal: 1.15s\tremaining: 529ms\n",
      "684:\tlearn: 27.1581242\ttotal: 1.15s\tremaining: 527ms\n",
      "685:\tlearn: 27.1291330\ttotal: 1.15s\tremaining: 526ms\n",
      "686:\tlearn: 27.0589760\ttotal: 1.15s\tremaining: 524ms\n",
      "687:\tlearn: 26.9207571\ttotal: 1.15s\tremaining: 522ms\n",
      "688:\tlearn: 26.8046340\ttotal: 1.15s\tremaining: 520ms\n",
      "689:\tlearn: 26.7346039\ttotal: 1.15s\tremaining: 519ms\n",
      "690:\tlearn: 26.6359238\ttotal: 1.16s\tremaining: 517ms\n",
      "691:\tlearn: 26.5458163\ttotal: 1.16s\tremaining: 515ms\n",
      "692:\tlearn: 26.5287024\ttotal: 1.16s\tremaining: 513ms\n",
      "693:\tlearn: 26.4436127\ttotal: 1.16s\tremaining: 512ms\n",
      "694:\tlearn: 26.3860996\ttotal: 1.16s\tremaining: 510ms\n",
      "695:\tlearn: 26.3271824\ttotal: 1.16s\tremaining: 508ms\n",
      "696:\tlearn: 26.1929180\ttotal: 1.17s\tremaining: 507ms\n",
      "697:\tlearn: 26.0989501\ttotal: 1.17s\tremaining: 505ms\n",
      "698:\tlearn: 26.0348052\ttotal: 1.17s\tremaining: 503ms\n",
      "699:\tlearn: 25.9715846\ttotal: 1.17s\tremaining: 501ms\n",
      "700:\tlearn: 25.8624783\ttotal: 1.17s\tremaining: 499ms\n",
      "701:\tlearn: 25.8020332\ttotal: 1.17s\tremaining: 498ms\n",
      "702:\tlearn: 25.7940141\ttotal: 1.17s\tremaining: 496ms\n",
      "703:\tlearn: 25.6937173\ttotal: 1.18s\tremaining: 494ms\n",
      "704:\tlearn: 25.6133995\ttotal: 1.18s\tremaining: 492ms\n",
      "705:\tlearn: 25.5272559\ttotal: 1.18s\tremaining: 491ms\n",
      "706:\tlearn: 25.5087600\ttotal: 1.18s\tremaining: 489ms\n",
      "707:\tlearn: 25.3506858\ttotal: 1.18s\tremaining: 487ms\n",
      "708:\tlearn: 25.3314352\ttotal: 1.18s\tremaining: 485ms\n",
      "709:\tlearn: 25.3263712\ttotal: 1.18s\tremaining: 483ms\n",
      "710:\tlearn: 25.2377772\ttotal: 1.18s\tremaining: 481ms\n",
      "711:\tlearn: 25.1296003\ttotal: 1.19s\tremaining: 479ms\n",
      "712:\tlearn: 25.1138661\ttotal: 1.19s\tremaining: 478ms\n",
      "713:\tlearn: 25.0606164\ttotal: 1.19s\tremaining: 476ms\n",
      "714:\tlearn: 24.9701122\ttotal: 1.19s\tremaining: 474ms\n",
      "715:\tlearn: 24.9266980\ttotal: 1.19s\tremaining: 472ms\n",
      "716:\tlearn: 24.8355245\ttotal: 1.19s\tremaining: 471ms\n",
      "717:\tlearn: 24.7892595\ttotal: 1.19s\tremaining: 469ms\n",
      "718:\tlearn: 24.7784156\ttotal: 1.19s\tremaining: 467ms\n",
      "719:\tlearn: 24.7204068\ttotal: 1.2s\tremaining: 465ms\n",
      "720:\tlearn: 24.6868946\ttotal: 1.2s\tremaining: 463ms\n",
      "721:\tlearn: 24.5835248\ttotal: 1.2s\tremaining: 462ms\n",
      "722:\tlearn: 24.4605667\ttotal: 1.2s\tremaining: 460ms\n",
      "723:\tlearn: 24.3780491\ttotal: 1.2s\tremaining: 458ms\n",
      "724:\tlearn: 24.3695387\ttotal: 1.2s\tremaining: 456ms\n",
      "725:\tlearn: 24.2713928\ttotal: 1.2s\tremaining: 454ms\n",
      "726:\tlearn: 24.2564573\ttotal: 1.21s\tremaining: 453ms\n",
      "727:\tlearn: 24.1259045\ttotal: 1.21s\tremaining: 451ms\n",
      "728:\tlearn: 24.0410925\ttotal: 1.21s\tremaining: 449ms\n",
      "729:\tlearn: 23.9454740\ttotal: 1.21s\tremaining: 448ms\n",
      "730:\tlearn: 23.9293944\ttotal: 1.21s\tremaining: 446ms\n",
      "731:\tlearn: 23.8408373\ttotal: 1.21s\tremaining: 444ms\n",
      "732:\tlearn: 23.7301307\ttotal: 1.21s\tremaining: 442ms\n",
      "733:\tlearn: 23.6751178\ttotal: 1.22s\tremaining: 441ms\n",
      "734:\tlearn: 23.5518474\ttotal: 1.22s\tremaining: 439ms\n",
      "735:\tlearn: 23.5054838\ttotal: 1.22s\tremaining: 437ms\n",
      "736:\tlearn: 23.4781040\ttotal: 1.22s\tremaining: 436ms\n",
      "737:\tlearn: 23.3774725\ttotal: 1.22s\tremaining: 434ms\n",
      "738:\tlearn: 23.3081022\ttotal: 1.22s\tremaining: 432ms\n",
      "739:\tlearn: 23.2915892\ttotal: 1.23s\tremaining: 431ms\n",
      "740:\tlearn: 23.2095735\ttotal: 1.23s\tremaining: 429ms\n",
      "741:\tlearn: 23.1588315\ttotal: 1.23s\tremaining: 427ms\n",
      "742:\tlearn: 23.1197993\ttotal: 1.23s\tremaining: 425ms\n",
      "743:\tlearn: 23.0327780\ttotal: 1.23s\tremaining: 423ms\n",
      "744:\tlearn: 22.9759480\ttotal: 1.23s\tremaining: 422ms\n",
      "745:\tlearn: 22.8751423\ttotal: 1.23s\tremaining: 420ms\n",
      "746:\tlearn: 22.7768127\ttotal: 1.23s\tremaining: 418ms\n",
      "747:\tlearn: 22.6474970\ttotal: 1.24s\tremaining: 416ms\n",
      "748:\tlearn: 22.5780525\ttotal: 1.24s\tremaining: 415ms\n",
      "749:\tlearn: 22.5338308\ttotal: 1.24s\tremaining: 413ms\n",
      "750:\tlearn: 22.4330276\ttotal: 1.24s\tremaining: 411ms\n",
      "751:\tlearn: 22.4193891\ttotal: 1.24s\tremaining: 409ms\n",
      "752:\tlearn: 22.4093040\ttotal: 1.24s\tremaining: 408ms\n",
      "753:\tlearn: 22.3758979\ttotal: 1.24s\tremaining: 406ms\n",
      "754:\tlearn: 22.3560173\ttotal: 1.25s\tremaining: 404ms\n",
      "755:\tlearn: 22.3264261\ttotal: 1.25s\tremaining: 402ms\n",
      "756:\tlearn: 22.2796605\ttotal: 1.25s\tremaining: 401ms\n",
      "757:\tlearn: 22.2253439\ttotal: 1.25s\tremaining: 399ms\n",
      "758:\tlearn: 22.1636409\ttotal: 1.25s\tremaining: 397ms\n",
      "759:\tlearn: 22.1078491\ttotal: 1.25s\tremaining: 395ms\n",
      "760:\tlearn: 22.0275756\ttotal: 1.25s\tremaining: 394ms\n",
      "761:\tlearn: 22.0174143\ttotal: 1.25s\tremaining: 392ms\n",
      "762:\tlearn: 21.9887391\ttotal: 1.25s\tremaining: 390ms\n",
      "763:\tlearn: 21.9746733\ttotal: 1.26s\tremaining: 388ms\n",
      "764:\tlearn: 21.9529216\ttotal: 1.26s\tremaining: 387ms\n",
      "765:\tlearn: 21.8767644\ttotal: 1.26s\tremaining: 385ms\n",
      "766:\tlearn: 21.8668039\ttotal: 1.26s\tremaining: 383ms\n",
      "767:\tlearn: 21.8008688\ttotal: 1.26s\tremaining: 381ms\n",
      "768:\tlearn: 21.7612208\ttotal: 1.26s\tremaining: 380ms\n",
      "769:\tlearn: 21.6977978\ttotal: 1.26s\tremaining: 378ms\n",
      "770:\tlearn: 21.6870461\ttotal: 1.27s\tremaining: 376ms\n",
      "771:\tlearn: 21.6599780\ttotal: 1.27s\tremaining: 374ms\n",
      "772:\tlearn: 21.5522064\ttotal: 1.27s\tremaining: 373ms\n",
      "773:\tlearn: 21.5426327\ttotal: 1.27s\tremaining: 371ms\n",
      "774:\tlearn: 21.4391089\ttotal: 1.27s\tremaining: 369ms\n",
      "775:\tlearn: 21.4042993\ttotal: 1.27s\tremaining: 367ms\n",
      "776:\tlearn: 21.3284836\ttotal: 1.27s\tremaining: 366ms\n",
      "777:\tlearn: 21.3163774\ttotal: 1.27s\tremaining: 364ms\n",
      "778:\tlearn: 21.2708416\ttotal: 1.28s\tremaining: 362ms\n",
      "779:\tlearn: 21.2056943\ttotal: 1.28s\tremaining: 360ms\n",
      "780:\tlearn: 21.1434774\ttotal: 1.28s\tremaining: 359ms\n",
      "781:\tlearn: 21.0672473\ttotal: 1.28s\tremaining: 357ms\n",
      "782:\tlearn: 20.9629645\ttotal: 1.28s\tremaining: 355ms\n",
      "783:\tlearn: 20.9522537\ttotal: 1.28s\tremaining: 353ms\n",
      "784:\tlearn: 20.9252425\ttotal: 1.28s\tremaining: 352ms\n",
      "785:\tlearn: 20.8576799\ttotal: 1.28s\tremaining: 350ms\n",
      "786:\tlearn: 20.7922970\ttotal: 1.29s\tremaining: 348ms\n",
      "787:\tlearn: 20.7802134\ttotal: 1.29s\tremaining: 347ms\n",
      "788:\tlearn: 20.7125213\ttotal: 1.29s\tremaining: 345ms\n",
      "789:\tlearn: 20.7000005\ttotal: 1.29s\tremaining: 343ms\n",
      "790:\tlearn: 20.6366378\ttotal: 1.29s\tremaining: 341ms\n",
      "791:\tlearn: 20.6170923\ttotal: 1.29s\tremaining: 340ms\n",
      "792:\tlearn: 20.5485950\ttotal: 1.29s\tremaining: 338ms\n",
      "793:\tlearn: 20.5212323\ttotal: 1.29s\tremaining: 336ms\n",
      "794:\tlearn: 20.5004347\ttotal: 1.3s\tremaining: 334ms\n",
      "795:\tlearn: 20.4884649\ttotal: 1.3s\tremaining: 333ms\n",
      "796:\tlearn: 20.3727007\ttotal: 1.3s\tremaining: 332ms\n",
      "797:\tlearn: 20.2776166\ttotal: 1.3s\tremaining: 330ms\n",
      "798:\tlearn: 20.2690965\ttotal: 1.3s\tremaining: 328ms\n",
      "799:\tlearn: 20.2166634\ttotal: 1.31s\tremaining: 327ms\n",
      "800:\tlearn: 20.1160179\ttotal: 1.31s\tremaining: 325ms\n",
      "801:\tlearn: 20.0642268\ttotal: 1.31s\tremaining: 323ms\n",
      "802:\tlearn: 20.0323601\ttotal: 1.31s\tremaining: 322ms\n",
      "803:\tlearn: 19.9485334\ttotal: 1.31s\tremaining: 320ms\n",
      "804:\tlearn: 19.9071725\ttotal: 1.31s\tremaining: 318ms\n",
      "805:\tlearn: 19.8943564\ttotal: 1.31s\tremaining: 317ms\n",
      "806:\tlearn: 19.7804687\ttotal: 1.32s\tremaining: 315ms\n",
      "807:\tlearn: 19.7343406\ttotal: 1.32s\tremaining: 313ms\n",
      "808:\tlearn: 19.6963930\ttotal: 1.32s\tremaining: 312ms\n",
      "809:\tlearn: 19.6705675\ttotal: 1.32s\tremaining: 310ms\n",
      "810:\tlearn: 19.6382933\ttotal: 1.32s\tremaining: 308ms\n",
      "811:\tlearn: 19.5889191\ttotal: 1.32s\tremaining: 307ms\n",
      "812:\tlearn: 19.5638487\ttotal: 1.33s\tremaining: 305ms\n",
      "813:\tlearn: 19.4926424\ttotal: 1.33s\tremaining: 303ms\n",
      "814:\tlearn: 19.3961396\ttotal: 1.33s\tremaining: 302ms\n",
      "815:\tlearn: 19.3880242\ttotal: 1.33s\tremaining: 300ms\n",
      "816:\tlearn: 19.2808372\ttotal: 1.33s\tremaining: 298ms\n",
      "817:\tlearn: 19.1712815\ttotal: 1.33s\tremaining: 297ms\n",
      "818:\tlearn: 19.0909823\ttotal: 1.33s\tremaining: 295ms\n",
      "819:\tlearn: 18.9993504\ttotal: 1.34s\tremaining: 294ms\n",
      "820:\tlearn: 18.9773399\ttotal: 1.34s\tremaining: 292ms\n",
      "821:\tlearn: 18.8989735\ttotal: 1.34s\tremaining: 290ms\n",
      "822:\tlearn: 18.8275176\ttotal: 1.34s\tremaining: 289ms\n",
      "823:\tlearn: 18.8092278\ttotal: 1.34s\tremaining: 287ms\n",
      "824:\tlearn: 18.7938447\ttotal: 1.34s\tremaining: 285ms\n",
      "825:\tlearn: 18.7871267\ttotal: 1.35s\tremaining: 284ms\n",
      "826:\tlearn: 18.7299674\ttotal: 1.35s\tremaining: 282ms\n",
      "827:\tlearn: 18.6808264\ttotal: 1.35s\tremaining: 280ms\n",
      "828:\tlearn: 18.5984875\ttotal: 1.35s\tremaining: 279ms\n",
      "829:\tlearn: 18.5170088\ttotal: 1.35s\tremaining: 277ms\n",
      "830:\tlearn: 18.4707382\ttotal: 1.35s\tremaining: 275ms\n",
      "831:\tlearn: 18.4368619\ttotal: 1.35s\tremaining: 274ms\n",
      "832:\tlearn: 18.3683191\ttotal: 1.36s\tremaining: 272ms\n",
      "833:\tlearn: 18.3295058\ttotal: 1.36s\tremaining: 270ms\n",
      "834:\tlearn: 18.2587263\ttotal: 1.36s\tremaining: 269ms\n",
      "835:\tlearn: 18.2103679\ttotal: 1.36s\tremaining: 267ms\n",
      "836:\tlearn: 18.1781032\ttotal: 1.36s\tremaining: 266ms\n",
      "837:\tlearn: 18.0746921\ttotal: 1.36s\tremaining: 264ms\n",
      "838:\tlearn: 18.0131984\ttotal: 1.37s\tremaining: 262ms\n",
      "839:\tlearn: 17.9510877\ttotal: 1.37s\tremaining: 261ms\n",
      "840:\tlearn: 17.8893536\ttotal: 1.37s\tremaining: 259ms\n",
      "841:\tlearn: 17.8813583\ttotal: 1.37s\tremaining: 257ms\n",
      "842:\tlearn: 17.8129857\ttotal: 1.37s\tremaining: 256ms\n",
      "843:\tlearn: 17.7981202\ttotal: 1.38s\tremaining: 254ms\n",
      "844:\tlearn: 17.7414627\ttotal: 1.38s\tremaining: 253ms\n",
      "845:\tlearn: 17.7255534\ttotal: 1.38s\tremaining: 251ms\n",
      "846:\tlearn: 17.6965545\ttotal: 1.38s\tremaining: 249ms\n",
      "847:\tlearn: 17.6499397\ttotal: 1.38s\tremaining: 248ms\n",
      "848:\tlearn: 17.6133852\ttotal: 1.38s\tremaining: 246ms\n",
      "849:\tlearn: 17.5621620\ttotal: 1.38s\tremaining: 244ms\n",
      "850:\tlearn: 17.5064049\ttotal: 1.38s\tremaining: 242ms\n",
      "851:\tlearn: 17.4643467\ttotal: 1.39s\tremaining: 241ms\n",
      "852:\tlearn: 17.4569544\ttotal: 1.39s\tremaining: 239ms\n",
      "853:\tlearn: 17.3731897\ttotal: 1.39s\tremaining: 238ms\n",
      "854:\tlearn: 17.3313609\ttotal: 1.39s\tremaining: 236ms\n",
      "855:\tlearn: 17.2781582\ttotal: 1.39s\tremaining: 234ms\n",
      "856:\tlearn: 17.2283433\ttotal: 1.39s\tremaining: 233ms\n",
      "857:\tlearn: 17.1944614\ttotal: 1.4s\tremaining: 231ms\n",
      "858:\tlearn: 17.1573393\ttotal: 1.4s\tremaining: 229ms\n",
      "859:\tlearn: 17.0975067\ttotal: 1.4s\tremaining: 228ms\n",
      "860:\tlearn: 17.0462043\ttotal: 1.4s\tremaining: 226ms\n",
      "861:\tlearn: 17.0118805\ttotal: 1.4s\tremaining: 224ms\n",
      "862:\tlearn: 17.0045195\ttotal: 1.4s\tremaining: 223ms\n",
      "863:\tlearn: 16.9528999\ttotal: 1.4s\tremaining: 221ms\n",
      "864:\tlearn: 16.9270632\ttotal: 1.41s\tremaining: 219ms\n",
      "865:\tlearn: 16.8915252\ttotal: 1.41s\tremaining: 218ms\n",
      "866:\tlearn: 16.7946576\ttotal: 1.41s\tremaining: 216ms\n",
      "867:\tlearn: 16.7737222\ttotal: 1.41s\tremaining: 214ms\n",
      "868:\tlearn: 16.7192509\ttotal: 1.41s\tremaining: 213ms\n",
      "869:\tlearn: 16.7138388\ttotal: 1.41s\tremaining: 211ms\n",
      "870:\tlearn: 16.6877768\ttotal: 1.41s\tremaining: 209ms\n",
      "871:\tlearn: 16.6265748\ttotal: 1.42s\tremaining: 208ms\n",
      "872:\tlearn: 16.5641199\ttotal: 1.42s\tremaining: 206ms\n",
      "873:\tlearn: 16.4935111\ttotal: 1.42s\tremaining: 205ms\n",
      "874:\tlearn: 16.4250863\ttotal: 1.42s\tremaining: 203ms\n",
      "875:\tlearn: 16.3566947\ttotal: 1.42s\tremaining: 201ms\n",
      "876:\tlearn: 16.2731185\ttotal: 1.42s\tremaining: 200ms\n",
      "877:\tlearn: 16.2207923\ttotal: 1.42s\tremaining: 198ms\n",
      "878:\tlearn: 16.2073108\ttotal: 1.43s\tremaining: 196ms\n",
      "879:\tlearn: 16.1336576\ttotal: 1.43s\tremaining: 195ms\n",
      "880:\tlearn: 16.0994139\ttotal: 1.43s\tremaining: 193ms\n",
      "881:\tlearn: 16.0720217\ttotal: 1.43s\tremaining: 191ms\n",
      "882:\tlearn: 16.0192163\ttotal: 1.43s\tremaining: 190ms\n",
      "883:\tlearn: 16.0021989\ttotal: 1.43s\tremaining: 188ms\n",
      "884:\tlearn: 15.9003005\ttotal: 1.44s\tremaining: 186ms\n",
      "885:\tlearn: 15.8685768\ttotal: 1.44s\tremaining: 185ms\n",
      "886:\tlearn: 15.7757199\ttotal: 1.44s\tremaining: 183ms\n",
      "887:\tlearn: 15.7280015\ttotal: 1.44s\tremaining: 182ms\n",
      "888:\tlearn: 15.7037867\ttotal: 1.44s\tremaining: 180ms\n",
      "889:\tlearn: 15.6876254\ttotal: 1.44s\tremaining: 178ms\n",
      "890:\tlearn: 15.6002589\ttotal: 1.45s\tremaining: 177ms\n",
      "891:\tlearn: 15.5663914\ttotal: 1.45s\tremaining: 175ms\n",
      "892:\tlearn: 15.4827503\ttotal: 1.45s\tremaining: 174ms\n",
      "893:\tlearn: 15.4422647\ttotal: 1.45s\tremaining: 172ms\n",
      "894:\tlearn: 15.4230904\ttotal: 1.45s\tremaining: 170ms\n",
      "895:\tlearn: 15.3907978\ttotal: 1.45s\tremaining: 169ms\n",
      "896:\tlearn: 15.3022423\ttotal: 1.46s\tremaining: 167ms\n",
      "897:\tlearn: 15.2770800\ttotal: 1.46s\tremaining: 165ms\n",
      "898:\tlearn: 15.2708396\ttotal: 1.46s\tremaining: 164ms\n",
      "899:\tlearn: 15.2217814\ttotal: 1.46s\tremaining: 162ms\n"
     ]
    },
    {
     "name": "stdout",
     "output_type": "stream",
     "text": [
      "900:\tlearn: 15.2150872\ttotal: 1.46s\tremaining: 161ms\n",
      "901:\tlearn: 15.1938758\ttotal: 1.46s\tremaining: 159ms\n",
      "902:\tlearn: 15.1087389\ttotal: 1.47s\tremaining: 157ms\n",
      "903:\tlearn: 15.0270836\ttotal: 1.47s\tremaining: 156ms\n",
      "904:\tlearn: 14.9579009\ttotal: 1.47s\tremaining: 154ms\n",
      "905:\tlearn: 14.9321713\ttotal: 1.47s\tremaining: 152ms\n",
      "906:\tlearn: 14.9254894\ttotal: 1.47s\tremaining: 151ms\n",
      "907:\tlearn: 14.8662999\ttotal: 1.47s\tremaining: 149ms\n",
      "908:\tlearn: 14.7969088\ttotal: 1.47s\tremaining: 148ms\n",
      "909:\tlearn: 14.7187437\ttotal: 1.48s\tremaining: 146ms\n",
      "910:\tlearn: 14.6594229\ttotal: 1.48s\tremaining: 144ms\n",
      "911:\tlearn: 14.6109629\ttotal: 1.48s\tremaining: 143ms\n",
      "912:\tlearn: 14.5833869\ttotal: 1.48s\tremaining: 141ms\n",
      "913:\tlearn: 14.5677206\ttotal: 1.48s\tremaining: 139ms\n",
      "914:\tlearn: 14.5260964\ttotal: 1.48s\tremaining: 138ms\n",
      "915:\tlearn: 14.4838792\ttotal: 1.48s\tremaining: 136ms\n",
      "916:\tlearn: 14.4614097\ttotal: 1.49s\tremaining: 134ms\n",
      "917:\tlearn: 14.4432212\ttotal: 1.49s\tremaining: 133ms\n",
      "918:\tlearn: 14.4363977\ttotal: 1.49s\tremaining: 131ms\n",
      "919:\tlearn: 14.3740822\ttotal: 1.49s\tremaining: 130ms\n",
      "920:\tlearn: 14.3363459\ttotal: 1.49s\tremaining: 128ms\n",
      "921:\tlearn: 14.2862425\ttotal: 1.49s\tremaining: 126ms\n",
      "922:\tlearn: 14.2195191\ttotal: 1.5s\tremaining: 125ms\n",
      "923:\tlearn: 14.1752422\ttotal: 1.5s\tremaining: 123ms\n",
      "924:\tlearn: 14.1582897\ttotal: 1.5s\tremaining: 121ms\n",
      "925:\tlearn: 14.0892518\ttotal: 1.5s\tremaining: 120ms\n",
      "926:\tlearn: 14.0163904\ttotal: 1.5s\tremaining: 118ms\n",
      "927:\tlearn: 13.9674906\ttotal: 1.5s\tremaining: 117ms\n",
      "928:\tlearn: 13.9421041\ttotal: 1.5s\tremaining: 115ms\n",
      "929:\tlearn: 13.9264108\ttotal: 1.51s\tremaining: 113ms\n",
      "930:\tlearn: 13.8953443\ttotal: 1.51s\tremaining: 112ms\n",
      "931:\tlearn: 13.8514821\ttotal: 1.51s\tremaining: 110ms\n",
      "932:\tlearn: 13.8317730\ttotal: 1.51s\tremaining: 108ms\n",
      "933:\tlearn: 13.7980615\ttotal: 1.51s\tremaining: 107ms\n",
      "934:\tlearn: 13.7252551\ttotal: 1.51s\tremaining: 105ms\n",
      "935:\tlearn: 13.6867475\ttotal: 1.51s\tremaining: 104ms\n",
      "936:\tlearn: 13.6663164\ttotal: 1.51s\tremaining: 102ms\n",
      "937:\tlearn: 13.6108173\ttotal: 1.52s\tremaining: 100ms\n",
      "938:\tlearn: 13.5827380\ttotal: 1.52s\tremaining: 98.7ms\n",
      "939:\tlearn: 13.5211246\ttotal: 1.52s\tremaining: 97ms\n",
      "940:\tlearn: 13.4752089\ttotal: 1.52s\tremaining: 95.4ms\n",
      "941:\tlearn: 13.4283115\ttotal: 1.52s\tremaining: 93.8ms\n",
      "942:\tlearn: 13.3912327\ttotal: 1.52s\tremaining: 92.1ms\n",
      "943:\tlearn: 13.3593766\ttotal: 1.52s\tremaining: 90.5ms\n",
      "944:\tlearn: 13.3015250\ttotal: 1.53s\tremaining: 88.9ms\n",
      "945:\tlearn: 13.2587480\ttotal: 1.53s\tremaining: 87.2ms\n",
      "946:\tlearn: 13.1949436\ttotal: 1.53s\tremaining: 85.6ms\n",
      "947:\tlearn: 13.1552441\ttotal: 1.53s\tremaining: 84ms\n",
      "948:\tlearn: 13.0700947\ttotal: 1.53s\tremaining: 82.4ms\n",
      "949:\tlearn: 13.0460884\ttotal: 1.53s\tremaining: 80.7ms\n",
      "950:\tlearn: 13.0315972\ttotal: 1.53s\tremaining: 79.1ms\n",
      "951:\tlearn: 12.9964111\ttotal: 1.54s\tremaining: 77.5ms\n",
      "952:\tlearn: 12.9757139\ttotal: 1.54s\tremaining: 75.9ms\n",
      "953:\tlearn: 12.9120533\ttotal: 1.54s\tremaining: 74.3ms\n",
      "954:\tlearn: 12.8776679\ttotal: 1.54s\tremaining: 72.7ms\n",
      "955:\tlearn: 12.8703243\ttotal: 1.54s\tremaining: 71ms\n",
      "956:\tlearn: 12.8058615\ttotal: 1.54s\tremaining: 69.4ms\n",
      "957:\tlearn: 12.7637381\ttotal: 1.54s\tremaining: 67.8ms\n",
      "958:\tlearn: 12.7517063\ttotal: 1.55s\tremaining: 66.2ms\n",
      "959:\tlearn: 12.7382108\ttotal: 1.55s\tremaining: 64.6ms\n",
      "960:\tlearn: 12.6881713\ttotal: 1.55s\tremaining: 63ms\n",
      "961:\tlearn: 12.6728317\ttotal: 1.55s\tremaining: 61.4ms\n",
      "962:\tlearn: 12.6386609\ttotal: 1.55s\tremaining: 59.7ms\n",
      "963:\tlearn: 12.5837642\ttotal: 1.56s\tremaining: 58.1ms\n",
      "964:\tlearn: 12.5689789\ttotal: 1.56s\tremaining: 56.5ms\n",
      "965:\tlearn: 12.5362136\ttotal: 1.56s\tremaining: 54.9ms\n",
      "966:\tlearn: 12.5186020\ttotal: 1.56s\tremaining: 53.3ms\n",
      "967:\tlearn: 12.4787889\ttotal: 1.56s\tremaining: 51.7ms\n",
      "968:\tlearn: 12.4463866\ttotal: 1.56s\tremaining: 50.1ms\n",
      "969:\tlearn: 12.3919484\ttotal: 1.57s\tremaining: 48.5ms\n",
      "970:\tlearn: 12.3583173\ttotal: 1.57s\tremaining: 46.8ms\n",
      "971:\tlearn: 12.3430204\ttotal: 1.57s\tremaining: 45.2ms\n",
      "972:\tlearn: 12.3036135\ttotal: 1.57s\tremaining: 43.6ms\n",
      "973:\tlearn: 12.2785886\ttotal: 1.57s\tremaining: 42ms\n",
      "974:\tlearn: 12.2424148\ttotal: 1.57s\tremaining: 40.4ms\n",
      "975:\tlearn: 12.2287225\ttotal: 1.58s\tremaining: 38.8ms\n",
      "976:\tlearn: 12.1894056\ttotal: 1.58s\tremaining: 37.2ms\n",
      "977:\tlearn: 12.1399699\ttotal: 1.58s\tremaining: 35.5ms\n",
      "978:\tlearn: 12.1165698\ttotal: 1.58s\tremaining: 33.9ms\n",
      "979:\tlearn: 12.1084930\ttotal: 1.58s\tremaining: 32.3ms\n",
      "980:\tlearn: 12.1041455\ttotal: 1.58s\tremaining: 30.7ms\n",
      "981:\tlearn: 12.0749440\ttotal: 1.59s\tremaining: 29.1ms\n",
      "982:\tlearn: 12.0676323\ttotal: 1.59s\tremaining: 27.5ms\n",
      "983:\tlearn: 12.0253491\ttotal: 1.59s\tremaining: 25.8ms\n",
      "984:\tlearn: 11.9725269\ttotal: 1.59s\tremaining: 24.2ms\n",
      "985:\tlearn: 11.9344239\ttotal: 1.59s\tremaining: 22.6ms\n",
      "986:\tlearn: 11.8870660\ttotal: 1.59s\tremaining: 21ms\n",
      "987:\tlearn: 11.8411099\ttotal: 1.6s\tremaining: 19.4ms\n",
      "988:\tlearn: 11.7973602\ttotal: 1.6s\tremaining: 17.8ms\n",
      "989:\tlearn: 11.7514376\ttotal: 1.6s\tremaining: 16.2ms\n",
      "990:\tlearn: 11.7232746\ttotal: 1.6s\tremaining: 14.5ms\n",
      "991:\tlearn: 11.6852796\ttotal: 1.6s\tremaining: 12.9ms\n",
      "992:\tlearn: 11.6463794\ttotal: 1.6s\tremaining: 11.3ms\n",
      "993:\tlearn: 11.6106308\ttotal: 1.61s\tremaining: 9.7ms\n",
      "994:\tlearn: 11.5731961\ttotal: 1.61s\tremaining: 8.08ms\n",
      "995:\tlearn: 11.5417359\ttotal: 1.61s\tremaining: 6.46ms\n",
      "996:\tlearn: 11.5167117\ttotal: 1.61s\tremaining: 4.85ms\n",
      "997:\tlearn: 11.4745232\ttotal: 1.61s\tremaining: 3.23ms\n",
      "998:\tlearn: 11.4604481\ttotal: 1.61s\tremaining: 1.61ms\n",
      "999:\tlearn: 11.4510502\ttotal: 1.61s\tremaining: 0us\n"
     ]
    }
   ],
   "source": [
    "from catboost import CatBoostRegressor\n",
    "\n",
    "catb = CatBoostRegressor()\n",
    "catb_model = catb.fit(X_train, y_train)"
   ]
  },
  {
   "cell_type": "code",
   "execution_count": 112,
   "id": "760fa9b8",
   "metadata": {},
   "outputs": [
    {
     "data": {
      "text/plain": [
       "351.194631344607"
      ]
     },
     "execution_count": 112,
     "metadata": {},
     "output_type": "execute_result"
    }
   ],
   "source": [
    "import numpy as np\n",
    "from sklearn.metrics import mean_squared_error\n",
    "\n",
    "y_pred = catb_model.predict(X_test)\n",
    "np.sqrt(mean_squared_error(y_test, y_pred))"
   ]
  },
  {
   "cell_type": "code",
   "execution_count": 113,
   "id": "63b4c472",
   "metadata": {
    "collapsed": true
   },
   "outputs": [
    {
     "name": "stdout",
     "output_type": "stream",
     "text": [
      "Fitting 5 folds for each of 96 candidates, totalling 480 fits\n",
      "0:\tlearn: 422.4143448\ttotal: 16.9ms\tremaining: 16.9s\n",
      "1:\tlearn: 404.1864276\ttotal: 18.9ms\tremaining: 9.42s\n",
      "2:\tlearn: 386.3231718\ttotal: 20.5ms\tremaining: 6.8s\n",
      "3:\tlearn: 370.5548032\ttotal: 21.9ms\tremaining: 5.46s\n",
      "4:\tlearn: 354.9242038\ttotal: 23.4ms\tremaining: 4.66s\n",
      "5:\tlearn: 342.3403984\ttotal: 24.9ms\tremaining: 4.12s\n",
      "6:\tlearn: 328.2370070\ttotal: 26.4ms\tremaining: 3.75s\n",
      "7:\tlearn: 317.5056526\ttotal: 27.9ms\tremaining: 3.45s\n",
      "8:\tlearn: 306.6243511\ttotal: 29.5ms\tremaining: 3.25s\n",
      "9:\tlearn: 297.3147023\ttotal: 31ms\tremaining: 3.07s\n",
      "10:\tlearn: 288.3685892\ttotal: 32.4ms\tremaining: 2.91s\n",
      "11:\tlearn: 281.0996220\ttotal: 34.1ms\tremaining: 2.81s\n",
      "12:\tlearn: 273.2254898\ttotal: 35.7ms\tremaining: 2.71s\n",
      "13:\tlearn: 266.9003385\ttotal: 37.2ms\tremaining: 2.62s\n",
      "14:\tlearn: 261.9092500\ttotal: 38.9ms\tremaining: 2.55s\n",
      "15:\tlearn: 256.2637350\ttotal: 40.4ms\tremaining: 2.48s\n",
      "16:\tlearn: 250.3667935\ttotal: 42ms\tremaining: 2.43s\n",
      "17:\tlearn: 244.8631098\ttotal: 43.7ms\tremaining: 2.38s\n",
      "18:\tlearn: 240.1540669\ttotal: 45.2ms\tremaining: 2.33s\n",
      "19:\tlearn: 235.6057263\ttotal: 46.7ms\tremaining: 2.29s\n",
      "20:\tlearn: 231.2431102\ttotal: 48.3ms\tremaining: 2.25s\n",
      "21:\tlearn: 226.4912464\ttotal: 49.9ms\tremaining: 2.22s\n",
      "22:\tlearn: 223.5591707\ttotal: 50.8ms\tremaining: 2.16s\n",
      "23:\tlearn: 219.6098928\ttotal: 52.2ms\tremaining: 2.12s\n",
      "24:\tlearn: 215.3653069\ttotal: 53.8ms\tremaining: 2.1s\n",
      "25:\tlearn: 212.0589058\ttotal: 55.5ms\tremaining: 2.08s\n",
      "26:\tlearn: 209.7717728\ttotal: 57.1ms\tremaining: 2.06s\n",
      "27:\tlearn: 206.4800180\ttotal: 58.6ms\tremaining: 2.03s\n",
      "28:\tlearn: 204.4998286\ttotal: 60.2ms\tremaining: 2.02s\n",
      "29:\tlearn: 202.5999376\ttotal: 61.7ms\tremaining: 2s\n",
      "30:\tlearn: 199.5099986\ttotal: 63.1ms\tremaining: 1.97s\n",
      "31:\tlearn: 196.9435690\ttotal: 64.7ms\tremaining: 1.96s\n",
      "32:\tlearn: 194.9855023\ttotal: 66.2ms\tremaining: 1.94s\n",
      "33:\tlearn: 193.0037094\ttotal: 67.6ms\tremaining: 1.92s\n",
      "34:\tlearn: 191.6771224\ttotal: 69.2ms\tremaining: 1.91s\n",
      "35:\tlearn: 188.6440989\ttotal: 70.9ms\tremaining: 1.9s\n",
      "36:\tlearn: 186.7575822\ttotal: 72.4ms\tremaining: 1.88s\n",
      "37:\tlearn: 183.5070965\ttotal: 74ms\tremaining: 1.87s\n",
      "38:\tlearn: 181.9932704\ttotal: 75.6ms\tremaining: 1.86s\n",
      "39:\tlearn: 180.4612043\ttotal: 77.1ms\tremaining: 1.85s\n",
      "40:\tlearn: 178.9727236\ttotal: 78.7ms\tremaining: 1.84s\n",
      "41:\tlearn: 176.9704782\ttotal: 80.3ms\tremaining: 1.83s\n",
      "42:\tlearn: 172.9583917\ttotal: 81.8ms\tremaining: 1.82s\n",
      "43:\tlearn: 172.0259404\ttotal: 83.4ms\tremaining: 1.81s\n",
      "44:\tlearn: 169.6703908\ttotal: 84.9ms\tremaining: 1.8s\n",
      "45:\tlearn: 167.0349788\ttotal: 86.4ms\tremaining: 1.79s\n",
      "46:\tlearn: 166.0151540\ttotal: 87.9ms\tremaining: 1.78s\n",
      "47:\tlearn: 164.3432866\ttotal: 89.4ms\tremaining: 1.77s\n",
      "48:\tlearn: 163.7139546\ttotal: 90.9ms\tremaining: 1.76s\n",
      "49:\tlearn: 162.0231882\ttotal: 92.6ms\tremaining: 1.76s\n",
      "50:\tlearn: 159.4806540\ttotal: 94.2ms\tremaining: 1.75s\n",
      "51:\tlearn: 156.5835618\ttotal: 95.9ms\tremaining: 1.75s\n",
      "52:\tlearn: 155.1124833\ttotal: 97.5ms\tremaining: 1.74s\n",
      "53:\tlearn: 154.3849650\ttotal: 99.1ms\tremaining: 1.74s\n",
      "54:\tlearn: 153.2243534\ttotal: 101ms\tremaining: 1.73s\n",
      "55:\tlearn: 152.3205510\ttotal: 102ms\tremaining: 1.72s\n",
      "56:\tlearn: 151.0666069\ttotal: 104ms\tremaining: 1.71s\n",
      "57:\tlearn: 150.0992693\ttotal: 105ms\tremaining: 1.71s\n",
      "58:\tlearn: 149.7214223\ttotal: 107ms\tremaining: 1.7s\n",
      "59:\tlearn: 149.3420563\ttotal: 108ms\tremaining: 1.7s\n",
      "60:\tlearn: 147.1527638\ttotal: 110ms\tremaining: 1.69s\n",
      "61:\tlearn: 146.0849045\ttotal: 111ms\tremaining: 1.69s\n",
      "62:\tlearn: 145.2592821\ttotal: 113ms\tremaining: 1.68s\n",
      "63:\tlearn: 143.9723823\ttotal: 115ms\tremaining: 1.68s\n",
      "64:\tlearn: 142.9337890\ttotal: 116ms\tremaining: 1.67s\n",
      "65:\tlearn: 141.2456060\ttotal: 118ms\tremaining: 1.67s\n",
      "66:\tlearn: 140.0933886\ttotal: 119ms\tremaining: 1.66s\n",
      "67:\tlearn: 139.0122411\ttotal: 121ms\tremaining: 1.65s\n",
      "68:\tlearn: 137.0658535\ttotal: 122ms\tremaining: 1.65s\n",
      "69:\tlearn: 136.5187600\ttotal: 124ms\tremaining: 1.65s\n",
      "70:\tlearn: 135.3177866\ttotal: 125ms\tremaining: 1.64s\n",
      "71:\tlearn: 134.4397288\ttotal: 127ms\tremaining: 1.64s\n",
      "72:\tlearn: 133.9689054\ttotal: 129ms\tremaining: 1.63s\n",
      "73:\tlearn: 132.9503812\ttotal: 130ms\tremaining: 1.63s\n",
      "74:\tlearn: 132.4790284\ttotal: 132ms\tremaining: 1.62s\n",
      "75:\tlearn: 130.0079846\ttotal: 133ms\tremaining: 1.62s\n",
      "76:\tlearn: 128.6536311\ttotal: 135ms\tremaining: 1.62s\n",
      "77:\tlearn: 126.4149435\ttotal: 136ms\tremaining: 1.61s\n",
      "78:\tlearn: 124.7339610\ttotal: 138ms\tremaining: 1.61s\n",
      "79:\tlearn: 123.6799098\ttotal: 140ms\tremaining: 1.6s\n",
      "80:\tlearn: 122.0132818\ttotal: 141ms\tremaining: 1.6s\n",
      "81:\tlearn: 121.7718402\ttotal: 143ms\tremaining: 1.6s\n",
      "82:\tlearn: 121.0226763\ttotal: 144ms\tremaining: 1.59s\n",
      "83:\tlearn: 119.0352412\ttotal: 146ms\tremaining: 1.59s\n",
      "84:\tlearn: 118.1578472\ttotal: 147ms\tremaining: 1.58s\n",
      "85:\tlearn: 117.3963152\ttotal: 148ms\tremaining: 1.58s\n",
      "86:\tlearn: 116.8601830\ttotal: 150ms\tremaining: 1.57s\n",
      "87:\tlearn: 115.1485488\ttotal: 151ms\tremaining: 1.57s\n",
      "88:\tlearn: 113.3802066\ttotal: 153ms\tremaining: 1.57s\n",
      "89:\tlearn: 111.8047507\ttotal: 155ms\tremaining: 1.56s\n",
      "90:\tlearn: 111.2173889\ttotal: 156ms\tremaining: 1.56s\n",
      "91:\tlearn: 109.7797673\ttotal: 158ms\tremaining: 1.56s\n",
      "92:\tlearn: 108.5968886\ttotal: 159ms\tremaining: 1.55s\n",
      "93:\tlearn: 107.3902106\ttotal: 161ms\tremaining: 1.55s\n",
      "94:\tlearn: 106.5920119\ttotal: 162ms\tremaining: 1.55s\n",
      "95:\tlearn: 105.9400132\ttotal: 164ms\tremaining: 1.54s\n",
      "96:\tlearn: 104.5018068\ttotal: 165ms\tremaining: 1.54s\n",
      "97:\tlearn: 104.2449785\ttotal: 167ms\tremaining: 1.53s\n",
      "98:\tlearn: 102.4745810\ttotal: 168ms\tremaining: 1.53s\n",
      "99:\tlearn: 101.5007722\ttotal: 169ms\tremaining: 1.52s\n",
      "100:\tlearn: 101.0929742\ttotal: 171ms\tremaining: 1.52s\n",
      "101:\tlearn: 100.8864538\ttotal: 172ms\tremaining: 1.51s\n",
      "102:\tlearn: 99.5007076\ttotal: 173ms\tremaining: 1.51s\n",
      "103:\tlearn: 98.1646778\ttotal: 175ms\tremaining: 1.5s\n",
      "104:\tlearn: 97.1950961\ttotal: 177ms\tremaining: 1.5s\n",
      "105:\tlearn: 96.0991462\ttotal: 178ms\tremaining: 1.5s\n",
      "106:\tlearn: 95.4337941\ttotal: 181ms\tremaining: 1.51s\n",
      "107:\tlearn: 94.9099345\ttotal: 183ms\tremaining: 1.51s\n",
      "108:\tlearn: 94.3889362\ttotal: 186ms\tremaining: 1.52s\n",
      "109:\tlearn: 94.2091744\ttotal: 188ms\tremaining: 1.52s\n",
      "110:\tlearn: 92.8508793\ttotal: 191ms\tremaining: 1.53s\n",
      "111:\tlearn: 92.1784338\ttotal: 192ms\tremaining: 1.52s\n",
      "112:\tlearn: 91.6689944\ttotal: 195ms\tremaining: 1.53s\n",
      "113:\tlearn: 90.6644520\ttotal: 197ms\tremaining: 1.53s\n",
      "114:\tlearn: 90.5375287\ttotal: 198ms\tremaining: 1.53s\n",
      "115:\tlearn: 90.3442623\ttotal: 200ms\tremaining: 1.52s\n",
      "116:\tlearn: 89.3637881\ttotal: 202ms\tremaining: 1.52s\n",
      "117:\tlearn: 88.5340073\ttotal: 204ms\tremaining: 1.53s\n",
      "118:\tlearn: 88.3598014\ttotal: 207ms\tremaining: 1.53s\n",
      "119:\tlearn: 87.1290719\ttotal: 208ms\tremaining: 1.53s\n",
      "120:\tlearn: 87.0034893\ttotal: 210ms\tremaining: 1.53s\n",
      "121:\tlearn: 85.9581724\ttotal: 213ms\tremaining: 1.53s\n",
      "122:\tlearn: 84.7062226\ttotal: 214ms\tremaining: 1.53s\n",
      "123:\tlearn: 84.6114296\ttotal: 216ms\tremaining: 1.53s\n",
      "124:\tlearn: 83.3769126\ttotal: 218ms\tremaining: 1.52s\n",
      "125:\tlearn: 82.2866094\ttotal: 219ms\tremaining: 1.52s\n",
      "126:\tlearn: 81.7817112\ttotal: 221ms\tremaining: 1.52s\n",
      "127:\tlearn: 80.3710545\ttotal: 223ms\tremaining: 1.52s\n",
      "128:\tlearn: 79.3458239\ttotal: 226ms\tremaining: 1.52s\n",
      "129:\tlearn: 78.8966509\ttotal: 227ms\tremaining: 1.52s\n",
      "130:\tlearn: 78.7683699\ttotal: 229ms\tremaining: 1.52s\n",
      "131:\tlearn: 78.0116712\ttotal: 230ms\tremaining: 1.51s\n",
      "132:\tlearn: 77.5728582\ttotal: 232ms\tremaining: 1.51s\n",
      "133:\tlearn: 76.4635356\ttotal: 234ms\tremaining: 1.51s\n",
      "134:\tlearn: 75.6109482\ttotal: 235ms\tremaining: 1.5s\n",
      "135:\tlearn: 74.8287886\ttotal: 237ms\tremaining: 1.5s\n",
      "136:\tlearn: 74.2493825\ttotal: 238ms\tremaining: 1.5s\n",
      "137:\tlearn: 73.3192822\ttotal: 240ms\tremaining: 1.5s\n",
      "138:\tlearn: 72.9755066\ttotal: 241ms\tremaining: 1.49s\n",
      "139:\tlearn: 72.8423874\ttotal: 242ms\tremaining: 1.49s\n",
      "140:\tlearn: 71.5949506\ttotal: 244ms\tremaining: 1.49s\n",
      "141:\tlearn: 70.9408732\ttotal: 245ms\tremaining: 1.48s\n",
      "142:\tlearn: 70.1699642\ttotal: 247ms\tremaining: 1.48s\n",
      "143:\tlearn: 69.8737644\ttotal: 248ms\tremaining: 1.47s\n",
      "144:\tlearn: 69.0963759\ttotal: 249ms\tremaining: 1.47s\n",
      "145:\tlearn: 68.9702397\ttotal: 251ms\tremaining: 1.47s\n",
      "146:\tlearn: 67.8950397\ttotal: 253ms\tremaining: 1.47s\n",
      "147:\tlearn: 67.1501269\ttotal: 254ms\tremaining: 1.46s\n",
      "148:\tlearn: 66.4028868\ttotal: 256ms\tremaining: 1.46s\n",
      "149:\tlearn: 65.3349813\ttotal: 257ms\tremaining: 1.46s\n",
      "150:\tlearn: 64.6766190\ttotal: 259ms\tremaining: 1.46s\n",
      "151:\tlearn: 63.7390417\ttotal: 260ms\tremaining: 1.45s\n",
      "152:\tlearn: 62.9043101\ttotal: 262ms\tremaining: 1.45s\n",
      "153:\tlearn: 62.5922794\ttotal: 263ms\tremaining: 1.44s\n",
      "154:\tlearn: 62.1160450\ttotal: 264ms\tremaining: 1.44s\n",
      "155:\tlearn: 61.7702532\ttotal: 266ms\tremaining: 1.44s\n",
      "156:\tlearn: 61.2433354\ttotal: 268ms\tremaining: 1.44s\n",
      "157:\tlearn: 60.8455422\ttotal: 269ms\tremaining: 1.44s\n",
      "158:\tlearn: 60.6755303\ttotal: 271ms\tremaining: 1.43s\n",
      "159:\tlearn: 59.9631043\ttotal: 272ms\tremaining: 1.43s\n",
      "160:\tlearn: 59.2211911\ttotal: 274ms\tremaining: 1.43s\n",
      "161:\tlearn: 59.1400932\ttotal: 276ms\tremaining: 1.43s\n",
      "162:\tlearn: 58.9164262\ttotal: 277ms\tremaining: 1.42s\n",
      "163:\tlearn: 58.2084420\ttotal: 279ms\tremaining: 1.42s\n",
      "164:\tlearn: 57.9934649\ttotal: 280ms\tremaining: 1.42s\n",
      "165:\tlearn: 57.3736694\ttotal: 282ms\tremaining: 1.42s\n",
      "166:\tlearn: 56.8338370\ttotal: 284ms\tremaining: 1.41s\n",
      "167:\tlearn: 56.5518049\ttotal: 285ms\tremaining: 1.41s\n",
      "168:\tlearn: 55.9777349\ttotal: 287ms\tremaining: 1.41s\n",
      "169:\tlearn: 55.4485860\ttotal: 289ms\tremaining: 1.41s\n",
      "170:\tlearn: 55.0892542\ttotal: 291ms\tremaining: 1.41s\n",
      "171:\tlearn: 54.9915464\ttotal: 292ms\tremaining: 1.41s\n",
      "172:\tlearn: 54.3968112\ttotal: 294ms\tremaining: 1.4s\n",
      "173:\tlearn: 53.7708163\ttotal: 296ms\tremaining: 1.4s\n",
      "174:\tlearn: 53.1993023\ttotal: 297ms\tremaining: 1.4s\n",
      "175:\tlearn: 52.7773821\ttotal: 299ms\tremaining: 1.4s\n",
      "176:\tlearn: 52.5186612\ttotal: 300ms\tremaining: 1.4s\n",
      "177:\tlearn: 52.0038075\ttotal: 303ms\tremaining: 1.4s\n",
      "178:\tlearn: 51.7971195\ttotal: 304ms\tremaining: 1.4s\n",
      "179:\tlearn: 51.4334863\ttotal: 306ms\tremaining: 1.39s\n",
      "180:\tlearn: 50.9151359\ttotal: 308ms\tremaining: 1.39s\n",
      "181:\tlearn: 50.8252320\ttotal: 309ms\tremaining: 1.39s\n",
      "182:\tlearn: 50.4143487\ttotal: 311ms\tremaining: 1.39s\n",
      "183:\tlearn: 50.0253432\ttotal: 313ms\tremaining: 1.39s\n",
      "184:\tlearn: 49.6769233\ttotal: 314ms\tremaining: 1.38s\n",
      "185:\tlearn: 49.5689505\ttotal: 316ms\tremaining: 1.38s\n",
      "186:\tlearn: 49.0813531\ttotal: 317ms\tremaining: 1.38s\n",
      "187:\tlearn: 48.9396335\ttotal: 319ms\tremaining: 1.38s\n",
      "188:\tlearn: 48.5040716\ttotal: 321ms\tremaining: 1.38s\n",
      "189:\tlearn: 47.9644995\ttotal: 322ms\tremaining: 1.37s\n",
      "190:\tlearn: 47.8292554\ttotal: 324ms\tremaining: 1.37s\n",
      "191:\tlearn: 47.4433025\ttotal: 325ms\tremaining: 1.37s\n",
      "192:\tlearn: 46.9286959\ttotal: 327ms\tremaining: 1.37s\n",
      "193:\tlearn: 46.3092347\ttotal: 329ms\tremaining: 1.37s\n",
      "194:\tlearn: 45.7431428\ttotal: 331ms\tremaining: 1.36s\n",
      "195:\tlearn: 45.6714261\ttotal: 332ms\tremaining: 1.36s\n"
     ]
    },
    {
     "name": "stdout",
     "output_type": "stream",
     "text": [
      "196:\tlearn: 45.5088158\ttotal: 335ms\tremaining: 1.36s\n",
      "197:\tlearn: 45.4713460\ttotal: 337ms\tremaining: 1.36s\n",
      "198:\tlearn: 45.0942536\ttotal: 339ms\tremaining: 1.36s\n",
      "199:\tlearn: 44.7625600\ttotal: 341ms\tremaining: 1.36s\n",
      "200:\tlearn: 44.3247006\ttotal: 343ms\tremaining: 1.36s\n",
      "201:\tlearn: 43.8054974\ttotal: 344ms\tremaining: 1.36s\n",
      "202:\tlearn: 43.3359785\ttotal: 346ms\tremaining: 1.36s\n",
      "203:\tlearn: 42.8698272\ttotal: 348ms\tremaining: 1.36s\n",
      "204:\tlearn: 42.4275364\ttotal: 350ms\tremaining: 1.36s\n",
      "205:\tlearn: 41.9463597\ttotal: 352ms\tremaining: 1.36s\n",
      "206:\tlearn: 41.7547985\ttotal: 354ms\tremaining: 1.35s\n",
      "207:\tlearn: 41.6019714\ttotal: 356ms\tremaining: 1.35s\n",
      "208:\tlearn: 41.4342896\ttotal: 357ms\tremaining: 1.35s\n",
      "209:\tlearn: 41.0764993\ttotal: 359ms\tremaining: 1.35s\n",
      "210:\tlearn: 40.7895715\ttotal: 361ms\tremaining: 1.35s\n",
      "211:\tlearn: 40.4428042\ttotal: 363ms\tremaining: 1.35s\n",
      "212:\tlearn: 39.9370849\ttotal: 364ms\tremaining: 1.35s\n",
      "213:\tlearn: 39.4885257\ttotal: 366ms\tremaining: 1.34s\n",
      "214:\tlearn: 39.1268375\ttotal: 368ms\tremaining: 1.34s\n",
      "215:\tlearn: 38.9591271\ttotal: 370ms\tremaining: 1.34s\n",
      "216:\tlearn: 38.8008893\ttotal: 372ms\tremaining: 1.34s\n",
      "217:\tlearn: 38.4956003\ttotal: 373ms\tremaining: 1.34s\n",
      "218:\tlearn: 38.3528545\ttotal: 375ms\tremaining: 1.34s\n",
      "219:\tlearn: 38.1794276\ttotal: 377ms\tremaining: 1.34s\n",
      "220:\tlearn: 38.1135196\ttotal: 379ms\tremaining: 1.33s\n",
      "221:\tlearn: 37.9126665\ttotal: 381ms\tremaining: 1.33s\n",
      "222:\tlearn: 37.5375523\ttotal: 383ms\tremaining: 1.33s\n",
      "223:\tlearn: 37.3774479\ttotal: 385ms\tremaining: 1.33s\n",
      "224:\tlearn: 36.8965396\ttotal: 387ms\tremaining: 1.33s\n",
      "225:\tlearn: 36.4012999\ttotal: 389ms\tremaining: 1.33s\n",
      "226:\tlearn: 35.9300616\ttotal: 391ms\tremaining: 1.33s\n",
      "227:\tlearn: 35.6148029\ttotal: 393ms\tremaining: 1.33s\n",
      "228:\tlearn: 35.2741594\ttotal: 395ms\tremaining: 1.33s\n",
      "229:\tlearn: 35.0196015\ttotal: 397ms\tremaining: 1.33s\n",
      "230:\tlearn: 34.5877862\ttotal: 399ms\tremaining: 1.33s\n",
      "231:\tlearn: 34.4128370\ttotal: 400ms\tremaining: 1.32s\n",
      "232:\tlearn: 34.2685016\ttotal: 402ms\tremaining: 1.32s\n",
      "233:\tlearn: 34.2021290\ttotal: 404ms\tremaining: 1.32s\n",
      "234:\tlearn: 34.1117548\ttotal: 406ms\tremaining: 1.32s\n",
      "235:\tlearn: 33.7038307\ttotal: 407ms\tremaining: 1.32s\n",
      "236:\tlearn: 33.6591145\ttotal: 409ms\tremaining: 1.32s\n",
      "237:\tlearn: 33.6134076\ttotal: 411ms\tremaining: 1.31s\n",
      "238:\tlearn: 33.3091022\ttotal: 413ms\tremaining: 1.31s\n",
      "239:\tlearn: 33.2050988\ttotal: 414ms\tremaining: 1.31s\n",
      "240:\tlearn: 32.7984087\ttotal: 416ms\tremaining: 1.31s\n",
      "241:\tlearn: 32.4886567\ttotal: 418ms\tremaining: 1.31s\n",
      "242:\tlearn: 32.3354906\ttotal: 419ms\tremaining: 1.3s\n",
      "243:\tlearn: 32.1610609\ttotal: 421ms\tremaining: 1.3s\n",
      "244:\tlearn: 31.9242693\ttotal: 422ms\tremaining: 1.3s\n",
      "245:\tlearn: 31.4693550\ttotal: 424ms\tremaining: 1.3s\n",
      "246:\tlearn: 31.1071532\ttotal: 425ms\tremaining: 1.3s\n",
      "247:\tlearn: 30.7311162\ttotal: 427ms\tremaining: 1.29s\n",
      "248:\tlearn: 30.4892550\ttotal: 428ms\tremaining: 1.29s\n",
      "249:\tlearn: 30.3680212\ttotal: 430ms\tremaining: 1.29s\n",
      "250:\tlearn: 30.1346007\ttotal: 432ms\tremaining: 1.29s\n",
      "251:\tlearn: 29.8046285\ttotal: 433ms\tremaining: 1.28s\n",
      "252:\tlearn: 29.6637514\ttotal: 435ms\tremaining: 1.28s\n",
      "253:\tlearn: 29.5176095\ttotal: 436ms\tremaining: 1.28s\n",
      "254:\tlearn: 29.3723319\ttotal: 438ms\tremaining: 1.28s\n",
      "255:\tlearn: 29.1301438\ttotal: 440ms\tremaining: 1.28s\n",
      "256:\tlearn: 29.1025017\ttotal: 442ms\tremaining: 1.28s\n",
      "257:\tlearn: 28.8276340\ttotal: 443ms\tremaining: 1.27s\n",
      "258:\tlearn: 28.6313979\ttotal: 445ms\tremaining: 1.27s\n",
      "259:\tlearn: 28.3904787\ttotal: 446ms\tremaining: 1.27s\n",
      "260:\tlearn: 27.9496011\ttotal: 448ms\tremaining: 1.27s\n",
      "261:\tlearn: 27.6744647\ttotal: 449ms\tremaining: 1.27s\n",
      "262:\tlearn: 27.5631687\ttotal: 451ms\tremaining: 1.26s\n",
      "263:\tlearn: 27.2940171\ttotal: 453ms\tremaining: 1.26s\n",
      "264:\tlearn: 27.0524989\ttotal: 454ms\tremaining: 1.26s\n",
      "265:\tlearn: 26.9019408\ttotal: 456ms\tremaining: 1.26s\n",
      "266:\tlearn: 26.7539234\ttotal: 457ms\tremaining: 1.25s\n",
      "267:\tlearn: 26.5906135\ttotal: 458ms\tremaining: 1.25s\n",
      "268:\tlearn: 26.3413069\ttotal: 460ms\tremaining: 1.25s\n",
      "269:\tlearn: 26.2300985\ttotal: 462ms\tremaining: 1.25s\n",
      "270:\tlearn: 25.7633750\ttotal: 463ms\tremaining: 1.25s\n",
      "271:\tlearn: 25.5999298\ttotal: 465ms\tremaining: 1.24s\n",
      "272:\tlearn: 25.4034221\ttotal: 466ms\tremaining: 1.24s\n",
      "273:\tlearn: 25.3449361\ttotal: 468ms\tremaining: 1.24s\n",
      "274:\tlearn: 25.1308675\ttotal: 469ms\tremaining: 1.24s\n",
      "275:\tlearn: 24.8170605\ttotal: 471ms\tremaining: 1.24s\n",
      "276:\tlearn: 24.5265387\ttotal: 472ms\tremaining: 1.23s\n",
      "277:\tlearn: 24.3891773\ttotal: 474ms\tremaining: 1.23s\n",
      "278:\tlearn: 24.1691955\ttotal: 475ms\tremaining: 1.23s\n",
      "279:\tlearn: 23.9780841\ttotal: 477ms\tremaining: 1.23s\n",
      "280:\tlearn: 23.7459991\ttotal: 479ms\tremaining: 1.23s\n",
      "281:\tlearn: 23.5762098\ttotal: 480ms\tremaining: 1.22s\n",
      "282:\tlearn: 23.4130148\ttotal: 482ms\tremaining: 1.22s\n",
      "283:\tlearn: 23.1365659\ttotal: 483ms\tremaining: 1.22s\n",
      "284:\tlearn: 22.9605139\ttotal: 485ms\tremaining: 1.22s\n",
      "285:\tlearn: 22.8198952\ttotal: 486ms\tremaining: 1.21s\n",
      "286:\tlearn: 22.7220776\ttotal: 488ms\tremaining: 1.21s\n",
      "287:\tlearn: 22.6349162\ttotal: 489ms\tremaining: 1.21s\n",
      "288:\tlearn: 22.5037731\ttotal: 491ms\tremaining: 1.21s\n",
      "289:\tlearn: 22.4280658\ttotal: 492ms\tremaining: 1.21s\n",
      "290:\tlearn: 22.4111078\ttotal: 494ms\tremaining: 1.2s\n",
      "291:\tlearn: 22.2582825\ttotal: 495ms\tremaining: 1.2s\n",
      "292:\tlearn: 22.0361847\ttotal: 497ms\tremaining: 1.2s\n",
      "293:\tlearn: 21.9197616\ttotal: 498ms\tremaining: 1.2s\n",
      "294:\tlearn: 21.8934931\ttotal: 500ms\tremaining: 1.19s\n",
      "295:\tlearn: 21.8385467\ttotal: 501ms\tremaining: 1.19s\n",
      "296:\tlearn: 21.6056469\ttotal: 503ms\tremaining: 1.19s\n",
      "297:\tlearn: 21.3638471\ttotal: 505ms\tremaining: 1.19s\n",
      "298:\tlearn: 21.2403020\ttotal: 507ms\tremaining: 1.19s\n",
      "299:\tlearn: 20.9940588\ttotal: 509ms\tremaining: 1.19s\n",
      "300:\tlearn: 20.8606002\ttotal: 510ms\tremaining: 1.19s\n",
      "301:\tlearn: 20.7521062\ttotal: 512ms\tremaining: 1.18s\n",
      "302:\tlearn: 20.4914061\ttotal: 514ms\tremaining: 1.18s\n",
      "303:\tlearn: 20.4390781\ttotal: 515ms\tremaining: 1.18s\n",
      "304:\tlearn: 20.4261039\ttotal: 518ms\tremaining: 1.18s\n",
      "305:\tlearn: 20.3429361\ttotal: 519ms\tremaining: 1.18s\n",
      "306:\tlearn: 20.3186699\ttotal: 521ms\tremaining: 1.18s\n",
      "307:\tlearn: 20.2200547\ttotal: 522ms\tremaining: 1.17s\n",
      "308:\tlearn: 20.0363798\ttotal: 524ms\tremaining: 1.17s\n",
      "309:\tlearn: 19.9375964\ttotal: 526ms\tremaining: 1.17s\n",
      "310:\tlearn: 19.8562475\ttotal: 528ms\tremaining: 1.17s\n",
      "311:\tlearn: 19.7207383\ttotal: 530ms\tremaining: 1.17s\n",
      "312:\tlearn: 19.5840205\ttotal: 532ms\tremaining: 1.17s\n",
      "313:\tlearn: 19.4498604\ttotal: 533ms\tremaining: 1.16s\n",
      "314:\tlearn: 19.3106313\ttotal: 535ms\tremaining: 1.16s\n",
      "315:\tlearn: 19.1555646\ttotal: 536ms\tremaining: 1.16s\n",
      "316:\tlearn: 19.1426558\ttotal: 538ms\tremaining: 1.16s\n",
      "317:\tlearn: 19.0179770\ttotal: 539ms\tremaining: 1.16s\n",
      "318:\tlearn: 18.9331646\ttotal: 541ms\tremaining: 1.15s\n",
      "319:\tlearn: 18.7759664\ttotal: 542ms\tremaining: 1.15s\n",
      "320:\tlearn: 18.7302473\ttotal: 544ms\tremaining: 1.15s\n",
      "321:\tlearn: 18.6822773\ttotal: 545ms\tremaining: 1.15s\n",
      "322:\tlearn: 18.6212081\ttotal: 547ms\tremaining: 1.15s\n",
      "323:\tlearn: 18.3825932\ttotal: 548ms\tremaining: 1.14s\n",
      "324:\tlearn: 18.0840511\ttotal: 550ms\tremaining: 1.14s\n",
      "325:\tlearn: 17.9626242\ttotal: 551ms\tremaining: 1.14s\n",
      "326:\tlearn: 17.8194649\ttotal: 553ms\tremaining: 1.14s\n",
      "327:\tlearn: 17.6897852\ttotal: 555ms\tremaining: 1.14s\n",
      "328:\tlearn: 17.6729587\ttotal: 556ms\tremaining: 1.13s\n",
      "329:\tlearn: 17.5730192\ttotal: 557ms\tremaining: 1.13s\n",
      "330:\tlearn: 17.3061709\ttotal: 559ms\tremaining: 1.13s\n",
      "331:\tlearn: 17.2732138\ttotal: 560ms\tremaining: 1.13s\n",
      "332:\tlearn: 17.1284244\ttotal: 562ms\tremaining: 1.13s\n",
      "333:\tlearn: 17.0578788\ttotal: 563ms\tremaining: 1.12s\n",
      "334:\tlearn: 16.9109643\ttotal: 565ms\tremaining: 1.12s\n",
      "335:\tlearn: 16.6595095\ttotal: 567ms\tremaining: 1.12s\n",
      "336:\tlearn: 16.5240861\ttotal: 568ms\tremaining: 1.12s\n",
      "337:\tlearn: 16.3631551\ttotal: 570ms\tremaining: 1.11s\n",
      "338:\tlearn: 16.2364521\ttotal: 571ms\tremaining: 1.11s\n",
      "339:\tlearn: 16.1259236\ttotal: 572ms\tremaining: 1.11s\n",
      "340:\tlearn: 16.1070160\ttotal: 574ms\tremaining: 1.11s\n",
      "341:\tlearn: 15.9446333\ttotal: 575ms\tremaining: 1.11s\n",
      "342:\tlearn: 15.8404109\ttotal: 577ms\tremaining: 1.1s\n",
      "343:\tlearn: 15.7616719\ttotal: 578ms\tremaining: 1.1s\n",
      "344:\tlearn: 15.7046860\ttotal: 579ms\tremaining: 1.1s\n",
      "345:\tlearn: 15.5565531\ttotal: 581ms\tremaining: 1.1s\n",
      "346:\tlearn: 15.4739767\ttotal: 582ms\tremaining: 1.09s\n",
      "347:\tlearn: 15.4214691\ttotal: 584ms\tremaining: 1.09s\n",
      "348:\tlearn: 15.3830392\ttotal: 585ms\tremaining: 1.09s\n",
      "349:\tlearn: 15.2925503\ttotal: 587ms\tremaining: 1.09s\n",
      "350:\tlearn: 15.2685305\ttotal: 588ms\tremaining: 1.09s\n",
      "351:\tlearn: 15.0959980\ttotal: 590ms\tremaining: 1.08s\n",
      "352:\tlearn: 15.0185539\ttotal: 591ms\tremaining: 1.08s\n",
      "353:\tlearn: 14.9344909\ttotal: 593ms\tremaining: 1.08s\n",
      "354:\tlearn: 14.8185511\ttotal: 594ms\tremaining: 1.08s\n",
      "355:\tlearn: 14.7621205\ttotal: 596ms\tremaining: 1.08s\n",
      "356:\tlearn: 14.6824384\ttotal: 597ms\tremaining: 1.07s\n",
      "357:\tlearn: 14.5918871\ttotal: 599ms\tremaining: 1.07s\n",
      "358:\tlearn: 14.4898356\ttotal: 600ms\tremaining: 1.07s\n",
      "359:\tlearn: 14.4773981\ttotal: 602ms\tremaining: 1.07s\n",
      "360:\tlearn: 14.3256006\ttotal: 603ms\tremaining: 1.07s\n",
      "361:\tlearn: 14.1704867\ttotal: 604ms\tremaining: 1.06s\n",
      "362:\tlearn: 14.0453382\ttotal: 606ms\tremaining: 1.06s\n",
      "363:\tlearn: 13.9488312\ttotal: 607ms\tremaining: 1.06s\n",
      "364:\tlearn: 13.8932251\ttotal: 609ms\tremaining: 1.06s\n",
      "365:\tlearn: 13.7368549\ttotal: 611ms\tremaining: 1.06s\n",
      "366:\tlearn: 13.6533268\ttotal: 612ms\tremaining: 1.05s\n",
      "367:\tlearn: 13.5191569\ttotal: 613ms\tremaining: 1.05s\n",
      "368:\tlearn: 13.4712080\ttotal: 615ms\tremaining: 1.05s\n",
      "369:\tlearn: 13.3454926\ttotal: 616ms\tremaining: 1.05s\n",
      "370:\tlearn: 13.2804919\ttotal: 618ms\tremaining: 1.05s\n",
      "371:\tlearn: 13.2609934\ttotal: 619ms\tremaining: 1.04s\n",
      "372:\tlearn: 13.1804458\ttotal: 620ms\tremaining: 1.04s\n",
      "373:\tlearn: 13.0381162\ttotal: 622ms\tremaining: 1.04s\n",
      "374:\tlearn: 13.0250736\ttotal: 623ms\tremaining: 1.04s\n",
      "375:\tlearn: 13.0006609\ttotal: 625ms\tremaining: 1.04s\n",
      "376:\tlearn: 12.8507663\ttotal: 626ms\tremaining: 1.03s\n",
      "377:\tlearn: 12.6986039\ttotal: 628ms\tremaining: 1.03s\n",
      "378:\tlearn: 12.5574544\ttotal: 629ms\tremaining: 1.03s\n",
      "379:\tlearn: 12.4864386\ttotal: 630ms\tremaining: 1.03s\n",
      "380:\tlearn: 12.3739036\ttotal: 632ms\tremaining: 1.03s\n",
      "381:\tlearn: 12.3110117\ttotal: 633ms\tremaining: 1.02s\n",
      "382:\tlearn: 12.2077088\ttotal: 635ms\tremaining: 1.02s\n",
      "383:\tlearn: 12.1065885\ttotal: 636ms\tremaining: 1.02s\n",
      "384:\tlearn: 12.0323948\ttotal: 638ms\tremaining: 1.02s\n",
      "385:\tlearn: 12.0014896\ttotal: 639ms\tremaining: 1.02s\n",
      "386:\tlearn: 11.8568080\ttotal: 640ms\tremaining: 1.01s\n",
      "387:\tlearn: 11.7867144\ttotal: 642ms\tremaining: 1.01s\n",
      "388:\tlearn: 11.7500836\ttotal: 643ms\tremaining: 1.01s\n",
      "389:\tlearn: 11.7348877\ttotal: 645ms\tremaining: 1.01s\n",
      "390:\tlearn: 11.7286653\ttotal: 646ms\tremaining: 1.01s\n",
      "391:\tlearn: 11.6241305\ttotal: 648ms\tremaining: 1s\n",
      "392:\tlearn: 11.5960420\ttotal: 649ms\tremaining: 1s\n",
      "393:\tlearn: 11.5729987\ttotal: 650ms\tremaining: 1s\n",
      "394:\tlearn: 11.5635235\ttotal: 652ms\tremaining: 998ms\n",
      "395:\tlearn: 11.4873129\ttotal: 653ms\tremaining: 996ms\n",
      "396:\tlearn: 11.3564378\ttotal: 654ms\tremaining: 994ms\n",
      "397:\tlearn: 11.2078876\ttotal: 656ms\tremaining: 992ms\n",
      "398:\tlearn: 11.1598904\ttotal: 657ms\tremaining: 990ms\n",
      "399:\tlearn: 11.0885074\ttotal: 658ms\tremaining: 988ms\n",
      "400:\tlearn: 11.0278575\ttotal: 660ms\tremaining: 986ms\n",
      "401:\tlearn: 10.9865756\ttotal: 661ms\tremaining: 984ms\n",
      "402:\tlearn: 10.8794931\ttotal: 663ms\tremaining: 982ms\n"
     ]
    },
    {
     "name": "stdout",
     "output_type": "stream",
     "text": [
      "403:\tlearn: 10.8382558\ttotal: 665ms\tremaining: 981ms\n",
      "404:\tlearn: 10.7596014\ttotal: 667ms\tremaining: 980ms\n",
      "405:\tlearn: 10.7064165\ttotal: 668ms\tremaining: 978ms\n",
      "406:\tlearn: 10.6372130\ttotal: 670ms\tremaining: 976ms\n",
      "407:\tlearn: 10.5505037\ttotal: 671ms\tremaining: 974ms\n",
      "408:\tlearn: 10.4676489\ttotal: 673ms\tremaining: 972ms\n",
      "409:\tlearn: 10.3632792\ttotal: 674ms\tremaining: 970ms\n",
      "410:\tlearn: 10.3399756\ttotal: 676ms\tremaining: 968ms\n",
      "411:\tlearn: 10.2905778\ttotal: 677ms\tremaining: 966ms\n",
      "412:\tlearn: 10.2175164\ttotal: 679ms\tremaining: 965ms\n",
      "413:\tlearn: 10.1482923\ttotal: 680ms\tremaining: 963ms\n",
      "414:\tlearn: 10.0590953\ttotal: 682ms\tremaining: 961ms\n",
      "415:\tlearn: 9.9982795\ttotal: 683ms\tremaining: 959ms\n",
      "416:\tlearn: 9.9099074\ttotal: 685ms\tremaining: 957ms\n",
      "417:\tlearn: 9.8641812\ttotal: 686ms\tremaining: 955ms\n",
      "418:\tlearn: 9.8207799\ttotal: 688ms\tremaining: 954ms\n",
      "419:\tlearn: 9.7000976\ttotal: 689ms\tremaining: 952ms\n",
      "420:\tlearn: 9.6211675\ttotal: 691ms\tremaining: 950ms\n",
      "421:\tlearn: 9.5821946\ttotal: 692ms\tremaining: 948ms\n",
      "422:\tlearn: 9.5314530\ttotal: 693ms\tremaining: 946ms\n",
      "423:\tlearn: 9.5231706\ttotal: 695ms\tremaining: 944ms\n",
      "424:\tlearn: 9.4897613\ttotal: 696ms\tremaining: 942ms\n",
      "425:\tlearn: 9.4178254\ttotal: 698ms\tremaining: 940ms\n",
      "426:\tlearn: 9.3468512\ttotal: 699ms\tremaining: 939ms\n",
      "427:\tlearn: 9.2916542\ttotal: 701ms\tremaining: 937ms\n",
      "428:\tlearn: 9.2671046\ttotal: 702ms\tremaining: 935ms\n",
      "429:\tlearn: 9.1507425\ttotal: 704ms\tremaining: 933ms\n",
      "430:\tlearn: 9.0905964\ttotal: 705ms\tremaining: 931ms\n",
      "431:\tlearn: 9.0599172\ttotal: 706ms\tremaining: 929ms\n",
      "432:\tlearn: 8.9911670\ttotal: 708ms\tremaining: 927ms\n",
      "433:\tlearn: 8.9769178\ttotal: 709ms\tremaining: 925ms\n",
      "434:\tlearn: 8.9011639\ttotal: 711ms\tremaining: 923ms\n",
      "435:\tlearn: 8.8578447\ttotal: 712ms\tremaining: 921ms\n",
      "436:\tlearn: 8.7766216\ttotal: 714ms\tremaining: 919ms\n",
      "437:\tlearn: 8.7600187\ttotal: 715ms\tremaining: 918ms\n",
      "438:\tlearn: 8.7039464\ttotal: 717ms\tremaining: 916ms\n",
      "439:\tlearn: 8.6701908\ttotal: 718ms\tremaining: 914ms\n",
      "440:\tlearn: 8.6561906\ttotal: 719ms\tremaining: 912ms\n",
      "441:\tlearn: 8.6030579\ttotal: 721ms\tremaining: 910ms\n",
      "442:\tlearn: 8.5192884\ttotal: 722ms\tremaining: 908ms\n",
      "443:\tlearn: 8.4605490\ttotal: 724ms\tremaining: 906ms\n",
      "444:\tlearn: 8.3846572\ttotal: 725ms\tremaining: 904ms\n",
      "445:\tlearn: 8.3429264\ttotal: 727ms\tremaining: 903ms\n",
      "446:\tlearn: 8.3068488\ttotal: 728ms\tremaining: 901ms\n",
      "447:\tlearn: 8.2662142\ttotal: 729ms\tremaining: 899ms\n",
      "448:\tlearn: 8.1806196\ttotal: 731ms\tremaining: 897ms\n",
      "449:\tlearn: 8.1475696\ttotal: 732ms\tremaining: 895ms\n",
      "450:\tlearn: 8.1145904\ttotal: 733ms\tremaining: 893ms\n",
      "451:\tlearn: 8.0740309\ttotal: 735ms\tremaining: 891ms\n",
      "452:\tlearn: 8.0095799\ttotal: 736ms\tremaining: 889ms\n",
      "453:\tlearn: 7.9857193\ttotal: 738ms\tremaining: 887ms\n",
      "454:\tlearn: 7.9300069\ttotal: 739ms\tremaining: 885ms\n",
      "455:\tlearn: 7.9088282\ttotal: 741ms\tremaining: 884ms\n",
      "456:\tlearn: 7.8726359\ttotal: 742ms\tremaining: 882ms\n",
      "457:\tlearn: 7.8453260\ttotal: 743ms\tremaining: 880ms\n",
      "458:\tlearn: 7.8015145\ttotal: 745ms\tremaining: 878ms\n",
      "459:\tlearn: 7.7552434\ttotal: 747ms\tremaining: 877ms\n",
      "460:\tlearn: 7.7033074\ttotal: 748ms\tremaining: 875ms\n",
      "461:\tlearn: 7.6732816\ttotal: 749ms\tremaining: 873ms\n",
      "462:\tlearn: 7.6387343\ttotal: 751ms\tremaining: 871ms\n",
      "463:\tlearn: 7.5939225\ttotal: 752ms\tremaining: 869ms\n",
      "464:\tlearn: 7.5495985\ttotal: 754ms\tremaining: 867ms\n",
      "465:\tlearn: 7.5164784\ttotal: 755ms\tremaining: 865ms\n",
      "466:\tlearn: 7.4692120\ttotal: 757ms\tremaining: 864ms\n",
      "467:\tlearn: 7.4602739\ttotal: 758ms\tremaining: 862ms\n",
      "468:\tlearn: 7.4245927\ttotal: 759ms\tremaining: 860ms\n",
      "469:\tlearn: 7.3402299\ttotal: 761ms\tremaining: 858ms\n",
      "470:\tlearn: 7.2998185\ttotal: 762ms\tremaining: 856ms\n",
      "471:\tlearn: 7.2014577\ttotal: 763ms\tremaining: 854ms\n",
      "472:\tlearn: 7.1904207\ttotal: 764ms\tremaining: 852ms\n",
      "473:\tlearn: 7.1527862\ttotal: 766ms\tremaining: 850ms\n",
      "474:\tlearn: 7.0771473\ttotal: 767ms\tremaining: 848ms\n",
      "475:\tlearn: 7.0539525\ttotal: 768ms\tremaining: 846ms\n",
      "476:\tlearn: 6.9846025\ttotal: 770ms\tremaining: 844ms\n",
      "477:\tlearn: 6.9534313\ttotal: 771ms\tremaining: 842ms\n",
      "478:\tlearn: 6.8975880\ttotal: 772ms\tremaining: 840ms\n",
      "479:\tlearn: 6.8254191\ttotal: 774ms\tremaining: 838ms\n",
      "480:\tlearn: 6.8112478\ttotal: 775ms\tremaining: 836ms\n",
      "481:\tlearn: 6.7648902\ttotal: 776ms\tremaining: 834ms\n",
      "482:\tlearn: 6.6860735\ttotal: 777ms\tremaining: 832ms\n",
      "483:\tlearn: 6.6633461\ttotal: 779ms\tremaining: 830ms\n",
      "484:\tlearn: 6.6475279\ttotal: 780ms\tremaining: 828ms\n",
      "485:\tlearn: 6.5921608\ttotal: 781ms\tremaining: 826ms\n",
      "486:\tlearn: 6.5602794\ttotal: 782ms\tremaining: 824ms\n",
      "487:\tlearn: 6.5499659\ttotal: 784ms\tremaining: 822ms\n",
      "488:\tlearn: 6.4940006\ttotal: 785ms\tremaining: 820ms\n",
      "489:\tlearn: 6.4247752\ttotal: 786ms\tremaining: 818ms\n",
      "490:\tlearn: 6.3877601\ttotal: 788ms\tremaining: 817ms\n",
      "491:\tlearn: 6.3314191\ttotal: 789ms\tremaining: 815ms\n",
      "492:\tlearn: 6.2812751\ttotal: 790ms\tremaining: 813ms\n",
      "493:\tlearn: 6.2685065\ttotal: 791ms\tremaining: 811ms\n",
      "494:\tlearn: 6.2241138\ttotal: 793ms\tremaining: 809ms\n",
      "495:\tlearn: 6.1695214\ttotal: 794ms\tremaining: 807ms\n",
      "496:\tlearn: 6.1421906\ttotal: 796ms\tremaining: 805ms\n",
      "497:\tlearn: 6.1331850\ttotal: 797ms\tremaining: 803ms\n",
      "498:\tlearn: 6.1166327\ttotal: 798ms\tremaining: 801ms\n",
      "499:\tlearn: 6.0829602\ttotal: 800ms\tremaining: 800ms\n",
      "500:\tlearn: 6.0650422\ttotal: 801ms\tremaining: 798ms\n",
      "501:\tlearn: 6.0436563\ttotal: 802ms\tremaining: 796ms\n",
      "502:\tlearn: 5.9902804\ttotal: 804ms\tremaining: 794ms\n",
      "503:\tlearn: 5.9121675\ttotal: 805ms\tremaining: 792ms\n",
      "504:\tlearn: 5.9091850\ttotal: 806ms\tremaining: 790ms\n",
      "505:\tlearn: 5.8967995\ttotal: 808ms\tremaining: 788ms\n",
      "506:\tlearn: 5.8430221\ttotal: 809ms\tremaining: 787ms\n",
      "507:\tlearn: 5.8135495\ttotal: 811ms\tremaining: 785ms\n",
      "508:\tlearn: 5.7890913\ttotal: 812ms\tremaining: 783ms\n",
      "509:\tlearn: 5.7577091\ttotal: 813ms\tremaining: 781ms\n",
      "510:\tlearn: 5.7523488\ttotal: 815ms\tremaining: 780ms\n",
      "511:\tlearn: 5.6546493\ttotal: 816ms\tremaining: 778ms\n",
      "512:\tlearn: 5.6194513\ttotal: 817ms\tremaining: 776ms\n",
      "513:\tlearn: 5.5672252\ttotal: 819ms\tremaining: 774ms\n",
      "514:\tlearn: 5.5539421\ttotal: 820ms\tremaining: 772ms\n",
      "515:\tlearn: 5.5185620\ttotal: 821ms\tremaining: 770ms\n",
      "516:\tlearn: 5.4789463\ttotal: 823ms\tremaining: 769ms\n",
      "517:\tlearn: 5.4236755\ttotal: 825ms\tremaining: 767ms\n",
      "518:\tlearn: 5.3864207\ttotal: 826ms\tremaining: 766ms\n",
      "519:\tlearn: 5.3533466\ttotal: 828ms\tremaining: 764ms\n",
      "520:\tlearn: 5.3369921\ttotal: 829ms\tremaining: 762ms\n",
      "521:\tlearn: 5.2560437\ttotal: 831ms\tremaining: 761ms\n",
      "522:\tlearn: 5.2017840\ttotal: 832ms\tremaining: 759ms\n",
      "523:\tlearn: 5.1755812\ttotal: 834ms\tremaining: 757ms\n",
      "524:\tlearn: 5.1385832\ttotal: 835ms\tremaining: 755ms\n",
      "525:\tlearn: 5.1335579\ttotal: 836ms\tremaining: 754ms\n",
      "526:\tlearn: 5.0585358\ttotal: 838ms\tremaining: 752ms\n",
      "527:\tlearn: 5.0021152\ttotal: 839ms\tremaining: 750ms\n",
      "528:\tlearn: 4.9822398\ttotal: 840ms\tremaining: 748ms\n",
      "529:\tlearn: 4.9752376\ttotal: 842ms\tremaining: 747ms\n",
      "530:\tlearn: 4.9479232\ttotal: 843ms\tremaining: 745ms\n",
      "531:\tlearn: 4.9271142\ttotal: 845ms\tremaining: 743ms\n",
      "532:\tlearn: 4.9023595\ttotal: 847ms\tremaining: 742ms\n",
      "533:\tlearn: 4.8555527\ttotal: 848ms\tremaining: 740ms\n",
      "534:\tlearn: 4.8367794\ttotal: 849ms\tremaining: 738ms\n",
      "535:\tlearn: 4.7952444\ttotal: 851ms\tremaining: 736ms\n",
      "536:\tlearn: 4.7409194\ttotal: 852ms\tremaining: 735ms\n",
      "537:\tlearn: 4.6929973\ttotal: 853ms\tremaining: 733ms\n",
      "538:\tlearn: 4.6579685\ttotal: 855ms\tremaining: 731ms\n",
      "539:\tlearn: 4.6195745\ttotal: 856ms\tremaining: 729ms\n",
      "540:\tlearn: 4.5964136\ttotal: 857ms\tremaining: 727ms\n",
      "541:\tlearn: 4.5836819\ttotal: 859ms\tremaining: 726ms\n",
      "542:\tlearn: 4.5766395\ttotal: 860ms\tremaining: 724ms\n",
      "543:\tlearn: 4.5639948\ttotal: 861ms\tremaining: 722ms\n",
      "544:\tlearn: 4.5321336\ttotal: 863ms\tremaining: 720ms\n",
      "545:\tlearn: 4.5257262\ttotal: 864ms\tremaining: 718ms\n",
      "546:\tlearn: 4.5121200\ttotal: 865ms\tremaining: 716ms\n",
      "547:\tlearn: 4.5000971\ttotal: 866ms\tremaining: 715ms\n",
      "548:\tlearn: 4.4699564\ttotal: 868ms\tremaining: 713ms\n",
      "549:\tlearn: 4.4223918\ttotal: 869ms\tremaining: 711ms\n",
      "550:\tlearn: 4.3900850\ttotal: 870ms\tremaining: 709ms\n",
      "551:\tlearn: 4.3865832\ttotal: 872ms\tremaining: 707ms\n",
      "552:\tlearn: 4.3555236\ttotal: 873ms\tremaining: 706ms\n",
      "553:\tlearn: 4.3326942\ttotal: 874ms\tremaining: 704ms\n",
      "554:\tlearn: 4.3083453\ttotal: 876ms\tremaining: 702ms\n",
      "555:\tlearn: 4.2783012\ttotal: 877ms\tremaining: 700ms\n",
      "556:\tlearn: 4.2386680\ttotal: 878ms\tremaining: 698ms\n",
      "557:\tlearn: 4.1982182\ttotal: 879ms\tremaining: 697ms\n",
      "558:\tlearn: 4.1818634\ttotal: 881ms\tremaining: 695ms\n",
      "559:\tlearn: 4.1603123\ttotal: 882ms\tremaining: 693ms\n",
      "560:\tlearn: 4.1162392\ttotal: 884ms\tremaining: 691ms\n",
      "561:\tlearn: 4.0942539\ttotal: 885ms\tremaining: 690ms\n",
      "562:\tlearn: 4.0833944\ttotal: 886ms\tremaining: 688ms\n",
      "563:\tlearn: 4.0651220\ttotal: 888ms\tremaining: 686ms\n",
      "564:\tlearn: 4.0359525\ttotal: 889ms\tremaining: 684ms\n",
      "565:\tlearn: 4.0331482\ttotal: 890ms\tremaining: 683ms\n",
      "566:\tlearn: 4.0110785\ttotal: 892ms\tremaining: 681ms\n",
      "567:\tlearn: 3.9846807\ttotal: 893ms\tremaining: 679ms\n",
      "568:\tlearn: 3.9611224\ttotal: 894ms\tremaining: 677ms\n",
      "569:\tlearn: 3.9238317\ttotal: 895ms\tremaining: 675ms\n",
      "570:\tlearn: 3.9105718\ttotal: 897ms\tremaining: 674ms\n",
      "571:\tlearn: 3.8725349\ttotal: 898ms\tremaining: 672ms\n",
      "572:\tlearn: 3.8589458\ttotal: 899ms\tremaining: 670ms\n",
      "573:\tlearn: 3.8201118\ttotal: 901ms\tremaining: 669ms\n",
      "574:\tlearn: 3.8100971\ttotal: 902ms\tremaining: 667ms\n",
      "575:\tlearn: 3.7824233\ttotal: 904ms\tremaining: 665ms\n",
      "576:\tlearn: 3.7652240\ttotal: 905ms\tremaining: 663ms\n",
      "577:\tlearn: 3.7320270\ttotal: 906ms\tremaining: 661ms\n",
      "578:\tlearn: 3.7227983\ttotal: 907ms\tremaining: 660ms\n",
      "579:\tlearn: 3.7007934\ttotal: 909ms\tremaining: 658ms\n",
      "580:\tlearn: 3.6703626\ttotal: 910ms\tremaining: 656ms\n",
      "581:\tlearn: 3.6587500\ttotal: 911ms\tremaining: 654ms\n",
      "582:\tlearn: 3.6435213\ttotal: 912ms\tremaining: 653ms\n",
      "583:\tlearn: 3.6165255\ttotal: 914ms\tremaining: 651ms\n",
      "584:\tlearn: 3.5921438\ttotal: 915ms\tremaining: 649ms\n",
      "585:\tlearn: 3.5823094\ttotal: 916ms\tremaining: 647ms\n",
      "586:\tlearn: 3.5707107\ttotal: 918ms\tremaining: 646ms\n",
      "587:\tlearn: 3.5585582\ttotal: 919ms\tremaining: 644ms\n",
      "588:\tlearn: 3.5083056\ttotal: 920ms\tremaining: 642ms\n",
      "589:\tlearn: 3.4896083\ttotal: 921ms\tremaining: 640ms\n",
      "590:\tlearn: 3.4745190\ttotal: 923ms\tremaining: 639ms\n",
      "591:\tlearn: 3.4627260\ttotal: 924ms\tremaining: 637ms\n",
      "592:\tlearn: 3.4385625\ttotal: 925ms\tremaining: 635ms\n",
      "593:\tlearn: 3.3997235\ttotal: 927ms\tremaining: 633ms\n",
      "594:\tlearn: 3.3764192\ttotal: 928ms\tremaining: 632ms\n",
      "595:\tlearn: 3.3590522\ttotal: 929ms\tremaining: 630ms\n",
      "596:\tlearn: 3.3474857\ttotal: 931ms\tremaining: 628ms\n",
      "597:\tlearn: 3.3123623\ttotal: 932ms\tremaining: 627ms\n",
      "598:\tlearn: 3.2999589\ttotal: 933ms\tremaining: 625ms\n",
      "599:\tlearn: 3.2767538\ttotal: 935ms\tremaining: 623ms\n",
      "600:\tlearn: 3.2530783\ttotal: 936ms\tremaining: 622ms\n",
      "601:\tlearn: 3.2269777\ttotal: 938ms\tremaining: 620ms\n",
      "602:\tlearn: 3.1938868\ttotal: 939ms\tremaining: 618ms\n",
      "603:\tlearn: 3.1728589\ttotal: 941ms\tremaining: 617ms\n",
      "604:\tlearn: 3.1549029\ttotal: 942ms\tremaining: 615ms\n",
      "605:\tlearn: 3.1478118\ttotal: 944ms\tremaining: 613ms\n",
      "606:\tlearn: 3.1145245\ttotal: 945ms\tremaining: 612ms\n",
      "607:\tlearn: 3.0718905\ttotal: 946ms\tremaining: 610ms\n",
      "608:\tlearn: 3.0352714\ttotal: 948ms\tremaining: 608ms\n",
      "609:\tlearn: 2.9984985\ttotal: 949ms\tremaining: 607ms\n",
      "610:\tlearn: 2.9594115\ttotal: 950ms\tremaining: 605ms\n",
      "611:\tlearn: 2.9438145\ttotal: 952ms\tremaining: 603ms\n",
      "612:\tlearn: 2.9265773\ttotal: 953ms\tremaining: 602ms\n",
      "613:\tlearn: 2.9036898\ttotal: 954ms\tremaining: 600ms\n",
      "614:\tlearn: 2.8790612\ttotal: 956ms\tremaining: 598ms\n",
      "615:\tlearn: 2.8654898\ttotal: 957ms\tremaining: 597ms\n",
      "616:\tlearn: 2.8462561\ttotal: 958ms\tremaining: 595ms\n",
      "617:\tlearn: 2.8254976\ttotal: 960ms\tremaining: 593ms\n",
      "618:\tlearn: 2.8190407\ttotal: 961ms\tremaining: 591ms\n",
      "619:\tlearn: 2.8129812\ttotal: 962ms\tremaining: 590ms\n",
      "620:\tlearn: 2.8097755\ttotal: 964ms\tremaining: 588ms\n",
      "621:\tlearn: 2.7960320\ttotal: 965ms\tremaining: 586ms\n",
      "622:\tlearn: 2.7878495\ttotal: 966ms\tremaining: 585ms\n",
      "623:\tlearn: 2.7602980\ttotal: 968ms\tremaining: 583ms\n",
      "624:\tlearn: 2.7341408\ttotal: 969ms\tremaining: 582ms\n",
      "625:\tlearn: 2.7302545\ttotal: 971ms\tremaining: 580ms\n",
      "626:\tlearn: 2.7120252\ttotal: 972ms\tremaining: 578ms\n",
      "627:\tlearn: 2.7075024\ttotal: 974ms\tremaining: 577ms\n",
      "628:\tlearn: 2.6970031\ttotal: 975ms\tremaining: 575ms\n",
      "629:\tlearn: 2.6928246\ttotal: 976ms\tremaining: 573ms\n",
      "630:\tlearn: 2.6709120\ttotal: 977ms\tremaining: 571ms\n",
      "631:\tlearn: 2.6656247\ttotal: 978ms\tremaining: 570ms\n",
      "632:\tlearn: 2.6452838\ttotal: 980ms\tremaining: 568ms\n"
     ]
    },
    {
     "name": "stdout",
     "output_type": "stream",
     "text": [
      "633:\tlearn: 2.6271014\ttotal: 981ms\tremaining: 567ms\n",
      "634:\tlearn: 2.6089454\ttotal: 983ms\tremaining: 565ms\n",
      "635:\tlearn: 2.5996271\ttotal: 985ms\tremaining: 564ms\n",
      "636:\tlearn: 2.5923568\ttotal: 986ms\tremaining: 562ms\n",
      "637:\tlearn: 2.5837611\ttotal: 988ms\tremaining: 560ms\n",
      "638:\tlearn: 2.5726721\ttotal: 989ms\tremaining: 559ms\n",
      "639:\tlearn: 2.5577477\ttotal: 990ms\tremaining: 557ms\n",
      "640:\tlearn: 2.5500744\ttotal: 992ms\tremaining: 555ms\n",
      "641:\tlearn: 2.5274442\ttotal: 993ms\tremaining: 554ms\n",
      "642:\tlearn: 2.5157559\ttotal: 994ms\tremaining: 552ms\n",
      "643:\tlearn: 2.5053856\ttotal: 996ms\tremaining: 550ms\n",
      "644:\tlearn: 2.4841922\ttotal: 997ms\tremaining: 549ms\n",
      "645:\tlearn: 2.4674035\ttotal: 999ms\tremaining: 547ms\n",
      "646:\tlearn: 2.4484158\ttotal: 1000ms\tremaining: 546ms\n",
      "647:\tlearn: 2.4263246\ttotal: 1s\tremaining: 544ms\n",
      "648:\tlearn: 2.4052258\ttotal: 1s\tremaining: 542ms\n",
      "649:\tlearn: 2.3816894\ttotal: 1s\tremaining: 541ms\n",
      "650:\tlearn: 2.3659119\ttotal: 1s\tremaining: 539ms\n",
      "651:\tlearn: 2.3576051\ttotal: 1.01s\tremaining: 537ms\n",
      "652:\tlearn: 2.3288476\ttotal: 1.01s\tremaining: 536ms\n",
      "653:\tlearn: 2.3109502\ttotal: 1.01s\tremaining: 534ms\n",
      "654:\tlearn: 2.3021504\ttotal: 1.01s\tremaining: 533ms\n",
      "655:\tlearn: 2.3009515\ttotal: 1.01s\tremaining: 531ms\n",
      "656:\tlearn: 2.2893680\ttotal: 1.01s\tremaining: 529ms\n",
      "657:\tlearn: 2.2852898\ttotal: 1.01s\tremaining: 528ms\n",
      "658:\tlearn: 2.2647131\ttotal: 1.02s\tremaining: 526ms\n",
      "659:\tlearn: 2.2437777\ttotal: 1.02s\tremaining: 524ms\n",
      "660:\tlearn: 2.2228007\ttotal: 1.02s\tremaining: 523ms\n",
      "661:\tlearn: 2.2030047\ttotal: 1.02s\tremaining: 521ms\n",
      "662:\tlearn: 2.1823076\ttotal: 1.02s\tremaining: 519ms\n",
      "663:\tlearn: 2.1607769\ttotal: 1.02s\tremaining: 518ms\n",
      "664:\tlearn: 2.1491049\ttotal: 1.02s\tremaining: 516ms\n",
      "665:\tlearn: 2.1403920\ttotal: 1.02s\tremaining: 514ms\n",
      "666:\tlearn: 2.1255852\ttotal: 1.03s\tremaining: 512ms\n",
      "667:\tlearn: 2.1087714\ttotal: 1.03s\tremaining: 511ms\n",
      "668:\tlearn: 2.1033385\ttotal: 1.03s\tremaining: 509ms\n",
      "669:\tlearn: 2.0923091\ttotal: 1.03s\tremaining: 508ms\n",
      "670:\tlearn: 2.0834076\ttotal: 1.03s\tremaining: 506ms\n",
      "671:\tlearn: 2.0735926\ttotal: 1.03s\tremaining: 504ms\n",
      "672:\tlearn: 2.0603541\ttotal: 1.03s\tremaining: 502ms\n",
      "673:\tlearn: 2.0576392\ttotal: 1.03s\tremaining: 501ms\n",
      "674:\tlearn: 2.0455537\ttotal: 1.04s\tremaining: 499ms\n",
      "675:\tlearn: 2.0282804\ttotal: 1.04s\tremaining: 497ms\n",
      "676:\tlearn: 2.0217423\ttotal: 1.04s\tremaining: 496ms\n",
      "677:\tlearn: 2.0119192\ttotal: 1.04s\tremaining: 494ms\n",
      "678:\tlearn: 2.0001332\ttotal: 1.04s\tremaining: 492ms\n",
      "679:\tlearn: 1.9979894\ttotal: 1.04s\tremaining: 491ms\n",
      "680:\tlearn: 1.9907747\ttotal: 1.04s\tremaining: 489ms\n",
      "681:\tlearn: 1.9736817\ttotal: 1.04s\tremaining: 488ms\n",
      "682:\tlearn: 1.9600965\ttotal: 1.05s\tremaining: 486ms\n",
      "683:\tlearn: 1.9539201\ttotal: 1.05s\tremaining: 484ms\n",
      "684:\tlearn: 1.9449369\ttotal: 1.05s\tremaining: 483ms\n",
      "685:\tlearn: 1.9419454\ttotal: 1.05s\tremaining: 481ms\n",
      "686:\tlearn: 1.9326842\ttotal: 1.05s\tremaining: 479ms\n",
      "687:\tlearn: 1.9288548\ttotal: 1.05s\tremaining: 478ms\n",
      "688:\tlearn: 1.9236716\ttotal: 1.05s\tremaining: 476ms\n",
      "689:\tlearn: 1.9228496\ttotal: 1.05s\tremaining: 474ms\n",
      "690:\tlearn: 1.9176354\ttotal: 1.06s\tremaining: 473ms\n",
      "691:\tlearn: 1.9147659\ttotal: 1.06s\tremaining: 471ms\n",
      "692:\tlearn: 1.9079892\ttotal: 1.06s\tremaining: 469ms\n",
      "693:\tlearn: 1.9048238\ttotal: 1.06s\tremaining: 468ms\n",
      "694:\tlearn: 1.8959419\ttotal: 1.06s\tremaining: 466ms\n",
      "695:\tlearn: 1.8711502\ttotal: 1.06s\tremaining: 464ms\n",
      "696:\tlearn: 1.8583228\ttotal: 1.06s\tremaining: 463ms\n",
      "697:\tlearn: 1.8482604\ttotal: 1.06s\tremaining: 461ms\n",
      "698:\tlearn: 1.8456936\ttotal: 1.07s\tremaining: 459ms\n",
      "699:\tlearn: 1.8273471\ttotal: 1.07s\tremaining: 458ms\n",
      "700:\tlearn: 1.8067825\ttotal: 1.07s\tremaining: 456ms\n",
      "701:\tlearn: 1.8022221\ttotal: 1.07s\tremaining: 454ms\n",
      "702:\tlearn: 1.7912070\ttotal: 1.07s\tremaining: 453ms\n",
      "703:\tlearn: 1.7755760\ttotal: 1.07s\tremaining: 451ms\n",
      "704:\tlearn: 1.7712682\ttotal: 1.07s\tremaining: 450ms\n",
      "705:\tlearn: 1.7648319\ttotal: 1.07s\tremaining: 448ms\n",
      "706:\tlearn: 1.7532904\ttotal: 1.08s\tremaining: 446ms\n",
      "707:\tlearn: 1.7463625\ttotal: 1.08s\tremaining: 445ms\n",
      "708:\tlearn: 1.7418161\ttotal: 1.08s\tremaining: 443ms\n",
      "709:\tlearn: 1.7272345\ttotal: 1.08s\tremaining: 441ms\n",
      "710:\tlearn: 1.7217505\ttotal: 1.08s\tremaining: 440ms\n",
      "711:\tlearn: 1.7151154\ttotal: 1.08s\tremaining: 438ms\n",
      "712:\tlearn: 1.7092925\ttotal: 1.08s\tremaining: 436ms\n",
      "713:\tlearn: 1.7025995\ttotal: 1.08s\tremaining: 435ms\n",
      "714:\tlearn: 1.6807623\ttotal: 1.09s\tremaining: 433ms\n",
      "715:\tlearn: 1.6674907\ttotal: 1.09s\tremaining: 431ms\n",
      "716:\tlearn: 1.6544638\ttotal: 1.09s\tremaining: 430ms\n",
      "717:\tlearn: 1.6411236\ttotal: 1.09s\tremaining: 428ms\n",
      "718:\tlearn: 1.6290477\ttotal: 1.09s\tremaining: 427ms\n",
      "719:\tlearn: 1.6222366\ttotal: 1.09s\tremaining: 425ms\n",
      "720:\tlearn: 1.6142656\ttotal: 1.09s\tremaining: 423ms\n",
      "721:\tlearn: 1.6004470\ttotal: 1.09s\tremaining: 422ms\n",
      "722:\tlearn: 1.5932177\ttotal: 1.1s\tremaining: 420ms\n",
      "723:\tlearn: 1.5743215\ttotal: 1.1s\tremaining: 418ms\n",
      "724:\tlearn: 1.5629066\ttotal: 1.1s\tremaining: 417ms\n",
      "725:\tlearn: 1.5505525\ttotal: 1.1s\tremaining: 415ms\n",
      "726:\tlearn: 1.5302974\ttotal: 1.1s\tremaining: 414ms\n",
      "727:\tlearn: 1.5260700\ttotal: 1.1s\tremaining: 412ms\n",
      "728:\tlearn: 1.5188723\ttotal: 1.1s\tremaining: 410ms\n",
      "729:\tlearn: 1.5085309\ttotal: 1.1s\tremaining: 409ms\n",
      "730:\tlearn: 1.5038733\ttotal: 1.11s\tremaining: 407ms\n",
      "731:\tlearn: 1.5008194\ttotal: 1.11s\tremaining: 406ms\n",
      "732:\tlearn: 1.4908829\ttotal: 1.11s\tremaining: 404ms\n",
      "733:\tlearn: 1.4782605\ttotal: 1.11s\tremaining: 402ms\n",
      "734:\tlearn: 1.4639356\ttotal: 1.11s\tremaining: 401ms\n",
      "735:\tlearn: 1.4471455\ttotal: 1.11s\tremaining: 399ms\n",
      "736:\tlearn: 1.4454285\ttotal: 1.11s\tremaining: 398ms\n",
      "737:\tlearn: 1.4416273\ttotal: 1.11s\tremaining: 396ms\n",
      "738:\tlearn: 1.4302267\ttotal: 1.12s\tremaining: 394ms\n",
      "739:\tlearn: 1.4219328\ttotal: 1.12s\tremaining: 393ms\n",
      "740:\tlearn: 1.4105579\ttotal: 1.12s\tremaining: 391ms\n",
      "741:\tlearn: 1.4075838\ttotal: 1.12s\tremaining: 390ms\n",
      "742:\tlearn: 1.4017014\ttotal: 1.12s\tremaining: 388ms\n",
      "743:\tlearn: 1.3974208\ttotal: 1.12s\tremaining: 386ms\n",
      "744:\tlearn: 1.3862572\ttotal: 1.12s\tremaining: 385ms\n",
      "745:\tlearn: 1.3729360\ttotal: 1.13s\tremaining: 383ms\n",
      "746:\tlearn: 1.3630904\ttotal: 1.13s\tremaining: 382ms\n",
      "747:\tlearn: 1.3477583\ttotal: 1.13s\tremaining: 380ms\n",
      "748:\tlearn: 1.3348270\ttotal: 1.13s\tremaining: 378ms\n",
      "749:\tlearn: 1.3236754\ttotal: 1.13s\tremaining: 377ms\n",
      "750:\tlearn: 1.3171961\ttotal: 1.13s\tremaining: 375ms\n",
      "751:\tlearn: 1.3113457\ttotal: 1.13s\tremaining: 374ms\n",
      "752:\tlearn: 1.3036391\ttotal: 1.13s\tremaining: 372ms\n",
      "753:\tlearn: 1.2935829\ttotal: 1.14s\tremaining: 370ms\n",
      "754:\tlearn: 1.2837612\ttotal: 1.14s\tremaining: 369ms\n",
      "755:\tlearn: 1.2768260\ttotal: 1.14s\tremaining: 367ms\n",
      "756:\tlearn: 1.2689370\ttotal: 1.14s\tremaining: 366ms\n",
      "757:\tlearn: 1.2561567\ttotal: 1.14s\tremaining: 364ms\n",
      "758:\tlearn: 1.2475100\ttotal: 1.14s\tremaining: 362ms\n",
      "759:\tlearn: 1.2405978\ttotal: 1.14s\tremaining: 361ms\n",
      "760:\tlearn: 1.2342628\ttotal: 1.14s\tremaining: 359ms\n",
      "761:\tlearn: 1.2271880\ttotal: 1.15s\tremaining: 358ms\n",
      "762:\tlearn: 1.2138527\ttotal: 1.15s\tremaining: 356ms\n",
      "763:\tlearn: 1.2076889\ttotal: 1.15s\tremaining: 355ms\n",
      "764:\tlearn: 1.2041847\ttotal: 1.15s\tremaining: 353ms\n",
      "765:\tlearn: 1.1970019\ttotal: 1.15s\tremaining: 351ms\n",
      "766:\tlearn: 1.1892878\ttotal: 1.15s\tremaining: 350ms\n",
      "767:\tlearn: 1.1858432\ttotal: 1.15s\tremaining: 348ms\n",
      "768:\tlearn: 1.1746182\ttotal: 1.15s\tremaining: 347ms\n",
      "769:\tlearn: 1.1694876\ttotal: 1.16s\tremaining: 345ms\n",
      "770:\tlearn: 1.1657055\ttotal: 1.16s\tremaining: 344ms\n",
      "771:\tlearn: 1.1556043\ttotal: 1.16s\tremaining: 342ms\n",
      "772:\tlearn: 1.1540774\ttotal: 1.16s\tremaining: 341ms\n",
      "773:\tlearn: 1.1473715\ttotal: 1.16s\tremaining: 339ms\n",
      "774:\tlearn: 1.1419763\ttotal: 1.16s\tremaining: 338ms\n",
      "775:\tlearn: 1.1303590\ttotal: 1.16s\tremaining: 336ms\n",
      "776:\tlearn: 1.1230587\ttotal: 1.17s\tremaining: 335ms\n",
      "777:\tlearn: 1.1143917\ttotal: 1.17s\tremaining: 333ms\n",
      "778:\tlearn: 1.1112687\ttotal: 1.17s\tremaining: 332ms\n",
      "779:\tlearn: 1.1009863\ttotal: 1.17s\tremaining: 330ms\n",
      "780:\tlearn: 1.0899260\ttotal: 1.17s\tremaining: 328ms\n",
      "781:\tlearn: 1.0855158\ttotal: 1.17s\tremaining: 327ms\n",
      "782:\tlearn: 1.0808031\ttotal: 1.17s\tremaining: 325ms\n",
      "783:\tlearn: 1.0763884\ttotal: 1.18s\tremaining: 324ms\n",
      "784:\tlearn: 1.0710758\ttotal: 1.18s\tremaining: 322ms\n",
      "785:\tlearn: 1.0634482\ttotal: 1.18s\tremaining: 321ms\n",
      "786:\tlearn: 1.0529874\ttotal: 1.18s\tremaining: 319ms\n",
      "787:\tlearn: 1.0501903\ttotal: 1.18s\tremaining: 318ms\n",
      "788:\tlearn: 1.0410587\ttotal: 1.18s\tremaining: 316ms\n",
      "789:\tlearn: 1.0386261\ttotal: 1.18s\tremaining: 315ms\n",
      "790:\tlearn: 1.0351082\ttotal: 1.19s\tremaining: 313ms\n",
      "791:\tlearn: 1.0320987\ttotal: 1.19s\tremaining: 312ms\n",
      "792:\tlearn: 1.0294915\ttotal: 1.19s\tremaining: 310ms\n",
      "793:\tlearn: 1.0233284\ttotal: 1.19s\tremaining: 309ms\n",
      "794:\tlearn: 1.0176815\ttotal: 1.19s\tremaining: 307ms\n",
      "795:\tlearn: 1.0074411\ttotal: 1.19s\tremaining: 305ms\n",
      "796:\tlearn: 1.0020197\ttotal: 1.19s\tremaining: 304ms\n",
      "797:\tlearn: 0.9989044\ttotal: 1.19s\tremaining: 302ms\n",
      "798:\tlearn: 0.9937483\ttotal: 1.2s\tremaining: 301ms\n",
      "799:\tlearn: 0.9867329\ttotal: 1.2s\tremaining: 299ms\n",
      "800:\tlearn: 0.9819829\ttotal: 1.2s\tremaining: 298ms\n",
      "801:\tlearn: 0.9777514\ttotal: 1.2s\tremaining: 296ms\n",
      "802:\tlearn: 0.9757462\ttotal: 1.2s\tremaining: 295ms\n",
      "803:\tlearn: 0.9702440\ttotal: 1.2s\tremaining: 293ms\n",
      "804:\tlearn: 0.9636471\ttotal: 1.2s\tremaining: 291ms\n",
      "805:\tlearn: 0.9548362\ttotal: 1.2s\tremaining: 290ms\n",
      "806:\tlearn: 0.9470745\ttotal: 1.21s\tremaining: 288ms\n",
      "807:\tlearn: 0.9408578\ttotal: 1.21s\tremaining: 287ms\n",
      "808:\tlearn: 0.9350692\ttotal: 1.21s\tremaining: 285ms\n",
      "809:\tlearn: 0.9290967\ttotal: 1.21s\tremaining: 284ms\n",
      "810:\tlearn: 0.9267158\ttotal: 1.21s\tremaining: 282ms\n",
      "811:\tlearn: 0.9235794\ttotal: 1.21s\tremaining: 281ms\n",
      "812:\tlearn: 0.9226084\ttotal: 1.21s\tremaining: 279ms\n",
      "813:\tlearn: 0.9139012\ttotal: 1.21s\tremaining: 278ms\n",
      "814:\tlearn: 0.9073690\ttotal: 1.22s\tremaining: 276ms\n",
      "815:\tlearn: 0.9024018\ttotal: 1.22s\tremaining: 275ms\n",
      "816:\tlearn: 0.9001693\ttotal: 1.22s\tremaining: 273ms\n",
      "817:\tlearn: 0.8970481\ttotal: 1.22s\tremaining: 271ms\n",
      "818:\tlearn: 0.8907494\ttotal: 1.22s\tremaining: 270ms\n",
      "819:\tlearn: 0.8886718\ttotal: 1.22s\tremaining: 268ms\n",
      "820:\tlearn: 0.8869259\ttotal: 1.22s\tremaining: 267ms\n",
      "821:\tlearn: 0.8804683\ttotal: 1.22s\tremaining: 265ms\n",
      "822:\tlearn: 0.8666371\ttotal: 1.23s\tremaining: 264ms\n",
      "823:\tlearn: 0.8659600\ttotal: 1.23s\tremaining: 262ms\n",
      "824:\tlearn: 0.8604612\ttotal: 1.23s\tremaining: 261ms\n",
      "825:\tlearn: 0.8544955\ttotal: 1.23s\tremaining: 259ms\n",
      "826:\tlearn: 0.8496739\ttotal: 1.23s\tremaining: 258ms\n",
      "827:\tlearn: 0.8420906\ttotal: 1.23s\tremaining: 256ms\n",
      "828:\tlearn: 0.8398457\ttotal: 1.23s\tremaining: 254ms\n",
      "829:\tlearn: 0.8358570\ttotal: 1.23s\tremaining: 253ms\n",
      "830:\tlearn: 0.8293211\ttotal: 1.24s\tremaining: 251ms\n",
      "831:\tlearn: 0.8236188\ttotal: 1.24s\tremaining: 250ms\n",
      "832:\tlearn: 0.8175017\ttotal: 1.24s\tremaining: 248ms\n",
      "833:\tlearn: 0.8128315\ttotal: 1.24s\tremaining: 247ms\n",
      "834:\tlearn: 0.8096197\ttotal: 1.24s\tremaining: 245ms\n",
      "835:\tlearn: 0.8027133\ttotal: 1.24s\tremaining: 244ms\n",
      "836:\tlearn: 0.7987555\ttotal: 1.24s\tremaining: 242ms\n",
      "837:\tlearn: 0.7928141\ttotal: 1.24s\tremaining: 241ms\n",
      "838:\tlearn: 0.7897563\ttotal: 1.25s\tremaining: 239ms\n",
      "839:\tlearn: 0.7876758\ttotal: 1.25s\tremaining: 238ms\n",
      "840:\tlearn: 0.7777598\ttotal: 1.25s\tremaining: 236ms\n",
      "841:\tlearn: 0.7767597\ttotal: 1.25s\tremaining: 235ms\n",
      "842:\tlearn: 0.7665043\ttotal: 1.25s\tremaining: 233ms\n",
      "843:\tlearn: 0.7626478\ttotal: 1.25s\tremaining: 231ms\n",
      "844:\tlearn: 0.7540439\ttotal: 1.25s\tremaining: 230ms\n",
      "845:\tlearn: 0.7508537\ttotal: 1.25s\tremaining: 228ms\n",
      "846:\tlearn: 0.7459152\ttotal: 1.26s\tremaining: 227ms\n",
      "847:\tlearn: 0.7447900\ttotal: 1.26s\tremaining: 225ms\n",
      "848:\tlearn: 0.7418475\ttotal: 1.26s\tremaining: 224ms\n",
      "849:\tlearn: 0.7379949\ttotal: 1.26s\tremaining: 222ms\n",
      "850:\tlearn: 0.7369054\ttotal: 1.26s\tremaining: 221ms\n",
      "851:\tlearn: 0.7327236\ttotal: 1.26s\tremaining: 219ms\n",
      "852:\tlearn: 0.7311790\ttotal: 1.26s\tremaining: 218ms\n",
      "853:\tlearn: 0.7226495\ttotal: 1.26s\tremaining: 216ms\n",
      "854:\tlearn: 0.7168390\ttotal: 1.27s\tremaining: 215ms\n",
      "855:\tlearn: 0.7117890\ttotal: 1.27s\tremaining: 213ms\n",
      "856:\tlearn: 0.7040100\ttotal: 1.27s\tremaining: 212ms\n",
      "857:\tlearn: 0.6960021\ttotal: 1.27s\tremaining: 210ms\n",
      "858:\tlearn: 0.6920263\ttotal: 1.27s\tremaining: 209ms\n",
      "859:\tlearn: 0.6853317\ttotal: 1.27s\tremaining: 207ms\n",
      "860:\tlearn: 0.6805108\ttotal: 1.27s\tremaining: 206ms\n",
      "861:\tlearn: 0.6771728\ttotal: 1.27s\tremaining: 204ms\n",
      "862:\tlearn: 0.6708199\ttotal: 1.28s\tremaining: 203ms\n",
      "863:\tlearn: 0.6689468\ttotal: 1.28s\tremaining: 201ms\n",
      "864:\tlearn: 0.6647579\ttotal: 1.28s\tremaining: 200ms\n",
      "865:\tlearn: 0.6587745\ttotal: 1.28s\tremaining: 198ms\n",
      "866:\tlearn: 0.6549437\ttotal: 1.28s\tremaining: 197ms\n",
      "867:\tlearn: 0.6484944\ttotal: 1.28s\tremaining: 195ms\n",
      "868:\tlearn: 0.6455316\ttotal: 1.28s\tremaining: 194ms\n",
      "869:\tlearn: 0.6420739\ttotal: 1.28s\tremaining: 192ms\n",
      "870:\tlearn: 0.6375667\ttotal: 1.29s\tremaining: 191ms\n",
      "871:\tlearn: 0.6358236\ttotal: 1.29s\tremaining: 189ms\n",
      "872:\tlearn: 0.6320335\ttotal: 1.29s\tremaining: 188ms\n",
      "873:\tlearn: 0.6288025\ttotal: 1.29s\tremaining: 186ms\n",
      "874:\tlearn: 0.6243292\ttotal: 1.29s\tremaining: 184ms\n",
      "875:\tlearn: 0.6165696\ttotal: 1.29s\tremaining: 183ms\n",
      "876:\tlearn: 0.6128782\ttotal: 1.29s\tremaining: 181ms\n",
      "877:\tlearn: 0.6057460\ttotal: 1.29s\tremaining: 180ms\n",
      "878:\tlearn: 0.6048833\ttotal: 1.3s\tremaining: 178ms\n",
      "879:\tlearn: 0.5984637\ttotal: 1.3s\tremaining: 177ms\n",
      "880:\tlearn: 0.5935168\ttotal: 1.3s\tremaining: 175ms\n",
      "881:\tlearn: 0.5892604\ttotal: 1.3s\tremaining: 174ms\n",
      "882:\tlearn: 0.5846504\ttotal: 1.3s\tremaining: 172ms\n",
      "883:\tlearn: 0.5814985\ttotal: 1.3s\tremaining: 171ms\n",
      "884:\tlearn: 0.5778053\ttotal: 1.3s\tremaining: 169ms\n",
      "885:\tlearn: 0.5739896\ttotal: 1.3s\tremaining: 168ms\n",
      "886:\tlearn: 0.5729847\ttotal: 1.31s\tremaining: 166ms\n",
      "887:\tlearn: 0.5724598\ttotal: 1.31s\tremaining: 165ms\n",
      "888:\tlearn: 0.5718988\ttotal: 1.31s\tremaining: 163ms\n",
      "889:\tlearn: 0.5672314\ttotal: 1.31s\tremaining: 162ms\n",
      "890:\tlearn: 0.5659035\ttotal: 1.31s\tremaining: 160ms\n",
      "891:\tlearn: 0.5587131\ttotal: 1.31s\tremaining: 159ms\n"
     ]
    },
    {
     "name": "stdout",
     "output_type": "stream",
     "text": [
      "892:\tlearn: 0.5562858\ttotal: 1.31s\tremaining: 158ms\n",
      "893:\tlearn: 0.5555127\ttotal: 1.32s\tremaining: 156ms\n",
      "894:\tlearn: 0.5527685\ttotal: 1.32s\tremaining: 155ms\n",
      "895:\tlearn: 0.5499500\ttotal: 1.32s\tremaining: 153ms\n",
      "896:\tlearn: 0.5456148\ttotal: 1.32s\tremaining: 152ms\n",
      "897:\tlearn: 0.5403285\ttotal: 1.32s\tremaining: 150ms\n",
      "898:\tlearn: 0.5377774\ttotal: 1.32s\tremaining: 149ms\n",
      "899:\tlearn: 0.5371353\ttotal: 1.32s\tremaining: 147ms\n",
      "900:\tlearn: 0.5332613\ttotal: 1.32s\tremaining: 146ms\n",
      "901:\tlearn: 0.5289379\ttotal: 1.33s\tremaining: 144ms\n",
      "902:\tlearn: 0.5277948\ttotal: 1.33s\tremaining: 143ms\n",
      "903:\tlearn: 0.5229979\ttotal: 1.33s\tremaining: 141ms\n",
      "904:\tlearn: 0.5176545\ttotal: 1.33s\tremaining: 140ms\n",
      "905:\tlearn: 0.5167566\ttotal: 1.33s\tremaining: 138ms\n",
      "906:\tlearn: 0.5163313\ttotal: 1.33s\tremaining: 137ms\n",
      "907:\tlearn: 0.5116777\ttotal: 1.33s\tremaining: 135ms\n",
      "908:\tlearn: 0.5097952\ttotal: 1.34s\tremaining: 134ms\n",
      "909:\tlearn: 0.5071290\ttotal: 1.34s\tremaining: 132ms\n",
      "910:\tlearn: 0.5049191\ttotal: 1.34s\tremaining: 131ms\n",
      "911:\tlearn: 0.5018383\ttotal: 1.34s\tremaining: 129ms\n",
      "912:\tlearn: 0.5007466\ttotal: 1.34s\tremaining: 128ms\n",
      "913:\tlearn: 0.4998771\ttotal: 1.34s\tremaining: 126ms\n",
      "914:\tlearn: 0.4954624\ttotal: 1.34s\tremaining: 125ms\n",
      "915:\tlearn: 0.4942071\ttotal: 1.35s\tremaining: 124ms\n",
      "916:\tlearn: 0.4893003\ttotal: 1.35s\tremaining: 122ms\n",
      "917:\tlearn: 0.4870233\ttotal: 1.35s\tremaining: 121ms\n",
      "918:\tlearn: 0.4830379\ttotal: 1.35s\tremaining: 119ms\n",
      "919:\tlearn: 0.4753426\ttotal: 1.35s\tremaining: 118ms\n",
      "920:\tlearn: 0.4730706\ttotal: 1.35s\tremaining: 116ms\n",
      "921:\tlearn: 0.4679650\ttotal: 1.35s\tremaining: 115ms\n",
      "922:\tlearn: 0.4651630\ttotal: 1.36s\tremaining: 113ms\n",
      "923:\tlearn: 0.4634313\ttotal: 1.36s\tremaining: 112ms\n",
      "924:\tlearn: 0.4607284\ttotal: 1.36s\tremaining: 110ms\n",
      "925:\tlearn: 0.4589159\ttotal: 1.36s\tremaining: 109ms\n",
      "926:\tlearn: 0.4532169\ttotal: 1.36s\tremaining: 107ms\n",
      "927:\tlearn: 0.4509932\ttotal: 1.36s\tremaining: 106ms\n",
      "928:\tlearn: 0.4506088\ttotal: 1.36s\tremaining: 104ms\n",
      "929:\tlearn: 0.4501478\ttotal: 1.36s\tremaining: 103ms\n",
      "930:\tlearn: 0.4490581\ttotal: 1.37s\tremaining: 101ms\n",
      "931:\tlearn: 0.4447316\ttotal: 1.37s\tremaining: 99.8ms\n",
      "932:\tlearn: 0.4415148\ttotal: 1.37s\tremaining: 98.3ms\n",
      "933:\tlearn: 0.4391051\ttotal: 1.37s\tremaining: 96.8ms\n",
      "934:\tlearn: 0.4357356\ttotal: 1.37s\tremaining: 95.3ms\n",
      "935:\tlearn: 0.4323983\ttotal: 1.37s\tremaining: 93.9ms\n",
      "936:\tlearn: 0.4302143\ttotal: 1.37s\tremaining: 92.4ms\n",
      "937:\tlearn: 0.4289117\ttotal: 1.38s\tremaining: 90.9ms\n",
      "938:\tlearn: 0.4284339\ttotal: 1.38s\tremaining: 89.4ms\n",
      "939:\tlearn: 0.4244107\ttotal: 1.38s\tremaining: 87.9ms\n",
      "940:\tlearn: 0.4237451\ttotal: 1.38s\tremaining: 86.5ms\n",
      "941:\tlearn: 0.4215386\ttotal: 1.38s\tremaining: 85ms\n",
      "942:\tlearn: 0.4180705\ttotal: 1.38s\tremaining: 83.5ms\n",
      "943:\tlearn: 0.4154760\ttotal: 1.38s\tremaining: 82ms\n",
      "944:\tlearn: 0.4124859\ttotal: 1.38s\tremaining: 80.5ms\n",
      "945:\tlearn: 0.4119886\ttotal: 1.39s\tremaining: 79.1ms\n",
      "946:\tlearn: 0.4115906\ttotal: 1.39s\tremaining: 77.6ms\n",
      "947:\tlearn: 0.4081974\ttotal: 1.39s\tremaining: 76.1ms\n",
      "948:\tlearn: 0.4064530\ttotal: 1.39s\tremaining: 74.6ms\n",
      "949:\tlearn: 0.4040915\ttotal: 1.39s\tremaining: 73.2ms\n",
      "950:\tlearn: 0.4008861\ttotal: 1.39s\tremaining: 71.7ms\n",
      "951:\tlearn: 0.3970913\ttotal: 1.39s\tremaining: 70.2ms\n",
      "952:\tlearn: 0.3943258\ttotal: 1.39s\tremaining: 68.8ms\n",
      "953:\tlearn: 0.3926270\ttotal: 1.4s\tremaining: 67.3ms\n",
      "954:\tlearn: 0.3909448\ttotal: 1.4s\tremaining: 65.8ms\n",
      "955:\tlearn: 0.3887707\ttotal: 1.4s\tremaining: 64.3ms\n",
      "956:\tlearn: 0.3868345\ttotal: 1.4s\tremaining: 62.9ms\n",
      "957:\tlearn: 0.3839349\ttotal: 1.4s\tremaining: 61.4ms\n",
      "958:\tlearn: 0.3808497\ttotal: 1.4s\tremaining: 59.9ms\n",
      "959:\tlearn: 0.3779283\ttotal: 1.4s\tremaining: 58.5ms\n",
      "960:\tlearn: 0.3755090\ttotal: 1.4s\tremaining: 57ms\n",
      "961:\tlearn: 0.3734292\ttotal: 1.41s\tremaining: 55.5ms\n",
      "962:\tlearn: 0.3731558\ttotal: 1.41s\tremaining: 54.1ms\n",
      "963:\tlearn: 0.3716642\ttotal: 1.41s\tremaining: 52.6ms\n",
      "964:\tlearn: 0.3700879\ttotal: 1.41s\tremaining: 51.1ms\n",
      "965:\tlearn: 0.3676034\ttotal: 1.41s\tremaining: 49.6ms\n",
      "966:\tlearn: 0.3640425\ttotal: 1.41s\tremaining: 48.2ms\n",
      "967:\tlearn: 0.3632495\ttotal: 1.41s\tremaining: 46.7ms\n",
      "968:\tlearn: 0.3603878\ttotal: 1.41s\tremaining: 45.2ms\n",
      "969:\tlearn: 0.3584398\ttotal: 1.42s\tremaining: 43.8ms\n",
      "970:\tlearn: 0.3560019\ttotal: 1.42s\tremaining: 42.3ms\n",
      "971:\tlearn: 0.3535719\ttotal: 1.42s\tremaining: 40.8ms\n",
      "972:\tlearn: 0.3518950\ttotal: 1.42s\tremaining: 39.4ms\n",
      "973:\tlearn: 0.3479039\ttotal: 1.42s\tremaining: 37.9ms\n",
      "974:\tlearn: 0.3463938\ttotal: 1.42s\tremaining: 36.5ms\n",
      "975:\tlearn: 0.3433932\ttotal: 1.42s\tremaining: 35ms\n",
      "976:\tlearn: 0.3410148\ttotal: 1.42s\tremaining: 33.5ms\n",
      "977:\tlearn: 0.3393532\ttotal: 1.43s\tremaining: 32.1ms\n",
      "978:\tlearn: 0.3373067\ttotal: 1.43s\tremaining: 30.6ms\n",
      "979:\tlearn: 0.3359122\ttotal: 1.43s\tremaining: 29.1ms\n",
      "980:\tlearn: 0.3340848\ttotal: 1.43s\tremaining: 27.7ms\n",
      "981:\tlearn: 0.3331220\ttotal: 1.43s\tremaining: 26.2ms\n",
      "982:\tlearn: 0.3308795\ttotal: 1.43s\tremaining: 24.8ms\n",
      "983:\tlearn: 0.3288012\ttotal: 1.43s\tremaining: 23.3ms\n",
      "984:\tlearn: 0.3271648\ttotal: 1.43s\tremaining: 21.8ms\n",
      "985:\tlearn: 0.3246514\ttotal: 1.44s\tremaining: 20.4ms\n",
      "986:\tlearn: 0.3218383\ttotal: 1.44s\tremaining: 18.9ms\n",
      "987:\tlearn: 0.3206535\ttotal: 1.44s\tremaining: 17.5ms\n",
      "988:\tlearn: 0.3190063\ttotal: 1.44s\tremaining: 16ms\n",
      "989:\tlearn: 0.3176250\ttotal: 1.44s\tremaining: 14.6ms\n",
      "990:\tlearn: 0.3146329\ttotal: 1.44s\tremaining: 13.1ms\n",
      "991:\tlearn: 0.3130835\ttotal: 1.44s\tremaining: 11.6ms\n",
      "992:\tlearn: 0.3107534\ttotal: 1.44s\tremaining: 10.2ms\n",
      "993:\tlearn: 0.3089626\ttotal: 1.45s\tremaining: 8.73ms\n",
      "994:\tlearn: 0.3080205\ttotal: 1.45s\tremaining: 7.27ms\n",
      "995:\tlearn: 0.3055692\ttotal: 1.45s\tremaining: 5.82ms\n",
      "996:\tlearn: 0.3035687\ttotal: 1.45s\tremaining: 4.36ms\n",
      "997:\tlearn: 0.3019582\ttotal: 1.45s\tremaining: 2.91ms\n",
      "998:\tlearn: 0.3000480\ttotal: 1.45s\tremaining: 1.45ms\n",
      "999:\tlearn: 0.2971131\ttotal: 1.45s\tremaining: 0us\n"
     ]
    },
    {
     "data": {
      "text/plain": [
       "GridSearchCV(cv=5,\n",
       "             estimator=<catboost.core.CatBoostRegressor object at 0x00000277B7D078E0>,\n",
       "             n_jobs=-1,\n",
       "             param_grid={'depth': [3, 4, 5, 6, 7, 8],\n",
       "                         'iterations': [200, 500, 1000, 2000],\n",
       "                         'learning_rate': [0.01, 0.03, 0.05, 0.1]},\n",
       "             verbose=2)"
      ]
     },
     "execution_count": 113,
     "metadata": {},
     "output_type": "execute_result"
    }
   ],
   "source": [
    "catb_grid = {\n",
    "    'iterations': [200,500,1000,2000],\n",
    "    'learning_rate': [0.01, 0.03, 0.05, 0.1],\n",
    "    'depth': [3,4,5,6,7,8] }\n",
    "\n",
    "from sklearn.model_selection import GridSearchCV\n",
    "\n",
    "catb = CatBoostRegressor()\n",
    "catb_cv_model = GridSearchCV(catb, catb_grid, cv=5, n_jobs = -1, verbose = 2)\n",
    "\n",
    "catb_cv_model.fit(X_train, y_train)"
   ]
  },
  {
   "cell_type": "code",
   "execution_count": 114,
   "id": "3715ced9",
   "metadata": {},
   "outputs": [
    {
     "data": {
      "text/plain": [
       "{'depth': 5, 'iterations': 1000, 'learning_rate': 0.1}"
      ]
     },
     "execution_count": 114,
     "metadata": {},
     "output_type": "execute_result"
    }
   ],
   "source": [
    "catb_cv_model.best_params_"
   ]
  },
  {
   "cell_type": "code",
   "execution_count": 115,
   "id": "f7594933",
   "metadata": {
    "collapsed": true
   },
   "outputs": [
    {
     "name": "stdout",
     "output_type": "stream",
     "text": [
      "0:\tlearn: 422.4143448\ttotal: 15.4ms\tremaining: 15.4s\n",
      "1:\tlearn: 404.1864276\ttotal: 16.8ms\tremaining: 8.4s\n",
      "2:\tlearn: 386.3231718\ttotal: 18.1ms\tremaining: 6.01s\n",
      "3:\tlearn: 370.5548032\ttotal: 19.3ms\tremaining: 4.81s\n",
      "4:\tlearn: 354.9242038\ttotal: 20.5ms\tremaining: 4.08s\n",
      "5:\tlearn: 342.3403984\ttotal: 21.7ms\tremaining: 3.6s\n",
      "6:\tlearn: 328.2370070\ttotal: 22.9ms\tremaining: 3.25s\n",
      "7:\tlearn: 317.5056526\ttotal: 24.1ms\tremaining: 2.99s\n",
      "8:\tlearn: 306.6243511\ttotal: 25.3ms\tremaining: 2.78s\n",
      "9:\tlearn: 297.3147023\ttotal: 26.4ms\tremaining: 2.62s\n",
      "10:\tlearn: 288.3685892\ttotal: 27.6ms\tremaining: 2.48s\n",
      "11:\tlearn: 281.0996220\ttotal: 28.7ms\tremaining: 2.36s\n",
      "12:\tlearn: 273.2254898\ttotal: 29.9ms\tremaining: 2.27s\n",
      "13:\tlearn: 266.9003385\ttotal: 31.2ms\tremaining: 2.19s\n",
      "14:\tlearn: 261.9092500\ttotal: 32.3ms\tremaining: 2.12s\n",
      "15:\tlearn: 256.2637350\ttotal: 33.5ms\tremaining: 2.06s\n",
      "16:\tlearn: 250.3667935\ttotal: 34.6ms\tremaining: 2s\n",
      "17:\tlearn: 244.8631098\ttotal: 35.7ms\tremaining: 1.95s\n",
      "18:\tlearn: 240.1540669\ttotal: 37ms\tremaining: 1.91s\n",
      "19:\tlearn: 235.6057263\ttotal: 38.5ms\tremaining: 1.89s\n",
      "20:\tlearn: 231.2431102\ttotal: 39.9ms\tremaining: 1.86s\n",
      "21:\tlearn: 226.4912464\ttotal: 41.2ms\tremaining: 1.83s\n",
      "22:\tlearn: 223.5591707\ttotal: 42ms\tremaining: 1.78s\n",
      "23:\tlearn: 219.6098928\ttotal: 43.3ms\tremaining: 1.76s\n",
      "24:\tlearn: 215.3653069\ttotal: 44.5ms\tremaining: 1.74s\n",
      "25:\tlearn: 212.0589058\ttotal: 46ms\tremaining: 1.72s\n",
      "26:\tlearn: 209.7717728\ttotal: 47.8ms\tremaining: 1.72s\n",
      "27:\tlearn: 206.4800180\ttotal: 48.9ms\tremaining: 1.7s\n",
      "28:\tlearn: 204.4998286\ttotal: 50ms\tremaining: 1.67s\n",
      "29:\tlearn: 202.5999376\ttotal: 51ms\tremaining: 1.65s\n",
      "30:\tlearn: 199.5099986\ttotal: 52ms\tremaining: 1.63s\n",
      "31:\tlearn: 196.9435690\ttotal: 53ms\tremaining: 1.6s\n",
      "32:\tlearn: 194.9855023\ttotal: 54ms\tremaining: 1.58s\n",
      "33:\tlearn: 193.0037094\ttotal: 55ms\tremaining: 1.56s\n",
      "34:\tlearn: 191.6771224\ttotal: 56.1ms\tremaining: 1.55s\n",
      "35:\tlearn: 188.6440989\ttotal: 57.2ms\tremaining: 1.53s\n",
      "36:\tlearn: 186.7575822\ttotal: 58.2ms\tremaining: 1.51s\n",
      "37:\tlearn: 183.5070965\ttotal: 59.4ms\tremaining: 1.5s\n",
      "38:\tlearn: 181.9932704\ttotal: 61ms\tremaining: 1.5s\n",
      "39:\tlearn: 180.4612043\ttotal: 62.1ms\tremaining: 1.49s\n",
      "40:\tlearn: 178.9727236\ttotal: 63.1ms\tremaining: 1.48s\n",
      "41:\tlearn: 176.9704782\ttotal: 64.2ms\tremaining: 1.46s\n",
      "42:\tlearn: 172.9583917\ttotal: 65.3ms\tremaining: 1.45s\n",
      "43:\tlearn: 172.0259404\ttotal: 66.3ms\tremaining: 1.44s\n",
      "44:\tlearn: 169.6703908\ttotal: 67.5ms\tremaining: 1.43s\n",
      "45:\tlearn: 167.0349788\ttotal: 68.5ms\tremaining: 1.42s\n",
      "46:\tlearn: 166.0151540\ttotal: 69.6ms\tremaining: 1.41s\n",
      "47:\tlearn: 164.3432866\ttotal: 70.6ms\tremaining: 1.4s\n",
      "48:\tlearn: 163.7139546\ttotal: 71.5ms\tremaining: 1.39s\n",
      "49:\tlearn: 162.0231882\ttotal: 72.6ms\tremaining: 1.38s\n",
      "50:\tlearn: 159.4806540\ttotal: 73.9ms\tremaining: 1.38s\n",
      "51:\tlearn: 156.5835618\ttotal: 75ms\tremaining: 1.37s\n",
      "52:\tlearn: 155.1124833\ttotal: 76.1ms\tremaining: 1.36s\n",
      "53:\tlearn: 154.3849650\ttotal: 77.2ms\tremaining: 1.35s\n",
      "54:\tlearn: 153.2243534\ttotal: 78.3ms\tremaining: 1.34s\n",
      "55:\tlearn: 152.3205510\ttotal: 79.4ms\tremaining: 1.34s\n",
      "56:\tlearn: 151.0666069\ttotal: 80.6ms\tremaining: 1.33s\n",
      "57:\tlearn: 150.0992693\ttotal: 81.7ms\tremaining: 1.33s\n",
      "58:\tlearn: 149.7214223\ttotal: 82.6ms\tremaining: 1.32s\n",
      "59:\tlearn: 149.3420563\ttotal: 83.6ms\tremaining: 1.31s\n",
      "60:\tlearn: 147.1527638\ttotal: 84.6ms\tremaining: 1.3s\n",
      "61:\tlearn: 146.0849045\ttotal: 85.6ms\tremaining: 1.29s\n",
      "62:\tlearn: 145.2592821\ttotal: 86.6ms\tremaining: 1.29s\n",
      "63:\tlearn: 143.9723823\ttotal: 87.6ms\tremaining: 1.28s\n",
      "64:\tlearn: 142.9337890\ttotal: 88.7ms\tremaining: 1.27s\n",
      "65:\tlearn: 141.2456060\ttotal: 89.6ms\tremaining: 1.27s\n",
      "66:\tlearn: 140.0933886\ttotal: 90.5ms\tremaining: 1.26s\n",
      "67:\tlearn: 139.0122411\ttotal: 91.3ms\tremaining: 1.25s\n",
      "68:\tlearn: 137.0658535\ttotal: 92.2ms\tremaining: 1.24s\n",
      "69:\tlearn: 136.5187600\ttotal: 93.2ms\tremaining: 1.24s\n",
      "70:\tlearn: 135.3177866\ttotal: 94.1ms\tremaining: 1.23s\n",
      "71:\tlearn: 134.4397288\ttotal: 95ms\tremaining: 1.22s\n",
      "72:\tlearn: 133.9689054\ttotal: 95.9ms\tremaining: 1.22s\n",
      "73:\tlearn: 132.9503812\ttotal: 96.9ms\tremaining: 1.21s\n",
      "74:\tlearn: 132.4790284\ttotal: 97.9ms\tremaining: 1.21s\n",
      "75:\tlearn: 130.0079846\ttotal: 98.8ms\tremaining: 1.2s\n",
      "76:\tlearn: 128.6536311\ttotal: 99.8ms\tremaining: 1.2s\n",
      "77:\tlearn: 126.4149435\ttotal: 101ms\tremaining: 1.19s\n",
      "78:\tlearn: 124.7339610\ttotal: 102ms\tremaining: 1.18s\n",
      "79:\tlearn: 123.6799098\ttotal: 103ms\tremaining: 1.18s\n",
      "80:\tlearn: 122.0132818\ttotal: 104ms\tremaining: 1.18s\n",
      "81:\tlearn: 121.7718402\ttotal: 105ms\tremaining: 1.17s\n",
      "82:\tlearn: 121.0226763\ttotal: 106ms\tremaining: 1.17s\n",
      "83:\tlearn: 119.0352412\ttotal: 107ms\tremaining: 1.17s\n",
      "84:\tlearn: 118.1578472\ttotal: 108ms\tremaining: 1.16s\n",
      "85:\tlearn: 117.3963152\ttotal: 109ms\tremaining: 1.15s\n",
      "86:\tlearn: 116.8601830\ttotal: 110ms\tremaining: 1.15s\n",
      "87:\tlearn: 115.1485488\ttotal: 111ms\tremaining: 1.15s\n",
      "88:\tlearn: 113.3802066\ttotal: 112ms\tremaining: 1.14s\n",
      "89:\tlearn: 111.8047507\ttotal: 113ms\tremaining: 1.14s\n",
      "90:\tlearn: 111.2173889\ttotal: 113ms\tremaining: 1.13s\n",
      "91:\tlearn: 109.7797673\ttotal: 114ms\tremaining: 1.13s\n",
      "92:\tlearn: 108.5968886\ttotal: 115ms\tremaining: 1.13s\n",
      "93:\tlearn: 107.3902106\ttotal: 116ms\tremaining: 1.12s\n",
      "94:\tlearn: 106.5920119\ttotal: 117ms\tremaining: 1.12s\n",
      "95:\tlearn: 105.9400132\ttotal: 118ms\tremaining: 1.11s\n",
      "96:\tlearn: 104.5018068\ttotal: 119ms\tremaining: 1.11s\n",
      "97:\tlearn: 104.2449785\ttotal: 120ms\tremaining: 1.1s\n",
      "98:\tlearn: 102.4745810\ttotal: 121ms\tremaining: 1.1s\n",
      "99:\tlearn: 101.5007722\ttotal: 122ms\tremaining: 1.1s\n",
      "100:\tlearn: 101.0929742\ttotal: 123ms\tremaining: 1.09s\n",
      "101:\tlearn: 100.8864538\ttotal: 124ms\tremaining: 1.09s\n",
      "102:\tlearn: 99.5007076\ttotal: 125ms\tremaining: 1.08s\n",
      "103:\tlearn: 98.1646778\ttotal: 126ms\tremaining: 1.08s\n",
      "104:\tlearn: 97.1950961\ttotal: 126ms\tremaining: 1.08s\n",
      "105:\tlearn: 96.0991462\ttotal: 127ms\tremaining: 1.07s\n",
      "106:\tlearn: 95.4337941\ttotal: 128ms\tremaining: 1.07s\n",
      "107:\tlearn: 94.9099345\ttotal: 129ms\tremaining: 1.07s\n",
      "108:\tlearn: 94.3889362\ttotal: 130ms\tremaining: 1.06s\n",
      "109:\tlearn: 94.2091744\ttotal: 131ms\tremaining: 1.06s\n",
      "110:\tlearn: 92.8508793\ttotal: 132ms\tremaining: 1.06s\n",
      "111:\tlearn: 92.1784338\ttotal: 133ms\tremaining: 1.05s\n",
      "112:\tlearn: 91.6689944\ttotal: 134ms\tremaining: 1.05s\n",
      "113:\tlearn: 90.6644520\ttotal: 135ms\tremaining: 1.05s\n",
      "114:\tlearn: 90.5375287\ttotal: 136ms\tremaining: 1.04s\n",
      "115:\tlearn: 90.3442623\ttotal: 137ms\tremaining: 1.04s\n",
      "116:\tlearn: 89.3637881\ttotal: 138ms\tremaining: 1.04s\n",
      "117:\tlearn: 88.5340073\ttotal: 138ms\tremaining: 1.03s\n",
      "118:\tlearn: 88.3598014\ttotal: 139ms\tremaining: 1.03s\n",
      "119:\tlearn: 87.1290719\ttotal: 140ms\tremaining: 1.03s\n",
      "120:\tlearn: 87.0034893\ttotal: 141ms\tremaining: 1.02s\n",
      "121:\tlearn: 85.9581724\ttotal: 142ms\tremaining: 1.02s\n",
      "122:\tlearn: 84.7062226\ttotal: 143ms\tremaining: 1.02s\n",
      "123:\tlearn: 84.6114296\ttotal: 144ms\tremaining: 1.02s\n",
      "124:\tlearn: 83.3769126\ttotal: 145ms\tremaining: 1.01s\n",
      "125:\tlearn: 82.2866094\ttotal: 146ms\tremaining: 1.01s\n",
      "126:\tlearn: 81.7817112\ttotal: 147ms\tremaining: 1.01s\n",
      "127:\tlearn: 80.3710545\ttotal: 148ms\tremaining: 1.01s\n",
      "128:\tlearn: 79.3458239\ttotal: 149ms\tremaining: 1s\n",
      "129:\tlearn: 78.8966509\ttotal: 150ms\tremaining: 1s\n",
      "130:\tlearn: 78.7683699\ttotal: 151ms\tremaining: 999ms\n",
      "131:\tlearn: 78.0116712\ttotal: 152ms\tremaining: 997ms\n",
      "132:\tlearn: 77.5728582\ttotal: 152ms\tremaining: 994ms\n",
      "133:\tlearn: 76.4635356\ttotal: 153ms\tremaining: 991ms\n",
      "134:\tlearn: 75.6109482\ttotal: 154ms\tremaining: 989ms\n",
      "135:\tlearn: 74.8287886\ttotal: 155ms\tremaining: 986ms\n",
      "136:\tlearn: 74.2493825\ttotal: 156ms\tremaining: 984ms\n",
      "137:\tlearn: 73.3192822\ttotal: 157ms\tremaining: 981ms\n",
      "138:\tlearn: 72.9755066\ttotal: 158ms\tremaining: 979ms\n",
      "139:\tlearn: 72.8423874\ttotal: 159ms\tremaining: 976ms\n",
      "140:\tlearn: 71.5949506\ttotal: 160ms\tremaining: 974ms\n",
      "141:\tlearn: 70.9408732\ttotal: 161ms\tremaining: 972ms\n",
      "142:\tlearn: 70.1699642\ttotal: 162ms\tremaining: 969ms\n",
      "143:\tlearn: 69.8737644\ttotal: 163ms\tremaining: 967ms\n",
      "144:\tlearn: 69.0963759\ttotal: 164ms\tremaining: 965ms\n",
      "145:\tlearn: 68.9702397\ttotal: 165ms\tremaining: 962ms\n",
      "146:\tlearn: 67.8950397\ttotal: 165ms\tremaining: 960ms\n",
      "147:\tlearn: 67.1501269\ttotal: 166ms\tremaining: 958ms\n",
      "148:\tlearn: 66.4028868\ttotal: 167ms\tremaining: 955ms\n",
      "149:\tlearn: 65.3349813\ttotal: 168ms\tremaining: 953ms\n",
      "150:\tlearn: 64.6766190\ttotal: 169ms\tremaining: 951ms\n",
      "151:\tlearn: 63.7390417\ttotal: 170ms\tremaining: 949ms\n",
      "152:\tlearn: 62.9043101\ttotal: 171ms\tremaining: 946ms\n",
      "153:\tlearn: 62.5922794\ttotal: 172ms\tremaining: 944ms\n",
      "154:\tlearn: 62.1160450\ttotal: 173ms\tremaining: 943ms\n"
     ]
    },
    {
     "name": "stdout",
     "output_type": "stream",
     "text": [
      "155:\tlearn: 61.7702532\ttotal: 174ms\tremaining: 943ms\n",
      "156:\tlearn: 61.2433354\ttotal: 175ms\tremaining: 942ms\n",
      "157:\tlearn: 60.8455422\ttotal: 177ms\tremaining: 942ms\n",
      "158:\tlearn: 60.6755303\ttotal: 178ms\tremaining: 940ms\n",
      "159:\tlearn: 59.9631043\ttotal: 179ms\tremaining: 938ms\n",
      "160:\tlearn: 59.2211911\ttotal: 180ms\tremaining: 936ms\n",
      "161:\tlearn: 59.1400932\ttotal: 181ms\tremaining: 934ms\n",
      "162:\tlearn: 58.9164262\ttotal: 182ms\tremaining: 933ms\n",
      "163:\tlearn: 58.2084420\ttotal: 183ms\tremaining: 931ms\n",
      "164:\tlearn: 57.9934649\ttotal: 184ms\tremaining: 930ms\n",
      "165:\tlearn: 57.3736694\ttotal: 185ms\tremaining: 928ms\n",
      "166:\tlearn: 56.8338370\ttotal: 186ms\tremaining: 926ms\n",
      "167:\tlearn: 56.5518049\ttotal: 187ms\tremaining: 924ms\n",
      "168:\tlearn: 55.9777349\ttotal: 187ms\tremaining: 922ms\n",
      "169:\tlearn: 55.4485860\ttotal: 188ms\tremaining: 920ms\n",
      "170:\tlearn: 55.0892542\ttotal: 189ms\tremaining: 918ms\n",
      "171:\tlearn: 54.9915464\ttotal: 190ms\tremaining: 916ms\n",
      "172:\tlearn: 54.3968112\ttotal: 191ms\tremaining: 914ms\n",
      "173:\tlearn: 53.7708163\ttotal: 192ms\tremaining: 913ms\n",
      "174:\tlearn: 53.1993023\ttotal: 193ms\tremaining: 911ms\n",
      "175:\tlearn: 52.7773821\ttotal: 195ms\tremaining: 911ms\n",
      "176:\tlearn: 52.5186612\ttotal: 196ms\tremaining: 910ms\n",
      "177:\tlearn: 52.0038075\ttotal: 197ms\tremaining: 909ms\n",
      "178:\tlearn: 51.7971195\ttotal: 198ms\tremaining: 909ms\n",
      "179:\tlearn: 51.4334863\ttotal: 199ms\tremaining: 908ms\n",
      "180:\tlearn: 50.9151359\ttotal: 201ms\tremaining: 908ms\n",
      "181:\tlearn: 50.8252320\ttotal: 202ms\tremaining: 908ms\n",
      "182:\tlearn: 50.4143487\ttotal: 203ms\tremaining: 906ms\n",
      "183:\tlearn: 50.0253432\ttotal: 204ms\tremaining: 905ms\n",
      "184:\tlearn: 49.6769233\ttotal: 205ms\tremaining: 903ms\n",
      "185:\tlearn: 49.5689505\ttotal: 206ms\tremaining: 901ms\n",
      "186:\tlearn: 49.0813531\ttotal: 207ms\tremaining: 899ms\n",
      "187:\tlearn: 48.9396335\ttotal: 208ms\tremaining: 898ms\n",
      "188:\tlearn: 48.5040716\ttotal: 209ms\tremaining: 896ms\n",
      "189:\tlearn: 47.9644995\ttotal: 210ms\tremaining: 895ms\n",
      "190:\tlearn: 47.8292554\ttotal: 211ms\tremaining: 893ms\n",
      "191:\tlearn: 47.4433025\ttotal: 212ms\tremaining: 891ms\n",
      "192:\tlearn: 46.9286959\ttotal: 213ms\tremaining: 890ms\n",
      "193:\tlearn: 46.3092347\ttotal: 214ms\tremaining: 889ms\n",
      "194:\tlearn: 45.7431428\ttotal: 215ms\tremaining: 888ms\n",
      "195:\tlearn: 45.6714261\ttotal: 216ms\tremaining: 887ms\n",
      "196:\tlearn: 45.5088158\ttotal: 217ms\tremaining: 886ms\n",
      "197:\tlearn: 45.4713460\ttotal: 218ms\tremaining: 885ms\n",
      "198:\tlearn: 45.0942536\ttotal: 220ms\tremaining: 884ms\n",
      "199:\tlearn: 44.7625600\ttotal: 221ms\tremaining: 883ms\n",
      "200:\tlearn: 44.3247006\ttotal: 222ms\tremaining: 881ms\n",
      "201:\tlearn: 43.8054974\ttotal: 223ms\tremaining: 880ms\n",
      "202:\tlearn: 43.3359785\ttotal: 224ms\tremaining: 879ms\n",
      "203:\tlearn: 42.8698272\ttotal: 225ms\tremaining: 877ms\n",
      "204:\tlearn: 42.4275364\ttotal: 226ms\tremaining: 875ms\n",
      "205:\tlearn: 41.9463597\ttotal: 227ms\tremaining: 873ms\n",
      "206:\tlearn: 41.7547985\ttotal: 227ms\tremaining: 871ms\n",
      "207:\tlearn: 41.6019714\ttotal: 228ms\tremaining: 869ms\n",
      "208:\tlearn: 41.4342896\ttotal: 229ms\tremaining: 867ms\n",
      "209:\tlearn: 41.0764993\ttotal: 230ms\tremaining: 865ms\n",
      "210:\tlearn: 40.7895715\ttotal: 231ms\tremaining: 864ms\n",
      "211:\tlearn: 40.4428042\ttotal: 232ms\tremaining: 862ms\n",
      "212:\tlearn: 39.9370849\ttotal: 233ms\tremaining: 860ms\n",
      "213:\tlearn: 39.4885257\ttotal: 234ms\tremaining: 858ms\n",
      "214:\tlearn: 39.1268375\ttotal: 234ms\tremaining: 856ms\n",
      "215:\tlearn: 38.9591271\ttotal: 235ms\tremaining: 854ms\n",
      "216:\tlearn: 38.8008893\ttotal: 236ms\tremaining: 852ms\n",
      "217:\tlearn: 38.4956003\ttotal: 237ms\tremaining: 851ms\n",
      "218:\tlearn: 38.3528545\ttotal: 238ms\tremaining: 849ms\n",
      "219:\tlearn: 38.1794276\ttotal: 239ms\tremaining: 847ms\n",
      "220:\tlearn: 38.1135196\ttotal: 240ms\tremaining: 845ms\n",
      "221:\tlearn: 37.9126665\ttotal: 241ms\tremaining: 843ms\n",
      "222:\tlearn: 37.5375523\ttotal: 241ms\tremaining: 841ms\n",
      "223:\tlearn: 37.3774479\ttotal: 242ms\tremaining: 839ms\n",
      "224:\tlearn: 36.8965396\ttotal: 243ms\tremaining: 838ms\n",
      "225:\tlearn: 36.4012999\ttotal: 244ms\tremaining: 836ms\n",
      "226:\tlearn: 35.9300616\ttotal: 245ms\tremaining: 834ms\n",
      "227:\tlearn: 35.6148029\ttotal: 246ms\tremaining: 833ms\n",
      "228:\tlearn: 35.2741594\ttotal: 247ms\tremaining: 831ms\n",
      "229:\tlearn: 35.0196015\ttotal: 248ms\tremaining: 830ms\n",
      "230:\tlearn: 34.5877862\ttotal: 249ms\tremaining: 828ms\n",
      "231:\tlearn: 34.4128370\ttotal: 250ms\tremaining: 826ms\n",
      "232:\tlearn: 34.2685016\ttotal: 251ms\tremaining: 825ms\n",
      "233:\tlearn: 34.2021290\ttotal: 251ms\tremaining: 823ms\n",
      "234:\tlearn: 34.1117548\ttotal: 252ms\tremaining: 821ms\n",
      "235:\tlearn: 33.7038307\ttotal: 253ms\tremaining: 819ms\n",
      "236:\tlearn: 33.6591145\ttotal: 254ms\tremaining: 818ms\n",
      "237:\tlearn: 33.6134076\ttotal: 255ms\tremaining: 816ms\n",
      "238:\tlearn: 33.3091022\ttotal: 256ms\tremaining: 814ms\n",
      "239:\tlearn: 33.2050988\ttotal: 257ms\tremaining: 812ms\n",
      "240:\tlearn: 32.7984087\ttotal: 257ms\tremaining: 811ms\n",
      "241:\tlearn: 32.4886567\ttotal: 258ms\tremaining: 809ms\n",
      "242:\tlearn: 32.3354906\ttotal: 259ms\tremaining: 807ms\n",
      "243:\tlearn: 32.1610609\ttotal: 260ms\tremaining: 805ms\n",
      "244:\tlearn: 31.9242693\ttotal: 261ms\tremaining: 804ms\n",
      "245:\tlearn: 31.4693550\ttotal: 262ms\tremaining: 802ms\n",
      "246:\tlearn: 31.1071532\ttotal: 262ms\tremaining: 800ms\n",
      "247:\tlearn: 30.7311162\ttotal: 263ms\tremaining: 798ms\n",
      "248:\tlearn: 30.4892550\ttotal: 264ms\tremaining: 797ms\n",
      "249:\tlearn: 30.3680212\ttotal: 265ms\tremaining: 795ms\n",
      "250:\tlearn: 30.1346007\ttotal: 266ms\tremaining: 794ms\n",
      "251:\tlearn: 29.8046285\ttotal: 267ms\tremaining: 792ms\n",
      "252:\tlearn: 29.6637514\ttotal: 268ms\tremaining: 790ms\n",
      "253:\tlearn: 29.5176095\ttotal: 268ms\tremaining: 789ms\n",
      "254:\tlearn: 29.3723319\ttotal: 269ms\tremaining: 787ms\n",
      "255:\tlearn: 29.1301438\ttotal: 270ms\tremaining: 785ms\n",
      "256:\tlearn: 29.1025017\ttotal: 271ms\tremaining: 784ms\n",
      "257:\tlearn: 28.8276340\ttotal: 272ms\tremaining: 782ms\n",
      "258:\tlearn: 28.6313979\ttotal: 273ms\tremaining: 780ms\n",
      "259:\tlearn: 28.3904787\ttotal: 274ms\tremaining: 779ms\n",
      "260:\tlearn: 27.9496011\ttotal: 275ms\tremaining: 777ms\n",
      "261:\tlearn: 27.6744647\ttotal: 275ms\tremaining: 776ms\n",
      "262:\tlearn: 27.5631687\ttotal: 276ms\tremaining: 774ms\n",
      "263:\tlearn: 27.2940171\ttotal: 277ms\tremaining: 773ms\n",
      "264:\tlearn: 27.0524989\ttotal: 278ms\tremaining: 771ms\n",
      "265:\tlearn: 26.9019408\ttotal: 279ms\tremaining: 770ms\n",
      "266:\tlearn: 26.7539234\ttotal: 280ms\tremaining: 768ms\n",
      "267:\tlearn: 26.5906135\ttotal: 281ms\tremaining: 767ms\n",
      "268:\tlearn: 26.3413069\ttotal: 282ms\tremaining: 765ms\n",
      "269:\tlearn: 26.2300985\ttotal: 282ms\tremaining: 764ms\n",
      "270:\tlearn: 25.7633750\ttotal: 283ms\tremaining: 762ms\n",
      "271:\tlearn: 25.5999298\ttotal: 284ms\tremaining: 760ms\n",
      "272:\tlearn: 25.4034221\ttotal: 285ms\tremaining: 759ms\n",
      "273:\tlearn: 25.3449361\ttotal: 286ms\tremaining: 757ms\n",
      "274:\tlearn: 25.1308675\ttotal: 287ms\tremaining: 756ms\n",
      "275:\tlearn: 24.8170605\ttotal: 288ms\tremaining: 754ms\n",
      "276:\tlearn: 24.5265387\ttotal: 288ms\tremaining: 753ms\n",
      "277:\tlearn: 24.3891773\ttotal: 289ms\tremaining: 751ms\n",
      "278:\tlearn: 24.1691955\ttotal: 290ms\tremaining: 750ms\n",
      "279:\tlearn: 23.9780841\ttotal: 291ms\tremaining: 749ms\n",
      "280:\tlearn: 23.7459991\ttotal: 292ms\tremaining: 747ms\n",
      "281:\tlearn: 23.5762098\ttotal: 293ms\tremaining: 746ms\n",
      "282:\tlearn: 23.4130148\ttotal: 294ms\tremaining: 744ms\n",
      "283:\tlearn: 23.1365659\ttotal: 295ms\tremaining: 743ms\n",
      "284:\tlearn: 22.9605139\ttotal: 295ms\tremaining: 741ms\n",
      "285:\tlearn: 22.8198952\ttotal: 296ms\tremaining: 740ms\n",
      "286:\tlearn: 22.7220776\ttotal: 297ms\tremaining: 738ms\n",
      "287:\tlearn: 22.6349162\ttotal: 298ms\tremaining: 737ms\n",
      "288:\tlearn: 22.5037731\ttotal: 299ms\tremaining: 735ms\n",
      "289:\tlearn: 22.4280658\ttotal: 300ms\tremaining: 734ms\n",
      "290:\tlearn: 22.4111078\ttotal: 301ms\tremaining: 732ms\n",
      "291:\tlearn: 22.2582825\ttotal: 301ms\tremaining: 731ms\n",
      "292:\tlearn: 22.0361847\ttotal: 302ms\tremaining: 730ms\n",
      "293:\tlearn: 21.9197616\ttotal: 303ms\tremaining: 728ms\n",
      "294:\tlearn: 21.8934931\ttotal: 304ms\tremaining: 727ms\n",
      "295:\tlearn: 21.8385467\ttotal: 305ms\tremaining: 725ms\n",
      "296:\tlearn: 21.6056469\ttotal: 306ms\tremaining: 724ms\n",
      "297:\tlearn: 21.3638471\ttotal: 307ms\tremaining: 722ms\n",
      "298:\tlearn: 21.2403020\ttotal: 307ms\tremaining: 721ms\n",
      "299:\tlearn: 20.9940588\ttotal: 308ms\tremaining: 720ms\n",
      "300:\tlearn: 20.8606002\ttotal: 309ms\tremaining: 718ms\n",
      "301:\tlearn: 20.7521062\ttotal: 310ms\tremaining: 717ms\n",
      "302:\tlearn: 20.4914061\ttotal: 311ms\tremaining: 715ms\n",
      "303:\tlearn: 20.4390781\ttotal: 312ms\tremaining: 714ms\n",
      "304:\tlearn: 20.4261039\ttotal: 313ms\tremaining: 712ms\n",
      "305:\tlearn: 20.3429361\ttotal: 313ms\tremaining: 711ms\n",
      "306:\tlearn: 20.3186699\ttotal: 314ms\tremaining: 709ms\n",
      "307:\tlearn: 20.2200547\ttotal: 315ms\tremaining: 708ms\n",
      "308:\tlearn: 20.0363798\ttotal: 316ms\tremaining: 707ms\n",
      "309:\tlearn: 19.9375964\ttotal: 317ms\tremaining: 706ms\n",
      "310:\tlearn: 19.8562475\ttotal: 318ms\tremaining: 705ms\n",
      "311:\tlearn: 19.7207383\ttotal: 319ms\tremaining: 703ms\n",
      "312:\tlearn: 19.5840205\ttotal: 320ms\tremaining: 702ms\n",
      "313:\tlearn: 19.4498604\ttotal: 321ms\tremaining: 701ms\n",
      "314:\tlearn: 19.3106313\ttotal: 322ms\tremaining: 699ms\n",
      "315:\tlearn: 19.1555646\ttotal: 322ms\tremaining: 698ms\n",
      "316:\tlearn: 19.1426558\ttotal: 323ms\tremaining: 696ms\n",
      "317:\tlearn: 19.0179770\ttotal: 324ms\tremaining: 695ms\n",
      "318:\tlearn: 18.9331646\ttotal: 325ms\tremaining: 694ms\n",
      "319:\tlearn: 18.7759664\ttotal: 326ms\tremaining: 693ms\n",
      "320:\tlearn: 18.7302473\ttotal: 327ms\tremaining: 691ms\n",
      "321:\tlearn: 18.6822773\ttotal: 328ms\tremaining: 690ms\n",
      "322:\tlearn: 18.6212081\ttotal: 328ms\tremaining: 688ms\n",
      "323:\tlearn: 18.3825932\ttotal: 329ms\tremaining: 687ms\n",
      "324:\tlearn: 18.0840511\ttotal: 330ms\tremaining: 686ms\n",
      "325:\tlearn: 17.9626242\ttotal: 331ms\tremaining: 685ms\n",
      "326:\tlearn: 17.8194649\ttotal: 332ms\tremaining: 683ms\n",
      "327:\tlearn: 17.6897852\ttotal: 333ms\tremaining: 682ms\n",
      "328:\tlearn: 17.6729587\ttotal: 334ms\tremaining: 680ms\n",
      "329:\tlearn: 17.5730192\ttotal: 334ms\tremaining: 679ms\n",
      "330:\tlearn: 17.3061709\ttotal: 335ms\tremaining: 678ms\n",
      "331:\tlearn: 17.2732138\ttotal: 336ms\tremaining: 676ms\n",
      "332:\tlearn: 17.1284244\ttotal: 337ms\tremaining: 675ms\n",
      "333:\tlearn: 17.0578788\ttotal: 338ms\tremaining: 674ms\n",
      "334:\tlearn: 16.9109643\ttotal: 339ms\tremaining: 672ms\n",
      "335:\tlearn: 16.6595095\ttotal: 340ms\tremaining: 671ms\n",
      "336:\tlearn: 16.5240861\ttotal: 340ms\tremaining: 670ms\n",
      "337:\tlearn: 16.3631551\ttotal: 341ms\tremaining: 669ms\n",
      "338:\tlearn: 16.2364521\ttotal: 342ms\tremaining: 667ms\n",
      "339:\tlearn: 16.1259236\ttotal: 343ms\tremaining: 666ms\n",
      "340:\tlearn: 16.1070160\ttotal: 344ms\tremaining: 665ms\n"
     ]
    },
    {
     "name": "stdout",
     "output_type": "stream",
     "text": [
      "341:\tlearn: 15.9446333\ttotal: 345ms\tremaining: 664ms\n",
      "342:\tlearn: 15.8404109\ttotal: 346ms\tremaining: 663ms\n",
      "343:\tlearn: 15.7616719\ttotal: 348ms\tremaining: 663ms\n",
      "344:\tlearn: 15.7046860\ttotal: 349ms\tremaining: 662ms\n",
      "345:\tlearn: 15.5565531\ttotal: 350ms\tremaining: 661ms\n",
      "346:\tlearn: 15.4739767\ttotal: 351ms\tremaining: 660ms\n",
      "347:\tlearn: 15.4214691\ttotal: 352ms\tremaining: 659ms\n",
      "348:\tlearn: 15.3830392\ttotal: 353ms\tremaining: 658ms\n",
      "349:\tlearn: 15.2925503\ttotal: 353ms\tremaining: 656ms\n",
      "350:\tlearn: 15.2685305\ttotal: 354ms\tremaining: 655ms\n",
      "351:\tlearn: 15.0959980\ttotal: 355ms\tremaining: 654ms\n",
      "352:\tlearn: 15.0185539\ttotal: 356ms\tremaining: 653ms\n",
      "353:\tlearn: 14.9344909\ttotal: 357ms\tremaining: 652ms\n",
      "354:\tlearn: 14.8185511\ttotal: 358ms\tremaining: 651ms\n",
      "355:\tlearn: 14.7621205\ttotal: 359ms\tremaining: 650ms\n",
      "356:\tlearn: 14.6824384\ttotal: 360ms\tremaining: 649ms\n",
      "357:\tlearn: 14.5918871\ttotal: 361ms\tremaining: 648ms\n",
      "358:\tlearn: 14.4898356\ttotal: 362ms\tremaining: 647ms\n",
      "359:\tlearn: 14.4773981\ttotal: 363ms\tremaining: 646ms\n",
      "360:\tlearn: 14.3256006\ttotal: 364ms\tremaining: 644ms\n",
      "361:\tlearn: 14.1704867\ttotal: 365ms\tremaining: 644ms\n",
      "362:\tlearn: 14.0453382\ttotal: 366ms\tremaining: 643ms\n",
      "363:\tlearn: 13.9488312\ttotal: 367ms\tremaining: 642ms\n",
      "364:\tlearn: 13.8932251\ttotal: 369ms\tremaining: 641ms\n",
      "365:\tlearn: 13.7368549\ttotal: 370ms\tremaining: 640ms\n",
      "366:\tlearn: 13.6533268\ttotal: 370ms\tremaining: 639ms\n",
      "367:\tlearn: 13.5191569\ttotal: 371ms\tremaining: 638ms\n",
      "368:\tlearn: 13.4712080\ttotal: 372ms\tremaining: 636ms\n",
      "369:\tlearn: 13.3454926\ttotal: 373ms\tremaining: 635ms\n",
      "370:\tlearn: 13.2804919\ttotal: 374ms\tremaining: 634ms\n",
      "371:\tlearn: 13.2609934\ttotal: 375ms\tremaining: 632ms\n",
      "372:\tlearn: 13.1804458\ttotal: 376ms\tremaining: 631ms\n",
      "373:\tlearn: 13.0381162\ttotal: 376ms\tremaining: 630ms\n",
      "374:\tlearn: 13.0250736\ttotal: 377ms\tremaining: 629ms\n",
      "375:\tlearn: 13.0006609\ttotal: 378ms\tremaining: 628ms\n",
      "376:\tlearn: 12.8507663\ttotal: 379ms\tremaining: 626ms\n",
      "377:\tlearn: 12.6986039\ttotal: 380ms\tremaining: 625ms\n",
      "378:\tlearn: 12.5574544\ttotal: 381ms\tremaining: 624ms\n",
      "379:\tlearn: 12.4864386\ttotal: 382ms\tremaining: 623ms\n",
      "380:\tlearn: 12.3739036\ttotal: 383ms\tremaining: 622ms\n",
      "381:\tlearn: 12.3110117\ttotal: 384ms\tremaining: 621ms\n",
      "382:\tlearn: 12.2077088\ttotal: 384ms\tremaining: 619ms\n",
      "383:\tlearn: 12.1065885\ttotal: 385ms\tremaining: 618ms\n",
      "384:\tlearn: 12.0323948\ttotal: 386ms\tremaining: 617ms\n",
      "385:\tlearn: 12.0014896\ttotal: 387ms\tremaining: 616ms\n",
      "386:\tlearn: 11.8568080\ttotal: 388ms\tremaining: 615ms\n",
      "387:\tlearn: 11.7867144\ttotal: 389ms\tremaining: 614ms\n",
      "388:\tlearn: 11.7500836\ttotal: 390ms\tremaining: 612ms\n",
      "389:\tlearn: 11.7348877\ttotal: 391ms\tremaining: 611ms\n",
      "390:\tlearn: 11.7286653\ttotal: 392ms\tremaining: 610ms\n",
      "391:\tlearn: 11.6241305\ttotal: 393ms\tremaining: 609ms\n",
      "392:\tlearn: 11.5960420\ttotal: 394ms\tremaining: 608ms\n",
      "393:\tlearn: 11.5729987\ttotal: 394ms\tremaining: 607ms\n",
      "394:\tlearn: 11.5635235\ttotal: 395ms\tremaining: 605ms\n",
      "395:\tlearn: 11.4873129\ttotal: 396ms\tremaining: 604ms\n",
      "396:\tlearn: 11.3564378\ttotal: 397ms\tremaining: 603ms\n",
      "397:\tlearn: 11.2078876\ttotal: 398ms\tremaining: 602ms\n",
      "398:\tlearn: 11.1598904\ttotal: 399ms\tremaining: 601ms\n",
      "399:\tlearn: 11.0885074\ttotal: 400ms\tremaining: 600ms\n",
      "400:\tlearn: 11.0278575\ttotal: 401ms\tremaining: 598ms\n",
      "401:\tlearn: 10.9865756\ttotal: 402ms\tremaining: 597ms\n",
      "402:\tlearn: 10.8794931\ttotal: 402ms\tremaining: 596ms\n",
      "403:\tlearn: 10.8382558\ttotal: 403ms\tremaining: 595ms\n",
      "404:\tlearn: 10.7596014\ttotal: 404ms\tremaining: 594ms\n",
      "405:\tlearn: 10.7064165\ttotal: 405ms\tremaining: 593ms\n",
      "406:\tlearn: 10.6372130\ttotal: 406ms\tremaining: 591ms\n",
      "407:\tlearn: 10.5505037\ttotal: 407ms\tremaining: 590ms\n",
      "408:\tlearn: 10.4676489\ttotal: 408ms\tremaining: 589ms\n",
      "409:\tlearn: 10.3632792\ttotal: 409ms\tremaining: 588ms\n",
      "410:\tlearn: 10.3399756\ttotal: 409ms\tremaining: 587ms\n",
      "411:\tlearn: 10.2905778\ttotal: 410ms\tremaining: 586ms\n",
      "412:\tlearn: 10.2175164\ttotal: 411ms\tremaining: 584ms\n",
      "413:\tlearn: 10.1482923\ttotal: 412ms\tremaining: 583ms\n",
      "414:\tlearn: 10.0590953\ttotal: 413ms\tremaining: 582ms\n",
      "415:\tlearn: 9.9982795\ttotal: 414ms\tremaining: 581ms\n",
      "416:\tlearn: 9.9099074\ttotal: 415ms\tremaining: 580ms\n",
      "417:\tlearn: 9.8641812\ttotal: 416ms\tremaining: 579ms\n",
      "418:\tlearn: 9.8207799\ttotal: 417ms\tremaining: 578ms\n",
      "419:\tlearn: 9.7000976\ttotal: 417ms\tremaining: 576ms\n",
      "420:\tlearn: 9.6211675\ttotal: 418ms\tremaining: 575ms\n",
      "421:\tlearn: 9.5821946\ttotal: 419ms\tremaining: 574ms\n",
      "422:\tlearn: 9.5314530\ttotal: 420ms\tremaining: 573ms\n",
      "423:\tlearn: 9.5231706\ttotal: 421ms\tremaining: 572ms\n",
      "424:\tlearn: 9.4897613\ttotal: 422ms\tremaining: 571ms\n",
      "425:\tlearn: 9.4178254\ttotal: 423ms\tremaining: 569ms\n",
      "426:\tlearn: 9.3468512\ttotal: 423ms\tremaining: 568ms\n",
      "427:\tlearn: 9.2916542\ttotal: 424ms\tremaining: 567ms\n",
      "428:\tlearn: 9.2671046\ttotal: 425ms\tremaining: 566ms\n",
      "429:\tlearn: 9.1507425\ttotal: 426ms\tremaining: 565ms\n",
      "430:\tlearn: 9.0905964\ttotal: 427ms\tremaining: 564ms\n",
      "431:\tlearn: 9.0599172\ttotal: 428ms\tremaining: 562ms\n",
      "432:\tlearn: 8.9911670\ttotal: 429ms\tremaining: 561ms\n",
      "433:\tlearn: 8.9769178\ttotal: 430ms\tremaining: 560ms\n",
      "434:\tlearn: 8.9011639\ttotal: 430ms\tremaining: 559ms\n",
      "435:\tlearn: 8.8578447\ttotal: 431ms\tremaining: 558ms\n",
      "436:\tlearn: 8.7766216\ttotal: 432ms\tremaining: 557ms\n",
      "437:\tlearn: 8.7600187\ttotal: 433ms\tremaining: 555ms\n",
      "438:\tlearn: 8.7039464\ttotal: 434ms\tremaining: 554ms\n",
      "439:\tlearn: 8.6701908\ttotal: 435ms\tremaining: 553ms\n",
      "440:\tlearn: 8.6561906\ttotal: 435ms\tremaining: 552ms\n",
      "441:\tlearn: 8.6030579\ttotal: 436ms\tremaining: 551ms\n",
      "442:\tlearn: 8.5192884\ttotal: 437ms\tremaining: 550ms\n",
      "443:\tlearn: 8.4605490\ttotal: 438ms\tremaining: 549ms\n",
      "444:\tlearn: 8.3846572\ttotal: 439ms\tremaining: 547ms\n",
      "445:\tlearn: 8.3429264\ttotal: 440ms\tremaining: 546ms\n",
      "446:\tlearn: 8.3068488\ttotal: 441ms\tremaining: 545ms\n",
      "447:\tlearn: 8.2662142\ttotal: 442ms\tremaining: 544ms\n",
      "448:\tlearn: 8.1806196\ttotal: 442ms\tremaining: 543ms\n",
      "449:\tlearn: 8.1475696\ttotal: 443ms\tremaining: 542ms\n",
      "450:\tlearn: 8.1145904\ttotal: 444ms\tremaining: 541ms\n",
      "451:\tlearn: 8.0740309\ttotal: 445ms\tremaining: 540ms\n",
      "452:\tlearn: 8.0095799\ttotal: 446ms\tremaining: 538ms\n",
      "453:\tlearn: 7.9857193\ttotal: 447ms\tremaining: 537ms\n",
      "454:\tlearn: 7.9300069\ttotal: 448ms\tremaining: 536ms\n",
      "455:\tlearn: 7.9088282\ttotal: 449ms\tremaining: 535ms\n",
      "456:\tlearn: 7.8726359\ttotal: 450ms\tremaining: 534ms\n",
      "457:\tlearn: 7.8453260\ttotal: 451ms\tremaining: 533ms\n",
      "458:\tlearn: 7.8015145\ttotal: 451ms\tremaining: 532ms\n",
      "459:\tlearn: 7.7552434\ttotal: 452ms\tremaining: 531ms\n",
      "460:\tlearn: 7.7033074\ttotal: 453ms\tremaining: 530ms\n",
      "461:\tlearn: 7.6732816\ttotal: 454ms\tremaining: 529ms\n",
      "462:\tlearn: 7.6387343\ttotal: 455ms\tremaining: 528ms\n",
      "463:\tlearn: 7.5939225\ttotal: 456ms\tremaining: 527ms\n",
      "464:\tlearn: 7.5495985\ttotal: 457ms\tremaining: 525ms\n",
      "465:\tlearn: 7.5164784\ttotal: 458ms\tremaining: 524ms\n",
      "466:\tlearn: 7.4692120\ttotal: 458ms\tremaining: 523ms\n",
      "467:\tlearn: 7.4602739\ttotal: 459ms\tremaining: 522ms\n",
      "468:\tlearn: 7.4245927\ttotal: 460ms\tremaining: 521ms\n",
      "469:\tlearn: 7.3402299\ttotal: 461ms\tremaining: 520ms\n",
      "470:\tlearn: 7.2998185\ttotal: 462ms\tremaining: 519ms\n",
      "471:\tlearn: 7.2014577\ttotal: 463ms\tremaining: 518ms\n",
      "472:\tlearn: 7.1904207\ttotal: 464ms\tremaining: 517ms\n",
      "473:\tlearn: 7.1527862\ttotal: 465ms\tremaining: 516ms\n",
      "474:\tlearn: 7.0771473\ttotal: 466ms\tremaining: 515ms\n",
      "475:\tlearn: 7.0539525\ttotal: 467ms\tremaining: 514ms\n",
      "476:\tlearn: 6.9846025\ttotal: 468ms\tremaining: 513ms\n",
      "477:\tlearn: 6.9534313\ttotal: 469ms\tremaining: 512ms\n",
      "478:\tlearn: 6.8975880\ttotal: 469ms\tremaining: 511ms\n",
      "479:\tlearn: 6.8254191\ttotal: 470ms\tremaining: 509ms\n",
      "480:\tlearn: 6.8112478\ttotal: 471ms\tremaining: 508ms\n",
      "481:\tlearn: 6.7648902\ttotal: 472ms\tremaining: 507ms\n",
      "482:\tlearn: 6.6860735\ttotal: 473ms\tremaining: 506ms\n",
      "483:\tlearn: 6.6633461\ttotal: 474ms\tremaining: 505ms\n",
      "484:\tlearn: 6.6475279\ttotal: 475ms\tremaining: 504ms\n",
      "485:\tlearn: 6.5921608\ttotal: 475ms\tremaining: 503ms\n",
      "486:\tlearn: 6.5602794\ttotal: 476ms\tremaining: 502ms\n",
      "487:\tlearn: 6.5499659\ttotal: 477ms\tremaining: 501ms\n",
      "488:\tlearn: 6.4940006\ttotal: 478ms\tremaining: 500ms\n",
      "489:\tlearn: 6.4247752\ttotal: 479ms\tremaining: 499ms\n",
      "490:\tlearn: 6.3877601\ttotal: 480ms\tremaining: 497ms\n",
      "491:\tlearn: 6.3314191\ttotal: 481ms\tremaining: 496ms\n",
      "492:\tlearn: 6.2812751\ttotal: 482ms\tremaining: 495ms\n",
      "493:\tlearn: 6.2685065\ttotal: 483ms\tremaining: 494ms\n",
      "494:\tlearn: 6.2241138\ttotal: 483ms\tremaining: 493ms\n",
      "495:\tlearn: 6.1695214\ttotal: 484ms\tremaining: 492ms\n",
      "496:\tlearn: 6.1421906\ttotal: 485ms\tremaining: 491ms\n",
      "497:\tlearn: 6.1331850\ttotal: 486ms\tremaining: 490ms\n",
      "498:\tlearn: 6.1166327\ttotal: 487ms\tremaining: 489ms\n",
      "499:\tlearn: 6.0829602\ttotal: 488ms\tremaining: 488ms\n",
      "500:\tlearn: 6.0650422\ttotal: 489ms\tremaining: 487ms\n",
      "501:\tlearn: 6.0436563\ttotal: 489ms\tremaining: 486ms\n",
      "502:\tlearn: 5.9902804\ttotal: 490ms\tremaining: 485ms\n",
      "503:\tlearn: 5.9121675\ttotal: 491ms\tremaining: 483ms\n",
      "504:\tlearn: 5.9091850\ttotal: 492ms\tremaining: 482ms\n",
      "505:\tlearn: 5.8967995\ttotal: 493ms\tremaining: 481ms\n",
      "506:\tlearn: 5.8430221\ttotal: 494ms\tremaining: 480ms\n",
      "507:\tlearn: 5.8135495\ttotal: 495ms\tremaining: 479ms\n",
      "508:\tlearn: 5.7890913\ttotal: 495ms\tremaining: 478ms\n",
      "509:\tlearn: 5.7577091\ttotal: 496ms\tremaining: 477ms\n",
      "510:\tlearn: 5.7523488\ttotal: 497ms\tremaining: 476ms\n",
      "511:\tlearn: 5.6546493\ttotal: 498ms\tremaining: 475ms\n",
      "512:\tlearn: 5.6194513\ttotal: 499ms\tremaining: 474ms\n",
      "513:\tlearn: 5.5672252\ttotal: 500ms\tremaining: 473ms\n",
      "514:\tlearn: 5.5539421\ttotal: 501ms\tremaining: 472ms\n",
      "515:\tlearn: 5.5185620\ttotal: 502ms\tremaining: 470ms\n",
      "516:\tlearn: 5.4789463\ttotal: 502ms\tremaining: 469ms\n",
      "517:\tlearn: 5.4236755\ttotal: 503ms\tremaining: 468ms\n",
      "518:\tlearn: 5.3864207\ttotal: 504ms\tremaining: 467ms\n"
     ]
    },
    {
     "name": "stdout",
     "output_type": "stream",
     "text": [
      "519:\tlearn: 5.3533466\ttotal: 505ms\tremaining: 467ms\n",
      "520:\tlearn: 5.3369921\ttotal: 507ms\tremaining: 466ms\n",
      "521:\tlearn: 5.2560437\ttotal: 508ms\tremaining: 465ms\n",
      "522:\tlearn: 5.2017840\ttotal: 509ms\tremaining: 464ms\n",
      "523:\tlearn: 5.1755812\ttotal: 510ms\tremaining: 463ms\n",
      "524:\tlearn: 5.1385832\ttotal: 511ms\tremaining: 462ms\n",
      "525:\tlearn: 5.1335579\ttotal: 512ms\tremaining: 461ms\n",
      "526:\tlearn: 5.0585358\ttotal: 513ms\tremaining: 460ms\n",
      "527:\tlearn: 5.0021152\ttotal: 514ms\tremaining: 459ms\n",
      "528:\tlearn: 4.9822398\ttotal: 515ms\tremaining: 458ms\n",
      "529:\tlearn: 4.9752376\ttotal: 516ms\tremaining: 457ms\n",
      "530:\tlearn: 4.9479232\ttotal: 517ms\tremaining: 456ms\n",
      "531:\tlearn: 4.9271142\ttotal: 518ms\tremaining: 455ms\n",
      "532:\tlearn: 4.9023595\ttotal: 518ms\tremaining: 454ms\n",
      "533:\tlearn: 4.8555527\ttotal: 519ms\tremaining: 453ms\n",
      "534:\tlearn: 4.8367794\ttotal: 520ms\tremaining: 452ms\n",
      "535:\tlearn: 4.7952444\ttotal: 521ms\tremaining: 451ms\n",
      "536:\tlearn: 4.7409194\ttotal: 522ms\tremaining: 450ms\n",
      "537:\tlearn: 4.6929973\ttotal: 523ms\tremaining: 449ms\n",
      "538:\tlearn: 4.6579685\ttotal: 524ms\tremaining: 448ms\n",
      "539:\tlearn: 4.6195745\ttotal: 525ms\tremaining: 447ms\n",
      "540:\tlearn: 4.5964136\ttotal: 526ms\tremaining: 446ms\n",
      "541:\tlearn: 4.5836819\ttotal: 527ms\tremaining: 445ms\n",
      "542:\tlearn: 4.5766395\ttotal: 528ms\tremaining: 444ms\n",
      "543:\tlearn: 4.5639948\ttotal: 529ms\tremaining: 443ms\n",
      "544:\tlearn: 4.5321336\ttotal: 529ms\tremaining: 442ms\n",
      "545:\tlearn: 4.5257262\ttotal: 530ms\tremaining: 441ms\n",
      "546:\tlearn: 4.5121200\ttotal: 531ms\tremaining: 440ms\n",
      "547:\tlearn: 4.5000971\ttotal: 532ms\tremaining: 439ms\n",
      "548:\tlearn: 4.4699564\ttotal: 533ms\tremaining: 438ms\n",
      "549:\tlearn: 4.4223918\ttotal: 534ms\tremaining: 437ms\n",
      "550:\tlearn: 4.3900850\ttotal: 535ms\tremaining: 436ms\n",
      "551:\tlearn: 4.3865832\ttotal: 535ms\tremaining: 435ms\n",
      "552:\tlearn: 4.3555236\ttotal: 536ms\tremaining: 434ms\n",
      "553:\tlearn: 4.3326942\ttotal: 538ms\tremaining: 433ms\n",
      "554:\tlearn: 4.3083453\ttotal: 539ms\tremaining: 432ms\n",
      "555:\tlearn: 4.2783012\ttotal: 540ms\tremaining: 431ms\n",
      "556:\tlearn: 4.2386680\ttotal: 541ms\tremaining: 430ms\n",
      "557:\tlearn: 4.1982182\ttotal: 542ms\tremaining: 429ms\n",
      "558:\tlearn: 4.1818634\ttotal: 543ms\tremaining: 428ms\n",
      "559:\tlearn: 4.1603123\ttotal: 543ms\tremaining: 427ms\n",
      "560:\tlearn: 4.1162392\ttotal: 544ms\tremaining: 426ms\n",
      "561:\tlearn: 4.0942539\ttotal: 545ms\tremaining: 425ms\n",
      "562:\tlearn: 4.0833944\ttotal: 546ms\tremaining: 424ms\n",
      "563:\tlearn: 4.0651220\ttotal: 547ms\tremaining: 423ms\n",
      "564:\tlearn: 4.0359525\ttotal: 548ms\tremaining: 422ms\n",
      "565:\tlearn: 4.0331482\ttotal: 549ms\tremaining: 421ms\n",
      "566:\tlearn: 4.0110785\ttotal: 549ms\tremaining: 420ms\n",
      "567:\tlearn: 3.9846807\ttotal: 550ms\tremaining: 419ms\n",
      "568:\tlearn: 3.9611224\ttotal: 551ms\tremaining: 418ms\n",
      "569:\tlearn: 3.9238317\ttotal: 552ms\tremaining: 416ms\n",
      "570:\tlearn: 3.9105718\ttotal: 553ms\tremaining: 415ms\n",
      "571:\tlearn: 3.8725349\ttotal: 554ms\tremaining: 414ms\n",
      "572:\tlearn: 3.8589458\ttotal: 555ms\tremaining: 413ms\n",
      "573:\tlearn: 3.8201118\ttotal: 556ms\tremaining: 412ms\n",
      "574:\tlearn: 3.8100971\ttotal: 556ms\tremaining: 411ms\n",
      "575:\tlearn: 3.7824233\ttotal: 557ms\tremaining: 410ms\n",
      "576:\tlearn: 3.7652240\ttotal: 558ms\tremaining: 409ms\n",
      "577:\tlearn: 3.7320270\ttotal: 559ms\tremaining: 408ms\n",
      "578:\tlearn: 3.7227983\ttotal: 560ms\tremaining: 407ms\n",
      "579:\tlearn: 3.7007934\ttotal: 561ms\tremaining: 406ms\n",
      "580:\tlearn: 3.6703626\ttotal: 562ms\tremaining: 405ms\n",
      "581:\tlearn: 3.6587500\ttotal: 563ms\tremaining: 404ms\n",
      "582:\tlearn: 3.6435213\ttotal: 564ms\tremaining: 403ms\n",
      "583:\tlearn: 3.6165255\ttotal: 565ms\tremaining: 402ms\n",
      "584:\tlearn: 3.5921438\ttotal: 566ms\tremaining: 401ms\n",
      "585:\tlearn: 3.5823094\ttotal: 566ms\tremaining: 400ms\n",
      "586:\tlearn: 3.5707107\ttotal: 567ms\tremaining: 399ms\n",
      "587:\tlearn: 3.5585582\ttotal: 568ms\tremaining: 398ms\n",
      "588:\tlearn: 3.5083056\ttotal: 569ms\tremaining: 397ms\n",
      "589:\tlearn: 3.4896083\ttotal: 570ms\tremaining: 396ms\n",
      "590:\tlearn: 3.4745190\ttotal: 571ms\tremaining: 395ms\n",
      "591:\tlearn: 3.4627260\ttotal: 572ms\tremaining: 394ms\n",
      "592:\tlearn: 3.4385625\ttotal: 573ms\tremaining: 393ms\n",
      "593:\tlearn: 3.3997235\ttotal: 573ms\tremaining: 392ms\n",
      "594:\tlearn: 3.3764192\ttotal: 574ms\tremaining: 391ms\n",
      "595:\tlearn: 3.3590522\ttotal: 575ms\tremaining: 390ms\n",
      "596:\tlearn: 3.3474857\ttotal: 576ms\tremaining: 389ms\n",
      "597:\tlearn: 3.3123623\ttotal: 577ms\tremaining: 388ms\n",
      "598:\tlearn: 3.2999589\ttotal: 578ms\tremaining: 387ms\n",
      "599:\tlearn: 3.2767538\ttotal: 579ms\tremaining: 386ms\n",
      "600:\tlearn: 3.2530783\ttotal: 580ms\tremaining: 385ms\n",
      "601:\tlearn: 3.2269777\ttotal: 581ms\tremaining: 384ms\n",
      "602:\tlearn: 3.1938868\ttotal: 581ms\tremaining: 383ms\n",
      "603:\tlearn: 3.1728589\ttotal: 582ms\tremaining: 382ms\n",
      "604:\tlearn: 3.1549029\ttotal: 583ms\tremaining: 381ms\n",
      "605:\tlearn: 3.1478118\ttotal: 584ms\tremaining: 380ms\n",
      "606:\tlearn: 3.1145245\ttotal: 585ms\tremaining: 379ms\n",
      "607:\tlearn: 3.0718905\ttotal: 586ms\tremaining: 378ms\n",
      "608:\tlearn: 3.0352714\ttotal: 587ms\tremaining: 377ms\n",
      "609:\tlearn: 2.9984985\ttotal: 588ms\tremaining: 376ms\n",
      "610:\tlearn: 2.9594115\ttotal: 588ms\tremaining: 375ms\n",
      "611:\tlearn: 2.9438145\ttotal: 589ms\tremaining: 374ms\n",
      "612:\tlearn: 2.9265773\ttotal: 590ms\tremaining: 373ms\n",
      "613:\tlearn: 2.9036898\ttotal: 591ms\tremaining: 372ms\n",
      "614:\tlearn: 2.8790612\ttotal: 592ms\tremaining: 371ms\n",
      "615:\tlearn: 2.8654898\ttotal: 593ms\tremaining: 370ms\n",
      "616:\tlearn: 2.8462561\ttotal: 594ms\tremaining: 369ms\n",
      "617:\tlearn: 2.8254976\ttotal: 595ms\tremaining: 368ms\n",
      "618:\tlearn: 2.8190407\ttotal: 596ms\tremaining: 367ms\n",
      "619:\tlearn: 2.8129812\ttotal: 596ms\tremaining: 366ms\n",
      "620:\tlearn: 2.8097755\ttotal: 597ms\tremaining: 365ms\n",
      "621:\tlearn: 2.7960320\ttotal: 598ms\tremaining: 364ms\n",
      "622:\tlearn: 2.7878495\ttotal: 599ms\tremaining: 362ms\n",
      "623:\tlearn: 2.7602980\ttotal: 600ms\tremaining: 361ms\n",
      "624:\tlearn: 2.7341408\ttotal: 601ms\tremaining: 360ms\n",
      "625:\tlearn: 2.7302545\ttotal: 602ms\tremaining: 359ms\n",
      "626:\tlearn: 2.7120252\ttotal: 602ms\tremaining: 358ms\n",
      "627:\tlearn: 2.7075024\ttotal: 603ms\tremaining: 357ms\n",
      "628:\tlearn: 2.6970031\ttotal: 604ms\tremaining: 356ms\n",
      "629:\tlearn: 2.6928246\ttotal: 605ms\tremaining: 355ms\n",
      "630:\tlearn: 2.6709120\ttotal: 606ms\tremaining: 354ms\n",
      "631:\tlearn: 2.6656247\ttotal: 607ms\tremaining: 353ms\n",
      "632:\tlearn: 2.6452838\ttotal: 608ms\tremaining: 352ms\n",
      "633:\tlearn: 2.6271014\ttotal: 609ms\tremaining: 351ms\n",
      "634:\tlearn: 2.6089454\ttotal: 610ms\tremaining: 350ms\n",
      "635:\tlearn: 2.5996271\ttotal: 611ms\tremaining: 349ms\n",
      "636:\tlearn: 2.5923568\ttotal: 611ms\tremaining: 348ms\n",
      "637:\tlearn: 2.5837611\ttotal: 612ms\tremaining: 347ms\n",
      "638:\tlearn: 2.5726721\ttotal: 613ms\tremaining: 346ms\n",
      "639:\tlearn: 2.5577477\ttotal: 614ms\tremaining: 345ms\n",
      "640:\tlearn: 2.5500744\ttotal: 615ms\tremaining: 344ms\n",
      "641:\tlearn: 2.5274442\ttotal: 616ms\tremaining: 343ms\n",
      "642:\tlearn: 2.5157559\ttotal: 617ms\tremaining: 342ms\n",
      "643:\tlearn: 2.5053856\ttotal: 617ms\tremaining: 341ms\n",
      "644:\tlearn: 2.4841922\ttotal: 618ms\tremaining: 340ms\n",
      "645:\tlearn: 2.4674035\ttotal: 619ms\tremaining: 339ms\n",
      "646:\tlearn: 2.4484158\ttotal: 620ms\tremaining: 338ms\n",
      "647:\tlearn: 2.4263246\ttotal: 621ms\tremaining: 337ms\n",
      "648:\tlearn: 2.4052258\ttotal: 622ms\tremaining: 336ms\n",
      "649:\tlearn: 2.3816894\ttotal: 623ms\tremaining: 335ms\n",
      "650:\tlearn: 2.3659119\ttotal: 623ms\tremaining: 334ms\n",
      "651:\tlearn: 2.3576051\ttotal: 624ms\tremaining: 333ms\n",
      "652:\tlearn: 2.3288476\ttotal: 625ms\tremaining: 332ms\n",
      "653:\tlearn: 2.3109502\ttotal: 626ms\tremaining: 331ms\n",
      "654:\tlearn: 2.3021504\ttotal: 627ms\tremaining: 330ms\n",
      "655:\tlearn: 2.3009515\ttotal: 628ms\tremaining: 329ms\n",
      "656:\tlearn: 2.2893680\ttotal: 629ms\tremaining: 328ms\n",
      "657:\tlearn: 2.2852898\ttotal: 629ms\tremaining: 327ms\n",
      "658:\tlearn: 2.2647131\ttotal: 630ms\tremaining: 326ms\n",
      "659:\tlearn: 2.2437777\ttotal: 631ms\tremaining: 325ms\n",
      "660:\tlearn: 2.2228007\ttotal: 632ms\tremaining: 324ms\n",
      "661:\tlearn: 2.2030047\ttotal: 633ms\tremaining: 323ms\n",
      "662:\tlearn: 2.1823076\ttotal: 634ms\tremaining: 322ms\n",
      "663:\tlearn: 2.1607769\ttotal: 635ms\tremaining: 321ms\n",
      "664:\tlearn: 2.1491049\ttotal: 636ms\tremaining: 320ms\n",
      "665:\tlearn: 2.1403920\ttotal: 636ms\tremaining: 319ms\n",
      "666:\tlearn: 2.1255852\ttotal: 637ms\tremaining: 318ms\n",
      "667:\tlearn: 2.1087714\ttotal: 638ms\tremaining: 317ms\n",
      "668:\tlearn: 2.1033385\ttotal: 639ms\tremaining: 316ms\n",
      "669:\tlearn: 2.0923091\ttotal: 640ms\tremaining: 315ms\n",
      "670:\tlearn: 2.0834076\ttotal: 641ms\tremaining: 314ms\n",
      "671:\tlearn: 2.0735926\ttotal: 642ms\tremaining: 313ms\n",
      "672:\tlearn: 2.0603541\ttotal: 642ms\tremaining: 312ms\n",
      "673:\tlearn: 2.0576392\ttotal: 643ms\tremaining: 311ms\n",
      "674:\tlearn: 2.0455537\ttotal: 644ms\tremaining: 310ms\n",
      "675:\tlearn: 2.0282804\ttotal: 645ms\tremaining: 309ms\n",
      "676:\tlearn: 2.0217423\ttotal: 646ms\tremaining: 308ms\n",
      "677:\tlearn: 2.0119192\ttotal: 647ms\tremaining: 307ms\n",
      "678:\tlearn: 2.0001332\ttotal: 648ms\tremaining: 306ms\n",
      "679:\tlearn: 1.9979894\ttotal: 648ms\tremaining: 305ms\n",
      "680:\tlearn: 1.9907747\ttotal: 649ms\tremaining: 304ms\n",
      "681:\tlearn: 1.9736817\ttotal: 650ms\tremaining: 303ms\n",
      "682:\tlearn: 1.9600965\ttotal: 651ms\tremaining: 302ms\n",
      "683:\tlearn: 1.9539201\ttotal: 652ms\tremaining: 301ms\n",
      "684:\tlearn: 1.9449369\ttotal: 653ms\tremaining: 300ms\n",
      "685:\tlearn: 1.9419454\ttotal: 654ms\tremaining: 299ms\n",
      "686:\tlearn: 1.9326842\ttotal: 655ms\tremaining: 298ms\n",
      "687:\tlearn: 1.9288548\ttotal: 655ms\tremaining: 297ms\n",
      "688:\tlearn: 1.9236716\ttotal: 656ms\tremaining: 296ms\n",
      "689:\tlearn: 1.9228496\ttotal: 657ms\tremaining: 295ms\n",
      "690:\tlearn: 1.9176354\ttotal: 658ms\tremaining: 294ms\n",
      "691:\tlearn: 1.9147659\ttotal: 659ms\tremaining: 293ms\n",
      "692:\tlearn: 1.9079892\ttotal: 660ms\tremaining: 292ms\n",
      "693:\tlearn: 1.9048238\ttotal: 661ms\tremaining: 291ms\n",
      "694:\tlearn: 1.8959419\ttotal: 662ms\tremaining: 290ms\n",
      "695:\tlearn: 1.8711502\ttotal: 662ms\tremaining: 289ms\n"
     ]
    },
    {
     "name": "stdout",
     "output_type": "stream",
     "text": [
      "696:\tlearn: 1.8583228\ttotal: 664ms\tremaining: 289ms\n",
      "697:\tlearn: 1.8482604\ttotal: 665ms\tremaining: 288ms\n",
      "698:\tlearn: 1.8456936\ttotal: 667ms\tremaining: 287ms\n",
      "699:\tlearn: 1.8273471\ttotal: 668ms\tremaining: 286ms\n",
      "700:\tlearn: 1.8067825\ttotal: 669ms\tremaining: 285ms\n",
      "701:\tlearn: 1.8022221\ttotal: 670ms\tremaining: 284ms\n",
      "702:\tlearn: 1.7912070\ttotal: 671ms\tremaining: 283ms\n",
      "703:\tlearn: 1.7755760\ttotal: 672ms\tremaining: 282ms\n",
      "704:\tlearn: 1.7712682\ttotal: 672ms\tremaining: 281ms\n",
      "705:\tlearn: 1.7648319\ttotal: 673ms\tremaining: 280ms\n",
      "706:\tlearn: 1.7532904\ttotal: 674ms\tremaining: 279ms\n",
      "707:\tlearn: 1.7463625\ttotal: 675ms\tremaining: 279ms\n",
      "708:\tlearn: 1.7418161\ttotal: 676ms\tremaining: 278ms\n",
      "709:\tlearn: 1.7272345\ttotal: 677ms\tremaining: 277ms\n",
      "710:\tlearn: 1.7217505\ttotal: 678ms\tremaining: 276ms\n",
      "711:\tlearn: 1.7151154\ttotal: 679ms\tremaining: 275ms\n",
      "712:\tlearn: 1.7092925\ttotal: 680ms\tremaining: 274ms\n",
      "713:\tlearn: 1.7025995\ttotal: 681ms\tremaining: 273ms\n",
      "714:\tlearn: 1.6807623\ttotal: 682ms\tremaining: 272ms\n",
      "715:\tlearn: 1.6674907\ttotal: 683ms\tremaining: 271ms\n",
      "716:\tlearn: 1.6544638\ttotal: 685ms\tremaining: 270ms\n",
      "717:\tlearn: 1.6411236\ttotal: 686ms\tremaining: 269ms\n",
      "718:\tlearn: 1.6290477\ttotal: 686ms\tremaining: 268ms\n",
      "719:\tlearn: 1.6222366\ttotal: 687ms\tremaining: 267ms\n",
      "720:\tlearn: 1.6142656\ttotal: 688ms\tremaining: 266ms\n",
      "721:\tlearn: 1.6004470\ttotal: 689ms\tremaining: 265ms\n",
      "722:\tlearn: 1.5932177\ttotal: 690ms\tremaining: 264ms\n",
      "723:\tlearn: 1.5743215\ttotal: 691ms\tremaining: 263ms\n",
      "724:\tlearn: 1.5629066\ttotal: 692ms\tremaining: 262ms\n",
      "725:\tlearn: 1.5505525\ttotal: 693ms\tremaining: 261ms\n",
      "726:\tlearn: 1.5302974\ttotal: 694ms\tremaining: 260ms\n",
      "727:\tlearn: 1.5260700\ttotal: 695ms\tremaining: 259ms\n",
      "728:\tlearn: 1.5188723\ttotal: 695ms\tremaining: 259ms\n",
      "729:\tlearn: 1.5085309\ttotal: 696ms\tremaining: 258ms\n",
      "730:\tlearn: 1.5038733\ttotal: 697ms\tremaining: 257ms\n",
      "731:\tlearn: 1.5008194\ttotal: 698ms\tremaining: 256ms\n",
      "732:\tlearn: 1.4908829\ttotal: 699ms\tremaining: 255ms\n",
      "733:\tlearn: 1.4782605\ttotal: 700ms\tremaining: 254ms\n",
      "734:\tlearn: 1.4639356\ttotal: 701ms\tremaining: 253ms\n",
      "735:\tlearn: 1.4471455\ttotal: 702ms\tremaining: 252ms\n",
      "736:\tlearn: 1.4454285\ttotal: 703ms\tremaining: 251ms\n",
      "737:\tlearn: 1.4416273\ttotal: 704ms\tremaining: 250ms\n",
      "738:\tlearn: 1.4302267\ttotal: 705ms\tremaining: 249ms\n",
      "739:\tlearn: 1.4219328\ttotal: 705ms\tremaining: 248ms\n",
      "740:\tlearn: 1.4105579\ttotal: 706ms\tremaining: 247ms\n",
      "741:\tlearn: 1.4075838\ttotal: 707ms\tremaining: 246ms\n",
      "742:\tlearn: 1.4017014\ttotal: 708ms\tremaining: 245ms\n",
      "743:\tlearn: 1.3974208\ttotal: 709ms\tremaining: 244ms\n",
      "744:\tlearn: 1.3862572\ttotal: 710ms\tremaining: 243ms\n",
      "745:\tlearn: 1.3729360\ttotal: 711ms\tremaining: 242ms\n",
      "746:\tlearn: 1.3630904\ttotal: 712ms\tremaining: 241ms\n",
      "747:\tlearn: 1.3477583\ttotal: 713ms\tremaining: 240ms\n",
      "748:\tlearn: 1.3348270\ttotal: 714ms\tremaining: 239ms\n",
      "749:\tlearn: 1.3236754\ttotal: 715ms\tremaining: 238ms\n",
      "750:\tlearn: 1.3171961\ttotal: 715ms\tremaining: 237ms\n",
      "751:\tlearn: 1.3113457\ttotal: 716ms\tremaining: 236ms\n",
      "752:\tlearn: 1.3036391\ttotal: 717ms\tremaining: 235ms\n",
      "753:\tlearn: 1.2935829\ttotal: 718ms\tremaining: 234ms\n",
      "754:\tlearn: 1.2837612\ttotal: 719ms\tremaining: 233ms\n",
      "755:\tlearn: 1.2768260\ttotal: 720ms\tremaining: 232ms\n",
      "756:\tlearn: 1.2689370\ttotal: 721ms\tremaining: 231ms\n",
      "757:\tlearn: 1.2561567\ttotal: 722ms\tremaining: 230ms\n",
      "758:\tlearn: 1.2475100\ttotal: 723ms\tremaining: 229ms\n",
      "759:\tlearn: 1.2405978\ttotal: 724ms\tremaining: 229ms\n",
      "760:\tlearn: 1.2342628\ttotal: 725ms\tremaining: 228ms\n",
      "761:\tlearn: 1.2271880\ttotal: 725ms\tremaining: 227ms\n",
      "762:\tlearn: 1.2138527\ttotal: 726ms\tremaining: 226ms\n",
      "763:\tlearn: 1.2076889\ttotal: 727ms\tremaining: 225ms\n",
      "764:\tlearn: 1.2041847\ttotal: 728ms\tremaining: 224ms\n",
      "765:\tlearn: 1.1970019\ttotal: 729ms\tremaining: 223ms\n",
      "766:\tlearn: 1.1892878\ttotal: 730ms\tremaining: 222ms\n",
      "767:\tlearn: 1.1858432\ttotal: 731ms\tremaining: 221ms\n",
      "768:\tlearn: 1.1746182\ttotal: 732ms\tremaining: 220ms\n",
      "769:\tlearn: 1.1694876\ttotal: 733ms\tremaining: 219ms\n",
      "770:\tlearn: 1.1657055\ttotal: 734ms\tremaining: 218ms\n",
      "771:\tlearn: 1.1556043\ttotal: 734ms\tremaining: 217ms\n",
      "772:\tlearn: 1.1540774\ttotal: 735ms\tremaining: 216ms\n",
      "773:\tlearn: 1.1473715\ttotal: 736ms\tremaining: 215ms\n",
      "774:\tlearn: 1.1419763\ttotal: 737ms\tremaining: 214ms\n",
      "775:\tlearn: 1.1303590\ttotal: 738ms\tremaining: 213ms\n",
      "776:\tlearn: 1.1230587\ttotal: 739ms\tremaining: 212ms\n",
      "777:\tlearn: 1.1143917\ttotal: 740ms\tremaining: 211ms\n",
      "778:\tlearn: 1.1112687\ttotal: 741ms\tremaining: 210ms\n",
      "779:\tlearn: 1.1009863\ttotal: 742ms\tremaining: 209ms\n",
      "780:\tlearn: 1.0899260\ttotal: 743ms\tremaining: 208ms\n",
      "781:\tlearn: 1.0855158\ttotal: 743ms\tremaining: 207ms\n",
      "782:\tlearn: 1.0808031\ttotal: 744ms\tremaining: 206ms\n",
      "783:\tlearn: 1.0763884\ttotal: 745ms\tremaining: 205ms\n",
      "784:\tlearn: 1.0710758\ttotal: 746ms\tremaining: 204ms\n",
      "785:\tlearn: 1.0634482\ttotal: 747ms\tremaining: 203ms\n",
      "786:\tlearn: 1.0529874\ttotal: 748ms\tremaining: 202ms\n",
      "787:\tlearn: 1.0501903\ttotal: 749ms\tremaining: 202ms\n",
      "788:\tlearn: 1.0410587\ttotal: 750ms\tremaining: 201ms\n",
      "789:\tlearn: 1.0386261\ttotal: 751ms\tremaining: 200ms\n",
      "790:\tlearn: 1.0351082\ttotal: 752ms\tremaining: 199ms\n",
      "791:\tlearn: 1.0320987\ttotal: 753ms\tremaining: 198ms\n",
      "792:\tlearn: 1.0294915\ttotal: 754ms\tremaining: 197ms\n",
      "793:\tlearn: 1.0233284\ttotal: 754ms\tremaining: 196ms\n",
      "794:\tlearn: 1.0176815\ttotal: 755ms\tremaining: 195ms\n",
      "795:\tlearn: 1.0074411\ttotal: 756ms\tremaining: 194ms\n",
      "796:\tlearn: 1.0020197\ttotal: 757ms\tremaining: 193ms\n",
      "797:\tlearn: 0.9989044\ttotal: 758ms\tremaining: 192ms\n",
      "798:\tlearn: 0.9937483\ttotal: 759ms\tremaining: 191ms\n",
      "799:\tlearn: 0.9867329\ttotal: 760ms\tremaining: 190ms\n",
      "800:\tlearn: 0.9819829\ttotal: 761ms\tremaining: 189ms\n",
      "801:\tlearn: 0.9777514\ttotal: 762ms\tremaining: 188ms\n",
      "802:\tlearn: 0.9757462\ttotal: 763ms\tremaining: 187ms\n",
      "803:\tlearn: 0.9702440\ttotal: 763ms\tremaining: 186ms\n",
      "804:\tlearn: 0.9636471\ttotal: 764ms\tremaining: 185ms\n",
      "805:\tlearn: 0.9548362\ttotal: 765ms\tremaining: 184ms\n",
      "806:\tlearn: 0.9470745\ttotal: 766ms\tremaining: 183ms\n",
      "807:\tlearn: 0.9408578\ttotal: 767ms\tremaining: 182ms\n",
      "808:\tlearn: 0.9350692\ttotal: 768ms\tremaining: 181ms\n",
      "809:\tlearn: 0.9290967\ttotal: 769ms\tremaining: 180ms\n",
      "810:\tlearn: 0.9267158\ttotal: 770ms\tremaining: 179ms\n",
      "811:\tlearn: 0.9235794\ttotal: 771ms\tremaining: 178ms\n",
      "812:\tlearn: 0.9226084\ttotal: 772ms\tremaining: 177ms\n",
      "813:\tlearn: 0.9139012\ttotal: 772ms\tremaining: 176ms\n",
      "814:\tlearn: 0.9073690\ttotal: 773ms\tremaining: 176ms\n",
      "815:\tlearn: 0.9024018\ttotal: 774ms\tremaining: 175ms\n",
      "816:\tlearn: 0.9001693\ttotal: 775ms\tremaining: 174ms\n",
      "817:\tlearn: 0.8970481\ttotal: 776ms\tremaining: 173ms\n",
      "818:\tlearn: 0.8907494\ttotal: 777ms\tremaining: 172ms\n",
      "819:\tlearn: 0.8886718\ttotal: 778ms\tremaining: 171ms\n",
      "820:\tlearn: 0.8869259\ttotal: 779ms\tremaining: 170ms\n",
      "821:\tlearn: 0.8804683\ttotal: 779ms\tremaining: 169ms\n",
      "822:\tlearn: 0.8666371\ttotal: 780ms\tremaining: 168ms\n",
      "823:\tlearn: 0.8659600\ttotal: 781ms\tremaining: 167ms\n",
      "824:\tlearn: 0.8604612\ttotal: 782ms\tremaining: 166ms\n",
      "825:\tlearn: 0.8544955\ttotal: 783ms\tremaining: 165ms\n",
      "826:\tlearn: 0.8496739\ttotal: 784ms\tremaining: 164ms\n",
      "827:\tlearn: 0.8420906\ttotal: 785ms\tremaining: 163ms\n",
      "828:\tlearn: 0.8398457\ttotal: 786ms\tremaining: 162ms\n",
      "829:\tlearn: 0.8358570\ttotal: 786ms\tremaining: 161ms\n",
      "830:\tlearn: 0.8293211\ttotal: 787ms\tremaining: 160ms\n",
      "831:\tlearn: 0.8236188\ttotal: 788ms\tremaining: 159ms\n",
      "832:\tlearn: 0.8175017\ttotal: 789ms\tremaining: 158ms\n",
      "833:\tlearn: 0.8128315\ttotal: 790ms\tremaining: 157ms\n",
      "834:\tlearn: 0.8096197\ttotal: 791ms\tremaining: 156ms\n",
      "835:\tlearn: 0.8027133\ttotal: 792ms\tremaining: 155ms\n",
      "836:\tlearn: 0.7987555\ttotal: 792ms\tremaining: 154ms\n",
      "837:\tlearn: 0.7928141\ttotal: 793ms\tremaining: 153ms\n",
      "838:\tlearn: 0.7897563\ttotal: 794ms\tremaining: 152ms\n",
      "839:\tlearn: 0.7876758\ttotal: 795ms\tremaining: 151ms\n",
      "840:\tlearn: 0.7777598\ttotal: 796ms\tremaining: 151ms\n",
      "841:\tlearn: 0.7767597\ttotal: 797ms\tremaining: 150ms\n",
      "842:\tlearn: 0.7665043\ttotal: 798ms\tremaining: 149ms\n",
      "843:\tlearn: 0.7626478\ttotal: 799ms\tremaining: 148ms\n",
      "844:\tlearn: 0.7540439\ttotal: 800ms\tremaining: 147ms\n",
      "845:\tlearn: 0.7508537\ttotal: 801ms\tremaining: 146ms\n",
      "846:\tlearn: 0.7459152\ttotal: 801ms\tremaining: 145ms\n",
      "847:\tlearn: 0.7447900\ttotal: 802ms\tremaining: 144ms\n",
      "848:\tlearn: 0.7418475\ttotal: 803ms\tremaining: 143ms\n",
      "849:\tlearn: 0.7379949\ttotal: 804ms\tremaining: 142ms\n",
      "850:\tlearn: 0.7369054\ttotal: 805ms\tremaining: 141ms\n",
      "851:\tlearn: 0.7327236\ttotal: 806ms\tremaining: 140ms\n",
      "852:\tlearn: 0.7311790\ttotal: 807ms\tremaining: 139ms\n",
      "853:\tlearn: 0.7226495\ttotal: 808ms\tremaining: 138ms\n",
      "854:\tlearn: 0.7168390\ttotal: 809ms\tremaining: 137ms\n",
      "855:\tlearn: 0.7117890\ttotal: 809ms\tremaining: 136ms\n",
      "856:\tlearn: 0.7040100\ttotal: 810ms\tremaining: 135ms\n",
      "857:\tlearn: 0.6960021\ttotal: 811ms\tremaining: 134ms\n",
      "858:\tlearn: 0.6920263\ttotal: 812ms\tremaining: 133ms\n",
      "859:\tlearn: 0.6853317\ttotal: 813ms\tremaining: 132ms\n",
      "860:\tlearn: 0.6805108\ttotal: 814ms\tremaining: 131ms\n",
      "861:\tlearn: 0.6771728\ttotal: 815ms\tremaining: 130ms\n",
      "862:\tlearn: 0.6708199\ttotal: 816ms\tremaining: 129ms\n",
      "863:\tlearn: 0.6689468\ttotal: 816ms\tremaining: 129ms\n",
      "864:\tlearn: 0.6647579\ttotal: 817ms\tremaining: 128ms\n",
      "865:\tlearn: 0.6587745\ttotal: 818ms\tremaining: 127ms\n",
      "866:\tlearn: 0.6549437\ttotal: 819ms\tremaining: 126ms\n",
      "867:\tlearn: 0.6484944\ttotal: 820ms\tremaining: 125ms\n",
      "868:\tlearn: 0.6455316\ttotal: 821ms\tremaining: 124ms\n",
      "869:\tlearn: 0.6420739\ttotal: 822ms\tremaining: 123ms\n",
      "870:\tlearn: 0.6375667\ttotal: 823ms\tremaining: 122ms\n",
      "871:\tlearn: 0.6358236\ttotal: 824ms\tremaining: 121ms\n",
      "872:\tlearn: 0.6320335\ttotal: 824ms\tremaining: 120ms\n",
      "873:\tlearn: 0.6288025\ttotal: 825ms\tremaining: 119ms\n",
      "874:\tlearn: 0.6243292\ttotal: 826ms\tremaining: 118ms\n",
      "875:\tlearn: 0.6165696\ttotal: 827ms\tremaining: 117ms\n",
      "876:\tlearn: 0.6128782\ttotal: 828ms\tremaining: 116ms\n",
      "877:\tlearn: 0.6057460\ttotal: 829ms\tremaining: 115ms\n",
      "878:\tlearn: 0.6048833\ttotal: 830ms\tremaining: 114ms\n",
      "879:\tlearn: 0.5984637\ttotal: 831ms\tremaining: 113ms\n",
      "880:\tlearn: 0.5935168\ttotal: 831ms\tremaining: 112ms\n",
      "881:\tlearn: 0.5892604\ttotal: 832ms\tremaining: 111ms\n",
      "882:\tlearn: 0.5846504\ttotal: 833ms\tremaining: 110ms\n",
      "883:\tlearn: 0.5814985\ttotal: 834ms\tremaining: 109ms\n",
      "884:\tlearn: 0.5778053\ttotal: 835ms\tremaining: 109ms\n"
     ]
    },
    {
     "name": "stdout",
     "output_type": "stream",
     "text": [
      "885:\tlearn: 0.5739896\ttotal: 836ms\tremaining: 108ms\n",
      "886:\tlearn: 0.5729847\ttotal: 838ms\tremaining: 107ms\n",
      "887:\tlearn: 0.5724598\ttotal: 839ms\tremaining: 106ms\n",
      "888:\tlearn: 0.5718988\ttotal: 840ms\tremaining: 105ms\n",
      "889:\tlearn: 0.5672314\ttotal: 841ms\tremaining: 104ms\n",
      "890:\tlearn: 0.5659035\ttotal: 842ms\tremaining: 103ms\n",
      "891:\tlearn: 0.5587131\ttotal: 843ms\tremaining: 102ms\n",
      "892:\tlearn: 0.5562858\ttotal: 844ms\tremaining: 101ms\n",
      "893:\tlearn: 0.5555127\ttotal: 845ms\tremaining: 100ms\n",
      "894:\tlearn: 0.5527685\ttotal: 846ms\tremaining: 99.2ms\n",
      "895:\tlearn: 0.5499500\ttotal: 847ms\tremaining: 98.3ms\n",
      "896:\tlearn: 0.5456148\ttotal: 848ms\tremaining: 97.3ms\n",
      "897:\tlearn: 0.5403285\ttotal: 849ms\tremaining: 96.4ms\n",
      "898:\tlearn: 0.5377774\ttotal: 849ms\tremaining: 95.4ms\n",
      "899:\tlearn: 0.5371353\ttotal: 850ms\tremaining: 94.5ms\n",
      "900:\tlearn: 0.5332613\ttotal: 851ms\tremaining: 93.5ms\n",
      "901:\tlearn: 0.5289379\ttotal: 852ms\tremaining: 92.6ms\n",
      "902:\tlearn: 0.5277948\ttotal: 853ms\tremaining: 91.7ms\n",
      "903:\tlearn: 0.5229979\ttotal: 854ms\tremaining: 90.7ms\n",
      "904:\tlearn: 0.5176545\ttotal: 855ms\tremaining: 89.8ms\n",
      "905:\tlearn: 0.5167566\ttotal: 856ms\tremaining: 88.9ms\n",
      "906:\tlearn: 0.5163313\ttotal: 857ms\tremaining: 87.9ms\n",
      "907:\tlearn: 0.5116777\ttotal: 858ms\tremaining: 87ms\n",
      "908:\tlearn: 0.5097952\ttotal: 859ms\tremaining: 86ms\n",
      "909:\tlearn: 0.5071290\ttotal: 860ms\tremaining: 85.1ms\n",
      "910:\tlearn: 0.5049191\ttotal: 861ms\tremaining: 84.1ms\n",
      "911:\tlearn: 0.5018383\ttotal: 862ms\tremaining: 83.2ms\n",
      "912:\tlearn: 0.5007466\ttotal: 863ms\tremaining: 82.2ms\n",
      "913:\tlearn: 0.4998771\ttotal: 864ms\tremaining: 81.2ms\n",
      "914:\tlearn: 0.4954624\ttotal: 864ms\tremaining: 80.3ms\n",
      "915:\tlearn: 0.4942071\ttotal: 865ms\tremaining: 79.4ms\n",
      "916:\tlearn: 0.4893003\ttotal: 866ms\tremaining: 78.4ms\n",
      "917:\tlearn: 0.4870233\ttotal: 867ms\tremaining: 77.5ms\n",
      "918:\tlearn: 0.4830379\ttotal: 868ms\tremaining: 76.5ms\n",
      "919:\tlearn: 0.4753426\ttotal: 869ms\tremaining: 75.6ms\n",
      "920:\tlearn: 0.4730706\ttotal: 870ms\tremaining: 74.6ms\n",
      "921:\tlearn: 0.4679650\ttotal: 871ms\tremaining: 73.7ms\n",
      "922:\tlearn: 0.4651630\ttotal: 872ms\tremaining: 72.8ms\n",
      "923:\tlearn: 0.4634313\ttotal: 873ms\tremaining: 71.8ms\n",
      "924:\tlearn: 0.4607284\ttotal: 874ms\tremaining: 70.9ms\n",
      "925:\tlearn: 0.4589159\ttotal: 875ms\tremaining: 69.9ms\n",
      "926:\tlearn: 0.4532169\ttotal: 876ms\tremaining: 69ms\n",
      "927:\tlearn: 0.4509932\ttotal: 877ms\tremaining: 68ms\n",
      "928:\tlearn: 0.4506088\ttotal: 878ms\tremaining: 67.1ms\n",
      "929:\tlearn: 0.4501478\ttotal: 879ms\tremaining: 66.1ms\n",
      "930:\tlearn: 0.4490581\ttotal: 880ms\tremaining: 65.2ms\n",
      "931:\tlearn: 0.4447316\ttotal: 881ms\tremaining: 64.3ms\n",
      "932:\tlearn: 0.4415148\ttotal: 882ms\tremaining: 63.3ms\n",
      "933:\tlearn: 0.4391051\ttotal: 883ms\tremaining: 62.4ms\n",
      "934:\tlearn: 0.4357356\ttotal: 884ms\tremaining: 61.5ms\n",
      "935:\tlearn: 0.4323983\ttotal: 885ms\tremaining: 60.5ms\n",
      "936:\tlearn: 0.4302143\ttotal: 886ms\tremaining: 59.6ms\n",
      "937:\tlearn: 0.4289117\ttotal: 887ms\tremaining: 58.6ms\n",
      "938:\tlearn: 0.4284339\ttotal: 888ms\tremaining: 57.7ms\n",
      "939:\tlearn: 0.4244107\ttotal: 889ms\tremaining: 56.7ms\n",
      "940:\tlearn: 0.4237451\ttotal: 889ms\tremaining: 55.8ms\n",
      "941:\tlearn: 0.4215386\ttotal: 890ms\tremaining: 54.8ms\n",
      "942:\tlearn: 0.4180705\ttotal: 891ms\tremaining: 53.9ms\n",
      "943:\tlearn: 0.4154760\ttotal: 892ms\tremaining: 52.9ms\n",
      "944:\tlearn: 0.4124859\ttotal: 893ms\tremaining: 52ms\n",
      "945:\tlearn: 0.4119886\ttotal: 894ms\tremaining: 51ms\n",
      "946:\tlearn: 0.4115906\ttotal: 895ms\tremaining: 50.1ms\n",
      "947:\tlearn: 0.4081974\ttotal: 896ms\tremaining: 49.1ms\n",
      "948:\tlearn: 0.4064530\ttotal: 897ms\tremaining: 48.2ms\n",
      "949:\tlearn: 0.4040915\ttotal: 898ms\tremaining: 47.3ms\n",
      "950:\tlearn: 0.4008861\ttotal: 899ms\tremaining: 46.3ms\n",
      "951:\tlearn: 0.3970913\ttotal: 900ms\tremaining: 45.4ms\n",
      "952:\tlearn: 0.3943258\ttotal: 901ms\tremaining: 44.4ms\n",
      "953:\tlearn: 0.3926270\ttotal: 902ms\tremaining: 43.5ms\n",
      "954:\tlearn: 0.3909448\ttotal: 903ms\tremaining: 42.5ms\n",
      "955:\tlearn: 0.3887707\ttotal: 903ms\tremaining: 41.6ms\n",
      "956:\tlearn: 0.3868345\ttotal: 904ms\tremaining: 40.6ms\n",
      "957:\tlearn: 0.3839349\ttotal: 905ms\tremaining: 39.7ms\n",
      "958:\tlearn: 0.3808497\ttotal: 906ms\tremaining: 38.7ms\n",
      "959:\tlearn: 0.3779283\ttotal: 907ms\tremaining: 37.8ms\n",
      "960:\tlearn: 0.3755090\ttotal: 908ms\tremaining: 36.8ms\n",
      "961:\tlearn: 0.3734292\ttotal: 909ms\tremaining: 35.9ms\n",
      "962:\tlearn: 0.3731558\ttotal: 910ms\tremaining: 35ms\n",
      "963:\tlearn: 0.3716642\ttotal: 911ms\tremaining: 34ms\n",
      "964:\tlearn: 0.3700879\ttotal: 912ms\tremaining: 33.1ms\n",
      "965:\tlearn: 0.3676034\ttotal: 914ms\tremaining: 32.2ms\n",
      "966:\tlearn: 0.3640425\ttotal: 915ms\tremaining: 31.2ms\n",
      "967:\tlearn: 0.3632495\ttotal: 916ms\tremaining: 30.3ms\n",
      "968:\tlearn: 0.3603878\ttotal: 917ms\tremaining: 29.3ms\n",
      "969:\tlearn: 0.3584398\ttotal: 918ms\tremaining: 28.4ms\n",
      "970:\tlearn: 0.3560019\ttotal: 919ms\tremaining: 27.4ms\n",
      "971:\tlearn: 0.3535719\ttotal: 919ms\tremaining: 26.5ms\n",
      "972:\tlearn: 0.3518950\ttotal: 920ms\tremaining: 25.5ms\n",
      "973:\tlearn: 0.3479039\ttotal: 921ms\tremaining: 24.6ms\n",
      "974:\tlearn: 0.3463938\ttotal: 922ms\tremaining: 23.6ms\n",
      "975:\tlearn: 0.3433932\ttotal: 923ms\tremaining: 22.7ms\n",
      "976:\tlearn: 0.3410148\ttotal: 924ms\tremaining: 21.8ms\n",
      "977:\tlearn: 0.3393532\ttotal: 925ms\tremaining: 20.8ms\n",
      "978:\tlearn: 0.3373067\ttotal: 926ms\tremaining: 19.9ms\n",
      "979:\tlearn: 0.3359122\ttotal: 927ms\tremaining: 18.9ms\n",
      "980:\tlearn: 0.3340848\ttotal: 928ms\tremaining: 18ms\n",
      "981:\tlearn: 0.3331220\ttotal: 929ms\tremaining: 17ms\n",
      "982:\tlearn: 0.3308795\ttotal: 930ms\tremaining: 16.1ms\n",
      "983:\tlearn: 0.3288012\ttotal: 931ms\tremaining: 15.1ms\n",
      "984:\tlearn: 0.3271648\ttotal: 931ms\tremaining: 14.2ms\n",
      "985:\tlearn: 0.3246514\ttotal: 932ms\tremaining: 13.2ms\n",
      "986:\tlearn: 0.3218383\ttotal: 933ms\tremaining: 12.3ms\n",
      "987:\tlearn: 0.3206535\ttotal: 934ms\tremaining: 11.3ms\n",
      "988:\tlearn: 0.3190063\ttotal: 935ms\tremaining: 10.4ms\n",
      "989:\tlearn: 0.3176250\ttotal: 936ms\tremaining: 9.45ms\n",
      "990:\tlearn: 0.3146329\ttotal: 937ms\tremaining: 8.51ms\n",
      "991:\tlearn: 0.3130835\ttotal: 938ms\tremaining: 7.56ms\n",
      "992:\tlearn: 0.3107534\ttotal: 938ms\tremaining: 6.62ms\n",
      "993:\tlearn: 0.3089626\ttotal: 939ms\tremaining: 5.67ms\n",
      "994:\tlearn: 0.3080205\ttotal: 940ms\tremaining: 4.72ms\n",
      "995:\tlearn: 0.3055692\ttotal: 941ms\tremaining: 3.78ms\n",
      "996:\tlearn: 0.3035687\ttotal: 942ms\tremaining: 2.83ms\n",
      "997:\tlearn: 0.3019582\ttotal: 943ms\tremaining: 1.89ms\n",
      "998:\tlearn: 0.3000480\ttotal: 944ms\tremaining: 944us\n",
      "999:\tlearn: 0.2971131\ttotal: 945ms\tremaining: 0us\n"
     ]
    }
   ],
   "source": [
    "catb_tuned = CatBoostRegressor(iterations = 1000, \n",
    "                               learning_rate = 0.1, \n",
    "                               depth = 5)\n",
    "\n",
    "catb_tuned = catb_tuned.fit(X_train,y_train)"
   ]
  },
  {
   "cell_type": "code",
   "execution_count": 116,
   "id": "9fa31fc9",
   "metadata": {},
   "outputs": [
    {
     "data": {
      "text/plain": [
       "356.665762904938"
      ]
     },
     "execution_count": 116,
     "metadata": {},
     "output_type": "execute_result"
    }
   ],
   "source": [
    "y_pred = catb_tuned.predict(X_test)\n",
    "np.sqrt(mean_squared_error(y_test, y_pred))"
   ]
  },
  {
   "cell_type": "code",
   "execution_count": 119,
   "id": "0fe17fd0",
   "metadata": {},
   "outputs": [
    {
     "data": {
      "image/png": "[encoded data removed]",
      "text/plain": [
       "<Figure size 720x720 with 1 Axes>"
      ]
     },
     "metadata": {},
     "output_type": "display_data"
    }
   ],
   "source": [
    "def plot_importance(model, features, num=len(X), save=False):\n",
    "    feature_imp = pd.DataFrame({'Value': model.feature_importances_, 'Feature': features.columns})\n",
    "    plt.figure(figsize=(10, 10))\n",
    "    sns.set(font_scale=1)\n",
    "    sns.barplot(x=\"Value\", y=\"Feature\", data=feature_imp.sort_values(by=\"Value\",\n",
    "                                                                     ascending=False)[0:num])\n",
    "    plt.title('Features')\n",
    "    plt.tight_layout()\n",
    "    plt.show()\n",
    "    if save:\n",
    "        plt.savefig('importances.png')\n",
    "\n",
    "plot_importance(rf_final, X)"
   ]
  },
  {
   "cell_type": "code",
   "execution_count": 120,
   "id": "d8e8b72a",
   "metadata": {},
   "outputs": [
    {
     "data": {
      "image/png": "[encoded data removed]",
      "text/plain": [
       "<Figure size 720x720 with 1 Axes>"
      ]
     },
     "metadata": {},
     "output_type": "display_data"
    }
   ],
   "source": [
    "plot_importance(gbm_tuned, X)"
   ]
  },
  {
   "cell_type": "code",
   "execution_count": 121,
   "id": "81008fc7",
   "metadata": {},
   "outputs": [
    {
     "data": {
      "image/png": "[encoded data removed]",
      "text/plain": [
       "<Figure size 720x720 with 1 Axes>"
      ]
     },
     "metadata": {},
     "output_type": "display_data"
    }
   ],
   "source": [
    "plot_importance(xgb_tuned, X)"
   ]
  },
  {
   "cell_type": "code",
   "execution_count": 122,
   "id": "53665662",
   "metadata": {},
   "outputs": [
    {
     "data": {
      "image/png": "[encoded data removed]",
      "text/plain": [
       "<Figure size 720x720 with 1 Axes>"
      ]
     },
     "metadata": {},
     "output_type": "display_data"
    }
   ],
   "source": [
    "plot_importance(lgbm_tuned, X)"
   ]
  },
  {
   "cell_type": "code",
   "execution_count": 123,
   "id": "018a260b",
   "metadata": {},
   "outputs": [
    {
     "data": {
      "image/png": "[encoded data removed]",
      "text/plain": [
       "<Figure size 720x720 with 1 Axes>"
      ]
     },
     "metadata": {},
     "output_type": "display_data"
    }
   ],
   "source": [
    "plot_importance(catb_tuned, X)"
   ]
  }
 ],
 "metadata": {
  "kernelspec": {
   "display_name": "Python 3 (ipykernel)",
   "language": "python",
   "name": "python3"
  },
  "language_info": {
   "codemirror_mode": {
    "name": "ipython",
    "version": 3
   },
   "file_extension": ".py",
   "mimetype": "text/x-python",
   "name": "python",
   "nbconvert_exporter": "python",
   "pygments_lexer": "ipython3",
   "version": "3.9.7"
  }
 },
 "nbformat": 4,
 "nbformat_minor": 5
}
