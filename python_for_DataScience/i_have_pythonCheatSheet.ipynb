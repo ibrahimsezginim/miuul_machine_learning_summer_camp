{
 "cells": [
  {
   "cell_type": "raw",
   "id": "ed4e79b6",
   "metadata": {},
   "source": [
    "Bilgisayarda yüklü olan sanal ortamların listelenmesi = conda env list\n",
    "\n",
    "Sanal ortam oluşturma = conda create -n ...\n",
    "    ... = istediğin ismi verebilirsin\n",
    "\n",
    "Sanal ortamı aktif etmek için = conda activate ... \n",
    "    ... Aktif etmek istediğin sanal ortamın adı\n",
    "\n",
    "Sanal ortamı deaktif etme = conda deactivate\n",
    "    \n",
    "Sanal ortamdaki yüklü paketleri listeleme = conda list\n",
    "\n",
    "Sanal ortama paket yükleme = conda install ... \n",
    "    ... = yüklemek istediğin paket\n",
    "\n",
    "Sanal ortamdan istediğin paketleri kaldırma =  conda remove ... \n",
    "    ... = kaldırmak istediğin paketin adı\n",
    "\n",
    "Sanal ortama paketin istediğimiz versiyonunu yükleme = conda install ...\n",
    "    ... = yüklemek istediğin paket ... = versiyonu\n",
    "    \n",
    "Sanal ortamdaki istediğimiz paketin versiyonunu güncelleme = conda upgrade ... \n",
    "    ... = yükseltmek istediğimiz paket\n",
    "\n",
    "Sanal ortamdaki tüm paketlerin versiyonunu güncelleme = conda upgrade -all\n",
    "\n",
    "Sanal ortamı silme = conda env remove -n ...\n",
    "    ... = sanal ortamın adı"
   ]
  },
  {
   "cell_type": "markdown",
   "id": "26709d3e",
   "metadata": {},
   "source": [
    "### Konsol ekranından veri girişi özel durum belirtilmediği sürece STRING olur."
   ]
  },
  {
   "cell_type": "code",
   "execution_count": 1,
   "id": "d705f4e0",
   "metadata": {},
   "outputs": [
    {
     "name": "stdout",
     "output_type": "stream",
     "text": [
      "Ad:İBRAHİM\n",
      "<class 'str'>\n",
      "Yaş:25\n",
      "<class 'int'>\n",
      "Doğum yılı:1997\n",
      "<class 'str'>\n"
     ]
    }
   ],
   "source": [
    "name = input(\"Ad:\")\n",
    "print(type(name))\n",
    "\n",
    "age = int(input(\"Yaş:\"))\n",
    "print(type(age))\n",
    "\n",
    "year = input(\"Doğum yılı:\")\n",
    "print(type(year))"
   ]
  },
  {
   "cell_type": "markdown",
   "id": "327e935f",
   "metadata": {},
   "source": [
    "#### Metin içinde tek bir değişkenin değerini vurgulamak için:"
   ]
  },
  {
   "cell_type": "code",
   "execution_count": 2,
   "id": "830f3a9e",
   "metadata": {},
   "outputs": [
    {
     "name": "stdout",
     "output_type": "stream",
     "text": [
      "Benim adım İBRAHİM\n",
      "25 yaşındayım\n"
     ]
    }
   ],
   "source": [
    "print(\"Benim adım %s\" %name)\n",
    "\n",
    "print(\"%d yaşındayım\" %age)"
   ]
  },
  {
   "cell_type": "markdown",
   "id": "73cbf41d",
   "metadata": {},
   "source": [
    "#### Metin içinde birden fazla değişkenin değerini vurgulamak için:"
   ]
  },
  {
   "cell_type": "code",
   "execution_count": 3,
   "id": "72b917fb",
   "metadata": {},
   "outputs": [
    {
     "name": "stdout",
     "output_type": "stream",
     "text": [
      "Ad:İBRAHİM Yaş:25\n"
     ]
    }
   ],
   "source": [
    "print(\"Ad:{0} Yaş:{1}\".format(name,age))"
   ]
  },
  {
   "cell_type": "markdown",
   "id": "effa0c2e",
   "metadata": {},
   "source": [
    "# RASTGELE SAYI ÜRETİMİ"
   ]
  },
  {
   "cell_type": "raw",
   "id": "1a29911f",
   "metadata": {},
   "source": [
    "Python'da rastgele sayı üretiminde kullanılan random modülüne ait import random kütüphanesi dahil edilmesi gerekir."
   ]
  },
  {
   "cell_type": "code",
   "execution_count": 4,
   "id": "114ec602",
   "metadata": {},
   "outputs": [],
   "source": [
    "import random"
   ]
  },
  {
   "cell_type": "code",
   "execution_count": 5,
   "id": "ffe8b361",
   "metadata": {},
   "outputs": [
    {
     "data": {
      "text/plain": [
       "0.4368362765907764"
      ]
     },
     "execution_count": 5,
     "metadata": {},
     "output_type": "execute_result"
    }
   ],
   "source": [
    "random.random() #[0,1] float değer üretir"
   ]
  },
  {
   "cell_type": "code",
   "execution_count": 6,
   "id": "554fc913",
   "metadata": {},
   "outputs": [
    {
     "data": {
      "text/plain": [
       "8"
      ]
     },
     "execution_count": 6,
     "metadata": {},
     "output_type": "execute_result"
    }
   ],
   "source": [
    "random.randint(1,31) ##[number_1,number_2] aralığında int tipinde bir değer üretir."
   ]
  },
  {
   "cell_type": "code",
   "execution_count": 7,
   "id": "349bd927",
   "metadata": {},
   "outputs": [
    {
     "data": {
      "text/plain": [
       "3.775356733322573"
      ]
     },
     "execution_count": 7,
     "metadata": {},
     "output_type": "execute_result"
    }
   ],
   "source": [
    "random.uniform(1,31) #[number_1 , number_2] aralığında float tipinde bir değer üretir"
   ]
  },
  {
   "cell_type": "markdown",
   "id": "91f5ba20",
   "metadata": {},
   "source": [
    "# STRING"
   ]
  },
  {
   "cell_type": "raw",
   "id": "a0c151a4",
   "metadata": {},
   "source": [
    "String ifadenin içinde aranılan kelimenin kaçıncı indekste başladığını gösterir."
   ]
  },
  {
   "cell_type": "code",
   "execution_count": 8,
   "id": "ff77b944",
   "metadata": {},
   "outputs": [
    {
     "name": "stdout",
     "output_type": "stream",
     "text": [
      "7\n"
     ]
    }
   ],
   "source": [
    "txt = \"Hello, welcome to my world.\" \n",
    "\n",
    "x = txt.find(\"welcome\", 0) #Başlangıç ve bitiş değeri olarak başka bir değer bitiş değeri verebiliriz \n",
    "\n",
    "print(x) "
   ]
  },
  {
   "cell_type": "raw",
   "id": "6aa3f825",
   "metadata": {},
   "source": [
    "String içerisinde başka bir string arama"
   ]
  },
  {
   "cell_type": "code",
   "execution_count": 9,
   "id": "0b52a12e",
   "metadata": {},
   "outputs": [
    {
     "data": {
      "text/plain": [
       "False"
      ]
     },
     "execution_count": 9,
     "metadata": {},
     "output_type": "execute_result"
    }
   ],
   "source": [
    "\"S\" in \"Galatasaray\" # S karakteri Galatasaray kelimesinin içinde olsayı True döndürürdü"
   ]
  },
  {
   "cell_type": "raw",
   "id": "edafbc6c",
   "metadata": {},
   "source": [
    "String ifadedeki büyük harfleri küçük harfe dönüştürür"
   ]
  },
  {
   "cell_type": "code",
   "execution_count": 10,
   "id": "c5507bc8",
   "metadata": {},
   "outputs": [
    {
     "name": "stdout",
     "output_type": "stream",
     "text": [
      "hello my friends\n"
     ]
    }
   ],
   "source": [
    "txt = \"Hello my FRIENDS\"\n",
    "\n",
    "x = txt.lower() \n",
    "\n",
    "print(x)"
   ]
  },
  {
   "cell_type": "raw",
   "id": "191a30b3",
   "metadata": {},
   "source": [
    "String ifadedeki küçük harfleri büyük harfe dönüştürür."
   ]
  },
  {
   "cell_type": "code",
   "execution_count": 11,
   "id": "20e75fbc",
   "metadata": {},
   "outputs": [
    {
     "name": "stdout",
     "output_type": "stream",
     "text": [
      "HELLO MY FRIENDS\n"
     ]
    }
   ],
   "source": [
    "txt = \"Hello my friends\"\n",
    "\n",
    "x = txt.upper() \n",
    "\n",
    "print(x)"
   ]
  },
  {
   "cell_type": "raw",
   "id": "9075ee2b",
   "metadata": {},
   "source": [
    "String ifadedeki ifade veya harfi diğeriyle yer değiştirebiliriz "
   ]
  },
  {
   "cell_type": "code",
   "execution_count": 12,
   "id": "ecada13f",
   "metadata": {},
   "outputs": [
    {
     "name": "stdout",
     "output_type": "stream",
     "text": [
      "I like apples\n"
     ]
    }
   ],
   "source": [
    "txt = \"I like bananas\" \n",
    "\n",
    "x = txt.replace(\"bananas\", \"apples\") \n",
    "\n",
    "print(x) "
   ]
  },
  {
   "cell_type": "raw",
   "id": "a7b4869d",
   "metadata": {},
   "source": [
    "txt değişkeni str tipinde iken ayrıştırarak listeye dönüştürmek"
   ]
  },
  {
   "cell_type": "code",
   "execution_count": 13,
   "id": "36630ef6",
   "metadata": {},
   "outputs": [
    {
     "data": {
      "text/plain": [
       "['Bir ol', 'İri ol', 'Diri ol.']"
      ]
     },
     "execution_count": 13,
     "metadata": {},
     "output_type": "execute_result"
    }
   ],
   "source": [
    "txt = \"Bir ol,İri ol,Diri ol.\" \n",
    "\n",
    "txt.split(\",\") "
   ]
  },
  {
   "cell_type": "raw",
   "id": "db3ffeb8",
   "metadata": {},
   "source": [
    "String değerin kaç tane olduğunu döndürür. "
   ]
  },
  {
   "cell_type": "code",
   "execution_count": 14,
   "id": "72af4bff",
   "metadata": {},
   "outputs": [
    {
     "name": "stdout",
     "output_type": "stream",
     "text": [
      "1\n"
     ]
    }
   ],
   "source": [
    "txt = \"I love apples, apple are my favorite fruit\" \n",
    " \n",
    "x = txt.count(\"apple\", 10, 24) # “stringİfade” , start(kaçıncı indisten başlasın) , finish(kaçıncı indiste bitsin) \n",
    " \n",
    "print(x)  "
   ]
  },
  {
   "cell_type": "raw",
   "id": "e725fa3e",
   "metadata": {},
   "source": [
    "\"Good night Sam!” gibi metinde m > e , S>J, a>o olsun ve “odnght” karakterli kalksın istiyorsak "
   ]
  },
  {
   "cell_type": "code",
   "execution_count": 15,
   "id": "a595fd0c",
   "metadata": {},
   "outputs": [
    {
     "name": "stdout",
     "output_type": "stream",
     "text": [
      "G i Joe!\n"
     ]
    }
   ],
   "source": [
    "txt = \"Good night Sam!\" \n",
    "x = \"mSa\" \n",
    "y = \"eJo\" \n",
    "z = \"odnght\" \n",
    "\n",
    "mytable = txt.maketrans(x, y, z) \n",
    "\n",
    "print(txt.translate(mytable))"
   ]
  },
  {
   "cell_type": "raw",
   "id": "0e656041",
   "metadata": {},
   "source": [
    "String ifadeyi güncelleme/değiştirme"
   ]
  },
  {
   "cell_type": "code",
   "execution_count": 16,
   "id": "106d34d8",
   "metadata": {},
   "outputs": [
    {
     "name": "stdout",
     "output_type": "stream",
     "text": [
      "I <3 bananas.\n"
     ]
    }
   ],
   "source": [
    "txt = \"I like bananas.\"\n",
    "\n",
    "x = txt.replace(\"like\", \"<3\")\n",
    "\n",
    "print(x)"
   ]
  },
  {
   "cell_type": "raw",
   "id": "4be3a70f",
   "metadata": {},
   "source": [
    "String ifadeyi ters çevirme"
   ]
  },
  {
   "cell_type": "code",
   "execution_count": 17,
   "id": "83aa87f7",
   "metadata": {},
   "outputs": [
    {
     "data": {
      "text/plain": [
       "'M-İ-H-A-R-B-İ'"
      ]
     },
     "execution_count": 17,
     "metadata": {},
     "output_type": "execute_result"
    }
   ],
   "source": [
    "\"-\".join(reversed(name)) #\"istediğin karakteri ekleyebilirsin\""
   ]
  },
  {
   "cell_type": "raw",
   "id": "e1b0f476",
   "metadata": {},
   "source": [
    "String in başındaki ve sonundaki boşlukları veya belirtilen karakterleri kaldırır."
   ]
  },
  {
   "cell_type": "code",
   "execution_count": 18,
   "id": "650e1152",
   "metadata": {},
   "outputs": [
    {
     "name": "stdout",
     "output_type": "stream",
     "text": [
      "-ibrahimsezgin\n",
      "'in sol tarafındaki boşlukları veya karakterleri kaldırır.Örnek olarak string\n",
      "string'in sağ tarafındaki boşlukları veya karakterleri kaldırır.Örnek olarak \n"
     ]
    }
   ],
   "source": [
    "print(\"-ibrahimsezginim\".strip(\"im\"))\n",
    "print(\"string'in sol tarafındaki boşlukları veya karakterleri kaldırır.Örnek olarak string\".lstrip(\"string\"))\n",
    "print(\"string'in sağ tarafındaki boşlukları veya karakterleri kaldırır.Örnek olarak string\".rstrip(\"string\"))"
   ]
  },
  {
   "cell_type": "markdown",
   "id": "354d6475",
   "metadata": {},
   "source": [
    "# LIST"
   ]
  },
  {
   "cell_type": "markdown",
   "id": "0ade9f3d",
   "metadata": {},
   "source": [
    "## List Comprehensions"
   ]
  },
  {
   "cell_type": "raw",
   "id": "4ae80019",
   "metadata": {},
   "source": [
    "newListeName = [yapılacakİşlem for döngüDeğişkeni in girişListesi]\n",
    "L = [i**2 for i in range(10)]\n",
    "\n",
    "List comprehension yapısına sadece if ifadesi eklemek istersek\n",
    "newListeName = [yapılacakİşlem for döngüDeğişkeni in girişListesi if <koşul>]\n",
    "\n",
    "List comprehension yapısında if ve else birlikte kullanımı\n",
    "[ifGerçekleştiğindeYapılacakİşlem if <koşul> else elseGerçekleştiğindeYapılacakİşlem for döngüDeğişkeni in girişListesi if <koşul>]"
   ]
  },
  {
   "cell_type": "raw",
   "id": "0a281c5e",
   "metadata": {},
   "source": [
    "Listenin sonuna eleman eklemek için"
   ]
  },
  {
   "cell_type": "code",
   "execution_count": 19,
   "id": "e43a021f",
   "metadata": {},
   "outputs": [
    {
     "name": "stdout",
     "output_type": "stream",
     "text": [
      "['apple', 'banana', 'cherry', 'Ford', 'BMW', 'Volvo']\n"
     ]
    }
   ],
   "source": [
    "a = [\"apple\", \"banana\", \"cherry\"] \n",
    "\n",
    "b = [\"Ford\", \"BMW\", \"Volvo\"]      \n",
    "\n",
    "a.extend(b)\n",
    "\n",
    "print(a)"
   ]
  },
  {
   "cell_type": "code",
   "execution_count": 20,
   "id": "830ede4e",
   "metadata": {},
   "outputs": [
    {
     "name": "stdout",
     "output_type": "stream",
     "text": [
      "['elma', 'muz', 'kiraz', ['domates', 'patates']]\n"
     ]
    }
   ],
   "source": [
    "meyve = [\"elma\", \"muz\", \"kiraz\"]\n",
    "\n",
    "sebze = [\"domates\",\"patates\"]\n",
    "\n",
    "meyve.append(sebze)\n",
    "\n",
    "print(meyve)"
   ]
  },
  {
   "cell_type": "raw",
   "id": "cd08266e",
   "metadata": {},
   "source": [
    "“orange” isimli elemanı fruits listesinin 1. indisli eleman yapmak için: "
   ]
  },
  {
   "cell_type": "code",
   "execution_count": 21,
   "id": "3fc1755b",
   "metadata": {},
   "outputs": [
    {
     "name": "stdout",
     "output_type": "stream",
     "text": [
      "['apple', 'orange', 'banana', 'cherry']\n"
     ]
    }
   ],
   "source": [
    "fruits = ['apple', 'banana', 'cherry'] \n",
    "\n",
    "fruits.insert(1, \"orange\") \n",
    "\n",
    "print(fruits) "
   ]
  },
  {
   "cell_type": "raw",
   "id": "a304f9db",
   "metadata": {},
   "source": [
    "Listede bululnan bir elemanın kaç adet olduğunu öğrenmek için: "
   ]
  },
  {
   "cell_type": "code",
   "execution_count": 22,
   "id": "33b77aea",
   "metadata": {},
   "outputs": [
    {
     "name": "stdout",
     "output_type": "stream",
     "text": [
      "1\n"
     ]
    }
   ],
   "source": [
    "L=[1,3,5,7] \n",
    "\n",
    "print(L.count(5)) "
   ]
  },
  {
   "cell_type": "raw",
   "id": "9c43d17a",
   "metadata": {},
   "source": [
    "Listede istediğimiz index numarasına eklemek için: "
   ]
  },
  {
   "cell_type": "code",
   "execution_count": 23,
   "id": "c9c0c963",
   "metadata": {},
   "outputs": [
    {
     "name": "stdout",
     "output_type": "stream",
     "text": [
      "['apple', 'orange', 'banana', 'cherry']\n"
     ]
    }
   ],
   "source": [
    "fruits = ['apple', 'banana', 'cherry']  \n",
    "\n",
    "fruits.insert(1, \"orange\") \n",
    "\n",
    "print(fruits) "
   ]
  },
  {
   "cell_type": "raw",
   "id": "39ed50ce",
   "metadata": {},
   "source": [
    "Liste elemanlarını ters çevirmek için: "
   ]
  },
  {
   "cell_type": "code",
   "execution_count": 24,
   "id": "1665dd92",
   "metadata": {},
   "outputs": [
    {
     "name": "stdout",
     "output_type": "stream",
     "text": [
      "[7, 5, 3, 1]\n"
     ]
    }
   ],
   "source": [
    "L=[1,3,5,7] \n",
    "\n",
    "L.reverse() \n",
    "\n",
    "print(L) "
   ]
  },
  {
   "cell_type": "raw",
   "id": "ae5022e0",
   "metadata": {},
   "source": [
    "Listedeki 3 elemanını silmek için: "
   ]
  },
  {
   "cell_type": "code",
   "execution_count": 25,
   "id": "99e07fe7",
   "metadata": {},
   "outputs": [
    {
     "name": "stdout",
     "output_type": "stream",
     "text": [
      "[1, 5, 7]\n"
     ]
    }
   ],
   "source": [
    "L=[1,3,5,7] \n",
    "\n",
    "L.remove(3) \n",
    "\n",
    "print(L) "
   ]
  },
  {
   "cell_type": "raw",
   "id": "d76e6f56",
   "metadata": {},
   "source": [
    "Listeden indis numarası verilen elemanı silmek için: "
   ]
  },
  {
   "cell_type": "code",
   "execution_count": 26,
   "id": "f04f4f5d",
   "metadata": {},
   "outputs": [
    {
     "name": "stdout",
     "output_type": "stream",
     "text": [
      "[1, 3, 5]\n"
     ]
    }
   ],
   "source": [
    "L=[1,3,5,7] \n",
    "\n",
    "L.pop(3) \n",
    "\n",
    "print(L) "
   ]
  },
  {
   "cell_type": "raw",
   "id": "3b519432",
   "metadata": {},
   "source": [
    "del L[i] = Listeden indis numarası verilen elemanı siler. pop() fonksiyonundan farklı olarak dilimleme kullanılabilir. "
   ]
  },
  {
   "cell_type": "code",
   "execution_count": 27,
   "id": "6a119647",
   "metadata": {},
   "outputs": [
    {
     "name": "stdout",
     "output_type": "stream",
     "text": [
      "[1, 5]\n"
     ]
    }
   ],
   "source": [
    "L=[1,2,3,5,7] \n",
    "\n",
    "del L[4] \n",
    "\n",
    "del L[1:3] \n",
    "\n",
    "print(L) "
   ]
  },
  {
   "cell_type": "raw",
   "id": "5fda613f",
   "metadata": {},
   "source": [
    "L.clear() = Listedeki tüm elemanları siler. Eşdeğeri: del L[:] olabilir."
   ]
  },
  {
   "cell_type": "code",
   "execution_count": 28,
   "id": "9c0bca87",
   "metadata": {},
   "outputs": [
    {
     "name": "stdout",
     "output_type": "stream",
     "text": [
      "[]\n"
     ]
    }
   ],
   "source": [
    "L=[1,3,5,7] \n",
    "\n",
    "L.clear() \n",
    "\n",
    "print(L) "
   ]
  },
  {
   "cell_type": "markdown",
   "id": "2989316a",
   "metadata": {},
   "source": [
    "# DICT"
   ]
  },
  {
   "cell_type": "markdown",
   "id": "5a2594db",
   "metadata": {},
   "source": [
    "### Dict Comprehensions"
   ]
  },
  {
   "cell_type": "raw",
   "id": "256fd5ee",
   "metadata": {},
   "source": [
    "İstersek sadece key ifadelerinde işlem yapabiliriz\n",
    "{anahtarİfadeİleYapılacakİşlem : degerİfade for (anahtar,deger) in dictionaryAdı.items()} \n",
    "\n",
    "{anahtarİfade : degerİfadeİleYapılacakİşlem for (anahtar,deger) in dictionaryAdı.items()}\n",
    "İstersek sadece value ifadelerinde işlem yapabiliriz\n",
    "\n",
    "İstersek key ve value ifadelerinde işlem yapabiliriz\n",
    "{anahtarİfadeİleYapılacakİşlem : degerİfadeİleYapılacakİşlem for (anahtar,deger) in dictionaryAdı.items()}"
   ]
  },
  {
   "cell_type": "raw",
   "id": "0dcc74d9",
   "metadata": {},
   "source": [
    "Dictionary yapısında key değerlere ulaşma"
   ]
  },
  {
   "cell_type": "code",
   "execution_count": 29,
   "id": "8ec1e3a9",
   "metadata": {},
   "outputs": [
    {
     "name": "stdout",
     "output_type": "stream",
     "text": [
      "dict_keys(['brand', 'model', 'year'])\n"
     ]
    }
   ],
   "source": [
    "car = { \n",
    "\n",
    "  \"brand\": \"Ford\", \n",
    "\n",
    "  \"model\": \"Mustang\", \n",
    "\n",
    "  \"year\": 1964 \n",
    "\n",
    "} \n",
    "\n",
    "x = car.keys() \n",
    "\n",
    "print(x) "
   ]
  },
  {
   "cell_type": "raw",
   "id": "0d3001ed",
   "metadata": {},
   "source": [
    "Dictionary yapısında value değerlere ulaşma"
   ]
  },
  {
   "cell_type": "code",
   "execution_count": 30,
   "id": "7607c6d3",
   "metadata": {},
   "outputs": [
    {
     "name": "stdout",
     "output_type": "stream",
     "text": [
      "dict_values(['Ford', 'Mustang', 1964])\n"
     ]
    }
   ],
   "source": [
    "car = { \n",
    "\n",
    "  \"brand\": \"Ford\", \n",
    "\n",
    "  \"model\": \"Mustang\", \n",
    "\n",
    "  \"year\": 1964 \n",
    "\n",
    "} \n",
    "\n",
    "x = car.values() \n",
    "\n",
    "print(x) "
   ]
  },
  {
   "cell_type": "raw",
   "id": "331286e5",
   "metadata": {},
   "source": [
    "Belirtilen key(anahtar) için value(değer) döndürür "
   ]
  },
  {
   "cell_type": "code",
   "execution_count": 31,
   "id": "6aad1463",
   "metadata": {},
   "outputs": [
    {
     "name": "stdout",
     "output_type": "stream",
     "text": [
      "Mustang\n"
     ]
    }
   ],
   "source": [
    "car = { \n",
    "\n",
    "  \"brand\": \"Ford\", \n",
    "\n",
    "  \"model\": \"Mustang\", \n",
    "\n",
    "  \"year\": 1964 \n",
    "\n",
    "} \n",
    "\n",
    "x = car.get(\"model\") \n",
    "\n",
    "print(x) "
   ]
  },
  {
   "cell_type": "raw",
   "id": "8038411e",
   "metadata": {},
   "source": [
    "Her key-value çifti için bir tanımlama grubu içeren liste döndürür"
   ]
  },
  {
   "cell_type": "code",
   "execution_count": 32,
   "id": "fbcc4859",
   "metadata": {},
   "outputs": [
    {
     "name": "stdout",
     "output_type": "stream",
     "text": [
      "dict_items([('brand', 'Ford'), ('model', 'Mustang'), ('year', 1964)])\n"
     ]
    }
   ],
   "source": [
    "car = { \n",
    "\n",
    "  \"brand\": \"Ford\", \n",
    "\n",
    "  \"model\": \"Mustang\", \n",
    "\n",
    "  \"year\": 1964 \n",
    "\n",
    "} \n",
    "\n",
    "x = car.items() \n",
    "\n",
    "print(x)"
   ]
  },
  {
   "cell_type": "raw",
   "id": "c2a45ea5",
   "metadata": {},
   "source": [
    "Belirtilen key ve value değerini kaldırır "
   ]
  },
  {
   "cell_type": "code",
   "execution_count": 33,
   "id": "0c1a5d06",
   "metadata": {},
   "outputs": [
    {
     "name": "stdout",
     "output_type": "stream",
     "text": [
      "{'brand': 'Ford', 'year': 1964}\n"
     ]
    }
   ],
   "source": [
    "car = { \n",
    "\n",
    "  \"brand\": \"Ford\", \n",
    "\n",
    "  \"model\": \"Mustang\", \n",
    "\n",
    "  \"year\": 1964 \n",
    "\n",
    "} \n",
    "\n",
    "car.pop(\"model\") \n",
    "\n",
    "print(car) "
   ]
  },
  {
   "cell_type": "raw",
   "id": "8ac0877b",
   "metadata": {},
   "source": [
    "Son eklenen key ve value değerini kaldırır. "
   ]
  },
  {
   "cell_type": "code",
   "execution_count": 34,
   "id": "39d49bd0",
   "metadata": {},
   "outputs": [
    {
     "name": "stdout",
     "output_type": "stream",
     "text": [
      "{'brand': 'Ford', 'model': 'Mustang'}\n"
     ]
    }
   ],
   "source": [
    "car = { \n",
    "\n",
    "  \"brand\": \"Ford\", \n",
    "\n",
    "  \"model\": \"Mustang\", \n",
    "\n",
    "  \"year\": 1964 \n",
    "\n",
    "} \n",
    "\n",
    "car.popitem() \n",
    "\n",
    "print(car) "
   ]
  },
  {
   "cell_type": "raw",
   "id": "d42d761b",
   "metadata": {},
   "source": [
    "Sözlüğü belirtilen key-value çifti ile günceller "
   ]
  },
  {
   "cell_type": "code",
   "execution_count": 35,
   "id": "c461621e",
   "metadata": {},
   "outputs": [
    {
     "name": "stdout",
     "output_type": "stream",
     "text": [
      "{'brand': 'Ford', 'model': 'Mustang', 'year': 1964, 'color': 'White'}\n"
     ]
    }
   ],
   "source": [
    "car = { \n",
    "\n",
    "  \"brand\": \"Ford\", \n",
    "\n",
    "  \"model\": \"Mustang\", \n",
    "\n",
    "  \"year\": 1964 \n",
    "\n",
    "} \n",
    "\n",
    "car.update({\"color\": \"White\"}) \n",
    "\n",
    "print(car) "
   ]
  },
  {
   "cell_type": "markdown",
   "id": "04c9eafc",
   "metadata": {},
   "source": [
    "# SET"
   ]
  },
  {
   "cell_type": "markdown",
   "id": "03b3ac46",
   "metadata": {},
   "source": [
    "#### Setler sıralanamaz yani ÖGELERİN HANGİ SIRAYLA GÖRÜNECEĞİNDEN EMİN DEĞİLİZ."
   ]
  },
  {
   "cell_type": "code",
   "execution_count": 36,
   "id": "7b5a949d",
   "metadata": {},
   "outputs": [
    {
     "name": "stdout",
     "output_type": "stream",
     "text": [
      "apple\n",
      "banana\n",
      "cherry\n"
     ]
    }
   ],
   "source": [
    "thisset = {\"apple\", \"banana\", \"cherry\"}\n",
    "\n",
    "for x in thisset:\n",
    "  print(x)"
   ]
  },
  {
   "cell_type": "markdown",
   "id": "17868675",
   "metadata": {},
   "source": [
    "#### Setler değiştirilemez ANCAK ÖGELERİ KALDIRABİLİR VE YENİ ÖGELER EKLEYEBİLİRİZ"
   ]
  },
  {
   "cell_type": "code",
   "execution_count": 37,
   "id": "64e5dd38",
   "metadata": {},
   "outputs": [
    {
     "name": "stdout",
     "output_type": "stream",
     "text": [
      "{'apple', 'banana', 'orange', 'cherry'}\n"
     ]
    }
   ],
   "source": [
    "thisset = {\"apple\", \"banana\", \"cherry\"}\n",
    "\n",
    "thisset.add(\"orange\")\n",
    "\n",
    "print(thisset)"
   ]
  },
  {
   "cell_type": "markdown",
   "id": "b0dee162",
   "metadata": {},
   "source": [
    "#### Setler AYNI DEĞERE SAHİP İKİ ÖGE BULUNDURMAZ"
   ]
  },
  {
   "cell_type": "code",
   "execution_count": 38,
   "id": "e96985e8",
   "metadata": {},
   "outputs": [
    {
     "name": "stdout",
     "output_type": "stream",
     "text": [
      "{'apple', 'banana', 'cherry'}\n"
     ]
    }
   ],
   "source": [
    "thisset = {\"apple\", \"banana\", \"cherry\", \"apple\"}\n",
    "\n",
    "print(thisset)"
   ]
  },
  {
   "cell_type": "markdown",
   "id": "476c6e00",
   "metadata": {},
   "source": [
    "### Kümeye bir eleman ekleme"
   ]
  },
  {
   "cell_type": "code",
   "execution_count": 39,
   "id": "2b3dcbdd",
   "metadata": {},
   "outputs": [
    {
     "name": "stdout",
     "output_type": "stream",
     "text": [
      "{'apple', 'banana', 'orange', 'cherry'}\n"
     ]
    }
   ],
   "source": [
    "thisset = {\"apple\", \"banana\", \"cherry\"}\n",
    "\n",
    "thisset.add(\"orange\")\n",
    "\n",
    "print(thisset)"
   ]
  },
  {
   "cell_type": "markdown",
   "id": "6fa4f1a5",
   "metadata": {},
   "source": [
    "### X kümesinde olan Y kümesinde olmayan elemanları bulma"
   ]
  },
  {
   "cell_type": "code",
   "execution_count": 40,
   "id": "c6a6a98f",
   "metadata": {},
   "outputs": [
    {
     "name": "stdout",
     "output_type": "stream",
     "text": [
      "{'banana', 'cherry'}\n"
     ]
    }
   ],
   "source": [
    "X = {\"apple\", \"banana\", \"cherry\"}\n",
    "Y = {\"google\", \"microsoft\", \"apple\"}\n",
    "\n",
    "z = X.difference(Y) \n",
    "\n",
    "print(z)\n"
   ]
  },
  {
   "cell_type": "markdown",
   "id": "90eb5ea7",
   "metadata": {},
   "source": [
    "### Her iki kümede de ortak bulunan elemanı istediğimiz kümeden kaldırma"
   ]
  },
  {
   "cell_type": "code",
   "execution_count": 41,
   "id": "d1468302",
   "metadata": {},
   "outputs": [
    {
     "name": "stdout",
     "output_type": "stream",
     "text": [
      "{'banana', 'cherry'}\n"
     ]
    }
   ],
   "source": [
    "x = {\"apple\", \"banana\", \"cherry\"}\n",
    "y = {\"google\", \"microsoft\", \"apple\"}\n",
    "\n",
    "x.difference_update(y) \n",
    "\n",
    "print(x)"
   ]
  },
  {
   "cell_type": "markdown",
   "id": "2bb109d2",
   "metadata": {},
   "source": [
    "### İki kümenin kesişim elemanlarını bulma"
   ]
  },
  {
   "cell_type": "code",
   "execution_count": 42,
   "id": "bd6bedf3",
   "metadata": {},
   "outputs": [
    {
     "name": "stdout",
     "output_type": "stream",
     "text": [
      "{'apple'}\n"
     ]
    }
   ],
   "source": [
    "x = {\"apple\", \"banana\", \"cherry\"}\n",
    "y = {\"google\", \"microsoft\", \"apple\"}\n",
    "\n",
    "z = x.intersection(y)\n",
    "\n",
    "print(z)"
   ]
  },
  {
   "cell_type": "markdown",
   "id": "e794b4e1",
   "metadata": {},
   "source": [
    "### İki kümenin birleşimini alır ama iki kümede ortak bulunan elemanları almaz"
   ]
  },
  {
   "cell_type": "code",
   "execution_count": 43,
   "id": "e61fc859",
   "metadata": {},
   "outputs": [
    {
     "name": "stdout",
     "output_type": "stream",
     "text": [
      "{'google', 'microsoft', 'banana', 'cherry'}\n"
     ]
    }
   ],
   "source": [
    "x = {\"apple\", \"banana\", \"cherry\"}\n",
    "y = {\"google\", \"microsoft\", \"apple\"}\n",
    "\n",
    "z = x.symmetric_difference(y) \n",
    "\n",
    "print(z)"
   ]
  },
  {
   "cell_type": "markdown",
   "id": "5da0a536",
   "metadata": {},
   "source": [
    "### İki kümenin birleşimini alır (iki kümede ortak bulunan elemanları almaz) ve istediğin kümeyi o elemanları aktarır"
   ]
  },
  {
   "cell_type": "code",
   "execution_count": 44,
   "id": "0d707eae",
   "metadata": {},
   "outputs": [
    {
     "name": "stdout",
     "output_type": "stream",
     "text": [
      "{'google', 'microsoft', 'banana', 'cherry'}\n"
     ]
    }
   ],
   "source": [
    "x = {\"apple\", \"banana\", \"cherry\"}\n",
    "y = {\"google\", \"microsoft\", \"apple\"}\n",
    "\n",
    "x.symmetric_difference_update(y) \n",
    "\n",
    "print(x)"
   ]
  },
  {
   "cell_type": "markdown",
   "id": "7d01fa4b",
   "metadata": {},
   "source": [
    "### İki kümenin birleşimini bulma"
   ]
  },
  {
   "cell_type": "code",
   "execution_count": 45,
   "id": "ec3854c3",
   "metadata": {},
   "outputs": [
    {
     "name": "stdout",
     "output_type": "stream",
     "text": [
      "{'banana', 'google', 'microsoft', 'cherry', 'apple'}\n"
     ]
    }
   ],
   "source": [
    "x = {\"apple\", \"banana\", \"cherry\"}\n",
    "y = {\"google\", \"microsoft\", \"apple\"}\n",
    "\n",
    "z = x.union(y) \n",
    "\n",
    "print(z)\n"
   ]
  },
  {
   "cell_type": "markdown",
   "id": "2ab35aa7",
   "metadata": {},
   "source": [
    "### Geçerli kümeye başka bir kümeden öğeler ekleme"
   ]
  },
  {
   "cell_type": "code",
   "execution_count": 46,
   "id": "354c1f14",
   "metadata": {},
   "outputs": [
    {
     "name": "stdout",
     "output_type": "stream",
     "text": [
      "{'banana', 'papaya', 'cherry', 'apple', 'pineapple', 'mango'}\n"
     ]
    }
   ],
   "source": [
    "thisset = {\"apple\", \"banana\", \"cherry\"}\n",
    "tropical = {\"pineapple\", \"mango\", \"papaya\"}\n",
    "\n",
    "thisset.update(tropical)\n",
    "\n",
    "print(thisset)\n"
   ]
  },
  {
   "cell_type": "markdown",
   "id": "a9ed3ef2",
   "metadata": {},
   "source": [
    "### Bir kümedeki bir öğeyi kaldırma"
   ]
  },
  {
   "cell_type": "code",
   "execution_count": 47,
   "id": "5f2eb02d",
   "metadata": {},
   "outputs": [
    {
     "name": "stdout",
     "output_type": "stream",
     "text": [
      "{'apple', 'cherry'}\n"
     ]
    }
   ],
   "source": [
    "thisset = {\"apple\", \"banana\", \"cherry\"}\n",
    "\n",
    "thisset.remove(\"banana\")\n",
    "\n",
    "print(thisset)"
   ]
  },
  {
   "cell_type": "markdown",
   "id": "dbe8c598",
   "metadata": {},
   "source": [
    "### Kümedeki elemanların hepsini silme"
   ]
  },
  {
   "cell_type": "code",
   "execution_count": 48,
   "id": "f6bbee37",
   "metadata": {},
   "outputs": [
    {
     "name": "stdout",
     "output_type": "stream",
     "text": [
      "set()\n"
     ]
    }
   ],
   "source": [
    "thisset = {\"apple\", \"banana\", \"cherry\"}\n",
    "\n",
    "thisset.clear()\n",
    "\n",
    "print(thisset)"
   ]
  },
  {
   "cell_type": "markdown",
   "id": "d75a5e1e",
   "metadata": {},
   "source": [
    "### Kümeyi tamamen silme"
   ]
  },
  {
   "cell_type": "code",
   "execution_count": 49,
   "id": "2384efce",
   "metadata": {},
   "outputs": [
    {
     "ename": "NameError",
     "evalue": "name 'thisset' is not defined",
     "output_type": "error",
     "traceback": [
      "\u001b[1;31m---------------------------------------------------------------------------\u001b[0m",
      "\u001b[1;31mNameError\u001b[0m                                 Traceback (most recent call last)",
      "\u001b[1;32mC:\\Users\\BRAHIM~1\\AppData\\Local\\Temp/ipykernel_19016/3077915618.py\u001b[0m in \u001b[0;36m<module>\u001b[1;34m\u001b[0m\n\u001b[0;32m      3\u001b[0m \u001b[1;32mdel\u001b[0m \u001b[0mthisset\u001b[0m\u001b[1;33m\u001b[0m\u001b[1;33m\u001b[0m\u001b[0m\n\u001b[0;32m      4\u001b[0m \u001b[1;33m\u001b[0m\u001b[0m\n\u001b[1;32m----> 5\u001b[1;33m \u001b[0mprint\u001b[0m\u001b[1;33m(\u001b[0m\u001b[0mthisset\u001b[0m\u001b[1;33m)\u001b[0m\u001b[1;33m\u001b[0m\u001b[1;33m\u001b[0m\u001b[0m\n\u001b[0m",
      "\u001b[1;31mNameError\u001b[0m: name 'thisset' is not defined"
     ]
    }
   ],
   "source": [
    "thisset = {\"apple\", \"banana\", \"cherry\"}\n",
    "\n",
    "del thisset\n",
    "\n",
    "print(thisset)"
   ]
  },
  {
   "cell_type": "markdown",
   "id": "f5404ec0",
   "metadata": {},
   "source": [
    "# TUPLE"
   ]
  },
  {
   "cell_type": "markdown",
   "id": "fe2c15e9",
   "metadata": {},
   "source": [
    "#### Yalnızca bir öğe içeren bir demet oluşturmak için, öğeden sonra virgül eklemeniz gerekir, aksi takdirde Python onu bir Tuple olarak tanımaz."
   ]
  },
  {
   "cell_type": "code",
   "execution_count": 50,
   "id": "5659d588",
   "metadata": {},
   "outputs": [
    {
     "name": "stdout",
     "output_type": "stream",
     "text": [
      "<class 'tuple'>\n",
      "<class 'str'>\n"
     ]
    }
   ],
   "source": [
    "thistuple = (\"apple\",)\n",
    "print(type(thistuple))\n",
    "\n",
    "thistuple = (\"apple\")\n",
    "print(type(thistuple))\n"
   ]
  },
  {
   "cell_type": "markdown",
   "id": "bf4ad6f9",
   "metadata": {},
   "source": [
    "### Tuple ögeleri SIRALIDIR YANİ ÖĞELERİN BELİRLİ BİR SIRAYA SAHİP OLDUĞU VE BU SIRANIN DEĞİŞMEYECEĞİ ANLAMINA GELİR."
   ]
  },
  {
   "cell_type": "code",
   "execution_count": 51,
   "id": "2f06830f",
   "metadata": {},
   "outputs": [
    {
     "name": "stdout",
     "output_type": "stream",
     "text": [
      "banana\n"
     ]
    }
   ],
   "source": [
    "thistuple = (\"apple\", \"banana\", \"cherry\")\n",
    "print(thistuple[1])"
   ]
  },
  {
   "cell_type": "markdown",
   "id": "26e13d4c",
   "metadata": {},
   "source": [
    "### Tuple ÖĞELERİ DEĞİŞTİRİLEMEZ, YANİ TUPLE OLUŞTURULDUKTAN SONRA ÖGELERİ DEĞİŞTİRİMEZ, EKLEYEMEZ VEYA ÇIKARAMAYIZ. Ama bir geçici çözüm var. Tuple'ı bir listeye dönüştürebilir, listeyi değiştirebilir ve listeyi tekrar bir Tuple'a dönüştürebilirsiniz."
   ]
  },
  {
   "cell_type": "code",
   "execution_count": 52,
   "id": "3c9c9a43",
   "metadata": {},
   "outputs": [
    {
     "name": "stdout",
     "output_type": "stream",
     "text": [
      "('apple', 'kiwi', 'cherry')\n"
     ]
    }
   ],
   "source": [
    "x = (\"apple\", \"banana\", \"cherry\")\n",
    "y = list(x)\n",
    "y[1] = \"kiwi\"\n",
    "x = tuple(y)\n",
    "\n",
    "print(x)\n"
   ]
  },
  {
   "cell_type": "markdown",
   "id": "fb2a1403",
   "metadata": {},
   "source": [
    "# ! ! ! ! ! ! ! ! ! ! ! ! ! ! ! ! ! ! ! ! ! ! ! ! ! ! ! ! ! ! ! ! ! ! ! ! ! ! ! ! ! ! ! ! ! ! ! ! ! ! ! ! ! ! ! ! ! ! ! ! ! "
   ]
  },
  {
   "cell_type": "code",
   "execution_count": 53,
   "id": "cbb58445",
   "metadata": {},
   "outputs": [
    {
     "name": "stdout",
     "output_type": "stream",
     "text": [
      "{'a'} \t YES\n",
      "-\tNO\n",
      "{'e', 'f'} \t YES\n"
     ]
    }
   ],
   "source": [
    "first_list = [\"ab\" , \"cd\" , \"ef\"]\n",
    "second_list = [\"af\" , \"ee\" , \"ef\"]\n",
    "\n",
    "for i in range(len(first_list)):\n",
    "    \n",
    "    if(set(first_list[i]).intersection(second_list[i])):\n",
    "        \n",
    "        ortak = set(first_list[i]).intersection(second_list[i])\n",
    "        \n",
    "        str(ortak)\n",
    "        \n",
    "        print(\"%s \\t YES\" %ortak)\n",
    "    \n",
    "    else:\n",
    "        \n",
    "        print(\"-\" + \"\\t\" \"NO\")\n"
   ]
  },
  {
   "cell_type": "markdown",
   "id": "e1030ab9",
   "metadata": {},
   "source": [
    "# ! ! ! ! ! ! ! ! ! ! ! ! ! ! ! ! ! ! ! ! ! ! ! ! ! ! ! ! ! ! ! ! ! ! ! ! ! ! ! ! ! ! ! ! ! ! ! ! ! ! ! ! ! ! ! ! ! ! ! ! !"
   ]
  },
  {
   "cell_type": "markdown",
   "id": "077889c8",
   "metadata": {},
   "source": [
    "# FUNCTİONS"
   ]
  },
  {
   "cell_type": "markdown",
   "id": "24156417",
   "metadata": {},
   "source": [
    "### Class üzerinden çağırılıyorsa METHOD, class ile ilişkilendirilmemiş olan yapıya FONKSİYON denir."
   ]
  },
  {
   "cell_type": "markdown",
   "id": "38366dca",
   "metadata": {},
   "source": [
    "#### Tek değişkenli fonksiyon tanımlama"
   ]
  },
  {
   "cell_type": "raw",
   "id": "a7983b09",
   "metadata": {},
   "source": [
    "def funcName(funcArg):\n",
    "    yapılacakİşlemler\n",
    "funcName(yapılacakİşlemTüründeDeğişken)    #fonksiyonun çağırılması     "
   ]
  },
  {
   "cell_type": "code",
   "execution_count": 54,
   "id": "805cd249",
   "metadata": {},
   "outputs": [
    {
     "name": "stdout",
     "output_type": "stream",
     "text": [
      "10\n"
     ]
    }
   ],
   "source": [
    "def fonksiyon(x):\n",
    "    print(x*2)\n",
    "\n",
    "fonksiyon(5)"
   ]
  },
  {
   "cell_type": "markdown",
   "id": "d42ca127",
   "metadata": {},
   "source": [
    "#### İki değişkenli fonksiyon tanımlama"
   ]
  },
  {
   "cell_type": "code",
   "execution_count": 55,
   "id": "f12fb0ae",
   "metadata": {},
   "outputs": [
    {
     "name": "stdout",
     "output_type": "stream",
     "text": [
      "0.5\n",
      "0.7142857142857143\n",
      "1.2222222222222223\n"
     ]
    }
   ],
   "source": [
    "def fonksiyonBöl(arg_1,arg_2):\n",
    "    print(arg_1/arg_2)\n",
    "\n",
    "fonksiyonBöl(arg_2=10,arg_1=5)     #burada sıra önemli değil\n",
    "fonksiyonBöl(25,35)                #sıra önemli\n",
    "fonksiyonBöl(55,45)                #sıra önemli"
   ]
  },
  {
   "cell_type": "markdown",
   "id": "502dd597",
   "metadata": {},
   "source": [
    "#### Fonksiyondan değer döndürme"
   ]
  },
  {
   "cell_type": "code",
   "execution_count": 56,
   "id": "222f1224",
   "metadata": {},
   "outputs": [
    {
     "name": "stdout",
     "output_type": "stream",
     "text": [
      "3.0\n"
     ]
    }
   ],
   "source": [
    "def fonksiyonBöl(arg_1,arg_2):\n",
    "    return arg_1/arg_2\n",
    "a = fonksiyonBöl(15,5)\n",
    "print(a)"
   ]
  },
  {
   "cell_type": "markdown",
   "id": "442e328e",
   "metadata": {},
   "source": [
    "### Default parametre tanımlama "
   ]
  },
  {
   "cell_type": "code",
   "execution_count": 57,
   "id": "4f727f4f",
   "metadata": {},
   "outputs": [
    {
     "name": "stdout",
     "output_type": "stream",
     "text": [
      "İbrahim! Have a nice day!\n"
     ]
    }
   ],
   "source": [
    "def selamlama(isim,mesaj):\n",
    "    print(\"{0} {1}\" .format(isim,mesaj))\n",
    "selamlama(\"İbrahim!\",\"Have a nice day!\")"
   ]
  },
  {
   "cell_type": "code",
   "execution_count": 58,
   "id": "0b8e3a41",
   "metadata": {},
   "outputs": [
    {
     "name": "stdout",
     "output_type": "stream",
     "text": [
      "İYİ GÜNLER İBRAHİM\n"
     ]
    }
   ],
   "source": [
    "def selamlama(isim , mesaj = \"İYİ GÜNLER\"):\n",
    "    print(\"{1} {0}\" .format(isim,mesaj))\n",
    "selamlama(\"İBRAHİM\",) "
   ]
  },
  {
   "cell_type": "code",
   "execution_count": 59,
   "id": "fc88f7f3",
   "metadata": {},
   "outputs": [
    {
     "name": "stdout",
     "output_type": "stream",
     "text": [
      "Merhaba İbrahim\n"
     ]
    }
   ],
   "source": [
    "def selamlama(isim = \"İbrahim\" , mesaj = \"Merhaba\"):\n",
    "    print(\"{1} {0}\" .format(isim,mesaj))\n",
    "selamlama(\"İbrahim\",) "
   ]
  },
  {
   "cell_type": "code",
   "execution_count": 60,
   "id": "bdc97e79",
   "metadata": {},
   "outputs": [
    {
     "name": "stdout",
     "output_type": "stream",
     "text": [
      "İyi Günler Kullanıcı\n"
     ]
    }
   ],
   "source": [
    "def selamlama(isim = \"Kullanıcı\" , mesaj = \"İyi Günler\"):\n",
    "    print(\"{1} {0}\" .format(isim,mesaj))\n",
    "selamlama() "
   ]
  },
  {
   "cell_type": "markdown",
   "id": "edf8298e",
   "metadata": {},
   "source": [
    "### Değişken sayıda parametreyi TUPLE üzerinden gönderme"
   ]
  },
  {
   "cell_type": "code",
   "execution_count": 61,
   "id": "ed1b684f",
   "metadata": {},
   "outputs": [
    {
     "name": "stdout",
     "output_type": "stream",
     "text": [
      "<class 'tuple'>\n",
      "334\n"
     ]
    }
   ],
   "source": [
    "def toplam(*args):\n",
    "    topla = 0\n",
    "    for i in args:\n",
    "        topla += i\n",
    "    print(type(args))\n",
    "    return topla\n",
    "print(toplam(5,15,12,23,234,45))"
   ]
  },
  {
   "cell_type": "markdown",
   "id": "3475729e",
   "metadata": {},
   "source": [
    "# enumerate() Fonksiyonu"
   ]
  },
  {
   "cell_type": "raw",
   "id": "29813636",
   "metadata": {},
   "source": [
    "enumerate() Fonksiyonu, genellikle for döngü ile kullanılır. Herhangi bir (string, demet, liste veya küme) veri yapısındaki sıralı elemanların hem eleman değerini hem de indis numaralarını (varsayılan değeri:0) öğrenmek için kullanılan bir fonksiyondur."
   ]
  },
  {
   "cell_type": "code",
   "execution_count": 62,
   "id": "cfe0a363",
   "metadata": {},
   "outputs": [
    {
     "data": {
      "text/plain": [
       "[(1, 'p'), (2, 'y'), (3, 't'), (4, 'h'), (5, 'o'), (6, 'n')]"
      ]
     },
     "execution_count": 62,
     "metadata": {},
     "output_type": "execute_result"
    }
   ],
   "source": [
    "list(enumerate(\"python\",start = 1))"
   ]
  },
  {
   "cell_type": "code",
   "execution_count": 63,
   "id": "58a1ca1a",
   "metadata": {},
   "outputs": [
    {
     "name": "stdout",
     "output_type": "stream",
     "text": [
      "1\tPazartesi\n",
      "2\tSalı\n",
      "3\tÇarşamba\n",
      "4\tPerşembe\n",
      "5\tCuma\n",
      "6\tCumartesi\n",
      "7\tPazar\n"
     ]
    }
   ],
   "source": [
    "days = [\"Pazartesi\" , \n",
    "        \"Salı\",\n",
    "        \"Çarşamba\",\n",
    "        \"Perşembe\",\n",
    "        \"Cuma\",\n",
    "        \"Cumartesi\",\n",
    "        \"Pazar\"]\n",
    "for indeks , day in enumerate(days , start = 1):\n",
    "    print(str(indeks) + \"\\t\" + day)"
   ]
  },
  {
   "cell_type": "code",
   "execution_count": 64,
   "id": "42164ed0",
   "metadata": {},
   "outputs": [
    {
     "name": "stdout",
     "output_type": "stream",
     "text": [
      "(0, 'Pazartesi')\n",
      "(1, 'Salı')\n",
      "(2, 'Çarşamba')\n",
      "(3, 'Perşembe')\n",
      "(4, 'Cuma')\n",
      "(5, 'Cumartesi')\n",
      "(6, 'Pazar')\n"
     ]
    }
   ],
   "source": [
    "days = [\"Pazartesi\" , \n",
    "        \"Salı\",\n",
    "        \"Çarşamba\",\n",
    "        \"Perşembe\",\n",
    "        \"Cuma\",\n",
    "        \"Cumartesi\",\n",
    "        \"Pazar\"]\n",
    "for day in enumerate(days):\n",
    "    print(day)"
   ]
  }
 ],
 "metadata": {
  "kernelspec": {
   "display_name": "Python 3 (ipykernel)",
   "language": "python",
   "name": "python3"
  },
  "language_info": {
   "codemirror_mode": {
    "name": "ipython",
    "version": 3
   },
   "file_extension": ".py",
   "mimetype": "text/x-python",
   "name": "python",
   "nbconvert_exporter": "python",
   "pygments_lexer": "ipython3",
   "version": "3.9.7"
  }
 },
 "nbformat": 4,
 "nbformat_minor": 5
}
