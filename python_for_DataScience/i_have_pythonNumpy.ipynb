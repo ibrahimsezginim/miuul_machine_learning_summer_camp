{
 "cells": [
  {
   "cell_type": "code",
   "execution_count": 1,
   "id": "88b52d0e",
   "metadata": {},
   "outputs": [],
   "source": [
    "import numpy as np"
   ]
  },
  {
   "cell_type": "markdown",
   "id": "0d8fb2f7",
   "metadata": {},
   "source": [
    "# Bir listeyi NumPy listesine dönüştürme "
   ]
  },
  {
   "cell_type": "raw",
   "id": "1293d395",
   "metadata": {},
   "source": [
    "np.array(listeAdı veya [listeElemanları])"
   ]
  },
  {
   "cell_type": "markdown",
   "id": "a0c7debe",
   "metadata": {},
   "source": [
    "# 1D array creation functions"
   ]
  },
  {
   "cell_type": "markdown",
   "id": "65f369e2",
   "metadata": {},
   "source": [
    "### np.arange(n) = 0 - n arası sayılardan oluşan dizi oluşturur."
   ]
  },
  {
   "cell_type": "code",
   "execution_count": 2,
   "id": "00aee2fa",
   "metadata": {},
   "outputs": [
    {
     "data": {
      "text/plain": [
       "array([0, 1, 2, 3, 4, 5, 6, 7, 8, 9])"
      ]
     },
     "execution_count": 2,
     "metadata": {},
     "output_type": "execute_result"
    }
   ],
   "source": [
    "np.arange(10)"
   ]
  },
  {
   "cell_type": "markdown",
   "id": "5b4a0648",
   "metadata": {},
   "source": [
    "### np.arange(x,y,n) = x - y aralığında ve artım miktarı n kadar olan bir dizi oluşturur."
   ]
  },
  {
   "cell_type": "code",
   "execution_count": 3,
   "id": "19cd87d3",
   "metadata": {},
   "outputs": [
    {
     "data": {
      "text/plain": [
       "array([2. , 2.1, 2.2, 2.3, 2.4, 2.5, 2.6, 2.7, 2.8, 2.9])"
      ]
     },
     "execution_count": 3,
     "metadata": {},
     "output_type": "execute_result"
    }
   ],
   "source": [
    "np.arange(2, 3, 0.1)"
   ]
  },
  {
   "cell_type": "markdown",
   "id": "78d804ec",
   "metadata": {},
   "source": [
    "### numpy.linspace(x,y,n) = x - y aralığında ve n adet eşit aralıklı kesirli sayılardan oluşan bir dizi oluşturur."
   ]
  },
  {
   "cell_type": "code",
   "execution_count": 4,
   "id": "d0a691ad",
   "metadata": {},
   "outputs": [
    {
     "data": {
      "text/plain": [
       "array([1.  , 1.75, 2.5 , 3.25, 4.  ])"
      ]
     },
     "execution_count": 4,
     "metadata": {},
     "output_type": "execute_result"
    }
   ],
   "source": [
    "np.linspace(1., 4., 5)"
   ]
  },
  {
   "cell_type": "markdown",
   "id": "82615cb1",
   "metadata": {},
   "source": [
    "### np.random.randint(x,y,n) = x - y aralığında rastgele tam sayılardan oluşan n elemanlı bir dizi oluşturur."
   ]
  },
  {
   "cell_type": "code",
   "execution_count": 5,
   "id": "7c51d0d0",
   "metadata": {},
   "outputs": [
    {
     "data": {
      "text/plain": [
       "array([25,  5,  5, 84, 84, 30, 28, 59, 89,  5])"
      ]
     },
     "execution_count": 5,
     "metadata": {},
     "output_type": "execute_result"
    }
   ],
   "source": [
    "np.random.randint(1,100,10)"
   ]
  },
  {
   "cell_type": "markdown",
   "id": "f8c34a24",
   "metadata": {},
   "source": [
    "### np.random.random(n) = 0 - 1 arasında rastgele kesirli sayılardan oluşan n elemanlı bir dizi oluşturur."
   ]
  },
  {
   "cell_type": "code",
   "execution_count": 6,
   "id": "f2b7f7b1",
   "metadata": {},
   "outputs": [
    {
     "data": {
      "text/plain": [
       "array([0.8626179 , 0.575262  , 0.41468435, 0.2594566 , 0.68622507])"
      ]
     },
     "execution_count": 6,
     "metadata": {},
     "output_type": "execute_result"
    }
   ],
   "source": [
    "np.random.random(5)"
   ]
  },
  {
   "cell_type": "markdown",
   "id": "71b1003f",
   "metadata": {},
   "source": [
    "# 2D array creation functions"
   ]
  },
  {
   "cell_type": "markdown",
   "id": "460b5b24",
   "metadata": {},
   "source": [
    "### np.array([],[]) = İç içe listeleri NumPy matrisine dönüştürür."
   ]
  },
  {
   "cell_type": "code",
   "execution_count": 7,
   "id": "149b01f3",
   "metadata": {},
   "outputs": [
    {
     "data": {
      "text/plain": [
       "array([[2, 3, 4],\n",
       "       [5, 6, 7]])"
      ]
     },
     "execution_count": 7,
     "metadata": {},
     "output_type": "execute_result"
    }
   ],
   "source": [
    "np.array([[2,3,4],[5,6,7]])"
   ]
  },
  {
   "cell_type": "markdown",
   "id": "23df50d4",
   "metadata": {},
   "source": [
    "### np.eye(n,dtype = int) = n elemanlı birim matris oluşturur. dtype= kullanımı zorunlu değildir."
   ]
  },
  {
   "cell_type": "code",
   "execution_count": 8,
   "id": "cfba637d",
   "metadata": {},
   "outputs": [
    {
     "data": {
      "text/plain": [
       "array([[1, 0, 0, 0, 0, 0, 0],\n",
       "       [0, 1, 0, 0, 0, 0, 0],\n",
       "       [0, 0, 1, 0, 0, 0, 0],\n",
       "       [0, 0, 0, 1, 0, 0, 0],\n",
       "       [0, 0, 0, 0, 1, 0, 0],\n",
       "       [0, 0, 0, 0, 0, 1, 0],\n",
       "       [0, 0, 0, 0, 0, 0, 1]])"
      ]
     },
     "execution_count": 8,
     "metadata": {},
     "output_type": "execute_result"
    }
   ],
   "source": [
    "np.eye(7, dtype=int)"
   ]
  },
  {
   "cell_type": "code",
   "execution_count": 9,
   "id": "d2bbef5f",
   "metadata": {},
   "outputs": [
    {
     "data": {
      "text/plain": [
       "array([[1., 0., 0., 0., 0., 0., 0.],\n",
       "       [0., 1., 0., 0., 0., 0., 0.],\n",
       "       [0., 0., 1., 0., 0., 0., 0.],\n",
       "       [0., 0., 0., 1., 0., 0., 0.],\n",
       "       [0., 0., 0., 0., 1., 0., 0.],\n",
       "       [0., 0., 0., 0., 0., 1., 0.],\n",
       "       [0., 0., 0., 0., 0., 0., 1.]])"
      ]
     },
     "execution_count": 9,
     "metadata": {},
     "output_type": "execute_result"
    }
   ],
   "source": [
    "np.eye(7)"
   ]
  },
  {
   "cell_type": "markdown",
   "id": "f360d9a7",
   "metadata": {},
   "source": [
    "### np.eye(x, y) = x satır y sütun kadar birim matris oluşturur."
   ]
  },
  {
   "cell_type": "code",
   "execution_count": 10,
   "id": "5aaafc16",
   "metadata": {},
   "outputs": [
    {
     "data": {
      "text/plain": [
       "array([[1., 0., 0., 0.],\n",
       "       [0., 1., 0., 0.]])"
      ]
     },
     "execution_count": 10,
     "metadata": {},
     "output_type": "execute_result"
    }
   ],
   "source": [
    "np.eye(2,4)"
   ]
  },
  {
   "cell_type": "markdown",
   "id": "dfbd4d34",
   "metadata": {},
   "source": [
    "### np.zeros((x,y),dtype = int) = x satır y sütun 0'dan oluşan bir dizi oluşturur"
   ]
  },
  {
   "cell_type": "code",
   "execution_count": 11,
   "id": "6d881481",
   "metadata": {},
   "outputs": [
    {
     "data": {
      "text/plain": [
       "array([[0., 0., 0., 0., 0., 0.],\n",
       "       [0., 0., 0., 0., 0., 0.],\n",
       "       [0., 0., 0., 0., 0., 0.]])"
      ]
     },
     "execution_count": 11,
     "metadata": {},
     "output_type": "execute_result"
    }
   ],
   "source": [
    "np.zeros((3,6))"
   ]
  },
  {
   "cell_type": "markdown",
   "id": "07f6fba2",
   "metadata": {},
   "source": [
    "### np.ones((x,y),dtype = int) = x satır y sütun 1'den oluşan bir dizi oluşturur"
   ]
  },
  {
   "cell_type": "code",
   "execution_count": 12,
   "id": "18cfdd5f",
   "metadata": {},
   "outputs": [
    {
     "data": {
      "text/plain": [
       "array([[1, 1, 1, 1, 1, 1],\n",
       "       [1, 1, 1, 1, 1, 1],\n",
       "       [1, 1, 1, 1, 1, 1]])"
      ]
     },
     "execution_count": 12,
     "metadata": {},
     "output_type": "execute_result"
    }
   ],
   "source": [
    "np.ones((3,6),dtype = int)"
   ]
  },
  {
   "cell_type": "markdown",
   "id": "1f499f0f",
   "metadata": {},
   "source": [
    "### np.random.randint(x,y, [n,m]) = x - y aralığında rastgele tam sayılardan oluşan n satır m sütunlu matris oluşturur."
   ]
  },
  {
   "cell_type": "code",
   "execution_count": 13,
   "id": "27145173",
   "metadata": {},
   "outputs": [
    {
     "data": {
      "text/plain": [
       "array([[87, 41, 60, 84, 32,  1],\n",
       "       [67, 75, 68, 59, 46, 90],\n",
       "       [13,  4, 97, 16, 51, 71]])"
      ]
     },
     "execution_count": 13,
     "metadata": {},
     "output_type": "execute_result"
    }
   ],
   "source": [
    "np.random.randint(1,100,[3,6])"
   ]
  },
  {
   "cell_type": "markdown",
   "id": "d05b5a3f",
   "metadata": {},
   "source": [
    "### np.random.random((x , y)) = 0 - 1 aralığında x satır , y sütunlu kesirli sayılardan oluşan bir matris oluşturur."
   ]
  },
  {
   "cell_type": "code",
   "execution_count": 14,
   "id": "e1facee7",
   "metadata": {},
   "outputs": [
    {
     "data": {
      "text/plain": [
       "array([[0.90401884, 0.32757603, 0.69520135, 0.33346594, 0.28244199,\n",
       "        0.92951071],\n",
       "       [0.06632356, 0.61043464, 0.65989917, 0.88743317, 0.9123103 ,\n",
       "        0.34391723],\n",
       "       [0.38511563, 0.91450599, 0.57938681, 0.95810903, 0.94948396,\n",
       "        0.20996318]])"
      ]
     },
     "execution_count": 14,
     "metadata": {},
     "output_type": "execute_result"
    }
   ],
   "source": [
    "np.random.random((3,6))"
   ]
  },
  {
   "cell_type": "markdown",
   "id": "03a49300",
   "metadata": {},
   "source": [
    "### np.random.randn(x , y) = x satır y sütunlu rastgele kesirli sayılardan oluşan bir matris oluşturur. "
   ]
  },
  {
   "cell_type": "code",
   "execution_count": 15,
   "id": "3515129b",
   "metadata": {},
   "outputs": [
    {
     "data": {
      "text/plain": [
       "array([[ 0.20674051, -0.02773385, -0.80644011, -0.11060281,  0.02945042,\n",
       "        -0.05298546],\n",
       "       [ 1.9573186 , -0.7554828 , -1.68029842,  1.09291235,  2.07797093,\n",
       "         0.26403844],\n",
       "       [ 0.78450979, -1.56157993,  0.51416066, -0.40427122, -0.71252356,\n",
       "        -0.49239529]])"
      ]
     },
     "execution_count": 15,
     "metadata": {},
     "output_type": "execute_result"
    }
   ],
   "source": [
    "np.random.randn(3 , 6)"
   ]
  },
  {
   "cell_type": "markdown",
   "id": "6310ad6b",
   "metadata": {},
   "source": [
    "# NumPy Veri Tipi"
   ]
  },
  {
   "cell_type": "code",
   "execution_count": 16,
   "id": "ecddb16a",
   "metadata": {},
   "outputs": [],
   "source": [
    "a = np.arange(5)"
   ]
  },
  {
   "cell_type": "markdown",
   "id": "dd7371b9",
   "metadata": {},
   "source": [
    "### Dizinin type bilgisini döndürme"
   ]
  },
  {
   "cell_type": "code",
   "execution_count": 17,
   "id": "1aae39a6",
   "metadata": {},
   "outputs": [
    {
     "data": {
      "text/plain": [
       "dtype('int32')"
      ]
     },
     "execution_count": 17,
     "metadata": {},
     "output_type": "execute_result"
    }
   ],
   "source": [
    "a.dtype"
   ]
  },
  {
   "cell_type": "markdown",
   "id": "977456ea",
   "metadata": {},
   "source": [
    "### Dizinin boyutsal şeklini döndürme"
   ]
  },
  {
   "cell_type": "code",
   "execution_count": 18,
   "id": "58d5537f",
   "metadata": {},
   "outputs": [
    {
     "data": {
      "text/plain": [
       "(5,)"
      ]
     },
     "execution_count": 18,
     "metadata": {},
     "output_type": "execute_result"
    }
   ],
   "source": [
    "a.shape"
   ]
  },
  {
   "cell_type": "markdown",
   "id": "8145a38b",
   "metadata": {},
   "source": [
    "### Dizinin eleman sayısını gösterme"
   ]
  },
  {
   "cell_type": "code",
   "execution_count": 19,
   "id": "f34f6ecf",
   "metadata": {},
   "outputs": [
    {
     "data": {
      "text/plain": [
       "5"
      ]
     },
     "execution_count": 19,
     "metadata": {},
     "output_type": "execute_result"
    }
   ],
   "source": [
    "a.size"
   ]
  },
  {
   "cell_type": "markdown",
   "id": "4f080a1d",
   "metadata": {},
   "source": [
    "# 3 BOYUTLU BİR DİZİ TANIMLAYIP ÖNCE 2 BOYUTA DAHA SONRA 1 BOYUTA DÖNDÜREN PROGRAM"
   ]
  },
  {
   "cell_type": "code",
   "execution_count": 20,
   "id": "ca6bb609",
   "metadata": {},
   "outputs": [
    {
     "name": "stdout",
     "output_type": "stream",
     "text": [
      "Dizinin boyutu: 3\n",
      "Dizinin boyutsal şekli: (3, 3, 3)\n"
     ]
    }
   ],
   "source": [
    "boyut_3 = np.array([\n",
    "    [[0,1,2],[3,4,5],[6,7,8]],\n",
    "    [[9,10,11],[12,13,14],[15,16,17]],\n",
    "    [[18,19,20],[21,22,23],[24,25,26]]\n",
    "])\n",
    "print(\"Dizinin boyutu: {0}\" .format(boyut_3.ndim))\n",
    "print(\"Dizinin boyutsal şekli: {0}\" .format(boyut_3.shape))"
   ]
  },
  {
   "cell_type": "code",
   "execution_count": 21,
   "id": "dc112d0b",
   "metadata": {},
   "outputs": [
    {
     "name": "stdout",
     "output_type": "stream",
     "text": [
      "[[ 0  1  2  3  4  5  6  7  8]\n",
      " [ 9 10 11 12 13 14 15 16 17]\n",
      " [18 19 20 21 22 23 24 25 26]]\n",
      "Dizinin boyutu: 2\n",
      "Dizinin boyutsal şekli: (3, 9)\n"
     ]
    }
   ],
   "source": [
    "boyut_2 = boyut_3.reshape((3,9))\n",
    "print(boyut_2)\n",
    "print(\"Dizinin boyutu: {0}\" .format(boyut_2.ndim))\n",
    "print(\"Dizinin boyutsal şekli: {0}\" .format(boyut_2.shape))"
   ]
  },
  {
   "cell_type": "code",
   "execution_count": 22,
   "id": "efe7257a",
   "metadata": {},
   "outputs": [
    {
     "name": "stdout",
     "output_type": "stream",
     "text": [
      "[ 0  1  2  3  4  5  6  7  8  9 10 11 12 13 14 15 16 17 18 19 20 21 22 23\n",
      " 24 25 26]\n",
      "Dizinin boyutu: 1\n",
      "Dizinin boyutsal şekli: (27,)\n"
     ]
    }
   ],
   "source": [
    "boyut_1 = boyut_2.reshape(27)\n",
    "print(boyut_1)\n",
    "print(\"Dizinin boyutu: {0}\" .format(boyut_1.ndim))\n",
    "print(\"Dizinin boyutsal şekli: {0}\" .format(boyut_1.shape))"
   ]
  },
  {
   "cell_type": "markdown",
   "id": "b2190a90",
   "metadata": {},
   "source": [
    "# Array Birleştirme"
   ]
  },
  {
   "cell_type": "code",
   "execution_count": 23,
   "id": "adfec8c5",
   "metadata": {},
   "outputs": [
    {
     "name": "stdout",
     "output_type": "stream",
     "text": [
      "[55 39 30 31 14 87 23  7 60 35] [28 64 46 72 70 57 27 17  9  2]\n"
     ]
    }
   ],
   "source": [
    "x = np.random.randint(1,100,10)\n",
    "y = np.random.randint(1,100,10)\n",
    "print(x,y)"
   ]
  },
  {
   "cell_type": "code",
   "execution_count": 24,
   "id": "8931f103",
   "metadata": {},
   "outputs": [
    {
     "name": "stdout",
     "output_type": "stream",
     "text": [
      "[55 39 30 31 14 87 23  7 60 35 28 64 46 72 70 57 27 17  9  2]\n"
     ]
    }
   ],
   "source": [
    "z = np.concatenate([x,y])\n",
    "print(z)"
   ]
  },
  {
   "cell_type": "code",
   "execution_count": 25,
   "id": "e9793d55",
   "metadata": {},
   "outputs": [
    {
     "name": "stdout",
     "output_type": "stream",
     "text": [
      "[55 39 30 31 14 87 23  7 60 35 28 64 46 72 70 57 27 17  9  2]\n"
     ]
    }
   ],
   "source": [
    "z = np.concatenate([x,y])\n",
    "print(z)"
   ]
  },
  {
   "cell_type": "code",
   "execution_count": 26,
   "id": "db659cea",
   "metadata": {},
   "outputs": [
    {
     "name": "stdout",
     "output_type": "stream",
     "text": [
      "[[80 54 35 35 85  5]\n",
      " [55 97 35 29 25 21]\n",
      " [98 44 52 30 21 58]]\n",
      "[[35 14 63 18 56 18]\n",
      " [10 92 40  8 96 84]\n",
      " [68 90 29 68 23 30]]\n",
      "[[80 54 35 35 85  5]\n",
      " [55 97 35 29 25 21]\n",
      " [98 44 52 30 21 58]\n",
      " [35 14 63 18 56 18]\n",
      " [10 92 40  8 96 84]\n",
      " [68 90 29 68 23 30]]\n"
     ]
    }
   ],
   "source": [
    "x = np.random.randint(1,100,[3,6])\n",
    "y = np.random.randint(1,100,[3,6])\n",
    "z = np.concatenate([x,y])\n",
    "print(\"{0}\\n{1}\\n{2}\".format(x,y,z))"
   ]
  },
  {
   "cell_type": "code",
   "execution_count": 27,
   "id": "821d8f14",
   "metadata": {},
   "outputs": [
    {
     "name": "stdout",
     "output_type": "stream",
     "text": [
      "[[26  6 20 46 90 29]\n",
      " [36 53 45 79 89 40]\n",
      " [71 54 90 70 50 72]]\n",
      "[[73 13 82 56 83 61]\n",
      " [87 37 24 86 49 61]\n",
      " [72 58 16 13 11 78]]\n",
      "[[26  6 20 46 90 29 73 13 82 56 83 61]\n",
      " [36 53 45 79 89 40 87 37 24 86 49 61]\n",
      " [71 54 90 70 50 72 72 58 16 13 11 78]]\n"
     ]
    }
   ],
   "source": [
    "x = np.random.randint(1,100,[3,6])\n",
    "y = np.random.randint(1,100,[3,6])\n",
    "z = np.concatenate([x,y], axis=1)\n",
    "print(\"{0}\\n{1}\\n{2}\".format(x,y,z))"
   ]
  },
  {
   "cell_type": "markdown",
   "id": "3922eecc",
   "metadata": {},
   "source": [
    "# Array Ayırma"
   ]
  },
  {
   "cell_type": "raw",
   "id": "4d93cabb",
   "metadata": {},
   "source": [
    "Tek boyutlu NumPy arrayleri için: np.split(numpyArrayAdı, [hangiDeğereKadar,hangiDeğereKadar,hangiDeğereKadar...]) "
   ]
  },
  {
   "cell_type": "code",
   "execution_count": 28,
   "id": "24aae9cc",
   "metadata": {},
   "outputs": [
    {
     "name": "stdout",
     "output_type": "stream",
     "text": [
      "[81 65 81 65 82 42 83 25 81 50]\n",
      "[81 65 81]\t[65 82 42 83 25 81 50]\n",
      "[81 65 81]\t[65 82 42 83 25]\t[81 50]\n"
     ]
    }
   ],
   "source": [
    "x = np.random.randint(1,100,10)\n",
    "a, b = np.split(x,[3])\n",
    "c,d,e = np.split(x,[3,8])\n",
    "print(\"{0}\\n{1}\\t{2}\\n{3}\\t{4}\\t{5}\".format(x,a,b,c,d,e))"
   ]
  },
  {
   "cell_type": "raw",
   "id": "dd611b12",
   "metadata": {},
   "source": [
    "İki boyutlu NumPy arrayleri için: np.vsplit(numpyArrayAdı, [kaçıncıSatıraKadar,kaçıncıSatıraKadar,kaçıncıSatıraKadar...])"
   ]
  },
  {
   "cell_type": "code",
   "execution_count": 29,
   "id": "58e14484",
   "metadata": {},
   "outputs": [
    {
     "name": "stdout",
     "output_type": "stream",
     "text": [
      "[[60 35 35 97 25 10]\n",
      " [30 91 40 48 45 16]\n",
      " [35 18 93 74 28 60]\n",
      " [35 45 47 61 54 97]\n",
      " [95 40 22 11 25 38]\n",
      " [76 23  3 94  1 13]]\n",
      "[[60 35 35 97 25 10]\n",
      " [30 91 40 48 45 16]\n",
      " [35 18 93 74 28 60]]\n",
      "[[35 45 47 61 54 97]\n",
      " [95 40 22 11 25 38]\n",
      " [76 23  3 94  1 13]]\n"
     ]
    }
   ],
   "source": [
    "x = np.random.randint(1,100,[6,6])\n",
    "üst, alt = np.vsplit(x, [3])\n",
    "print(\"{0}\\n{1}\\n{2}\".format(x,üst,alt))"
   ]
  },
  {
   "cell_type": "code",
   "execution_count": 30,
   "id": "6c9118a2",
   "metadata": {},
   "outputs": [],
   "source": [
    "x = np.random.randint(1,100,[8,8])\n",
    "üst, orta, alt = np.vsplit(x, [3,5])"
   ]
  },
  {
   "cell_type": "code",
   "execution_count": 31,
   "id": "6b89c8af",
   "metadata": {},
   "outputs": [
    {
     "data": {
      "text/plain": [
       "array([[16, 99, 78, 55, 15, 59, 60, 29],\n",
       "       [76,  9,  3, 78, 11,  4, 92, 85],\n",
       "       [87, 23, 75, 79, 41, 16, 47, 92]])"
      ]
     },
     "execution_count": 31,
     "metadata": {},
     "output_type": "execute_result"
    }
   ],
   "source": [
    "üst"
   ]
  },
  {
   "cell_type": "code",
   "execution_count": 32,
   "id": "3999a8a8",
   "metadata": {},
   "outputs": [
    {
     "data": {
      "text/plain": [
       "array([[36, 39,  3, 92, 61, 45, 28, 52],\n",
       "       [65, 64, 43, 78, 72, 45, 93, 73]])"
      ]
     },
     "execution_count": 32,
     "metadata": {},
     "output_type": "execute_result"
    }
   ],
   "source": [
    "orta"
   ]
  },
  {
   "cell_type": "code",
   "execution_count": 33,
   "id": "d509bf53",
   "metadata": {},
   "outputs": [
    {
     "data": {
      "text/plain": [
       "array([[67, 33, 36, 25, 81, 89, 67, 93],\n",
       "       [75, 90, 35, 71, 47,  7, 97, 92],\n",
       "       [92,  5, 61, 80, 68, 47, 32, 21]])"
      ]
     },
     "execution_count": 33,
     "metadata": {},
     "output_type": "execute_result"
    }
   ],
   "source": [
    "alt"
   ]
  },
  {
   "cell_type": "markdown",
   "id": "48161a9a",
   "metadata": {},
   "source": [
    "# Arraylerde Sıralama"
   ]
  },
  {
   "cell_type": "raw",
   "id": "663244b6",
   "metadata": {},
   "source": [
    "Tek boyutlu arraylerde sıralama: np.sort(sıralanacakDiziAdı)"
   ]
  },
  {
   "cell_type": "code",
   "execution_count": 34,
   "id": "4d4500e3",
   "metadata": {},
   "outputs": [
    {
     "name": "stdout",
     "output_type": "stream",
     "text": [
      "[94 61 18 33  1 30 43 20  5 55]\t[ 1  5 18 20 30 33 43 55 61 94]\n"
     ]
    }
   ],
   "source": [
    "x = np.random.randint(1,100,10)\n",
    "print(\"{0}\\t{1}\".format(x,np.sort(x)))"
   ]
  },
  {
   "cell_type": "raw",
   "id": "5a663f37",
   "metadata": {},
   "source": [
    "İki boyutlu arraylerde sıralama: np.sort(sıralanacakDiziAdı, axis=1(Sütunları sıralar) VEYA axis=0(Satırları sıralar))"
   ]
  },
  {
   "cell_type": "code",
   "execution_count": 35,
   "id": "efa0dcf5",
   "metadata": {},
   "outputs": [
    {
     "name": "stdout",
     "output_type": "stream",
     "text": [
      "[[45 95 15]\n",
      " [89 11 20]\n",
      " [32 87 28]]\n",
      "[[15 45 95]\n",
      " [11 20 89]\n",
      " [28 32 87]]\n",
      "[[32 11 15]\n",
      " [45 87 20]\n",
      " [89 95 28]]\n"
     ]
    }
   ],
   "source": [
    "x = np.random.randint(1,100,[3,3])\n",
    "print(\"{0}\\n{1}\\n{2}\".format(x,np.sort(x,axis=1),np.sort(x,axis=0)))"
   ]
  },
  {
   "cell_type": "code",
   "execution_count": 36,
   "id": "9b77551b",
   "metadata": {},
   "outputs": [],
   "source": [
    "import pandas as pd"
   ]
  },
  {
   "cell_type": "markdown",
   "id": "2404653c",
   "metadata": {},
   "source": [
    "# NumPy Dizisini Pandas DataFrame Dönüştürme = df = pd.DataFrame(diziAdı, columns=[sütunİsimleri],index=[indisNumaraları])"
   ]
  },
  {
   "cell_type": "code",
   "execution_count": 37,
   "id": "041c60df",
   "metadata": {},
   "outputs": [
    {
     "data": {
      "text/html": [
       "<div>\n",
       "<style scoped>\n",
       "    .dataframe tbody tr th:only-of-type {\n",
       "        vertical-align: middle;\n",
       "    }\n",
       "\n",
       "    .dataframe tbody tr th {\n",
       "        vertical-align: top;\n",
       "    }\n",
       "\n",
       "    .dataframe thead th {\n",
       "        text-align: right;\n",
       "    }\n",
       "</style>\n",
       "<table border=\"1\" class=\"dataframe\">\n",
       "  <thead>\n",
       "    <tr style=\"text-align: right;\">\n",
       "      <th></th>\n",
       "      <th>Ad</th>\n",
       "      <th>Doğum Tarihi</th>\n",
       "      <th>İşe Başlama Tarihi</th>\n",
       "    </tr>\n",
       "  </thead>\n",
       "  <tbody>\n",
       "    <tr>\n",
       "      <th>0</th>\n",
       "      <td>ALİ</td>\n",
       "      <td>1996</td>\n",
       "      <td>2016</td>\n",
       "    </tr>\n",
       "    <tr>\n",
       "      <th>1</th>\n",
       "      <td>CENGİZ</td>\n",
       "      <td>1974</td>\n",
       "      <td>1997</td>\n",
       "    </tr>\n",
       "    <tr>\n",
       "      <th>2</th>\n",
       "      <td>ÖMER</td>\n",
       "      <td>2002</td>\n",
       "      <td>2020</td>\n",
       "    </tr>\n",
       "  </tbody>\n",
       "</table>\n",
       "</div>"
      ],
      "text/plain": [
       "       Ad Doğum Tarihi İşe Başlama Tarihi\n",
       "0     ALİ         1996               2016\n",
       "1  CENGİZ         1974               1997\n",
       "2    ÖMER         2002               2020"
      ]
     },
     "execution_count": 37,
     "metadata": {},
     "output_type": "execute_result"
    }
   ],
   "source": [
    "myArray = np.array([[\"ALİ\",1996,2016],[\"CENGİZ\",1974,1997],[\"ÖMER\",2002,2020]])\n",
    "df = pd.DataFrame(myArray, columns = [\"Ad\" , \"Doğum Tarihi\" , \"İşe Başlama Tarihi\"])\n",
    "df"
   ]
  },
  {
   "cell_type": "code",
   "execution_count": null,
   "id": "33588af1",
   "metadata": {},
   "outputs": [],
   "source": []
  }
 ],
 "metadata": {
  "kernelspec": {
   "display_name": "Python 3 (ipykernel)",
   "language": "python",
   "name": "python3"
  },
  "language_info": {
   "codemirror_mode": {
    "name": "ipython",
    "version": 3
   },
   "file_extension": ".py",
   "mimetype": "text/x-python",
   "name": "python",
   "nbconvert_exporter": "python",
   "pygments_lexer": "ipython3",
   "version": "3.9.7"
  }
 },
 "nbformat": 4,
 "nbformat_minor": 5
}
