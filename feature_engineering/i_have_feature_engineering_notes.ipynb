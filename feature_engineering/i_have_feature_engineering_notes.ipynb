{
 "cells": [
  {
   "cell_type": "code",
   "execution_count": null,
   "id": "da08b628",
   "metadata": {},
   "outputs": [],
   "source": [
    "# import numpy as np\n",
    "import pandas as pd\n",
    "import seaborn as sns\n",
    "from matplotlib import pyplot as plt\n",
    "import missingno as msno\n",
    "from datetime import date\n",
    "from sklearn.metrics import accuracy_score\n",
    "from sklearn.model_selection import train_test_split\n",
    "from sklearn.neighbors import LocalOutlierFactor\n",
    "from sklearn.preprocessing import MinMaxScaler, LabelEncoder, StandardScaler, RobustScaler"
   ]
  },
  {
   "cell_type": "code",
   "execution_count": 2,
   "id": "f5b16e5f",
   "metadata": {},
   "outputs": [
    {
     "data": {
      "text/html": [
       "<div>\n",
       "<style scoped>\n",
       "    .dataframe tbody tr th:only-of-type {\n",
       "        vertical-align: middle;\n",
       "    }\n",
       "\n",
       "    .dataframe tbody tr th {\n",
       "        vertical-align: top;\n",
       "    }\n",
       "\n",
       "    .dataframe thead th {\n",
       "        text-align: right;\n",
       "    }\n",
       "</style>\n",
       "<table border=\"1\" class=\"dataframe\">\n",
       "  <thead>\n",
       "    <tr style=\"text-align: right;\">\n",
       "      <th></th>\n",
       "      <th>survived</th>\n",
       "      <th>pclass</th>\n",
       "      <th>sex</th>\n",
       "      <th>age</th>\n",
       "      <th>sibsp</th>\n",
       "      <th>parch</th>\n",
       "      <th>fare</th>\n",
       "      <th>embarked</th>\n",
       "      <th>class</th>\n",
       "      <th>who</th>\n",
       "      <th>adult_male</th>\n",
       "      <th>deck</th>\n",
       "      <th>embark_town</th>\n",
       "      <th>alive</th>\n",
       "      <th>alone</th>\n",
       "    </tr>\n",
       "  </thead>\n",
       "  <tbody>\n",
       "    <tr>\n",
       "      <th>0</th>\n",
       "      <td>0</td>\n",
       "      <td>3</td>\n",
       "      <td>male</td>\n",
       "      <td>22.0</td>\n",
       "      <td>1</td>\n",
       "      <td>0</td>\n",
       "      <td>7.2500</td>\n",
       "      <td>S</td>\n",
       "      <td>Third</td>\n",
       "      <td>man</td>\n",
       "      <td>True</td>\n",
       "      <td>NaN</td>\n",
       "      <td>Southampton</td>\n",
       "      <td>no</td>\n",
       "      <td>False</td>\n",
       "    </tr>\n",
       "    <tr>\n",
       "      <th>1</th>\n",
       "      <td>1</td>\n",
       "      <td>1</td>\n",
       "      <td>female</td>\n",
       "      <td>38.0</td>\n",
       "      <td>1</td>\n",
       "      <td>0</td>\n",
       "      <td>71.2833</td>\n",
       "      <td>C</td>\n",
       "      <td>First</td>\n",
       "      <td>woman</td>\n",
       "      <td>False</td>\n",
       "      <td>C</td>\n",
       "      <td>Cherbourg</td>\n",
       "      <td>yes</td>\n",
       "      <td>False</td>\n",
       "    </tr>\n",
       "    <tr>\n",
       "      <th>2</th>\n",
       "      <td>1</td>\n",
       "      <td>3</td>\n",
       "      <td>female</td>\n",
       "      <td>26.0</td>\n",
       "      <td>0</td>\n",
       "      <td>0</td>\n",
       "      <td>7.9250</td>\n",
       "      <td>S</td>\n",
       "      <td>Third</td>\n",
       "      <td>woman</td>\n",
       "      <td>False</td>\n",
       "      <td>NaN</td>\n",
       "      <td>Southampton</td>\n",
       "      <td>yes</td>\n",
       "      <td>True</td>\n",
       "    </tr>\n",
       "    <tr>\n",
       "      <th>3</th>\n",
       "      <td>1</td>\n",
       "      <td>1</td>\n",
       "      <td>female</td>\n",
       "      <td>35.0</td>\n",
       "      <td>1</td>\n",
       "      <td>0</td>\n",
       "      <td>53.1000</td>\n",
       "      <td>S</td>\n",
       "      <td>First</td>\n",
       "      <td>woman</td>\n",
       "      <td>False</td>\n",
       "      <td>C</td>\n",
       "      <td>Southampton</td>\n",
       "      <td>yes</td>\n",
       "      <td>False</td>\n",
       "    </tr>\n",
       "    <tr>\n",
       "      <th>4</th>\n",
       "      <td>0</td>\n",
       "      <td>3</td>\n",
       "      <td>male</td>\n",
       "      <td>35.0</td>\n",
       "      <td>0</td>\n",
       "      <td>0</td>\n",
       "      <td>8.0500</td>\n",
       "      <td>S</td>\n",
       "      <td>Third</td>\n",
       "      <td>man</td>\n",
       "      <td>True</td>\n",
       "      <td>NaN</td>\n",
       "      <td>Southampton</td>\n",
       "      <td>no</td>\n",
       "      <td>True</td>\n",
       "    </tr>\n",
       "  </tbody>\n",
       "</table>\n",
       "</div>"
      ],
      "text/plain": [
       "   survived  pclass     sex   age  sibsp  parch     fare embarked  class  \\\n",
       "0         0       3    male  22.0      1      0   7.2500        S  Third   \n",
       "1         1       1  female  38.0      1      0  71.2833        C  First   \n",
       "2         1       3  female  26.0      0      0   7.9250        S  Third   \n",
       "3         1       1  female  35.0      1      0  53.1000        S  First   \n",
       "4         0       3    male  35.0      0      0   8.0500        S  Third   \n",
       "\n",
       "     who  adult_male deck  embark_town alive  alone  \n",
       "0    man        True  NaN  Southampton    no  False  \n",
       "1  woman       False    C    Cherbourg   yes  False  \n",
       "2  woman       False  NaN  Southampton   yes   True  \n",
       "3  woman       False    C  Southampton   yes  False  \n",
       "4    man        True  NaN  Southampton    no   True  "
      ]
     },
     "execution_count": 2,
     "metadata": {},
     "output_type": "execute_result"
    }
   ],
   "source": [
    "df = sns.load_dataset(\"titanic\")\n",
    "df.head()"
   ]
  },
  {
   "cell_type": "markdown",
   "id": "b593e60c",
   "metadata": {},
   "source": [
    "# FEATURE ENGINEERING AND DATA PRE-PROCESSING"
   ]
  },
  {
   "cell_type": "markdown",
   "id": "04266e0b",
   "metadata": {},
   "source": [
    "## 1 - Tek Değişkenli Aykırı Değerleri Yakalama"
   ]
  },
  {
   "cell_type": "markdown",
   "id": "523e17aa",
   "metadata": {},
   "source": [
    "### - Grafiksel Yöntemlerle "
   ]
  },
  {
   "cell_type": "markdown",
   "id": "932bd99e",
   "metadata": {},
   "source": [
    "#### Kutu grafiği (Box plot)"
   ]
  },
  {
   "cell_type": "raw",
   "id": "8dbc58d0",
   "metadata": {},
   "source": [
    "Verinin dağılımını çeyrek değerler üzerinden görselleştiren bir grafik türüdür. İsmini görsel olarak kutuya benzemesinden alır.\n",
    "Kutunun alt ve üst kenarları, 25. ve 75. çeyrek değerlerini temsil eder.\n",
    "Aradaki fark çeyrek açıklığını (IQR), yani orta %50’lik değeri temsil eder.\n",
    "Kutu grafiğinin ortasındaki çizgi, ortanca (medyan) değeri verir.\n",
    "Alt ve üst kancaların dışında kalan noktalar aykırı değerleri temsil eder.\n",
    "\n",
    "Aykırı değerler verinin dağılımı etkiler fakat kutu grafiğinde aykırı değere rastlamamış olmanız, verinin illa normal dağılacağı anlamına gelmemektedir. Değişkeniniz aykırı değerlere sahip olmadan da sağa veya sola yatık bir dağılıma sahip olabilir.\n",
    "\n",
    "    Avantajları\n",
    "Verinin normal dağılmadığı durumlarda da kullanılabilir.\n",
    "Derinlemesine bir analiz yapmadan önce hızlı bir çıkarım yapmaya yardımcı olur.\n",
    "Birden fazla değişkeni aynı anda kıyaslama imkanı sağlar.\n",
    "    Dezavantajları\n",
    "Kutu grafikleri, veri setindeki tüm değerlerin bir özetidir. Tek tek tüm değerleri içermez. Derinlemesine analiz ve çıkarımlar yapabilmek için diğer yöntemlerle beraber kullanılmalıdır."
   ]
  },
  {
   "cell_type": "code",
   "execution_count": 3,
   "id": "5994d746",
   "metadata": {},
   "outputs": [
    {
     "data": {
      "text/plain": [
       "<AxesSubplot:xlabel='age'>"
      ]
     },
     "execution_count": 3,
     "metadata": {},
     "output_type": "execute_result"
    },
    {
     "data": {
      "image/png": "[encoded data removed]",
      "text/plain": [
       "<Figure size 432x288 with 1 Axes>"
      ]
     },
     "metadata": {
      "needs_background": "light"
     },
     "output_type": "display_data"
    }
   ],
   "source": [
    "sns.boxplot(x = df.age)"
   ]
  },
  {
   "cell_type": "markdown",
   "id": "3e48bd85",
   "metadata": {},
   "source": [
    "#### Histogram"
   ]
  },
  {
   "cell_type": "raw",
   "id": "89fda569",
   "metadata": {},
   "source": [
    "Sayısal verinin dağılımı gösteren ve sık kullanılan bir grafiktir. Histogram aracılığı ile bir verideki hangi değerlerin daha çok veya az bulunduğunu ve nasıl yayıldığını görebiliriz.\n",
    "\n",
    "Histogram grafiğinde, verinin genelinden uzakta kalan gözlemler aykırı değerlerdir.\n",
    "\n",
    "    Avantajları\n",
    "Veriye dair hızlı bir iç görü sağlar.\n",
    "Grafik kolayca anlaşılır.\n",
    "    Dezavantajları\n",
    "Histogram’ın sütunlarını oluşturan kutuların (bins) sayısı veriden veriye göre değiştirilebilir. Her durum için geçerli evrensel bir kutu sayısı rakamı yoktur. Farklı kutu sayıları görünümü değiştireceği için, yanlış çıkarımlar yapmaya neden olabilir."
   ]
  },
  {
   "cell_type": "code",
   "execution_count": 6,
   "id": "18ab7708",
   "metadata": {},
   "outputs": [
    {
     "data": {
      "text/plain": [
       "<AxesSubplot:xlabel='age', ylabel='Count'>"
      ]
     },
     "execution_count": 6,
     "metadata": {},
     "output_type": "execute_result"
    },
    {
     "data": {
      "image/png": "[encoded data removed]",
      "text/plain": [
       "<Figure size 432x288 with 1 Axes>"
      ]
     },
     "metadata": {
      "needs_background": "light"
     },
     "output_type": "display_data"
    }
   ],
   "source": [
    "sns.histplot(x = df.age)"
   ]
  },
  {
   "cell_type": "markdown",
   "id": "b8ab015d",
   "metadata": {},
   "source": [
    "### - İstatistiksel Yöntemlerle"
   ]
  },
  {
   "cell_type": "markdown",
   "id": "a3f7b505",
   "metadata": {},
   "source": [
    "#### IQR Yöntemi "
   ]
  },
  {
   "cell_type": "raw",
   "id": "ed266f67",
   "metadata": {},
   "source": [
    "Normal dağılıma sahip olmayan bir değişkenin aykırı değerlerine bakarken, Çeyrekler açıklığı (IQR) istatistiğinden yararlanabilirsiniz. Çeyrekler açıklığı, veri setinin %75’inci ve %25’inci değerleri arasındaki farka verilen isimdir. Bir diğer deyişle, çeyrekler açıklığı verinin orta %50’lik kısmını temsil eder.\n",
    "\n",
    "Genel bir ifade olarak, %25’inci çeyrek değerinden 1.5 kat az, %75’inci çeyrek değerinden 1.5 kat fazla olan değerler aykırı olarak sınıflandırılır.\n",
    "\n",
    "    Avantajları\n",
    "Verideki aykırı gözlemlerden etkilenmez.\n",
    "Verinin normal dağılmadığı durumlarda da kullanışlıdır.\n",
    "Hesaplanması kolaydır.\n",
    "    Dezavantajları\n",
    "Veri setinde sezonsallık olması durumunda yetersiz kalmaktadır."
   ]
  },
  {
   "cell_type": "markdown",
   "id": "e76ac415",
   "metadata": {},
   "source": [
    "#### Z Skoru Yaklaşımı"
   ]
  },
  {
   "cell_type": "raw",
   "id": "f0c78d8f",
   "metadata": {},
   "source": [
    "Z-skoru, normal dağılıma sahip bir veri setinde, bir gözlemin ortalamadan ne kadar standart sapma saptığını gösterir. Herhangi bir gözlem için z-skoru, gözlemden ortalama çıkartıldıktan sonra standart sapmaya bölünmesiyle hesaplanır.\n",
    "\n",
    "Z = (x – μ) / σ\n",
    "\n",
    "x: Gözlem değeri\n",
    "μ: Ortalama değer\n",
    "σ: Standart sapma\n",
    "\n",
    "Gözlemlerin, normal veya normale yakın dağılıma sahip olduğu durumlarda Z-skoru yöntemi kullanılabilir.\n",
    "\n",
    "Genel bir ifade olarak, 3 standart sapma uzaklıkta olan gözlemleri aykırı değer olarak konumlayabilirsiniz. Örneklem büyüklüğünün az olduğu durumlarda 2 standart sapma, örneklem büyüklüğünün çok olduğu durumlarda ise 4 standart sapma uzaklığını eşik değer olarak belirleyebilirsiniz.\n",
    "\n",
    "    Avantajları\n",
    "Farklı ölçekteki verilerin kıyaslanabilmesine olanak sağlar.\n",
    "Uygulanışı hızlı ve basittir.\n",
    "    Dezavantajları\n",
    "Verideki aykırı değerlerden etkilenir.\n",
    "Verinin normal dağılıma sahip olmadığı durumlarda, kullanım için öncelikle verinin normalleştirilmesi gerekmektedir.\n",
    "Küçük ve orta veri setlerinde kullanılması kolaydır."
   ]
  },
  {
   "cell_type": "markdown",
   "id": "a41649ad",
   "metadata": {},
   "source": [
    "#### Standart Sapma Yaklaşımı"
   ]
  },
  {
   "cell_type": "raw",
   "id": "be638ce4",
   "metadata": {},
   "source": [
    "Aykırı değerlerin bulunduğu bir veri setinde, gözlemlerin değerine göre hesaplanan ortalamaya kıyasla gözlemlerin sıralamasına göre hesaplandığı için ortanca/medyan değeri daha tutarlı ve etkili bir tahmincidir.\n",
    "\n",
    "Frank Rudolf Hampel tarafından literatüre kazandırılan ve popülerleştirilen ortanca mutlak sapma değeri, veri setindeki gözlemlerin ortanca değerden ne kadar uzakta olduğunun ölçüsüdür.\n",
    "\n",
    "Ortanca Mutlak Sapma (MAD) = Ort (|x – Ort|) * C\n",
    "x: Gözlem değeri\n",
    "Ort: Ortanca (medyan) değeri\n",
    "C: Tutarlılık kat sayısı\n",
    "\n",
    "Gözlemler küçükten büyüğe doğru sıralanarak ortanca değeri hesaplanır.\n",
    "Hesaplanan ortanca değeri, tek tek tüm gözlemlerden çıkarılarak mutlak değeri hesaplanır.\n",
    "2. adımda elde edilen yeni değerler küçükten büyüğe doğru sıralanarak ortanca değeri hesaplanır.\n",
    "Son olarak, bulunan değer tutarlılık kat sayısı ile çarpılarak ortanca mutlak sapma değeri hesaplanır.\n",
    "Normal dağılıma sahip değişkenlerde, standart sapma ve ortanca mutlak sapma arasında bir ilişki vardır. Kat sayı değeri normal dağılan bir değişken için 1.4826 olarak alındığı zaman ortanca mutlak sapma, standart sapmanın tutarlı bir tahmincisi olur. Bu durumda aykırı değerleri belirlemek için alt ve üst eşik değerleri şöyle hesaplanır:\n",
    "\n",
    "Alt eşik = Ortanca – 3 * (MAD), Üst eşik = Ortanca + 3 * (MAD)\n",
    "Genel bir ifade olarak, ortanca değerden 3 ortanca mutlak sapma uzaklıkta olan gözlemleri aykırı değer olarak konumlayabilirsiniz.\n",
    "\n",
    "Değişkenin normal dağılıma sahip olmadığı, yani sağa veya sola çarpık olduğu dağılımlarda etkinlik azalır. Doğru analiz yapabilmek için “Çift Ortanca Mutlak Sapma (Double MAD)” yöntemi kullanılır.\n",
    "\n",
    "Gözlemler küçükten büyüğe doğru sıralanarak ortanca değeri hesaplanır.\n",
    "Ortanca değer kullanılarak veri ortadan ikiye bölünür.\n",
    "Yukarıdaki adımda anlatılan şekilde, ortanca değerden küçük ve ortanca değere eşit değerler için ayrı (MAD – Alt), ortanca değerden büyük değerler için (MAD – Üst) ayrı 2 farklı ortanca mutlak sapma değeri hesaplanır. Alt ve üst MAD değerleri hesaplanırken ana verinin ortanca değeri kullanılmalıdır.\n",
    "Alt eşik = Ortanca – 3 * (MAD – Alt), Üst eşik = Ortanca + 3 * (MAD – Üst)\n",
    "\n",
    "Alt ve üst eşiğin dışında kalan gözlemler aykırı olarak işaretlenir.\n",
    "\n",
    "Değişkenin çift tepeli (bimodal) olduğu durumlarda aykırı değerleri belirlemede ortanca yetersiz kalır. Bu sorunu çözmek için “Harrell-Davis Kantil Tahmincisi” kullanılır.\n",
    "\n",
    "Harrell-Davis Kantil Tahmincisi ile ortanca değeri hesaplanır.\n",
    "Ortanca değer kullanılarak veri ortadan ikiye bölünür.\n",
    "Yukarıdaki adımda anlatılan şekilde, ortanca değerden küçük ve ortanca değere eşit değerler için ayrı (MAD – Alt), ortanca değerden büyük değerler için (MAD – Üst) ayrı 2 farklı ortanca mutlak sapma değeri hesaplanır. Alt ve üst MAD değerleri hesaplanırken ana verinin ortanca değeri kullanılmalıdır.\n",
    "Ortanca mutlak sapma metodu, verinin normal dağılmadığı durumlarda kullanılabilecek güçlü ve aykırı değerlere karşı dayanıklı bir yöntemdir.\n",
    "\n",
    "    Avantajları\n",
    "Hesaplama için ortanca değeri kullandığı için aykırı değerlerden daha az etkilenir.\n",
    "Veri setindeki tüm değerleri hesaba kattığı için Çeyrekler Açıklığı (IQR)’a göre daha güçlü bir yöntemdir.\n",
    "Aykırı değerlere karşı olan dayanıklılığı, veri setini hızlı ve etkili bir şekilde taramak için idealdir.\n",
    "    Dezavantajları\n",
    "Verinin normal dağıldığı durumlarda etkinliği düşüktür."
   ]
  },
  {
   "cell_type": "markdown",
   "id": "701c2bc5",
   "metadata": {},
   "source": [
    "## 2 - Çok Değişkenli Aykırı Değerleri Yakalama"
   ]
  },
  {
   "cell_type": "markdown",
   "id": "97edd29e",
   "metadata": {},
   "source": [
    "### - Grafiksel Yaklaşım"
   ]
  },
  {
   "cell_type": "markdown",
   "id": "82815c7b",
   "metadata": {},
   "source": [
    "### Scatter Plot "
   ]
  },
  {
   "cell_type": "code",
   "execution_count": 10,
   "id": "72cc2289",
   "metadata": {},
   "outputs": [
    {
     "data": {
      "text/plain": [
       "<matplotlib.collections.PathCollection at 0x1ee58fd1fd0>"
      ]
     },
     "execution_count": 10,
     "metadata": {},
     "output_type": "execute_result"
    },
    {
     "data": {
      "image/png": "[encoded data removed]",
      "text/plain": [
       "<Figure size 432x288 with 1 Axes>"
      ]
     },
     "metadata": {
      "needs_background": "light"
     },
     "output_type": "display_data"
    }
   ],
   "source": [
    "plt.scatter(df[\"age\"], df[\"pclass\"])"
   ]
  },
  {
   "cell_type": "markdown",
   "id": "98c8e3a2",
   "metadata": {},
   "source": [
    "### İstatistiksel Yaklaşımlar"
   ]
  },
  {
   "cell_type": "markdown",
   "id": "4a74ee50",
   "metadata": {},
   "source": [
    "#### DBSCAN"
   ]
  },
  {
   "cell_type": "raw",
   "id": "f35d98cb",
   "metadata": {},
   "source": [
    "K-Means’e alternatif bir kümeleme tekniğidir ve öncesinde küme sayısı belirtilmesine ihtiyaç yoktur. Bu yöntemde öznitelikler bakımından benzer olan gözlemler bir araya getirilerek kümeleme yöntemiyle analiz edilir. Kümeleme sonucunda -1 ve 0 değerleri döner. -1 değeri kümelenemeyen gözlemleri temsil ederken 0 değeri ise kümelenmiş değişkenleri ifade eder."
   ]
  },
  {
   "cell_type": "markdown",
   "id": "62efc77a",
   "metadata": {},
   "source": [
    "#### LOFT (Local Outliers Factor)"
   ]
  },
  {
   "cell_type": "raw",
   "id": "51409247",
   "metadata": {},
   "source": [
    "LOFT yönteminde gözlemler bulundukları konumda yoğunluk tabanlı skorlanır ve aykırı olabilecek gözlemler tanımlanır. Buradaki noktaların local yoğunluğu komşularıyla karşılaştırılır. Eğer gözlem birimi komşularından anlamlı düzeyde farklılaşmışsa aykırı gözlem olarak belirlenir."
   ]
  },
  {
   "cell_type": "markdown",
   "id": "6fdbceee",
   "metadata": {},
   "source": [
    "#### İzolasyon Ormanı (Izolation Forest) : "
   ]
  },
  {
   "cell_type": "raw",
   "id": "f033b725",
   "metadata": {},
   "source": [
    "Bu yöntemde amaç karar ağaçlarında olduğu gibi değişkenin köküne inerek aykırı gözlemleri kaçırmadan tespit edebilmektir. İzolasyon ormanı ile aykırı değer tespitinde belirli kriterlere dayanarak gözlemler için bir anormallik puanı hesaplanır. Puan -1 ve 1 değerlerini alır. -1 değerini alan gözlemler aykırı gözlem olarak belirlenir."
   ]
  },
  {
   "cell_type": "markdown",
   "id": "2ab52702",
   "metadata": {},
   "source": [
    "## 3 - Makine Öğrenmesi Tabanlı Yaklaşım"
   ]
  },
  {
   "cell_type": "markdown",
   "id": "40b9a1f8",
   "metadata": {},
   "source": [
    "### Elliptic Envelope"
   ]
  },
  {
   "cell_type": "raw",
   "id": "07627f44",
   "metadata": {},
   "source": [
    "Mantığı çok basittir, gözlemler etrafında eliptik bir çizgi oluşturularak iç gözlemler ve uç gözlemler birbirinden ayrılır. Çizgi içinde kalan gözlemler iç gözlem, dışarıda kalanlar ise aykırı gözlemlerdir. Burada contamination parametresine dikkat etmek gerekir. Bu parametre veri setindeki aykırı gözlem oranını temsil eder. Eğer herhangi bir değer girilmezse analizde 0.1 değeri kullanılır. Normalde 0-0.5 arasında değer alabilir, eğer aykırı gözlem oranınız fazlaysa contamination değerini yüksek almalısınız.\n",
    "\n",
    "Veri setindeki aykırı gözlem oranını bilmiyorsanız bu yöntemin kullanılması pek önerilmez."
   ]
  },
  {
   "cell_type": "markdown",
   "id": "9342360e",
   "metadata": {},
   "source": [
    "# Hangi aykırı değer analiz yöntemi kullanılmalı?"
   ]
  },
  {
   "cell_type": "raw",
   "id": "ae06273e",
   "metadata": {},
   "source": [
    "Veri bilimcisi/analisti olarak farklı aykırı değer analiz yöntemlerini, nasıl çalıştıklarını, avantaj ve dezavantajlarını bilmek farklı koşullarda alternatif çözümler üretmenize yardımcı olacaktır.\n",
    "\n",
    "Her yöntemin kendi içerisinde avantajları ve dezavantajları bulunmaktadır. Seçilecek yöntem, verinin dağılımına, hacmine, boyut sayısına göre farklılık gösterecektir.\n",
    "\n",
    "Değişken sayısının az olduğu durumlarda şöyle bir yol izlenilebilir:\n",
    "\n",
    "Kutu grafiği ile hangi değişkenlerde aykırı değerlerin bulunduğuna dair hızlı bir gözlem yapılması.\n",
    "İlk adımda aykırı değerlere sahip olduğu anlaşılan verilere histogram ile daha yakın bir bakış sağlayarak değişkenin dağılımına dair fikir elde edilmesi.\n",
    "Değişkenin dağılımına göre tek değişkenli istatistiksel bir analiz yöntemi seçilmesi.\n",
    "Normal dağılım: Çeyrekler açıklığı, Z-skoru\n",
    "Dağılım belirsiz: Ortalama mutlak sapma metodu"
   ]
  },
  {
   "cell_type": "code",
   "execution_count": null,
   "id": "0377aee5",
   "metadata": {},
   "outputs": [],
   "source": []
  }
 ],
 "metadata": {
  "kernelspec": {
   "display_name": "Python 3 (ipykernel)",
   "language": "python",
   "name": "python3"
  },
  "language_info": {
   "codemirror_mode": {
    "name": "ipython",
    "version": 3
   },
   "file_extension": ".py",
   "mimetype": "text/x-python",
   "name": "python",
   "nbconvert_exporter": "python",
   "pygments_lexer": "ipython3",
   "version": "3.9.7"
  }
 },
 "nbformat": 4,
 "nbformat_minor": 5
}
